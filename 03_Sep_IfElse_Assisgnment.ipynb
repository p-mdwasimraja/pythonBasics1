{
 "cells": [
  {
   "cell_type": "code",
   "execution_count": 8,
   "id": "0a1e3ff0-47a7-499f-8731-0c090acc1ceb",
   "metadata": {},
   "outputs": [
    {
     "name": "stdin",
     "output_type": "stream",
     "text": [
      "Enter the Number to Check Positive or Negative -10\n"
     ]
    },
    {
     "name": "stdout",
     "output_type": "stream",
     "text": [
      "Given Number is Negative Number\n"
     ]
    }
   ],
   "source": [
    "# 1. Write a Python program to check if a given number is positive or negative.\n",
    "\n",
    "num = int(input(\"Enter the Number to Check Positive or Negative\"))\n",
    "if num > 0:\n",
    "    print (\"Given Number is Positive Number\")\n",
    "elif num == 0:\n",
    "    print (\"Given Number is Zero\")\n",
    "else:\n",
    "    print (\"Given Number is Negative Number\")"
   ]
  },
  {
   "cell_type": "code",
   "execution_count": 10,
   "id": "e5fa8a05-f29e-4857-80fa-1927f7d35c55",
   "metadata": {},
   "outputs": [
    {
     "name": "stdin",
     "output_type": "stream",
     "text": [
      "Enter the Age for Vote ELigibility 17\n"
     ]
    },
    {
     "name": "stdout",
     "output_type": "stream",
     "text": [
      "Person is not Eligible for Vote\n"
     ]
    }
   ],
   "source": [
    "#2. Create a program that determines if a person is eligible to vote based on their age.\n",
    "\n",
    "age = int(input(\"Enter the Age for Vote ELigibility\"))\n",
    "if age >= 18:\n",
    "    print(\"Person Eligible for Vote\")\n",
    "else:\n",
    "    print(\"Person is not Eligible for Vote\")"
   ]
  },
  {
   "cell_type": "code",
   "execution_count": 11,
   "id": "7260d84d-0ce1-4895-8162-66ac40647cce",
   "metadata": {},
   "outputs": [
    {
     "name": "stdout",
     "output_type": "stream",
     "text": [
      "Number 1 is Maximum Value\n"
     ]
    }
   ],
   "source": [
    "# 3. Develop a program to find the maximum of two numbers using if-else statements.\n",
    "\n",
    "num1 = 10\n",
    "num2 = 8\n",
    "\n",
    "if num1 > num2:\n",
    "    print (\"Number 1 is Maximum Value\")\n",
    "else:\n",
    "    print (\"Number 2 is Maximum Value\")"
   ]
  },
  {
   "cell_type": "code",
   "execution_count": 15,
   "id": "73a9a962-c3bd-44f3-892e-9d430d6a4a12",
   "metadata": {},
   "outputs": [
    {
     "name": "stdin",
     "output_type": "stream",
     "text": [
      "Enter the year to check the gven year is a Leap Year or Not 2024\n"
     ]
    },
    {
     "name": "stdout",
     "output_type": "stream",
     "text": [
      "2024 is a leap year.\n"
     ]
    }
   ],
   "source": [
    "# 4. Write a Python script to classify a given year as a leap year or not.\n",
    "\n",
    "def is_leap_year(year):\n",
    "    if (year % 4 == 0 and year % 100 != 0) or (year % 400 == 0):\n",
    "        return True\n",
    "    else:\n",
    "        return False\n",
    "\n",
    "year = int(input(\"Enter the year to check the gven year is a Leap Year or Not\"))\n",
    "if is_leap_year(year):\n",
    "    print(f\"{year} is a leap year.\")\n",
    "else:\n",
    "    print(f\"{year} is not a leap year.\")           \n"
   ]
  },
  {
   "cell_type": "code",
   "execution_count": 18,
   "id": "b35a6a10-0267-41b1-839a-a09b96f8edd5",
   "metadata": {},
   "outputs": [
    {
     "name": "stdin",
     "output_type": "stream",
     "text": [
      "Enter a character:  b\n"
     ]
    },
    {
     "name": "stdout",
     "output_type": "stream",
     "text": [
      "b is a consonant.\n"
     ]
    }
   ],
   "source": [
    "# 5. Create a program that checks whether a character is a vowel or a consonant.\n",
    "\n",
    "# Function to check if a character is a vowel\n",
    "def is_vowel(char):\n",
    "    vowels = \"AEIOUaeiou\"\n",
    "    return char in vowels\n",
    "\n",
    "# Input character\n",
    "char = input(\"Enter a character: \")\n",
    "\n",
    "# Check if it's a vowel or a consonant\n",
    "if len(char) == 1 and char.isalpha():\n",
    "    if is_vowel(char):\n",
    "        print(f\"{char} is a vowel.\")\n",
    "    else:\n",
    "        print(f\"{char} is a consonant.\")\n",
    "else:\n",
    "    print(\"Please enter a single alphabetic character.\")"
   ]
  },
  {
   "cell_type": "code",
   "execution_count": 19,
   "id": "41e0a908-ecc4-4cc6-b0ed-eb27aeb7f216",
   "metadata": {},
   "outputs": [
    {
     "name": "stdin",
     "output_type": "stream",
     "text": [
      "Enter the Number for checking the number is Even or Odd 5\n"
     ]
    },
    {
     "name": "stdout",
     "output_type": "stream",
     "text": [
      "Number is a Odd Number\n"
     ]
    }
   ],
   "source": [
    "# 6. Implement a program to determine whether a given number is even or odd.\n",
    "\n",
    "num = int(input(\"Enter the Number for checking the number is Even or Odd\"))\n",
    "if num % 2 == 0:\n",
    "    print(\"Number is a Even Number\")\n",
    "else:\n",
    "    print(\"Number is a Odd Number\")"
   ]
  },
  {
   "cell_type": "code",
   "execution_count": 22,
   "id": "1e688920-c293-4289-bb2d-6726d7c547ef",
   "metadata": {},
   "outputs": [
    {
     "name": "stdin",
     "output_type": "stream",
     "text": [
      "Enter the Number for Calculate absolute Number -10\n"
     ]
    },
    {
     "name": "stdout",
     "output_type": "stream",
     "text": [
      "The absolute value of -10 is : 10\n"
     ]
    }
   ],
   "source": [
    "# 7. Write a Python function to calculate the absolute value of a number without using the `abs()` function.\n",
    "\n",
    "num = int(input(\"Enter the Number for Calculate absolute Number\"))\n",
    "print(f\"The absolute value of {num} is :\",num*-1)\n"
   ]
  },
  {
   "cell_type": "code",
   "execution_count": 5,
   "id": "9b1dcaad-11f8-46ec-9c26-db366f51e792",
   "metadata": {},
   "outputs": [
    {
     "name": "stdout",
     "output_type": "stream",
     "text": [
      "Greatest Number from the 3 given numbers from the list :  18\n"
     ]
    }
   ],
   "source": [
    "# 8. Develop a program that determines the largest of three given numbers using if-else statements.\n",
    "\n",
    "num = [3,18,9]\n",
    "greatest_num = 0\n",
    "for i in num:\n",
    "    if i > greatest_num:\n",
    "        greatest_num = i\n",
    "print(\"Greatest Number from the 3 given numbers from the list : \",greatest_num)\n",
    "    "
   ]
  },
  {
   "cell_type": "code",
   "execution_count": 6,
   "id": "f4f45478-2f78-498f-8ccc-6df6d8a17807",
   "metadata": {},
   "outputs": [
    {
     "name": "stdin",
     "output_type": "stream",
     "text": [
      "Enter a string:  level\n"
     ]
    },
    {
     "name": "stdout",
     "output_type": "stream",
     "text": [
      "'level' is a palindrome.\n"
     ]
    }
   ],
   "source": [
    "# 9. Create a program that checks if a given string is a palindrome.\n",
    "\n",
    "def is_palindrome(input_string):\n",
    "    clean_string = input_string.replace(\" \", \"\").lower()\n",
    "    return clean_string == clean_string[::-1]\n",
    "\n",
    "string_to_check = input(\"Enter a string: \")\n",
    "\n",
    "if is_palindrome(string_to_check):\n",
    "    print(f\"'{string_to_check}' is a palindrome.\")\n",
    "else:\n",
    "    print(f\"'{string_to_check}' is not a palindrome.\")\n"
   ]
  },
  {
   "cell_type": "code",
   "execution_count": 17,
   "id": "336739fb-9c5f-4c59-aeaf-5408565eb1f7",
   "metadata": {},
   "outputs": [
    {
     "name": "stdin",
     "output_type": "stream",
     "text": [
      "Enter the Mark for checking the Grade 55\n"
     ]
    },
    {
     "name": "stdout",
     "output_type": "stream",
     "text": [
      "Student Score is Grade E\n"
     ]
    }
   ],
   "source": [
    "# 10. Write a Python program to calculate the grade based on a student's score.\n",
    "\n",
    "mark = int(input(\"Enter the Mark for checking the Grade\"))\n",
    "if mark >= 90:\n",
    "    print (\"Student Score is Grade A\")\n",
    "elif mark >= 80 and mark < 90:\n",
    "    print (\"Student Score is Grade B\")\n",
    "elif mark >= 70 and mark < 80:\n",
    "    print (\"Student Score is Grade C\")    \n",
    "elif mark >= 60 and mark < 70:\n",
    "    print (\"Student Score is Grade D\")        \n",
    "elif mark >= 50 and mark < 60:\n",
    "    print (\"Student Score is Grade E\")        \n",
    "elif mark < 50:\n",
    "    print (\"Student Score is Grade F\")            "
   ]
  },
  {
   "cell_type": "markdown",
   "id": "8a3de3f7-8950-4b26-883c-0641b3b9378f",
   "metadata": {},
   "source": [
    "Nested If-Else Statements"
   ]
  },
  {
   "cell_type": "code",
   "execution_count": 21,
   "id": "dd3394d8-34b6-4365-84ee-fd456d67195e",
   "metadata": {},
   "outputs": [
    {
     "name": "stdout",
     "output_type": "stream",
     "text": [
      "B is Greatest\n"
     ]
    }
   ],
   "source": [
    "#11. Write a program to find the largest among three numbers using nested if-else statements.\n",
    "\n",
    "a = 100\n",
    "b = 210\n",
    "c = 35\n",
    "\n",
    "if a > b:\n",
    "    if a > c:\n",
    "        print (\"A is Greatest\")\n",
    "    else:\n",
    "        print (\"C is Greatest\")\n",
    "else:\n",
    "    if b > c:\n",
    "        print (\"B is Greatest\")\n",
    "    else:\n",
    "        print (\"C is Greatest\")"
   ]
  },
  {
   "cell_type": "code",
   "execution_count": 23,
   "id": "c46e7924-2a91-4a15-8ef7-eaa8e64b53e9",
   "metadata": {},
   "outputs": [
    {
     "name": "stdin",
     "output_type": "stream",
     "text": [
      "Enter the length of the first side:  10\n",
      "Enter the length of the second side:  15\n",
      "Enter the length of the third side:  12\n"
     ]
    },
    {
     "name": "stdout",
     "output_type": "stream",
     "text": [
      "The triangle is Scalene.\n"
     ]
    }
   ],
   "source": [
    "# 12. Implement a program to determine if a triangle is equilateral, isosceles, or scalene.\n",
    "\n",
    "def classify_triangle(side1, side2, side3):\n",
    "    if side1 == side2 == side3:\n",
    "        return \"Equilateral\"\n",
    "    elif side1 == side2 or side1 == side3 or side2 == side3:\n",
    "        return \"Isosceles\"\n",
    "    else:\n",
    "        return \"Scalene\"\n",
    "\n",
    "# Input side lengths of the triangle\n",
    "side1 = float(input(\"Enter the length of the first side: \"))\n",
    "side2 = float(input(\"Enter the length of the second side: \"))\n",
    "side3 = float(input(\"Enter the length of the third side: \"))\n",
    "\n",
    "# Check and classify the triangle\n",
    "triangle_type = classify_triangle(side1, side2, side3)\n",
    "\n",
    "# Print the result\n",
    "print(f\"The triangle is {triangle_type}.\")"
   ]
  },
  {
   "cell_type": "code",
   "execution_count": 27,
   "id": "2c7bcee2-fdbf-4e7e-9bf1-e89f0c7dd2f2",
   "metadata": {},
   "outputs": [
    {
     "name": "stdin",
     "output_type": "stream",
     "text": [
      "Enter a year:  2000\n"
     ]
    },
    {
     "name": "stdout",
     "output_type": "stream",
     "text": [
      "2000 is a leap year.\n",
      "2000 is a century year.\n"
     ]
    }
   ],
   "source": [
    "# 13. Develop a program that checks if a year is a leap year and also if it is a century year.\n",
    "\n",
    "def is_leap_year(year):\n",
    "    if (year % 4 == 0 and year % 100 != 0) or (year % 400 == 0):\n",
    "        return True\n",
    "    else:\n",
    "        return False\n",
    "\n",
    "# Input year\n",
    "year = int(input(\"Enter a year: \"))\n",
    "\n",
    "# Check if it's a leap year\n",
    "if is_leap_year(year):\n",
    "    print(f\"{year} is a leap year.\")\n",
    "\n",
    "# Check if it's a century year\n",
    "if year % 100 == 0:\n",
    "    print(f\"{year} is a century year.\")\n"
   ]
  },
  {
   "cell_type": "code",
   "execution_count": 29,
   "id": "c47fc274-05ef-4968-844a-c526ea7bff56",
   "metadata": {},
   "outputs": [
    {
     "name": "stdin",
     "output_type": "stream",
     "text": [
      "Enter the Number to Check Positive or Negative 0\n"
     ]
    },
    {
     "name": "stdout",
     "output_type": "stream",
     "text": [
      "Given Number is Zero\n"
     ]
    }
   ],
   "source": [
    "# 14. Write a Python script to determine if a number is positive, negative, or zero.\n",
    "\n",
    "num = int(input(\"Enter the Number to Check Positive or Negative\"))\n",
    "if num > 0:\n",
    "    print (\"Given Number is Positive Number\")\n",
    "elif num == 0:\n",
    "    print (\"Given Number is Zero\")\n",
    "else:\n",
    "    print (\"Given Number is Negative Number\")"
   ]
  },
  {
   "cell_type": "code",
   "execution_count": 33,
   "id": "75907a0b-c6a8-4b64-b593-7690433c8f9c",
   "metadata": {},
   "outputs": [
    {
     "name": "stdin",
     "output_type": "stream",
     "text": [
      "Enter the Age to Check the person is a teenager or not 8\n"
     ]
    },
    {
     "name": "stdout",
     "output_type": "stream",
     "text": [
      "Person is not a Teenager\n"
     ]
    }
   ],
   "source": [
    "#15. Create a program to check if a person is a teenager (between 13 and 19 years old).\n",
    "\n",
    "age = int(input(\"Enter the Age to Check the person is a teenager or not\"))\n",
    "if age >= 13 and age <= 19:\n",
    "    print(\"Person is a Teenager\")\n",
    "else:\n",
    "    print(\"Person is not a Teenager\")"
   ]
  },
  {
   "cell_type": "code",
   "execution_count": 34,
   "id": "317f4f74-08b1-4403-ac55-17f4bd05926f",
   "metadata": {},
   "outputs": [
    {
     "name": "stdin",
     "output_type": "stream",
     "text": [
      "Enter the angle measure in degrees:  30\n"
     ]
    },
    {
     "name": "stdout",
     "output_type": "stream",
     "text": [
      "The angle is Acute.\n"
     ]
    }
   ],
   "source": [
    "# 16. Develop a program that determines the type of angle based on its measure (acute, obtuse, or right).\n",
    "\n",
    "def classify_angle(angle):\n",
    "    if angle < 90:\n",
    "        return \"Acute\"\n",
    "    elif angle == 90:\n",
    "        return \"Right\"\n",
    "    elif angle < 180:\n",
    "        return \"Obtuse\"\n",
    "    elif angle == 180:\n",
    "        return \"Straight\"\n",
    "    else:\n",
    "        return \"Invalid\"\n",
    "\n",
    "# Input angle in degrees\n",
    "angle = float(input(\"Enter the angle measure in degrees: \"))\n",
    "\n",
    "# Check and classify the angle\n",
    "angle_type = classify_angle(angle)\n",
    "\n",
    "# Print the result\n",
    "print(f\"The angle is {angle_type}.\")\n"
   ]
  },
  {
   "cell_type": "code",
   "execution_count": 36,
   "id": "c90ef610-44c1-4b9f-8233-3d90e2e50fe6",
   "metadata": {},
   "outputs": [
    {
     "name": "stdin",
     "output_type": "stream",
     "text": [
      "Enter coefficient a:  2\n",
      "Enter coefficient b:  -5\n",
      "Enter coefficient c:  2\n"
     ]
    },
    {
     "name": "stdout",
     "output_type": "stream",
     "text": [
      "The roots of the quadratic equation are: 2.0 and 0.5\n"
     ]
    }
   ],
   "source": [
    "# 17. Write a Python program to calculate the roots of a quadratic equation.\n",
    "\n",
    "import math\n",
    "\n",
    "# Input coefficients a, b, and c\n",
    "a = float(input(\"Enter coefficient a: \"))\n",
    "b = float(input(\"Enter coefficient b: \"))\n",
    "c = float(input(\"Enter coefficient c: \"))\n",
    "\n",
    "# Calculate the discriminant\n",
    "discriminant = b**2 - 4*a*c\n",
    "\n",
    "# Check if the discriminant is non-negative\n",
    "if discriminant >= 0:\n",
    "    # Calculate the two roots\n",
    "    root1 = (-b + math.sqrt(discriminant)) / (2*a)\n",
    "    root2 = (-b - math.sqrt(discriminant)) / (2*a)\n",
    "    \n",
    "    # Print the roots\n",
    "    print(f\"The roots of the quadratic equation are: {root1} and {root2}\")\n",
    "else:\n",
    "    # No real roots exist\n",
    "    print(\"The quadratic equation has no real roots.\")\n"
   ]
  },
  {
   "cell_type": "code",
   "execution_count": 38,
   "id": "e29cb874-5112-4d34-aa49-d08d145699a5",
   "metadata": {},
   "outputs": [
    {
     "name": "stdin",
     "output_type": "stream",
     "text": [
      "Enter a number (1 for Monday, 2 for Tuesday, etc.):  4\n"
     ]
    },
    {
     "name": "stdout",
     "output_type": "stream",
     "text": [
      "The day of the week is Thursday.\n"
     ]
    }
   ],
   "source": [
    "# 18. Implement a program to determine the day of the week based on a user-provided number (1 for Monday, 2 for Tuesday, etc.).\n",
    "\n",
    "day_number = int(input(\"Enter a number (1 for Monday, 2 for Tuesday, etc.): \"))\n",
    "days_of_week = [\"Monday\", \"Tuesday\", \"Wednesday\", \"Thursday\", \"Friday\", \"Saturday\", \"Sunday\"]\n",
    "if 1 <= day_number <= 7:\n",
    "    day_name = days_of_week[day_number - 1]\n",
    "    print(f\"The day of the week is {day_name}.\")\n",
    "else:\n",
    "    print(\"Invalid input. Please enter a number between 1 and 7.\")\n"
   ]
  },
  {
   "cell_type": "code",
   "execution_count": 39,
   "id": "63b10bbe-adf8-45c5-ac05-b19d402b4b11",
   "metadata": {},
   "outputs": [
    {
     "name": "stdin",
     "output_type": "stream",
     "text": [
      "Enter a year:  2000\n"
     ]
    },
    {
     "name": "stdout",
     "output_type": "stream",
     "text": [
      "2000 is a leap year.\n",
      "2000 is evenly divisible by 400.\n"
     ]
    }
   ],
   "source": [
    "# 19. Create a program that determines if a year is a leap year and also if it is evenly divisible by 400.\n",
    "\n",
    "# Input year\n",
    "year = int(input(\"Enter a year: \"))\n",
    "\n",
    "is_leap_year = (year % 4 == 0 and year % 100 != 0) or (year % 400 == 0)\n",
    "is_divisible_by_400 = year % 400 == 0\n",
    "\n",
    "if is_leap_year:\n",
    "    print(f\"{year} is a leap year.\")\n",
    "else:\n",
    "    print(f\"{year} is not a leap year.\")\n",
    "\n",
    "if is_divisible_by_400:\n",
    "    print(f\"{year} is evenly divisible by 400.\")\n",
    "else:\n",
    "    print(f\"{year} is not evenly divisible by 400.\")\n",
    "\n"
   ]
  },
  {
   "cell_type": "code",
   "execution_count": 40,
   "id": "ca2bdc13-77ee-49cd-9fbf-2e05cbfd2081",
   "metadata": {},
   "outputs": [
    {
     "name": "stdin",
     "output_type": "stream",
     "text": [
      "Enter a number:  20\n"
     ]
    },
    {
     "name": "stdout",
     "output_type": "stream",
     "text": [
      "20 is not a prime number.\n"
     ]
    }
   ],
   "source": [
    "# 20. Develop a program that checks if a given number is prime or not using nested if-else statements.\n",
    "\n",
    "# Input a number to check for primality\n",
    "number = int(input(\"Enter a number: \"))\n",
    "\n",
    "# Check if the number is less than 2 (not prime)\n",
    "if number < 2:\n",
    "    is_prime = False\n",
    "else:\n",
    "    is_prime = True\n",
    "\n",
    "    # Check for factors from 2 to the square root of the number\n",
    "    for i in range(2, int(number**0.5) + 1):\n",
    "        if number % i == 0:\n",
    "            is_prime = False\n",
    "            break\n",
    "\n",
    "# Print the result\n",
    "if is_prime:\n",
    "    print(f\"{number} is a prime number.\")\n",
    "else:\n",
    "    print(f\"{number} is not a prime number.\")"
   ]
  },
  {
   "cell_type": "markdown",
   "id": "2bf82e7f-188e-4d21-aa24-61326f9f3c87",
   "metadata": {},
   "source": [
    "Elif Statements"
   ]
  },
  {
   "cell_type": "code",
   "execution_count": 1,
   "id": "6c79d957-2df1-4a70-84fb-354e630e71a4",
   "metadata": {},
   "outputs": [
    {
     "name": "stdin",
     "output_type": "stream",
     "text": [
      "Enter the Mark for checking the Grade 95\n"
     ]
    },
    {
     "name": "stdout",
     "output_type": "stream",
     "text": [
      "Student Score is Grade A\n"
     ]
    }
   ],
   "source": [
    "# 21. Write a Python program to assign grades based on different ranges of scores using elif statements.\n",
    "\n",
    "mark = int(input(\"Enter the Mark for checking the Grade\"))\n",
    "if mark >= 90:\n",
    "    print (\"Student Score is Grade A\")\n",
    "elif mark >= 80 and mark < 90:\n",
    "    print (\"Student Score is Grade B\")\n",
    "elif mark >= 70 and mark < 80:\n",
    "    print (\"Student Score is Grade C\")    \n",
    "elif mark >= 60 and mark < 70:\n",
    "    print (\"Student Score is Grade D\")        \n",
    "elif mark >= 50 and mark < 60:\n",
    "    print (\"Student Score is Grade E\")        \n",
    "elif mark < 50:\n",
    "    print (\"Student Score is Grade F\")    "
   ]
  },
  {
   "cell_type": "code",
   "execution_count": 4,
   "id": "20eb5ef5-b69f-4ea5-98f3-e382562dc670",
   "metadata": {},
   "outputs": [
    {
     "name": "stdin",
     "output_type": "stream",
     "text": [
      "Enter the first angle (in degrees):  50\n",
      "Enter the second angle (in degrees):  50\n",
      "Enter the third angle (in degrees):  80\n"
     ]
    },
    {
     "name": "stdout",
     "output_type": "stream",
     "text": [
      "The triangle is a Acute Triangle.\n"
     ]
    }
   ],
   "source": [
    "# 22. Implement a program to determine the type of a triangle based on its angles.\n",
    "\n",
    "# Input angles of the triangle\n",
    "angle1 = float(input(\"Enter the first angle (in degrees): \"))\n",
    "angle2 = float(input(\"Enter the second angle (in degrees): \"))\n",
    "angle3 = float(input(\"Enter the third angle (in degrees): \"))\n",
    "\n",
    "# Check if the angles form a valid triangle (sum of angles equals 180 degrees)\n",
    "if angle1 + angle2 + angle3 == 180:\n",
    "    if angle1 < 90 and angle2 < 90 and angle3 < 90:\n",
    "        triangle_type = \"Acute Triangle\"\n",
    "    elif angle1 == 90 or angle2 == 90 or angle3 == 90:\n",
    "        triangle_type = \"Right Triangle\"\n",
    "    else:\n",
    "        triangle_type = \"Obtuse Triangle\"\n",
    "    print(f\"The triangle is a {triangle_type}.\")\n",
    "else:\n",
    "    print(\"The angles do not form a valid triangle.\")\n"
   ]
  },
  {
   "cell_type": "code",
   "execution_count": 7,
   "id": "9e17ee1a-fae5-49e9-919b-d783e55b4bdf",
   "metadata": {},
   "outputs": [
    {
     "name": "stdin",
     "output_type": "stream",
     "text": [
      "Enter your height in meters:  1.71\n",
      "Enter your weight in kilograms:  73\n"
     ]
    },
    {
     "name": "stdout",
     "output_type": "stream",
     "text": [
      "Your BMI is 24.96, and you are categorized as Overweight.\n"
     ]
    }
   ],
   "source": [
    "#23. Develop a program to categorize a given person's BMI into underweight, normal, overweight, or obese using elif statements.\n",
    "\n",
    "# Input height and weight\n",
    "height = float(input(\"Enter your height in meters: \"))\n",
    "weight = float(input(\"Enter your weight in kilograms: \"))\n",
    "\n",
    "# Calculate BMI\n",
    "bmi = weight / (height ** 2)\n",
    "\n",
    "# Categorize BMI\n",
    "if bmi < 18.5:\n",
    "    category = \"Underweight\"\n",
    "elif 18.5 <= bmi < 24.9:\n",
    "    category = \"Normal\"\n",
    "elif 24.9 <= bmi < 29.9:\n",
    "    category = \"Overweight\"\n",
    "else:\n",
    "    category = \"Obese\"\n",
    "\n",
    "# Print the BMI category\n",
    "print(f\"Your BMI is {bmi:.2f}, and you are categorized as {category}.\")\n"
   ]
  },
  {
   "cell_type": "code",
   "execution_count": 8,
   "id": "0c2b95c3-8959-42ca-a737-23b04b01d620",
   "metadata": {},
   "outputs": [
    {
     "name": "stdin",
     "output_type": "stream",
     "text": [
      "Enter the Number to Check Positive or Negative -5\n"
     ]
    },
    {
     "name": "stdout",
     "output_type": "stream",
     "text": [
      "Given Number is Negative Number\n"
     ]
    }
   ],
   "source": [
    "# 24. Create a program that determines whether a given number is positive, negative, or zero using elif statements.\n",
    "\n",
    "num = int(input(\"Enter the Number to Check Positive or Negative\"))\n",
    "if num > 0:\n",
    "    print (\"Given Number is Positive Number\")\n",
    "elif num == 0:\n",
    "    print (\"Given Number is Zero\")\n",
    "else:\n",
    "    print (\"Given Number is Negative Number\")"
   ]
  },
  {
   "cell_type": "code",
   "execution_count": 10,
   "id": "0124d7ab-f39f-42cc-9279-91f32f863f5e",
   "metadata": {},
   "outputs": [
    {
     "name": "stdin",
     "output_type": "stream",
     "text": [
      "Enter a character:  @\n"
     ]
    },
    {
     "name": "stdout",
     "output_type": "stream",
     "text": [
      "The character '@' is a Special character.\n"
     ]
    }
   ],
   "source": [
    "#25. Write a Python script to determine the type of a character (uppercase, lowercase, or special) using elif statements.\n",
    "\n",
    "# Input a character\n",
    "char = input(\"Enter a character: \")\n",
    "\n",
    "# Check the type of character\n",
    "if char.isalpha():\n",
    "    if char.islower():\n",
    "        char_type = \"Lowercase\"\n",
    "    else:\n",
    "        char_type = \"Uppercase\"\n",
    "else:\n",
    "    char_type = \"Special\"\n",
    "\n",
    "# Print the character type\n",
    "print(f\"The character '{char}' is a {char_type} character.\")\n"
   ]
  },
  {
   "cell_type": "code",
   "execution_count": 11,
   "id": "a35a0f9e-5bca-4619-90b2-86c8f34e37ab",
   "metadata": {},
   "outputs": [
    {
     "name": "stdin",
     "output_type": "stream",
     "text": [
      "Enter the purchase amount:  1200\n"
     ]
    },
    {
     "name": "stdout",
     "output_type": "stream",
     "text": [
      "Original Price: $1200.00\n",
      "Discount Percentage: 15%\n",
      "Discounted Price: $1020.00\n"
     ]
    }
   ],
   "source": [
    "# 26. Implement a program to calculate the discounted price based on different purchase amounts using elif statements.\n",
    "\n",
    "# Input purchase amount\n",
    "purchase_amount = float(input(\"Enter the purchase amount: \"))\n",
    "\n",
    "# Calculate the discounted price based on purchase amount\n",
    "if purchase_amount < 50:\n",
    "    discount = 0\n",
    "elif purchase_amount < 100:\n",
    "    discount = 5\n",
    "elif purchase_amount < 200:\n",
    "    discount = 10\n",
    "else:\n",
    "    discount = 15\n",
    "\n",
    "# Calculate the discounted price\n",
    "discounted_price = purchase_amount - (purchase_amount * discount / 100)\n",
    "\n",
    "# Print the results\n",
    "print(f\"Original Price: ${purchase_amount:.2f}\")\n",
    "print(f\"Discount Percentage: {discount}%\")\n",
    "print(f\"Discounted Price: ${discounted_price:.2f}\")"
   ]
  },
  {
   "cell_type": "code",
   "execution_count": 12,
   "id": "eb423354-9d69-4190-bc04-dc677df8a0d0",
   "metadata": {},
   "outputs": [
    {
     "name": "stdin",
     "output_type": "stream",
     "text": [
      "Enter electricity consumption in kWh:  120\n"
     ]
    },
    {
     "name": "stdout",
     "output_type": "stream",
     "text": [
      "Electricity Bill: $65.00\n"
     ]
    }
   ],
   "source": [
    "# 27. Develop a program to calculate the electricity bill based on different consumption slabs using elif statements.\n",
    "\n",
    "# Input electricity consumption in kilowatt-hours (kWh)\n",
    "consumption = float(input(\"Enter electricity consumption in kWh: \"))\n",
    "\n",
    "# Initialize variables for different slab rates\n",
    "slab1_rate = 0.5  # Rate for the first 100 kWh\n",
    "slab2_rate = 0.75  # Rate for the next 200 kWh\n",
    "slab3_rate = 1.0   # Rate for consumption above 300 kWh\n",
    "\n",
    "# Initialize variables for bill calculation\n",
    "bill = 0.0\n",
    "\n",
    "# Calculate the electricity bill based on consumption slabs\n",
    "if consumption <= 100:\n",
    "    bill = consumption * slab1_rate\n",
    "elif consumption <= 300:\n",
    "    bill = 100 * slab1_rate + (consumption - 100) * slab2_rate\n",
    "else:\n",
    "    bill = 100 * slab1_rate + 200 * slab2_rate + (consumption - 300) * slab3_rate\n",
    "\n",
    "# Print the calculated bill\n",
    "print(f\"Electricity Bill: ${bill:.2f}\")"
   ]
  },
  {
   "cell_type": "code",
   "execution_count": 13,
   "id": "ce38c8c6-15f6-48ee-85c5-63ebe7574f7e",
   "metadata": {},
   "outputs": [
    {
     "name": "stdin",
     "output_type": "stream",
     "text": [
      "Enter the first angle (in degrees):  20\n",
      "Enter the second angle (in degrees):  20\n",
      "Enter the third angle (in degrees):  20\n",
      "Enter the fourth angle (in degrees):  20\n",
      "Enter the length of the first side:  30\n",
      "Enter the length of the second side:  20\n",
      "Enter the length of the third side:  30\n",
      "Enter the length of the fourth side:  20\n"
     ]
    },
    {
     "name": "stdout",
     "output_type": "stream",
     "text": [
      "The quadrilateral is a Quadrilateral.\n"
     ]
    }
   ],
   "source": [
    "# 28. Create a program to determine the type of quadrilateral based on its angles and sides using elif statements.\n",
    "\n",
    "# Input angles and sides of the quadrilateral\n",
    "angle1 = int(input(\"Enter the first angle (in degrees): \"))\n",
    "angle2 = int(input(\"Enter the second angle (in degrees): \"))\n",
    "angle3 = int(input(\"Enter the third angle (in degrees): \"))\n",
    "angle4 = int(input(\"Enter the fourth angle (in degrees): \"))\n",
    "\n",
    "side1 = float(input(\"Enter the length of the first side: \"))\n",
    "side2 = float(input(\"Enter the length of the second side: \"))\n",
    "side3 = float(input(\"Enter the length of the third side: \"))\n",
    "side4 = float(input(\"Enter the length of the fourth side: \"))\n",
    "\n",
    "# Check the type of quadrilateral based on angles and sides\n",
    "if angle1 == angle2 == angle3 == angle4 == 90:\n",
    "    if side1 == side2 == side3 == side4:\n",
    "        quadrilateral_type = \"Square\"\n",
    "    elif side1 == side3 and side2 == side4:\n",
    "        quadrilateral_type = \"Rectangle\"\n",
    "    else:\n",
    "        quadrilateral_type = \"Quadrilateral\"\n",
    "elif (angle1 == angle3 and angle2 == angle4) or (angle1 == angle2 and angle3 == angle4):\n",
    "    if side1 == side2 == side3 == side4:\n",
    "        quadrilateral_type = \"Rhombus\"\n",
    "    else:\n",
    "        quadrilateral_type = \"Quadrilateral\"\n",
    "else:\n",
    "    quadrilateral_type = \"Quadrilateral\"\n",
    "\n",
    "# Print the type of quadrilateral\n",
    "print(f\"The quadrilateral is a {quadrilateral_type}.\")"
   ]
  },
  {
   "cell_type": "code",
   "execution_count": 15,
   "id": "7d3d334d-27ed-4118-8a9e-924989407841",
   "metadata": {},
   "outputs": [
    {
     "name": "stdin",
     "output_type": "stream",
     "text": [
      "Enter a month (1-12):  10\n"
     ]
    },
    {
     "name": "stdout",
     "output_type": "stream",
     "text": [
      "The season for month 10 is Autumn (Fall).\n"
     ]
    }
   ],
   "source": [
    "#29. Write a Python script to determine the season based on a user-provided month using elif statements.\n",
    "\n",
    "# Input month as a number (1 for January, 2 for February, etc.)\n",
    "month = int(input(\"Enter a month (1-12): \"))\n",
    "\n",
    "# Determine the season based on the month\n",
    "if 3 <= month <= 5:\n",
    "    season = \"Spring\"\n",
    "elif 6 <= month <= 8:\n",
    "    season = \"Summer\"\n",
    "elif 9 <= month <= 11:\n",
    "    season = \"Autumn (Fall)\"\n",
    "else:\n",
    "    season = \"Winter\"\n",
    "\n",
    "# Print the determined season\n",
    "print(f\"The season for month {month} is {season}.\")"
   ]
  },
  {
   "cell_type": "code",
   "execution_count": 16,
   "id": "3ba51386-19e5-4554-9685-b839e7f7d83c",
   "metadata": {},
   "outputs": [
    {
     "name": "stdin",
     "output_type": "stream",
     "text": [
      "Enter a year:  2020\n",
      "Enter a month (1-12):  3\n"
     ]
    },
    {
     "name": "stdout",
     "output_type": "stream",
     "text": [
      "2020 is a leap year.\n",
      "The month 3 has 31 days.\n"
     ]
    }
   ],
   "source": [
    "# 30. Implement a program to determine the type of a year (leap or common) and month (30 or 31 days) using elif statements.\n",
    "\n",
    "# Input year and month\n",
    "year = int(input(\"Enter a year: \"))\n",
    "month = int(input(\"Enter a month (1-12): \"))\n",
    "\n",
    "# Check if it's a leap year\n",
    "is_leap_year = (year % 4 == 0 and year % 100 != 0) or (year % 400 == 0)\n",
    "\n",
    "# Determine the number of days in the month\n",
    "if month == 2:\n",
    "    if is_leap_year:\n",
    "        days_in_month = 29\n",
    "    else:\n",
    "        days_in_month = 28\n",
    "elif month in [4, 6, 9, 11]:\n",
    "    days_in_month = 30\n",
    "else:\n",
    "    days_in_month = 31\n",
    "\n",
    "# Print the results\n",
    "if is_leap_year:\n",
    "    print(f\"{year} is a leap year.\")\n",
    "else:\n",
    "    print(f\"{year} is a common year.\")\n",
    "\n",
    "print(f\"The month {month} has {days_in_month} days.\")\n"
   ]
  },
  {
   "cell_type": "markdown",
   "id": "3c574e96-cb64-4f9f-99fc-1e80e42ba783",
   "metadata": {},
   "source": [
    "Basic Level"
   ]
  },
  {
   "cell_type": "code",
   "execution_count": 26,
   "id": "dcacb12c-3147-494b-ac1d-ffa55942f278",
   "metadata": {},
   "outputs": [
    {
     "name": "stdin",
     "output_type": "stream",
     "text": [
      "Enter the Number to Check Positive or Negative 9\n"
     ]
    },
    {
     "name": "stdout",
     "output_type": "stream",
     "text": [
      "Given Number is Positive Number\n"
     ]
    }
   ],
   "source": [
    "#1. Write a Python program that checks if a given number is positive, negative, or zero.\n",
    "\n",
    "num = int(input(\"Enter the Number to Check Positive or Negative\"))\n",
    "if num > 0:\n",
    "    print (\"Given Number is Positive Number\")\n",
    "elif num == 0:\n",
    "    print (\"Given Number is Zero\")\n",
    "else:\n",
    "    print (\"Given Number is Negative Number\")"
   ]
  },
  {
   "cell_type": "code",
   "execution_count": 27,
   "id": "00e53db2-eee8-4271-a745-f63fd488d37e",
   "metadata": {},
   "outputs": [
    {
     "name": "stdin",
     "output_type": "stream",
     "text": [
      "Enter the Age for Vote ELigibility 24\n"
     ]
    },
    {
     "name": "stdout",
     "output_type": "stream",
     "text": [
      "Person Eligible for Vote\n"
     ]
    }
   ],
   "source": [
    "#2. Create a program to determine if a person is eligible to vote based on their age.\n",
    "\n",
    "age = int(input(\"Enter the Age for Vote ELigibility\"))\n",
    "if age >= 18:\n",
    "    print(\"Person Eligible for Vote\")\n",
    "else:\n",
    "    print(\"Person is not Eligible for Vote\")"
   ]
  },
  {
   "cell_type": "code",
   "execution_count": 35,
   "id": "78313dff-9648-4531-9501-0eb8e76de2d7",
   "metadata": {},
   "outputs": [
    {
     "name": "stdin",
     "output_type": "stream",
     "text": [
      "Enter the first number:  10\n",
      "Enter the second number:  8\n"
     ]
    },
    {
     "name": "stdout",
     "output_type": "stream",
     "text": [
      "The maximum number is: 10.0\n"
     ]
    }
   ],
   "source": [
    "#3. Write a program to find the maximum of two given numbers using conditional statements.\n",
    "\n",
    "num1 = float(input(\"Enter the first number: \"))\n",
    "num2 = float(input(\"Enter the second number: \"))\n",
    "if num1 > num2:\n",
    "    maximum = num1\n",
    "else:\n",
    "    maximum = num2\n",
    "    \n",
    "print(f\"The maximum number is: {maximum}\")\n",
    "\n"
   ]
  },
  {
   "cell_type": "code",
   "execution_count": 28,
   "id": "74a16730-2033-43e4-98ac-ff9b3663b4b2",
   "metadata": {},
   "outputs": [
    {
     "name": "stdin",
     "output_type": "stream",
     "text": [
      "Enter the Mark for checking the Grade 87\n"
     ]
    },
    {
     "name": "stdout",
     "output_type": "stream",
     "text": [
      "Student Score is Grade B\n"
     ]
    }
   ],
   "source": [
    "#4. Develop a program that calculates the grade of a student based on their exam score.\n",
    "\n",
    "mark = int(input(\"Enter the Mark for checking the Grade\"))\n",
    "if mark >= 90:\n",
    "    print (\"Student Score is Grade A\")\n",
    "elif mark >= 80 and mark < 90:\n",
    "    print (\"Student Score is Grade B\")\n",
    "elif mark >= 70 and mark < 80:\n",
    "    print (\"Student Score is Grade C\")    \n",
    "elif mark >= 60 and mark < 70:\n",
    "    print (\"Student Score is Grade D\")        \n",
    "elif mark >= 50 and mark < 60:\n",
    "    print (\"Student Score is Grade E\")        \n",
    "elif mark < 50:\n",
    "    print (\"Student Score is Grade F\")   "
   ]
  },
  {
   "cell_type": "code",
   "execution_count": 29,
   "id": "deb372e5-7fc5-4c3b-83f9-28b721ac0a98",
   "metadata": {},
   "outputs": [
    {
     "name": "stdin",
     "output_type": "stream",
     "text": [
      "Enter the year to check the gven year is a Leap Year or Not 2023\n"
     ]
    },
    {
     "name": "stdout",
     "output_type": "stream",
     "text": [
      "2023 is not a leap year.\n"
     ]
    }
   ],
   "source": [
    "#5. Create a program that checks if a year is a leap year or not.\n",
    "\n",
    "\n",
    "def is_leap_year(year):\n",
    "    if (year % 4 == 0 and year % 100 != 0) or (year % 400 == 0):\n",
    "        return True\n",
    "    else:\n",
    "        return False\n",
    "\n",
    "year = int(input(\"Enter the year to check the gven year is a Leap Year or Not\"))\n",
    "if is_leap_year(year):\n",
    "    print(f\"{year} is a leap year.\")\n",
    "else:\n",
    "    print(f\"{year} is not a leap year.\")           \n"
   ]
  },
  {
   "cell_type": "code",
   "execution_count": 36,
   "id": "1617224c-527d-44f5-804d-38217d69b536",
   "metadata": {},
   "outputs": [
    {
     "name": "stdin",
     "output_type": "stream",
     "text": [
      "Enter the length of the first side:  60\n",
      "Enter the length of the second side:  90\n",
      "Enter the length of the third side:  40\n"
     ]
    },
    {
     "name": "stdout",
     "output_type": "stream",
     "text": [
      "The triangle is a Scalene triangle.\n"
     ]
    }
   ],
   "source": [
    "#6. Write a program to classify a triangle based on its sides' lengths.\n",
    "\n",
    "side1 = float(input(\"Enter the length of the first side: \"))\n",
    "side2 = float(input(\"Enter the length of the second side: \"))\n",
    "side3 = float(input(\"Enter the length of the third side: \"))\n",
    "\n",
    "if side1 == side2 == side3:\n",
    "    triangle_type = \"Equilateral\"\n",
    "elif side1 == side2 or side1 == side3 or side2 == side3:\n",
    "    triangle_type = \"Isosceles\"\n",
    "else:\n",
    "    triangle_type = \"Scalene\"\n",
    "\n",
    "print(f\"The triangle is a {triangle_type} triangle.\")\n"
   ]
  },
  {
   "cell_type": "code",
   "execution_count": 31,
   "id": "d801be0d-729b-4676-8586-1b122fd0f472",
   "metadata": {},
   "outputs": [
    {
     "name": "stdout",
     "output_type": "stream",
     "text": [
      "C is Greatest\n"
     ]
    }
   ],
   "source": [
    "#7. Build a program that determines the largest of three given numbers.\n",
    "\n",
    "\n",
    "a = 10\n",
    "b = 21\n",
    "c = 35\n",
    "\n",
    "if a > b:\n",
    "    if a > c:\n",
    "        print (\"A is Greatest\")\n",
    "    else:\n",
    "        print (\"C is Greatest\")\n",
    "else:\n",
    "    if b > c:\n",
    "        print (\"B is Greatest\")\n",
    "    else:\n",
    "        print (\"C is Greatest\")"
   ]
  },
  {
   "cell_type": "code",
   "execution_count": 32,
   "id": "fd6efa92-aa06-4090-83dc-a8f6b67983fd",
   "metadata": {},
   "outputs": [
    {
     "name": "stdin",
     "output_type": "stream",
     "text": [
      "Enter a character:  e\n"
     ]
    },
    {
     "name": "stdout",
     "output_type": "stream",
     "text": [
      "e is a vowel.\n"
     ]
    }
   ],
   "source": [
    "#8. Develop a program that checks whether a character is a vowel or a consonant.\n",
    "\n",
    "\n",
    "# Function to check if a character is a vowel\n",
    "def is_vowel(char):\n",
    "    vowels = \"AEIOUaeiou\"\n",
    "    return char in vowels\n",
    "\n",
    "# Input character\n",
    "char = input(\"Enter a character: \")\n",
    "\n",
    "# Check if it's a vowel or a consonant\n",
    "if len(char) == 1 and char.isalpha():\n",
    "    if is_vowel(char):\n",
    "        print(f\"{char} is a vowel.\")\n",
    "    else:\n",
    "        print(f\"{char} is a consonant.\")\n",
    "else:\n",
    "    print(\"Please enter a single alphabetic character.\")"
   ]
  },
  {
   "cell_type": "code",
   "execution_count": 33,
   "id": "e1d49f82-65f6-49c8-9ef4-c043e6707260",
   "metadata": {},
   "outputs": [
    {
     "name": "stdin",
     "output_type": "stream",
     "text": [
      "Enter the purchase amount:  2000\n"
     ]
    },
    {
     "name": "stdout",
     "output_type": "stream",
     "text": [
      "Original Price: $2000.00\n",
      "Discount Percentage: 15%\n",
      "Discounted Price: $1700.00\n"
     ]
    }
   ],
   "source": [
    "#9. Create a program to calculate the total cost of a shopping cart based on discounts.\n",
    "\n",
    "# Input purchase amount\n",
    "purchase_amount = float(input(\"Enter the purchase amount: \"))\n",
    "\n",
    "# Calculate the discounted price based on purchase amount\n",
    "if purchase_amount < 50:\n",
    "    discount = 0\n",
    "elif purchase_amount < 100:\n",
    "    discount = 5\n",
    "elif purchase_amount < 200:\n",
    "    discount = 10\n",
    "else:\n",
    "    discount = 15\n",
    "\n",
    "# Calculate the discounted price\n",
    "discounted_price = purchase_amount - (purchase_amount * discount / 100)\n",
    "\n",
    "# Print the results\n",
    "print(f\"Original Price: ${purchase_amount:.2f}\")\n",
    "print(f\"Discount Percentage: {discount}%\")\n",
    "print(f\"Discounted Price: ${discounted_price:.2f}\")"
   ]
  },
  {
   "cell_type": "code",
   "execution_count": 34,
   "id": "8eab6055-0ee1-41ec-ad02-b17175107720",
   "metadata": {},
   "outputs": [
    {
     "name": "stdin",
     "output_type": "stream",
     "text": [
      "Enter the Number for checking the number is Even or Odd 10\n"
     ]
    },
    {
     "name": "stdout",
     "output_type": "stream",
     "text": [
      "Number is a Even Number\n"
     ]
    }
   ],
   "source": [
    "#10. Write a program that checks if a given number is even or odd.\n",
    "\n",
    "num = int(input(\"Enter the Number for checking the number is Even or Odd\"))\n",
    "if num % 2 == 0:\n",
    "    print(\"Number is a Even Number\")\n",
    "else:\n",
    "    print(\"Number is a Odd Number\")"
   ]
  },
  {
   "cell_type": "markdown",
   "id": "7f33950b-889b-4525-8895-5155fa28765b",
   "metadata": {},
   "source": [
    "Intermediate Level"
   ]
  },
  {
   "cell_type": "code",
   "execution_count": 48,
   "id": "a79988d5-db7a-4b94-9adf-3e7adc69a3c6",
   "metadata": {},
   "outputs": [
    {
     "name": "stdin",
     "output_type": "stream",
     "text": [
      "Enter coefficient a:  4\n",
      "Enter coefficient b:  -10\n",
      "Enter coefficient c:  4\n"
     ]
    },
    {
     "name": "stdout",
     "output_type": "stream",
     "text": [
      "The roots of the quadratic equation are: 2.0 and 0.5\n"
     ]
    }
   ],
   "source": [
    "#11. Write a program that calculates the roots of a quadratic equation .\n",
    "\n",
    "import math\n",
    "\n",
    "# Input coefficients a, b, and c\n",
    "a = float(input(\"Enter coefficient a: \"))\n",
    "b = float(input(\"Enter coefficient b: \"))\n",
    "c = float(input(\"Enter coefficient c: \"))\n",
    "\n",
    "# Calculate the discriminant\n",
    "discriminant = b**2 - 4*a*c\n",
    "\n",
    "# Check if the discriminant is non-negative\n",
    "if discriminant >= 0:\n",
    "    # Calculate the two roots\n",
    "    root1 = (-b + math.sqrt(discriminant)) / (2*a)\n",
    "    root2 = (-b - math.sqrt(discriminant)) / (2*a)\n",
    "    \n",
    "    # Print the roots\n",
    "    print(f\"The roots of the quadratic equation are: {root1} and {root2}\")\n",
    "else:\n",
    "    # No real roots exist\n",
    "    print(\"The quadratic equation has no real roots.\")\n"
   ]
  },
  {
   "cell_type": "code",
   "execution_count": 49,
   "id": "97b90802-73e3-48a7-9775-4f376169cc59",
   "metadata": {},
   "outputs": [
    {
     "name": "stdin",
     "output_type": "stream",
     "text": [
      "Enter a number (1 for Monday, 2 for Tuesday, etc.):  4\n"
     ]
    },
    {
     "name": "stdout",
     "output_type": "stream",
     "text": [
      "The day of the week is Thursday.\n"
     ]
    }
   ],
   "source": [
    "#12. Create a program that determines the day of the week based on the day number (1-7).\n",
    "\n",
    "day_number = int(input(\"Enter a number (1 for Monday, 2 for Tuesday, etc.): \"))\n",
    "days_of_week = [\"Monday\", \"Tuesday\", \"Wednesday\", \"Thursday\", \"Friday\", \"Saturday\", \"Sunday\"]\n",
    "if 1 <= day_number <= 7:\n",
    "    day_name = days_of_week[day_number - 1]\n",
    "    print(f\"The day of the week is {day_name}.\")\n",
    "else:\n",
    "    print(\"Invalid input. Please enter a number between 1 and 7.\")"
   ]
  },
  {
   "cell_type": "code",
   "execution_count": 51,
   "id": "35a9cb01-15ad-4bbb-aab5-16df1a57b7d8",
   "metadata": {},
   "outputs": [
    {
     "name": "stdin",
     "output_type": "stream",
     "text": [
      "Enter a non-negative integer:  15\n"
     ]
    },
    {
     "name": "stdout",
     "output_type": "stream",
     "text": [
      "The factorial of 15 is 1307674368000\n"
     ]
    }
   ],
   "source": [
    "#13. Develop a program that calculates the factorial of a given number using recursion.\n",
    "\n",
    "def factorial(n):\n",
    "    if n == 0:\n",
    "        return 1\n",
    "    else:\n",
    "        return n * factorial(n - 1)\n",
    "\n",
    "num = int(input(\"Enter a non-negative integer: \"))\n",
    "if num < 0:\n",
    "    print(\"Factorial is not defined for negative numbers.\")\n",
    "else:\n",
    "    result = factorial(num)\n",
    "    print(f\"The factorial of {num} is {result}\")\n"
   ]
  },
  {
   "cell_type": "code",
   "execution_count": 50,
   "id": "1b449361-3c46-415e-bf23-63807425bfec",
   "metadata": {},
   "outputs": [
    {
     "name": "stdout",
     "output_type": "stream",
     "text": [
      "B is Greatest\n"
     ]
    }
   ],
   "source": [
    "#14. Write a program to find the largest among three numbers without using the `max()` function.\n",
    "    \n",
    "a = 100\n",
    "b = 210\n",
    "c = 35\n",
    "\n",
    "if a > b:\n",
    "    if a > c:\n",
    "        print (\"A is Greatest\")\n",
    "    else:\n",
    "        print (\"C is Greatest\")\n",
    "else:\n",
    "    if b > c:\n",
    "        print (\"B is Greatest\")\n",
    "    else:\n",
    "        print (\"C is Greatest\")"
   ]
  },
  {
   "cell_type": "code",
   "execution_count": 53,
   "id": "41c1b98d-6f1a-48f3-89ff-c8851fd7e1ba",
   "metadata": {},
   "outputs": [
    {
     "name": "stdout",
     "output_type": "stream",
     "text": [
      "\n",
      "ATM Menu:\n",
      "1. Check Balance\n",
      "2. Deposit Funds\n",
      "3. Withdraw Funds\n",
      "4. Quit\n"
     ]
    },
    {
     "name": "stdin",
     "output_type": "stream",
     "text": [
      "Enter your choice (1/2/3/4):  1\n"
     ]
    },
    {
     "name": "stdout",
     "output_type": "stream",
     "text": [
      "Your account balance is $1000.00\n",
      "\n",
      "ATM Menu:\n",
      "1. Check Balance\n",
      "2. Deposit Funds\n",
      "3. Withdraw Funds\n",
      "4. Quit\n"
     ]
    },
    {
     "name": "stdin",
     "output_type": "stream",
     "text": [
      "Enter your choice (1/2/3/4):  2\n",
      "Enter the amount to deposit:  1200\n"
     ]
    },
    {
     "name": "stdout",
     "output_type": "stream",
     "text": [
      "$1200.00 has been deposited into your account.\n",
      "Your account balance is $2200.00\n",
      "\n",
      "ATM Menu:\n",
      "1. Check Balance\n",
      "2. Deposit Funds\n",
      "3. Withdraw Funds\n",
      "4. Quit\n"
     ]
    },
    {
     "name": "stdin",
     "output_type": "stream",
     "text": [
      "Enter your choice (1/2/3/4):  3\n",
      "Enter the amount to withdraw:  3500\n"
     ]
    },
    {
     "name": "stdout",
     "output_type": "stream",
     "text": [
      "Insufficient funds. Withdrawal not allowed.\n",
      "\n",
      "ATM Menu:\n",
      "1. Check Balance\n",
      "2. Deposit Funds\n",
      "3. Withdraw Funds\n",
      "4. Quit\n"
     ]
    },
    {
     "name": "stdin",
     "output_type": "stream",
     "text": [
      "Enter your choice (1/2/3/4):  4\n"
     ]
    },
    {
     "name": "stdout",
     "output_type": "stream",
     "text": [
      "Thank you for using our ATM. Goodbye!\n"
     ]
    }
   ],
   "source": [
    "#15. Create a program that simulates a basic ATM transaction menu.\n",
    "\n",
    "account_balance = 1000.0\n",
    "\n",
    "def display_balance():\n",
    "    print(f\"Your account balance is ${account_balance:.2f}\")\n",
    "\n",
    "\n",
    "def deposit_funds():\n",
    "    global account_balance\n",
    "    amount = float(input(\"Enter the amount to deposit: \"))\n",
    "    account_balance += amount\n",
    "    print(f\"${amount:.2f} has been deposited into your account.\")\n",
    "    display_balance()\n",
    "\n",
    "\n",
    "def withdraw_funds():\n",
    "    global account_balance\n",
    "    amount = float(input(\"Enter the amount to withdraw: \"))\n",
    "    if amount > account_balance:\n",
    "        print(\"Insufficient funds. Withdrawal not allowed.\")\n",
    "    else:\n",
    "        account_balance -= amount\n",
    "        print(f\"${amount:.2f} has been withdrawn from your account.\")\n",
    "        display_balance()\n",
    "\n",
    "# Main ATM transaction loop\n",
    "while True:\n",
    "    print(\"\\nATM Menu:\")\n",
    "    print(\"1. Check Balance\")\n",
    "    print(\"2. Deposit Funds\")\n",
    "    print(\"3. Withdraw Funds\")\n",
    "    print(\"4. Quit\")\n",
    "\n",
    "    choice = input(\"Enter your choice (1/2/3/4): \")\n",
    "\n",
    "    if choice == \"1\":\n",
    "        display_balance()\n",
    "    elif choice == \"2\":\n",
    "        deposit_funds()\n",
    "    elif choice == \"3\":\n",
    "        withdraw_funds()\n",
    "    elif choice == \"4\":\n",
    "        print(\"Thank you for using our ATM. Goodbye!\")\n",
    "        break\n",
    "    else:\n",
    "        print(\"Invalid choice. Please select a valid option.\")\n",
    "\n"
   ]
  },
  {
   "cell_type": "code",
   "execution_count": 52,
   "id": "1d538eb4-3a16-475a-ba22-30c3b1d2638d",
   "metadata": {},
   "outputs": [
    {
     "name": "stdin",
     "output_type": "stream",
     "text": [
      "Enter a string:  level\n"
     ]
    },
    {
     "name": "stdout",
     "output_type": "stream",
     "text": [
      "'level' is a palindrome.\n"
     ]
    }
   ],
   "source": [
    "#16. Build a program that checks if a given string is a palindrome or not.\n",
    "\n",
    "def is_palindrome(input_string):\n",
    "    clean_string = input_string.replace(\" \", \"\").lower()\n",
    "    return clean_string == clean_string[::-1]\n",
    "\n",
    "string_to_check = input(\"Enter a string: \")\n",
    "\n",
    "if is_palindrome(string_to_check):\n",
    "    print(f\"'{string_to_check}' is a palindrome.\")\n",
    "else:\n",
    "    print(f\"'{string_to_check}' is not a palindrome.\")"
   ]
  },
  {
   "cell_type": "code",
   "execution_count": 54,
   "id": "32f983bd-f45e-41c5-b504-214678f80029",
   "metadata": {},
   "outputs": [
    {
     "name": "stdin",
     "output_type": "stream",
     "text": [
      "Enter a list of numbers separated by spaces:  2 3 6 7 8\n"
     ]
    },
    {
     "name": "stdout",
     "output_type": "stream",
     "text": [
      "The average (excluding the smallest and largest values) is: 5.33\n"
     ]
    }
   ],
   "source": [
    "#17. Write a program that calculates the average of a list of numbers, excluding the smallest and largest values.\n",
    "\n",
    "\n",
    "# Input a list of numbers\n",
    "numbers = input(\"Enter a list of numbers separated by spaces: \").split()\n",
    "numbers = [float(num) for num in numbers]\n",
    "\n",
    "# Check if there are at least 3 numbers to calculate the average\n",
    "if len(numbers) < 3:\n",
    "    print(\"You need at least 3 numbers to calculate the average.\")\n",
    "else:\n",
    "    # Remove the smallest and largest values from the list\n",
    "    numbers.remove(min(numbers))\n",
    "    numbers.remove(max(numbers))\n",
    "\n",
    "    # Calculate the average of the remaining numbers\n",
    "    average = sum(numbers) / len(numbers)\n",
    "\n",
    "    # Print the average\n",
    "    print(f\"The average (excluding the smallest and largest values) is: {average:.2f}\")\n"
   ]
  },
  {
   "cell_type": "code",
   "execution_count": 55,
   "id": "e9c69506-beea-42ab-a92a-15905e90443b",
   "metadata": {},
   "outputs": [
    {
     "name": "stdin",
     "output_type": "stream",
     "text": [
      "Enter temperature in Celsius:  35\n"
     ]
    },
    {
     "name": "stdout",
     "output_type": "stream",
     "text": [
      "35.00 degrees Celsius is equal to 95.00 degrees Fahrenheit.\n"
     ]
    }
   ],
   "source": [
    "#18. Develop a program that converts a given temperature from Celsius to Fahrenheit.\n",
    "\n",
    "# Input temperature in Celsius\n",
    "celsius = float(input(\"Enter temperature in Celsius: \"))\n",
    "\n",
    "# Convert Celsius to Fahrenheit\n",
    "fahrenheit = (celsius * 9/5) + 32\n",
    "\n",
    "# Print the converted temperature\n",
    "print(f\"{celsius:.2f} degrees Celsius is equal to {fahrenheit:.2f} degrees Fahrenheit.\")\n",
    "\n"
   ]
  },
  {
   "cell_type": "code",
   "execution_count": 57,
   "id": "c99635da-dd0e-4367-ae82-8bf8ed641a6a",
   "metadata": {},
   "outputs": [
    {
     "name": "stdout",
     "output_type": "stream",
     "text": [
      "\n",
      "Calculator Menu:\n",
      "1. Addition\n",
      "2. Subtraction\n",
      "3. Multiplication\n",
      "4. Division\n",
      "5. Quit\n"
     ]
    },
    {
     "name": "stdin",
     "output_type": "stream",
     "text": [
      "Enter your choice (1/2/3/4/5):  2\n",
      "Enter the first number:  4\n",
      "Enter the second number:  6\n"
     ]
    },
    {
     "name": "stdout",
     "output_type": "stream",
     "text": [
      "Subtraction Result: -2.0\n",
      "\n",
      "Calculator Menu:\n",
      "1. Addition\n",
      "2. Subtraction\n",
      "3. Multiplication\n",
      "4. Division\n",
      "5. Quit\n"
     ]
    },
    {
     "name": "stdin",
     "output_type": "stream",
     "text": [
      "Enter your choice (1/2/3/4/5):  1\n",
      "Enter the first number:  10\n",
      "Enter the second number:  15\n"
     ]
    },
    {
     "name": "stdout",
     "output_type": "stream",
     "text": [
      "Addition Result: 25.0\n",
      "\n",
      "Calculator Menu:\n",
      "1. Addition\n",
      "2. Subtraction\n",
      "3. Multiplication\n",
      "4. Division\n",
      "5. Quit\n"
     ]
    },
    {
     "name": "stdin",
     "output_type": "stream",
     "text": [
      "Enter your choice (1/2/3/4/5):  5\n"
     ]
    },
    {
     "name": "stdout",
     "output_type": "stream",
     "text": [
      "Calculator is exiting. Goodbye!\n"
     ]
    }
   ],
   "source": [
    "#19. Create a program that simulates a basic calculator for addition, subtraction, multiplication, and division.\n",
    "\n",
    "\n",
    "# Function to perform addition\n",
    "def add(x, y):\n",
    "    return x + y\n",
    "\n",
    "# Function to perform subtraction\n",
    "def subtract(x, y):\n",
    "    return x - y\n",
    "\n",
    "# Function to perform multiplication\n",
    "def multiply(x, y):\n",
    "    return x * y\n",
    "\n",
    "# Function to perform division\n",
    "def divide(x, y):\n",
    "    if y == 0:\n",
    "        return \"Cannot divide by zero\"\n",
    "    return x / y\n",
    "\n",
    "while True:\n",
    "    # Display the calculator menu\n",
    "    print(\"\\nCalculator Menu:\")\n",
    "    print(\"1. Addition\")\n",
    "    print(\"2. Subtraction\")\n",
    "    print(\"3. Multiplication\")\n",
    "    print(\"4. Division\")\n",
    "    print(\"5. Quit\")\n",
    "\n",
    "    # Get user choice\n",
    "    choice = input(\"Enter your choice (1/2/3/4/5): \")\n",
    "\n",
    "    if choice == \"5\":\n",
    "        print(\"Calculator is exiting. Goodbye!\")\n",
    "        break\n",
    "\n",
    "    if choice in (\"1\", \"2\", \"3\", \"4\"):\n",
    "        # Input two numbers\n",
    "        num1 = float(input(\"Enter the first number: \"))\n",
    "        num2 = float(input(\"Enter the second number: \"))\n",
    "\n",
    "        if choice == \"1\":\n",
    "            result = add(num1, num2)\n",
    "            operation = \"Addition\"\n",
    "        elif choice == \"2\":\n",
    "            result = subtract(num1, num2)\n",
    "            operation = \"Subtraction\"\n",
    "        elif choice == \"3\":\n",
    "            result = multiply(num1, num2)\n",
    "            operation = \"Multiplication\"\n",
    "        elif choice == \"4\":\n",
    "            result = divide(num1, num2)\n",
    "            operation = \"Division\"\n",
    "\n",
    "        print(f\"{operation} Result: {result}\")\n",
    "    else:\n",
    "        print(\"Invalid choice. Please select a valid option.\")\n",
    "\n"
   ]
  },
  {
   "cell_type": "code",
   "execution_count": 62,
   "id": "27c29bad-6908-4b8e-a673-8f66383f3871",
   "metadata": {},
   "outputs": [
    {
     "name": "stdin",
     "output_type": "stream",
     "text": [
      "Enter coefficient a:  2\n",
      "Enter coefficient b:  3\n",
      "Enter coefficient c:  -6\n",
      "Enter coefficient d:  8\n"
     ]
    },
    {
     "name": "stdout",
     "output_type": "stream",
     "text": [
      "The equation does not have real roots.\n"
     ]
    }
   ],
   "source": [
    "#20. Write a program that determines the roots of a cubic equation using the Cardano formula.\n",
    "\n",
    "import math\n",
    "\n",
    "# Input coefficients a, b, c, and d\n",
    "a = float(input(\"Enter coefficient a: \"))\n",
    "b = float(input(\"Enter coefficient b: \"))\n",
    "c = float(input(\"Enter coefficient c: \"))\n",
    "d = float(input(\"Enter coefficient d: \"))\n",
    "\n",
    "# Calculate discriminants\n",
    "delta0 = b**2 - 3*a*c\n",
    "delta1 = 2*b**3 - 9*a*b*c + 27*a**2*d\n",
    "\n",
    "# Check if the equation has real roots\n",
    "if delta0 > 0 and delta1**2 - 4*delta0**3 < 0:\n",
    "    # Calculate intermediate values\n",
    "    C = ((delta1 + math.sqrt(delta1**2 - 4*delta0**3)) / 2)**(1/3)\n",
    "    u1 = 1\n",
    "    u2 = (-1 + math.sqrt(3)*1j) / 2\n",
    "    u3 = (-1 - math.sqrt(3)*1j) / 2\n",
    "\n",
    "    # Calculate the roots using Cardano's formula\n",
    "    root1 = (-1 / (3*a)) * (b + u1*C + delta0 / (u1*C))\n",
    "    root2 = (-1 / (3*a)) * (b + u2*C + delta0 / (u2*C))\n",
    "    root3 = (-1 / (3*a)) * (b + u3*C + delta0 / (u3*C))\n",
    "\n",
    "    print(f\"Root 1: {root1:.2f}\")\n",
    "    print(f\"Root 2: {root2:.2f}\")\n",
    "    print(f\"Root 3: {root3:.2f}\")\n",
    "else:\n",
    "    print(\"The equation does not have real roots.\")"
   ]
  },
  {
   "cell_type": "markdown",
   "id": "b09bbb36-0c3c-4ad3-b2a2-1d8a29abe108",
   "metadata": {},
   "source": [
    "Advanced Level"
   ]
  },
  {
   "cell_type": "code",
   "execution_count": 64,
   "id": "ae64e27a-fbba-4fb9-acb7-fedc23b00f7e",
   "metadata": {},
   "outputs": [
    {
     "name": "stdin",
     "output_type": "stream",
     "text": [
      "Enter your income:  25000\n"
     ]
    },
    {
     "name": "stdout",
     "output_type": "stream",
     "text": [
      "Your income tax is: $1500.00\n"
     ]
    }
   ],
   "source": [
    "# 21. Create a program that calculates the income tax based on the user's income and tax brackets.\n",
    "\n",
    "# Define tax brackets and corresponding tax rates\n",
    "tax_brackets = [(0, 10000), (10001, 30000), (30001, 70000), (70001, float('inf'))]\n",
    "tax_rates = [0.0, 0.1, 0.2, 0.3]\n",
    "\n",
    "# Input user's income\n",
    "income = float(input(\"Enter your income: \"))\n",
    "\n",
    "# Calculate income tax\n",
    "income_tax = 0.0\n",
    "\n",
    "for i in range(len(tax_brackets)):\n",
    "    min_income, max_income = tax_brackets[i]\n",
    "    rate = tax_rates[i]\n",
    "    \n",
    "    if income > max_income:\n",
    "        income_tax += (max_income - min_income + 1) * rate\n",
    "    elif income >= min_income:\n",
    "        income_tax += (income - min_income + 1) * rate\n",
    "        break\n",
    "\n",
    "# Print the calculated income tax\n",
    "print(f\"Your income tax is: ${income_tax:.2f}\")\n"
   ]
  },
  {
   "cell_type": "code",
   "execution_count": 65,
   "id": "7f034eb6-65de-4b15-b518-13f8de358a3d",
   "metadata": {},
   "outputs": [
    {
     "name": "stdin",
     "output_type": "stream",
     "text": [
      "Enter your choice (rock, paper, scissors):  rock\n"
     ]
    },
    {
     "name": "stdout",
     "output_type": "stream",
     "text": [
      "Player chose: rock\n",
      "Computer chose: scissors\n",
      "You win!\n"
     ]
    },
    {
     "name": "stdin",
     "output_type": "stream",
     "text": [
      "Do you want to play again? (yes/no):  yes\n",
      "Enter your choice (rock, paper, scissors):  paper\n"
     ]
    },
    {
     "name": "stdout",
     "output_type": "stream",
     "text": [
      "Player chose: paper\n",
      "Computer chose: scissors\n",
      "Computer wins!\n"
     ]
    },
    {
     "name": "stdin",
     "output_type": "stream",
     "text": [
      "Do you want to play again? (yes/no):  yes\n",
      "Enter your choice (rock, paper, scissors):  scissors\n"
     ]
    },
    {
     "name": "stdout",
     "output_type": "stream",
     "text": [
      "Player chose: scissors\n",
      "Computer chose: scissors\n",
      "It's a tie!\n"
     ]
    },
    {
     "name": "stdin",
     "output_type": "stream",
     "text": [
      "Do you want to play again? (yes/no):  no\n"
     ]
    }
   ],
   "source": [
    "# 22. Write a program that simulates a rock-paper-scissors game against the computer.\n",
    "\n",
    "import random\n",
    "\n",
    "# Define the choices for the game\n",
    "choices = [\"rock\", \"paper\", \"scissors\"]\n",
    "\n",
    "# Function to get the computer's choice\n",
    "def get_computer_choice():\n",
    "    return random.choice(choices)\n",
    "\n",
    "# Function to determine the game result\n",
    "def determine_winner(player_choice, computer_choice):\n",
    "    if player_choice == computer_choice:\n",
    "        return \"It's a tie!\"\n",
    "    elif (\n",
    "        (player_choice == \"rock\" and computer_choice == \"scissors\")\n",
    "        or (player_choice == \"paper\" and computer_choice == \"rock\")\n",
    "        or (player_choice == \"scissors\" and computer_choice == \"paper\")\n",
    "    ):\n",
    "        return \"You win!\"\n",
    "    else:\n",
    "        return \"Computer wins!\"\n",
    "\n",
    "# Main game loop\n",
    "while True:\n",
    "    # Get the player's choice\n",
    "    player_choice = input(\"Enter your choice (rock, paper, scissors): \").lower()\n",
    "\n",
    "    # Check if the player's choice is valid\n",
    "    if player_choice not in choices:\n",
    "        print(\"Invalid choice. Please choose rock, paper, or scissors.\")\n",
    "        continue\n",
    "\n",
    "    # Get the computer's choice\n",
    "    computer_choice = get_computer_choice()\n",
    "\n",
    "    # Determine the winner\n",
    "    result = determine_winner(player_choice, computer_choice)\n",
    "\n",
    "    # Display the choices and result\n",
    "    print(f\"Player chose: {player_choice}\")\n",
    "    print(f\"Computer chose: {computer_choice}\")\n",
    "    print(result)\n",
    "\n",
    "    # Ask if the player wants to play again\n",
    "    play_again = input(\"Do you want to play again? (yes/no): \").lower()\n",
    "    if play_again != \"yes\":\n",
    "        break"
   ]
  },
  {
   "cell_type": "code",
   "execution_count": 66,
   "id": "2d5215dd-3263-478c-838d-a64ad8c275f0",
   "metadata": {},
   "outputs": [
    {
     "name": "stdin",
     "output_type": "stream",
     "text": [
      "Enter the desired password length:  12\n",
      "Use digits (yes/no):  yes\n",
      "Use special characters (yes/no):  yes\n"
     ]
    },
    {
     "name": "stdout",
     "output_type": "stream",
     "text": [
      "Generated Password: ~RW2W})P#4od\n"
     ]
    }
   ],
   "source": [
    "# 23. Develop a program that generates a random password based on user preferences (length, complexity).\n",
    "\n",
    "import random\n",
    "import string\n",
    "\n",
    "# Function to generate a random password\n",
    "def generate_password(length, use_digits, use_special_chars):\n",
    "    characters = string.ascii_letters\n",
    "    if use_digits:\n",
    "        characters += string.digits\n",
    "    if use_special_chars:\n",
    "        characters += string.punctuation\n",
    "\n",
    "    password = ''.join(random.choice(characters) for _ in range(length))\n",
    "    return password\n",
    "\n",
    "# Input user preferences\n",
    "length = int(input(\"Enter the desired password length: \"))\n",
    "use_digits = input(\"Use digits (yes/no): \").lower() == \"yes\"\n",
    "use_special_chars = input(\"Use special characters (yes/no): \").lower() == \"yes\"\n",
    "\n",
    "# Generate the password\n",
    "password = generate_password(length, use_digits, use_special_chars)\n",
    "\n",
    "# Print the generated password\n",
    "print(f\"Generated Password: {password}\")"
   ]
  },
  {
   "cell_type": "code",
   "execution_count": 67,
   "id": "3562b711-c098-4f5f-b5d9-6fe30b2b5400",
   "metadata": {},
   "outputs": [
    {
     "name": "stdout",
     "output_type": "stream",
     "text": [
      "Welcome to the Text Adventure Game!\n",
      "You find yourself standing in front of a dark cave entrance.\n",
      "You have two choices:\n",
      "1. Enter the cave.\n",
      "2. Turn back and walk away.\n"
     ]
    },
    {
     "name": "stdin",
     "output_type": "stream",
     "text": [
      "Enter your choice (1/2):  1\n"
     ]
    },
    {
     "name": "stdout",
     "output_type": "stream",
     "text": [
      "\n",
      "You enter the dark cave and walk deeper into it.\n",
      "As you explore the cave, you discover two tunnels.\n",
      "1. Take the left tunnel.\n",
      "2. Take the right tunnel.\n"
     ]
    },
    {
     "name": "stdin",
     "output_type": "stream",
     "text": [
      "Enter your choice (1/2):  1\n"
     ]
    },
    {
     "name": "stdout",
     "output_type": "stream",
     "text": [
      "\n",
      "You've reached a chamber filled with glittering treasure!\n",
      "You're rich beyond your wildest dreams!\n",
      "Congratulations! You've won the game!\n"
     ]
    }
   ],
   "source": [
    "# 24. Create a program that implements a simple text-based adventure game with branching scenarios.\n",
    "\n",
    "import time\n",
    "\n",
    "def introduction():\n",
    "    print(\"Welcome to the Text Adventure Game!\")\n",
    "    print(\"You find yourself standing in front of a dark cave entrance.\")\n",
    "    print(\"You have two choices:\")\n",
    "    time.sleep(1)\n",
    "    print(\"1. Enter the cave.\")\n",
    "    print(\"2. Turn back and walk away.\")\n",
    "\n",
    "def cave():\n",
    "    print(\"\\nYou enter the dark cave and walk deeper into it.\")\n",
    "    time.sleep(1)\n",
    "    print(\"As you explore the cave, you discover two tunnels.\")\n",
    "    time.sleep(1)\n",
    "    print(\"1. Take the left tunnel.\")\n",
    "    print(\"2. Take the right tunnel.\")\n",
    "\n",
    "def treasure():\n",
    "    print(\"\\nYou've reached a chamber filled with glittering treasure!\")\n",
    "    time.sleep(1)\n",
    "    print(\"You're rich beyond your wildest dreams!\")\n",
    "    time.sleep(1)\n",
    "    print(\"Congratulations! You've won the game!\")\n",
    "\n",
    "def dragon():\n",
    "    print(\"\\nYou enter a chamber and suddenly face a fierce dragon!\")\n",
    "    time.sleep(1)\n",
    "    print(\"The dragon breathes fire at you.\")\n",
    "    time.sleep(1)\n",
    "    print(\"You're toast. Game over!\")\n",
    "\n",
    "def dark_tunnel():\n",
    "    print(\"\\nYou enter a pitch-black tunnel.\")\n",
    "    time.sleep(1)\n",
    "    print(\"Suddenly, you stumble upon a treasure chest.\")\n",
    "    time.sleep(1)\n",
    "    print(\"1. Open the chest.\")\n",
    "    print(\"2. Leave the chest and continue through the tunnel.\")\n",
    "\n",
    "def trap():\n",
    "    print(\"\\nYou open the treasure chest and a trap springs!\")\n",
    "    time.sleep(1)\n",
    "    print(\"You've triggered a poison dart and it hits you.\")\n",
    "    time.sleep(1)\n",
    "    print(\"You fall to the ground, lifeless. Game over!\")\n",
    "\n",
    "def continue_tunnel():\n",
    "    print(\"\\nYou leave the treasure chest behind and continue through the tunnel.\")\n",
    "    time.sleep(1)\n",
    "    print(\"The tunnel leads to an underground river.\")\n",
    "    time.sleep(1)\n",
    "    print(\"1. Swim across the river.\")\n",
    "    print(\"2. Look for another way to cross.\")\n",
    "\n",
    "def river():\n",
    "    print(\"\\nYou attempt to swim across the river, but it's too swift.\")\n",
    "    time.sleep(1)\n",
    "    print(\"You're carried away by the current. Game over!\")\n",
    "\n",
    "def bridge():\n",
    "    print(\"\\nYou find a rickety bridge and carefully cross it.\")\n",
    "    time.sleep(1)\n",
    "    print(\"You've safely crossed the river.\")\n",
    "    time.sleep(1)\n",
    "    print(\"You continue your journey.\")\n",
    "    time.sleep(1)\n",
    "    print(\"You've won the game!\")\n",
    "\n",
    "def game_over():\n",
    "    print(\"\\nGame Over! Would you like to play again?\")\n",
    "    response = input(\"Enter 'yes' to play again or 'no' to quit: \").lower()\n",
    "    if response == 'yes':\n",
    "        play_game()\n",
    "    else:\n",
    "        print(\"Thank you for playing. Goodbye!\")\n",
    "\n",
    "def play_game():\n",
    "    introduction()\n",
    "    choice = input(\"Enter your choice (1/2): \")\n",
    "\n",
    "    if choice == '1':\n",
    "        cave()\n",
    "        choice = input(\"Enter your choice (1/2): \")\n",
    "        \n",
    "        if choice == '1':\n",
    "            treasure()\n",
    "        elif choice == '2':\n",
    "            dark_tunnel()\n",
    "            choice = input(\"Enter your choice (1/2): \")\n",
    "            \n",
    "            if choice == '1':\n",
    "                trap()\n",
    "            elif choice == '2':\n",
    "                continue_tunnel()\n",
    "                choice = input(\"Enter your choice (1/2): \")\n",
    "                \n",
    "                if choice == '1':\n",
    "                    river()\n",
    "                elif choice == '2':\n",
    "                    bridge()\n",
    "                else:\n",
    "                    game_over()\n",
    "            else:\n",
    "                game_over()\n",
    "        else:\n",
    "            game_over()\n",
    "    elif choice == '2':\n",
    "        print(\"\\nYou choose not to enter the cave and walk away.\")\n",
    "        game_over()\n",
    "    else:\n",
    "        game_over()\n",
    "\n",
    "if __name__ == \"__main__\":\n",
    "    play_game()\n"
   ]
  },
  {
   "cell_type": "code",
   "execution_count": 68,
   "id": "1786af85-a588-4f40-87f5-21fd445d1094",
   "metadata": {},
   "outputs": [
    {
     "name": "stdin",
     "output_type": "stream",
     "text": [
      "Enter coefficient a:  10\n",
      "Enter coefficient b:  5\n"
     ]
    },
    {
     "name": "stdout",
     "output_type": "stream",
     "text": [
      "Single solution: x = -0.50 (ax + b = 0)\n"
     ]
    }
   ],
   "source": [
    "# 25. Build a program that solves a linear equation for x, considering different cases.\n",
    "\n",
    "# Input coefficients a and b for the linear equation ax + b = 0\n",
    "a = float(input(\"Enter coefficient a: \"))\n",
    "b = float(input(\"Enter coefficient b: \"))\n",
    "\n",
    "if a == 0:\n",
    "    if b == 0:\n",
    "        print(\"Infinite solutions: 0x = 0 (Any value of x satisfies this equation)\")\n",
    "    else:\n",
    "        print(\"No solution: 0x = b (where b is not equal to 0)\")\n",
    "else:\n",
    "    x = -b / a\n",
    "    print(f\"Single solution: x = {x:.2f} (ax + b = 0)\")"
   ]
  },
  {
   "cell_type": "code",
   "execution_count": 70,
   "id": "85a52f45-4e4e-4533-aac3-ed4ad62b323c",
   "metadata": {},
   "outputs": [
    {
     "name": "stdout",
     "output_type": "stream",
     "text": [
      "Welcome to the Quiz Game!\n",
      "What is the capital of France?\n",
      "1. Paris\n",
      "2. London\n",
      "3. Berlin\n"
     ]
    },
    {
     "name": "stdin",
     "output_type": "stream",
     "text": [
      "Enter your choice (1/2/3):  1\n"
     ]
    },
    {
     "name": "stdout",
     "output_type": "stream",
     "text": [
      "Correct!\n",
      "\n",
      "Which planet is known as the Red Planet?\n",
      "1. Mars\n",
      "2. Venus\n",
      "3. Jupiter\n"
     ]
    },
    {
     "name": "stdin",
     "output_type": "stream",
     "text": [
      "Enter your choice (1/2/3):  1\n"
     ]
    },
    {
     "name": "stdout",
     "output_type": "stream",
     "text": [
      "Correct!\n",
      "\n",
      "What is the largest mammal on Earth?\n",
      "1. Elephant\n",
      "2. Blue Whale\n",
      "3. Giraffe\n"
     ]
    },
    {
     "name": "stdin",
     "output_type": "stream",
     "text": [
      "Enter your choice (1/2/3):  2\n"
     ]
    },
    {
     "name": "stdout",
     "output_type": "stream",
     "text": [
      "Correct!\n",
      "\n",
      "You scored 3 out of 3 questions.\n"
     ]
    }
   ],
   "source": [
    "# 26. Write a program that simulates a basic quiz game with multiple-choice questions and scoring.\n",
    "\n",
    "# Define the quiz questions and answers\n",
    "questions = [\n",
    "    {\n",
    "        \"question\": \"What is the capital of France?\",\n",
    "        \"choices\": [\"Paris\", \"London\", \"Berlin\"],\n",
    "        \"correct_choice\": 0,\n",
    "    },\n",
    "    {\n",
    "        \"question\": \"Which planet is known as the Red Planet?\",\n",
    "        \"choices\": [\"Mars\", \"Venus\", \"Jupiter\"],\n",
    "        \"correct_choice\": 0,\n",
    "    },\n",
    "    {\n",
    "        \"question\": \"What is the largest mammal on Earth?\",\n",
    "        \"choices\": [\"Elephant\", \"Blue Whale\", \"Giraffe\"],\n",
    "        \"correct_choice\": 1,\n",
    "    },\n",
    "]\n",
    "\n",
    "# Initialize the user's score\n",
    "score = 0\n",
    "\n",
    "# Function to display a question and get the user's answer\n",
    "def ask_question(question):\n",
    "    print(question[\"question\"])\n",
    "    for index, choice in enumerate(question[\"choices\"], start=1):\n",
    "        print(f\"{index}. {choice}\")\n",
    "    \n",
    "    user_choice = int(input(\"Enter your choice (1/2/3): \")) - 1\n",
    "    return user_choice == question[\"correct_choice\"]\n",
    "\n",
    "# Main quiz loop\n",
    "print(\"Welcome to the Quiz Game!\")\n",
    "\n",
    "for q in questions:\n",
    "    if ask_question(q):\n",
    "        print(\"Correct!\\n\")\n",
    "        score += 1\n",
    "    else:\n",
    "        print(f\"Wrong. The correct answer was {q['correct_choice'] + 1}: {q['choices'][q['correct_choice']]}\\n\")\n",
    "\n",
    "# Display the user's score\n",
    "print(f\"You scored {score} out of {len(questions)} questions.\")\n"
   ]
  },
  {
   "cell_type": "code",
   "execution_count": 71,
   "id": "c2491639-f96f-418f-b7fc-6923abbbfe90",
   "metadata": {},
   "outputs": [
    {
     "name": "stdin",
     "output_type": "stream",
     "text": [
      "Enter a year:  2023\n"
     ]
    },
    {
     "name": "stdout",
     "output_type": "stream",
     "text": [
      "2023 is not a prime year.\n"
     ]
    }
   ],
   "source": [
    "# 27. Develop a program that determines whether a given year is a prime number or not.\n",
    "\n",
    "# Function to check if a number is prime\n",
    "def is_prime(year):\n",
    "    if year <= 1:\n",
    "        return False\n",
    "    if year <= 3:\n",
    "        return True\n",
    "    if year % 2 == 0 or year % 3 == 0:\n",
    "        return False\n",
    "    i = 5\n",
    "    while i * i <= year:\n",
    "        if year % i == 0 or year % (i + 2) == 0:\n",
    "            return False\n",
    "        i += 6\n",
    "    return True\n",
    "\n",
    "# Input a year from the user\n",
    "year = int(input(\"Enter a year: \"))\n",
    "\n",
    "# Check if the year is prime and display the result\n",
    "if is_prime(year):\n",
    "    print(f\"{year} is a prime year.\")\n",
    "else:\n",
    "    print(f\"{year} is not a prime year.\")"
   ]
  },
  {
   "cell_type": "code",
   "execution_count": 75,
   "id": "304bfb52-20a1-41f0-be70-23496a8b9af8",
   "metadata": {},
   "outputs": [
    {
     "name": "stdin",
     "output_type": "stream",
     "text": [
      "Enter the first number:  18\n",
      "Enter the second number:  5\n",
      "Enter the third number:  28\n"
     ]
    },
    {
     "name": "stdout",
     "output_type": "stream",
     "text": [
      "Numbers in ascending order: (5, 18, 28)\n"
     ]
    }
   ],
   "source": [
    "# 28. Create a program that sorts three numbers in ascending order using conditional statements.\n",
    "\n",
    "# Input three numbers from the user\n",
    "num1 = int(input(\"Enter the first number: \"))\n",
    "num2 = int(input(\"Enter the second number: \"))\n",
    "num3 = int(input(\"Enter the third number: \"))\n",
    "\n",
    "# Check and sort the numbers using conditional statements\n",
    "if num1 <= num2 <= num3:\n",
    "    sorted_nums = (num1, num2, num3)\n",
    "elif num1 <= num3 <= num2:\n",
    "    sorted_nums = (num1, num3, num2)\n",
    "elif num2 <= num1 <= num3:\n",
    "    sorted_nums = (num2, num1, num3)\n",
    "elif num2 <= num3 <= num1:\n",
    "    sorted_nums = (num2, num3, num1)\n",
    "elif num3 <= num1 <= num2:\n",
    "    sorted_nums = (num3, num1, num2)\n",
    "else:\n",
    "    sorted_nums = (num3, num2, num1)\n",
    "\n",
    "# Display the sorted numbers\n",
    "print(\"Numbers in ascending order:\", sorted_nums)"
   ]
  },
  {
   "cell_type": "code",
   "execution_count": 76,
   "id": "ed0c026c-7060-4b8b-a10c-d54aa74540e5",
   "metadata": {},
   "outputs": [
    {
     "name": "stdout",
     "output_type": "stream",
     "text": [
      "Roots of the quartic equation:\n",
      "Root: 0.000000\n",
      "Root: 1.000000\n",
      "Root: 2.000000\n",
      "Root: 3.000000\n"
     ]
    }
   ],
   "source": [
    "#29. Build a program that determines the roots of a quartic equation using numerical methods.\n",
    "\n",
    "import sympy as sp\n",
    "\n",
    "# Define the symbolic variable x\n",
    "x = sp.symbols('x')\n",
    "\n",
    "# Define the quartic equation (change the coefficients as needed)\n",
    "equation = x**4 - 6*x**3 + 11*x**2 - 6*x\n",
    "\n",
    "# Find the roots using the Newton-Raphson method\n",
    "roots = sp.solve(equation, x)\n",
    "\n",
    "# Display the roots\n",
    "print(\"Roots of the quartic equation:\")\n",
    "for root in roots:\n",
    "    print(f\"Root: {root.evalf():.6f}\")\n"
   ]
  },
  {
   "cell_type": "code",
   "execution_count": 77,
   "id": "93089d79-047f-4a96-9b90-a8ce6b170123",
   "metadata": {},
   "outputs": [
    {
     "name": "stdin",
     "output_type": "stream",
     "text": [
      "Enter your weight in kilograms:  73\n",
      "Enter your height in meters:  1.71\n"
     ]
    },
    {
     "name": "stdout",
     "output_type": "stream",
     "text": [
      "Your BMI is: 24.96\n",
      "You are obese. Please consult a healthcare professional for guidance.\n"
     ]
    }
   ],
   "source": [
    "# 30. Write a program that calculates the BMI (Body Mass Index) and provides health recommendations based on the user's input.\n",
    "\n",
    "# Function to calculate BMI\n",
    "def calculate_bmi(weight_kg, height_m):\n",
    "    return weight_kg / (height_m ** 2)\n",
    "\n",
    "# Function to provide health recommendations based on BMI\n",
    "def health_recommendations(bmi):\n",
    "    if bmi < 18.5:\n",
    "        return \"You are underweight. You should consider gaining some weight.\"\n",
    "    elif 18.5 <= bmi < 24.9:\n",
    "        return \"Your BMI is in the healthy range. Keep up the good work!\"\n",
    "    elif 25.0 <= bmi < 29.9:\n",
    "        return \"You are overweight. It's recommended to lose some weight for better health.\"\n",
    "    else:\n",
    "        return \"You are obese. Please consult a healthcare professional for guidance.\"\n",
    "\n",
    "# Input user's weight in kilograms and height in meters\n",
    "weight_kg = float(input(\"Enter your weight in kilograms: \"))\n",
    "height_m = float(input(\"Enter your height in meters: \"))\n",
    "\n",
    "# Calculate BMI\n",
    "bmi = calculate_bmi(weight_kg, height_m)\n",
    "\n",
    "# Display BMI and health recommendations\n",
    "print(f\"Your BMI is: {bmi:.2f}\")\n",
    "recommendations = health_recommendations(bmi)\n",
    "print(recommendations)"
   ]
  },
  {
   "cell_type": "markdown",
   "id": "77aae03d-af8f-47e9-aac5-67ff63408f96",
   "metadata": {},
   "source": [
    "Challenge Level\n"
   ]
  },
  {
   "cell_type": "code",
   "execution_count": 89,
   "id": "2c47da9e-8298-42ce-89a3-f6072f4c6aa8",
   "metadata": {},
   "outputs": [
    {
     "name": "stdin",
     "output_type": "stream",
     "text": [
      "Enter a password:  Abc123@gjg\n"
     ]
    },
    {
     "name": "stdout",
     "output_type": "stream",
     "text": [
      "Password is valid.\n"
     ]
    }
   ],
   "source": [
    "#31. Create a program that validates a password based on complexity rules (length, characters, etc.).\n",
    "\n",
    "import re\n",
    "\n",
    "# Function to validate a password\n",
    "def is_valid_password(password):\n",
    "    # Check the length (at least 8 characters)\n",
    "    if len(password) < 8:\n",
    "        return False\n",
    "    \n",
    "    # Check for at least one uppercase letter\n",
    "    if not re.search(r'[A-Z]', password):\n",
    "        return False\n",
    "    \n",
    "    # Check for at least one lowercase letter\n",
    "    if not re.search(r'[a-z]', password):\n",
    "        return False\n",
    "    \n",
    "    # Check for at least one digit\n",
    "    if not re.search(r'[0-9]', password):\n",
    "        return False\n",
    "    \n",
    "    # Check for at least one special character (e.g., !@#$%^&*)\n",
    "    if not re.search(r'[!@#$%^&*]', password):\n",
    "        return False\n",
    "\n",
    "    # If all checks pass, the password is valid\n",
    "    return True\n",
    "\n",
    "# Input a password from the user\n",
    "password = input(\"Enter a password: \")\n",
    "\n",
    "# Validate the password\n",
    "if is_valid_password(password):\n",
    "    print(\"Password is valid.\")\n",
    "else:\n",
    "    print(\"Password is not valid. Please follow the complexity rules.\")\n"
   ]
  },
  {
   "cell_type": "code",
   "execution_count": 90,
   "id": "2a63cdfc-92f8-4edb-aeb4-bc401c053f75",
   "metadata": {},
   "outputs": [
    {
     "name": "stdin",
     "output_type": "stream",
     "text": [
      "Enter the number of rows:  3\n",
      "Enter the number of columns:  4\n"
     ]
    },
    {
     "name": "stdout",
     "output_type": "stream",
     "text": [
      "Enter the elements of the first matrix:\n"
     ]
    },
    {
     "name": "stdin",
     "output_type": "stream",
     "text": [
      "Enter element at row 1, column 1:  1\n",
      "Enter element at row 1, column 2:  2\n",
      "Enter element at row 1, column 3:  3\n",
      "Enter element at row 1, column 4:  4\n",
      "Enter element at row 2, column 1:  1\n",
      "Enter element at row 2, column 2:  3\n",
      "Enter element at row 2, column 3:  4\n",
      "Enter element at row 2, column 4:  5\n",
      "Enter element at row 3, column 1:  5\n",
      "Enter element at row 3, column 2:  6\n",
      "Enter element at row 3, column 3:  7\n",
      "Enter element at row 3, column 4:  8\n"
     ]
    },
    {
     "name": "stdout",
     "output_type": "stream",
     "text": [
      "Enter the elements of the second matrix:\n"
     ]
    },
    {
     "name": "stdin",
     "output_type": "stream",
     "text": [
      "Enter element at row 1, column 1:  1\n",
      "Enter element at row 1, column 2:  2\n",
      "Enter element at row 1, column 3:  3\n",
      "Enter element at row 1, column 4:  4\n",
      "Enter element at row 2, column 1:  5\n",
      "Enter element at row 2, column 2:  6\n",
      "Enter element at row 2, column 3:  7\n",
      "Enter element at row 2, column 4:  8\n",
      "Enter element at row 3, column 1:  1\n",
      "Enter element at row 3, column 2:  2\n",
      "Enter element at row 3, column 3:  3\n",
      "Enter element at row 3, column 4:  5\n"
     ]
    },
    {
     "name": "stdout",
     "output_type": "stream",
     "text": [
      "\n",
      "Matrix Addition Result:\n",
      "2.0 4.0 6.0 8.0\n",
      "6.0 9.0 11.0 13.0\n",
      "6.0 8.0 10.0 13.0\n",
      "\n",
      "Matrix Subtraction Result:\n",
      "0.0 0.0 0.0 0.0\n",
      "-4.0 -3.0 -3.0 -3.0\n",
      "4.0 4.0 4.0 3.0\n"
     ]
    }
   ],
   "source": [
    "#32. Develop a program that performs matrix addition and subtraction based on user input.\n",
    "\n",
    "# Function to perform matrix addition\n",
    "def matrix_addition(matrix1, matrix2):\n",
    "    if len(matrix1) != len(matrix2) or len(matrix1[0]) != len(matrix2[0]):\n",
    "        return None  # Matrices must have the same dimensions for addition\n",
    "\n",
    "    result = []\n",
    "    for i in range(len(matrix1)):\n",
    "        row = []\n",
    "        for j in range(len(matrix1[0])):\n",
    "            row.append(matrix1[i][j] + matrix2[i][j])\n",
    "        result.append(row)\n",
    "    return result\n",
    "\n",
    "# Function to perform matrix subtraction\n",
    "def matrix_subtraction(matrix1, matrix2):\n",
    "    if len(matrix1) != len(matrix2) or len(matrix1[0]) != len(matrix2[0]):\n",
    "        return None  # Matrices must have the same dimensions for subtraction\n",
    "\n",
    "    result = []\n",
    "    for i in range(len(matrix1)):\n",
    "        row = []\n",
    "        for j in range(len(matrix1[0])):\n",
    "            row.append(matrix1[i][j] - matrix2[i][j])\n",
    "        result.append(row)\n",
    "    return result\n",
    "\n",
    "# Function to display a matrix\n",
    "def display_matrix(matrix):\n",
    "    for row in matrix:\n",
    "        print(' '.join(map(str, row)))\n",
    "\n",
    "# Input matrix dimensions from the user\n",
    "rows = int(input(\"Enter the number of rows: \"))\n",
    "cols = int(input(\"Enter the number of columns: \"))\n",
    "\n",
    "# Input the first matrix from the user\n",
    "print(\"Enter the elements of the first matrix:\")\n",
    "matrix1 = []\n",
    "for i in range(rows):\n",
    "    row = []\n",
    "    for j in range(cols):\n",
    "        element = float(input(f\"Enter element at row {i + 1}, column {j + 1}: \"))\n",
    "        row.append(element)\n",
    "    matrix1.append(row)\n",
    "\n",
    "# Input the second matrix from the user\n",
    "print(\"Enter the elements of the second matrix:\")\n",
    "matrix2 = []\n",
    "for i in range(rows):\n",
    "    row = []\n",
    "    for j in range(cols):\n",
    "        element = float(input(f\"Enter element at row {i + 1}, column {j + 1}: \"))\n",
    "        row.append(element)\n",
    "    matrix2.append(row)\n",
    "\n",
    "# Perform matrix addition\n",
    "addition_result = matrix_addition(matrix1, matrix2)\n",
    "if addition_result is not None:\n",
    "    print(\"\\nMatrix Addition Result:\")\n",
    "    display_matrix(addition_result)\n",
    "else:\n",
    "    print(\"\\nMatrix addition is not possible. Matrices must have the same dimensions.\")\n",
    "\n",
    "# Perform matrix subtraction\n",
    "subtraction_result = matrix_subtraction(matrix1, matrix2)\n",
    "if subtraction_result is not None:\n",
    "    print(\"\\nMatrix Subtraction Result:\")\n",
    "    display_matrix(subtraction_result)\n",
    "else:\n",
    "    print(\"\\nMatrix subtraction is not possible. Matrices must have the same dimensions.\")\n"
   ]
  },
  {
   "cell_type": "code",
   "execution_count": 91,
   "id": "ce23efd4-e50d-4375-8197-b896dc1307a9",
   "metadata": {},
   "outputs": [
    {
     "name": "stdin",
     "output_type": "stream",
     "text": [
      "Enter the first number:  4\n",
      "Enter the second number:  2\n"
     ]
    },
    {
     "name": "stdout",
     "output_type": "stream",
     "text": [
      "The Greatest Common Divisor (GCD) of 4 and 2 is 2.\n"
     ]
    }
   ],
   "source": [
    "#33. Write a program that calculates the greatest common divisor (GCD) of two numbers using the Euclidean algorithm.\n",
    "\n",
    "# Function to calculate the GCD using the Euclidean algorithm\n",
    "def gcd_euclidean(a, b):\n",
    "    while b:\n",
    "        a, b = b, a % b\n",
    "    return a\n",
    "\n",
    "# Input two numbers from the user\n",
    "num1 = int(input(\"Enter the first number: \"))\n",
    "num2 = int(input(\"Enter the second number: \"))\n",
    "\n",
    "# Calculate the GCD\n",
    "gcd = gcd_euclidean(num1, num2)\n",
    "\n",
    "# Display the GCD\n",
    "print(f\"The Greatest Common Divisor (GCD) of {num1} and {num2} is {gcd}.\")\n"
   ]
  },
  {
   "cell_type": "code",
   "execution_count": 93,
   "id": "d4560f79-fed3-452f-bff9-64517ad893e1",
   "metadata": {},
   "outputs": [
    {
     "name": "stdin",
     "output_type": "stream",
     "text": [
      "Enter the number of rows for the first matrix:  2\n",
      "Enter the number of columns for the first matrix:  2\n",
      "Enter the number of rows for the second matrix:  2\n",
      "Enter the number of columns for the second matrix:  2\n"
     ]
    },
    {
     "name": "stdout",
     "output_type": "stream",
     "text": [
      "Enter the elements of the first matrix:\n"
     ]
    },
    {
     "name": "stdin",
     "output_type": "stream",
     "text": [
      "Enter element at row 1, column 1:  1\n",
      "Enter element at row 1, column 2:  2\n",
      "Enter element at row 2, column 1:  3\n",
      "Enter element at row 2, column 2:  4\n"
     ]
    },
    {
     "name": "stdout",
     "output_type": "stream",
     "text": [
      "Enter the elements of the second matrix:\n"
     ]
    },
    {
     "name": "stdin",
     "output_type": "stream",
     "text": [
      "Enter element at row 1, column 1:  5\n",
      "Enter element at row 1, column 2:  6\n",
      "Enter element at row 2, column 1:  7\n",
      "Enter element at row 2, column 2:  8\n"
     ]
    },
    {
     "name": "stdout",
     "output_type": "stream",
     "text": [
      "\n",
      "Matrix Multiplication Result:\n",
      "19.0 22.0\n",
      "43.0 50.0\n"
     ]
    }
   ],
   "source": [
    "#34. Build a program that performs matrix multiplication using nested loops and conditional statements.\n",
    "\n",
    "# Function to perform matrix multiplication\n",
    "def matrix_multiply(matrix1, matrix2):\n",
    "    # Check if matrix multiplication is possible\n",
    "    if len(matrix1[0]) != len(matrix2):\n",
    "        return None  # Matrices are incompatible for multiplication\n",
    "\n",
    "    # Initialize the result matrix with zeros\n",
    "    result = [[0 for _ in range(len(matrix2[0]))] for _ in range(len(matrix1))]\n",
    "\n",
    "    # Perform matrix multiplication using nested loops\n",
    "    for i in range(len(matrix1)):\n",
    "        for j in range(len(matrix2[0])):\n",
    "            for k in range(len(matrix2)):\n",
    "                result[i][j] += matrix1[i][k] * matrix2[k][j]\n",
    "\n",
    "    return result\n",
    "\n",
    "# Function to display a matrix\n",
    "def display_matrix(matrix):\n",
    "    for row in matrix:\n",
    "        print(' '.join(map(str, row)))\n",
    "\n",
    "# Input matrix dimensions from the user\n",
    "rows1 = int(input(\"Enter the number of rows for the first matrix: \"))\n",
    "cols1 = int(input(\"Enter the number of columns for the first matrix: \"))\n",
    "rows2 = int(input(\"Enter the number of rows for the second matrix: \"))\n",
    "cols2 = int(input(\"Enter the number of columns for the second matrix: \"))\n",
    "\n",
    "# Check if matrix multiplication is possible\n",
    "if cols1 != rows2:\n",
    "    print(\"Matrix multiplication is not possible. The number of columns in the first matrix must match the number of rows in the second matrix.\")\n",
    "else:\n",
    "    # Input the first matrix from the user\n",
    "    print(\"Enter the elements of the first matrix:\")\n",
    "    matrix1 = []\n",
    "    for i in range(rows1):\n",
    "        row = []\n",
    "        for j in range(cols1):\n",
    "            element = float(input(f\"Enter element at row {i + 1}, column {j + 1}: \"))\n",
    "            row.append(element)\n",
    "        matrix1.append(row)\n",
    "\n",
    "    # Input the second matrix from the user\n",
    "    print(\"Enter the elements of the second matrix:\")\n",
    "    matrix2 = []\n",
    "    for i in range(rows2):\n",
    "        row = []\n",
    "        for j in range(cols2):\n",
    "            element = float(input(f\"Enter element at row {i + 1}, column {j + 1}: \"))\n",
    "            row.append(element)\n",
    "        matrix2.append(row)\n",
    "\n",
    "    # Perform matrix multiplication\n",
    "    multiplication_result = matrix_multiply(matrix1, matrix2)\n",
    "\n",
    "    if multiplication_result is not None:\n",
    "        print(\"\\nMatrix Multiplication Result:\")\n",
    "        display_matrix(multiplication_result)\n",
    "    else:\n",
    "        print(\"\\nMatrix multiplication is not possible. The number of columns in the first matrix must match the number of rows in the second matrix.\")"
   ]
  },
  {
   "cell_type": "code",
   "execution_count": 94,
   "id": "6940475a-46f4-4b96-be49-c4cbcbd1de23",
   "metadata": {},
   "outputs": [
    {
     "name": "stdout",
     "output_type": "stream",
     "text": [
      "Welcome to Tic-Tac-Toe! You are 'X', and the computer is 'O'.\n",
      "  |   |  \n",
      "---------\n",
      "  |   |  \n",
      "---------\n",
      "  |   |  \n",
      "---------\n"
     ]
    },
    {
     "name": "stdin",
     "output_type": "stream",
     "text": [
      "Enter the row (1, 2, or 3):  2\n",
      "Enter the column (1, 2, or 3):  3\n"
     ]
    },
    {
     "name": "stdout",
     "output_type": "stream",
     "text": [
      "  |   |  \n",
      "---------\n",
      "  |   | X\n",
      "---------\n",
      "  |   |  \n",
      "---------\n",
      "Computer's turn:\n",
      "  |   |  \n",
      "---------\n",
      "  | O | X\n",
      "---------\n",
      "  |   |  \n",
      "---------\n"
     ]
    },
    {
     "name": "stdin",
     "output_type": "stream",
     "text": [
      "Enter the row (1, 2, or 3):  2\n",
      "Enter the column (1, 2, or 3):  3\n"
     ]
    },
    {
     "name": "stdout",
     "output_type": "stream",
     "text": [
      "Invalid move. Try again.\n",
      "  |   |  \n",
      "---------\n",
      "  | O | X\n",
      "---------\n",
      "  |   |  \n",
      "---------\n"
     ]
    },
    {
     "name": "stdin",
     "output_type": "stream",
     "text": [
      "Enter the row (1, 2, or 3):  3\n",
      "Enter the column (1, 2, or 3):  1\n"
     ]
    },
    {
     "name": "stdout",
     "output_type": "stream",
     "text": [
      "  |   |  \n",
      "---------\n",
      "  | O | X\n",
      "---------\n",
      "X |   |  \n",
      "---------\n",
      "Computer's turn:\n",
      "  | O |  \n",
      "---------\n",
      "  | O | X\n",
      "---------\n",
      "X |   |  \n",
      "---------\n"
     ]
    },
    {
     "name": "stdin",
     "output_type": "stream",
     "text": [
      "Enter the row (1, 2, or 3):  2\n",
      "Enter the column (1, 2, or 3):  3\n"
     ]
    },
    {
     "name": "stdout",
     "output_type": "stream",
     "text": [
      "Invalid move. Try again.\n",
      "  | O |  \n",
      "---------\n",
      "  | O | X\n",
      "---------\n",
      "X |   |  \n",
      "---------\n"
     ]
    },
    {
     "name": "stdin",
     "output_type": "stream",
     "text": [
      "Enter the row (1, 2, or 3):  1\n",
      "Enter the column (1, 2, or 3):  1\n"
     ]
    },
    {
     "name": "stdout",
     "output_type": "stream",
     "text": [
      "X | O |  \n",
      "---------\n",
      "  | O | X\n",
      "---------\n",
      "X |   |  \n",
      "---------\n",
      "Computer's turn:\n",
      "X | O |  \n",
      "---------\n",
      "  | O | X\n",
      "---------\n",
      "X | O |  \n",
      "---------\n",
      "O wins! Congratulations!\n"
     ]
    }
   ],
   "source": [
    "#35. Create a program that simulates a basic text-based tic-tac-toe game against the computer.Create a program that simulates a basic text-based tic-tac-toe game against the computer.\n",
    "\n",
    "import random\n",
    "\n",
    "# Function to display the Tic-Tac-Toe board\n",
    "def display_board(board):\n",
    "    for row in board:\n",
    "        print(\" | \".join(row))\n",
    "        print(\"-\" * 9)\n",
    "\n",
    "# Function to check if a player has won\n",
    "def check_winner(board, player):\n",
    "    # Check rows, columns, and diagonals\n",
    "    for i in range(3):\n",
    "        if all(board[i][j] == player for j in range(3)) or all(board[j][i] == player for j in range(3)):\n",
    "            return True\n",
    "    if all(board[i][i] == player for i in range(3)) or all(board[i][2 - i] == player for i in range(3)):\n",
    "        return True\n",
    "    return False\n",
    "\n",
    "# Function to make the computer's move\n",
    "def computer_move(board, computer_char, player_char):\n",
    "    # Check for a winning move\n",
    "    for i in range(3):\n",
    "        for j in range(3):\n",
    "            if board[i][j] == ' ':\n",
    "                board[i][j] = computer_char\n",
    "                if check_winner(board, computer_char):\n",
    "                    return\n",
    "                board[i][j] = ' '\n",
    "\n",
    "    # Check for a blocking move\n",
    "    for i in range(3):\n",
    "        for j in range(3):\n",
    "            if board[i][j] == ' ':\n",
    "                board[i][j] = player_char\n",
    "                if check_winner(board, player_char):\n",
    "                    board[i][j] = computer_char\n",
    "                    return\n",
    "                board[i][j] = ' '\n",
    "\n",
    "    # Make a random move if no winning or blocking move is possible\n",
    "    empty_cells = [(i, j) for i in range(3) for j in range(3) if board[i][j] == ' ']\n",
    "    if empty_cells:\n",
    "        i, j = random.choice(empty_cells)\n",
    "        board[i][j] = computer_char\n",
    "\n",
    "# Initialize the Tic-Tac-Toe board\n",
    "board = [[' ' for _ in range(3)] for _ in range(3)]\n",
    "\n",
    "# Welcome message\n",
    "print(\"Welcome to Tic-Tac-Toe! You are 'X', and the computer is 'O'.\")\n",
    "\n",
    "# Main game loop\n",
    "turn = 'X'\n",
    "while True:\n",
    "    display_board(board)\n",
    "\n",
    "    if turn == 'X':\n",
    "        row = int(input(\"Enter the row (1, 2, or 3): \")) - 1\n",
    "        col = int(input(\"Enter the column (1, 2, or 3): \")) - 1\n",
    "        if row < 0 or row > 2 or col < 0 or col > 2 or board[row][col] != ' ':\n",
    "            print(\"Invalid move. Try again.\")\n",
    "            continue\n",
    "        board[row][col] = 'X'\n",
    "    else:\n",
    "        print(\"Computer's turn:\")\n",
    "        computer_move(board, 'O', 'X')\n",
    "\n",
    "    if check_winner(board, turn):\n",
    "        display_board(board)\n",
    "        print(f\"{turn} wins! Congratulations!\")\n",
    "        break\n",
    "\n",
    "    if all(board[i][j] != ' ' for i in range(3) for j in range(3)):\n",
    "        display_board(board)\n",
    "        print(\"It's a tie!\")\n",
    "        break\n",
    "\n",
    "    turn = 'X' if turn == 'O' else 'O'\n",
    "\n"
   ]
  },
  {
   "cell_type": "code",
   "execution_count": 95,
   "id": "ea28bbe8-5076-4914-aa39-a156efb239cf",
   "metadata": {},
   "outputs": [
    {
     "name": "stdin",
     "output_type": "stream",
     "text": [
      "Enter the number of Fibonacci terms to generate:  10\n"
     ]
    },
    {
     "name": "stdout",
     "output_type": "stream",
     "text": [
      "Fibonacci Sequence:\n",
      "[0, 1, 1, 2, 3, 5, 8, 13, 21, 34]\n"
     ]
    }
   ],
   "source": [
    "#36. Write a program that generates Fibonacci numbers up to a specified term using iterative methods.\n",
    "\n",
    "# Function to generate Fibonacci numbers iteratively\n",
    "def generate_fibonacci(n):\n",
    "    fibonacci_sequence = []\n",
    "    a, b = 0, 1\n",
    "    for _ in range(n):\n",
    "        fibonacci_sequence.append(a)\n",
    "        a, b = b, a + b\n",
    "    return fibonacci_sequence\n",
    "\n",
    "# Input the number of terms from the user\n",
    "n = int(input(\"Enter the number of Fibonacci terms to generate: \"))\n",
    "\n",
    "# Check for valid input\n",
    "if n <= 0:\n",
    "    print(\"Please enter a positive integer.\")\n",
    "else:\n",
    "    # Generate and display the Fibonacci sequence\n",
    "    fibonacci_sequence = generate_fibonacci(n)\n",
    "    print(\"Fibonacci Sequence:\")\n",
    "    print(fibonacci_sequence)"
   ]
  },
  {
   "cell_type": "code",
   "execution_count": 96,
   "id": "f46fa503-9a36-433e-87ae-31748c71b286",
   "metadata": {},
   "outputs": [
    {
     "name": "stdin",
     "output_type": "stream",
     "text": [
      "Enter the value of n to calculate the nth Fibonacci term:  10\n"
     ]
    },
    {
     "name": "stdout",
     "output_type": "stream",
     "text": [
      "The 10th Fibonacci term is: 55\n"
     ]
    }
   ],
   "source": [
    "#37. Develop a program that calculates the nth term of the Fibonacci sequence using memoization.\n",
    "\n",
    "\n",
    "# Function to calculate the nth Fibonacci term using memoization\n",
    "def fibonacci(n, memo={}):\n",
    "    if n in memo:\n",
    "        return memo[n]\n",
    "    if n <= 1:\n",
    "        result = n\n",
    "    else:\n",
    "        result = fibonacci(n - 1, memo) + fibonacci(n - 2, memo)\n",
    "    memo[n] = result\n",
    "    return result\n",
    "\n",
    "# Input the value of n from the user\n",
    "n = int(input(\"Enter the value of n to calculate the nth Fibonacci term: \"))\n",
    "\n",
    "# Check for valid input\n",
    "if n < 0:\n",
    "    print(\"Please enter a non-negative integer.\")\n",
    "else:\n",
    "    # Calculate and display the nth Fibonacci term\n",
    "    result = fibonacci(n)\n",
    "    print(f\"The {n}th Fibonacci term is: {result}\")\n"
   ]
  },
  {
   "cell_type": "code",
   "execution_count": 97,
   "id": "5001cb4d-8552-4a1b-9c04-d3baef1bb102",
   "metadata": {},
   "outputs": [
    {
     "name": "stdin",
     "output_type": "stream",
     "text": [
      "Enter the year (e.g., 2023):  2022\n",
      "Enter the month (1-12):  5\n"
     ]
    },
    {
     "name": "stdout",
     "output_type": "stream",
     "text": [
      "Calendar for 2022/5\n",
      "      May 2022\n",
      "Mo Tu We Th Fr Sa Su\n",
      "                   1\n",
      " 2  3  4  5  6  7  8\n",
      " 9 10 11 12 13 14 15\n",
      "16 17 18 19 20 21 22\n",
      "23 24 25 26 27 28 29\n",
      "30 31\n",
      "\n"
     ]
    }
   ],
   "source": [
    "#38. Create a program that generates a calendar for a given month and year using conditional statements.\n",
    "\n",
    "import calendar\n",
    "\n",
    "# Function to generate and display a calendar for a given month and year\n",
    "def generate_calendar(year, month):\n",
    "    # Create a calendar object\n",
    "    cal = calendar.month(year, month)\n",
    "\n",
    "    # Display the calendar\n",
    "    print(\"Calendar for {}/{}\".format(year, month))\n",
    "    print(cal)\n",
    "\n",
    "# Input the year and month from the user\n",
    "year = int(input(\"Enter the year (e.g., 2023): \"))\n",
    "month = int(input(\"Enter the month (1-12): \"))\n",
    "\n",
    "# Check for valid input\n",
    "if 1 <= month <= 12:\n",
    "    generate_calendar(year, month)\n",
    "else:\n",
    "    print(\"Invalid month. Please enter a month between 1 and 12.\")"
   ]
  },
  {
   "cell_type": "code",
   "execution_count": 103,
   "id": "d57a5265-aae5-4403-8537-f8c24795a9dc",
   "metadata": {},
   "outputs": [
    {
     "name": "stdout",
     "output_type": "stream",
     "text": [
      "Your hand: Jack of Hearts King of Hearts\n",
      "Dealer's hand: 9 of Hearts X\n"
     ]
    },
    {
     "name": "stdin",
     "output_type": "stream",
     "text": [
      "Do you want to hit or stand?  stand\n"
     ]
    },
    {
     "name": "stdout",
     "output_type": "stream",
     "text": [
      "The deck is empty. Game over.\n",
      "Your hand: Jack of Hearts King of Hearts\n",
      "Dealer's hand: 9 of Hearts Queen of Diamonds Ace of Spades 7 of Spades 3 of Spades 7 of Clubs 10 of Spades Ace of Hearts 5 of Spades 10 of Diamonds 10 of Hearts 2 of Clubs 4 of Spades Jack of Diamonds Queen of Clubs 9 of Spades 4 of Hearts 7 of Diamonds 7 of Hearts 4 of Diamonds Ace of Clubs 9 of Clubs 9 of Diamonds Jack of Clubs 10 of Clubs 2 of Diamonds King of Spades Ace of Diamonds 2 of Hearts 8 of Spades 3 of Clubs 8 of Clubs 6 of Hearts 3 of Hearts 2 of Spades King of Diamonds 8 of Diamonds Jack of Spades 5 of Diamonds 8 of Hearts 5 of Hearts Queen of Spades 5 of Clubs King of Clubs 6 of Clubs 6 of Diamonds 3 of Diamonds 6 of Spades 4 of Clubs Queen of Hearts\n",
      "It's a tie!\n",
      "Thank you for playing Blackjack!\n"
     ]
    }
   ],
   "source": [
    "#39. Build a program that simulates a basic text-based blackjack game against the computer.\n",
    "\n",
    "import random\n",
    "\n",
    "# Function to calculate the hand value\n",
    "def calculate_hand_value(hand):\n",
    "    value = 0\n",
    "    num_aces = 0\n",
    "\n",
    "    for card in hand:\n",
    "        if card in '23456789':\n",
    "            value += int(card)\n",
    "        elif card in 'TJQK':\n",
    "            value += 10\n",
    "        elif card == 'A':\n",
    "            value += 11\n",
    "            num_aces += 1\n",
    "\n",
    "    while num_aces > 0 and value > 21:\n",
    "        value -= 10\n",
    "        num_aces -= 1\n",
    "\n",
    "    return value\n",
    "\n",
    "# Function to display the player's and dealer's hands\n",
    "def display_hands(player_hand, dealer_hand, show_dealer=False):\n",
    "    print(\"Your hand:\", ' '.join(player_hand))\n",
    "    if show_dealer:\n",
    "        print(\"Dealer's hand:\", ' '.join(dealer_hand))\n",
    "    else:\n",
    "        print(\"Dealer's hand:\", dealer_hand[0], \"X\")\n",
    "\n",
    "# Initialize the deck\n",
    "suits = ['Hearts', 'Diamonds', 'Clubs', 'Spades']\n",
    "ranks = ['2', '3', '4', '5', '6', '7', '8', '9', '10', 'Jack', 'Queen', 'King', 'Ace']\n",
    "deck = [f'{rank} of {suit}' for suit in suits for rank in ranks]\n",
    "\n",
    "# Shuffle the deck\n",
    "random.shuffle(deck)\n",
    "\n",
    "# Initialize player's and dealer's hands\n",
    "player_hand = []\n",
    "dealer_hand = []\n",
    "\n",
    "# Deal two cards to the player and two cards to the dealer\n",
    "player_hand.extend([deck.pop(), deck.pop()])\n",
    "dealer_hand.extend([deck.pop(), deck.pop()])\n",
    "\n",
    "# Display initial hands\n",
    "display_hands(player_hand, dealer_hand)\n",
    "\n",
    "# Player's turn\n",
    "while calculate_hand_value(player_hand) < 21:\n",
    "    choice = input(\"Do you want to hit or stand? \").strip().lower()\n",
    "    if choice == 'hit':\n",
    "        if not deck:\n",
    "            print(\"The deck is empty. Game over.\")\n",
    "            break\n",
    "        player_hand.append(deck.pop())\n",
    "        display_hands(player_hand, dealer_hand)\n",
    "    elif choice == 'stand':\n",
    "        break\n",
    "    else:\n",
    "        print(\"Invalid choice. Please enter 'hit' or 'stand'.\")\n",
    "\n",
    "# Dealer's turn\n",
    "while calculate_hand_value(dealer_hand) < 17:\n",
    "    if not deck:\n",
    "        print(\"The deck is empty. Game over.\")\n",
    "        break\n",
    "    dealer_hand.append(deck.pop())\n",
    "\n",
    "# Display final hands\n",
    "display_hands(player_hand, dealer_hand, show_dealer=True)\n",
    "\n",
    "# Determine the winner\n",
    "player_value = calculate_hand_value(player_hand)\n",
    "dealer_value = calculate_hand_value(dealer_hand)\n",
    "\n",
    "if player_value > 21:\n",
    "    print(\"Bust! You lose.\")\n",
    "elif dealer_value > 21 or player_value > dealer_value:\n",
    "    print(\"You win!\")\n",
    "elif player_value == dealer_value:\n",
    "    print(\"It's a tie!\")\n",
    "else:\n",
    "    print(\"Dealer wins!\")\n",
    "\n",
    "print(\"Thank you for playing Blackjack!\")"
   ]
  },
  {
   "cell_type": "code",
   "execution_count": 101,
   "id": "d6f09527-1c51-4bd7-9328-b67d6e638431",
   "metadata": {},
   "outputs": [
    {
     "name": "stdin",
     "output_type": "stream",
     "text": [
      "Enter a number to find its prime factors:  10\n"
     ]
    },
    {
     "name": "stdout",
     "output_type": "stream",
     "text": [
      "Prime factors of 10: [2, 5]\n"
     ]
    }
   ],
   "source": [
    "#40. Write a program that generates the prime factors of a given number using trial division.\n",
    "\n",
    "# Function to generate prime factors using trial division\n",
    "def prime_factors(n):\n",
    "    factors = []\n",
    "    div = 2  # Start with the smallest prime number\n",
    "\n",
    "    while n > 1:\n",
    "        while n % div == 0:\n",
    "            factors.append(div)\n",
    "            n //= div\n",
    "        div += 1\n",
    "\n",
    "    return factors\n",
    "\n",
    "# Input a number from the user\n",
    "n = int(input(\"Enter a number to find its prime factors: \"))\n",
    "\n",
    "# Check for valid input\n",
    "if n <= 0:\n",
    "    print(\"Please enter a positive integer.\")\n",
    "else:\n",
    "    # Generate and display the prime factors\n",
    "    factors = prime_factors(n)\n",
    "    if len(factors) == 0:\n",
    "        print(f\"{n} has no prime factors.\")\n",
    "    else:\n",
    "        print(f\"Prime factors of {n}: {factors}\")\n"
   ]
  }
 ],
 "metadata": {
  "kernelspec": {
   "display_name": "Python 3 (ipykernel)",
   "language": "python",
   "name": "python3"
  },
  "language_info": {
   "codemirror_mode": {
    "name": "ipython",
    "version": 3
   },
   "file_extension": ".py",
   "mimetype": "text/x-python",
   "name": "python",
   "nbconvert_exporter": "python",
   "pygments_lexer": "ipython3",
   "version": "3.10.8"
  }
 },
 "nbformat": 4,
 "nbformat_minor": 5
}
