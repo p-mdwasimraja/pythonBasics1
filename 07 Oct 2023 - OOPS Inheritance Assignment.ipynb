{
 "cells": [
  {
   "cell_type": "code",
   "execution_count": 1,
   "id": "312e3aa7-2d85-41f9-8033-8f4a74109664",
   "metadata": {},
   "outputs": [],
   "source": [
    "#Problem 1: \n",
    "#Bank Account Create a class representing a bank account with attributes like account number, account holder name, and balance. \n",
    "#Implement methods to deposit and withdraw money from the account.\n",
    "\n",
    "class BankAccount:\n",
    "    def deposit(self, amount):\n",
    "        if amount > 0:\n",
    "            self.balance += amount\n",
    "            print(f\"Deposited ${amount:.2f} into account {self.account_number}. New balance: ${self.balance:.2f}\")\n",
    "        else:\n",
    "            print(\"Invalid deposit amount. Amount should be greater than 0.\")\n",
    "\n",
    "    def withdraw(self, amount):\n",
    "        if 0 < amount <= self.balance:\n",
    "            self.balance -= amount\n",
    "            print(f\"Withdrew ${amount:.2f} from account {self.account_number}. New balance: ${self.balance:.2f}\")\n",
    "        else:\n",
    "            print(\"Invalid withdrawal amount. Amount should be greater than 0 and less than or equal to the balance.\")\n",
    "\n",
    "    def get_balance(self):\n",
    "        return self.balance\n",
    "    \n",
    "class SavingsAccount(BankAccount):\n",
    "    def __init__(self, account_number, account_holder_name, balance=0.0):\n",
    "        self.account_number = account_number\n",
    "        self.account_holder_name = account_holder_name\n",
    "        self.balance = balance    "
   ]
  },
  {
   "cell_type": "code",
   "execution_count": 2,
   "id": "d5ec3318-3e6c-48e3-83cc-abe1f308fde5",
   "metadata": {},
   "outputs": [],
   "source": [
    "savings_account = SavingsAccount(987654321,\"wasim\",2000)"
   ]
  },
  {
   "cell_type": "code",
   "execution_count": 3,
   "id": "d3b31c2d-49b6-4506-bb81-26c9799914c2",
   "metadata": {},
   "outputs": [
    {
     "data": {
      "text/plain": [
       "2000"
      ]
     },
     "execution_count": 3,
     "metadata": {},
     "output_type": "execute_result"
    }
   ],
   "source": [
    "savings_account.get_balance()"
   ]
  },
  {
   "cell_type": "code",
   "execution_count": 4,
   "id": "89b55f0c-2700-4c53-8b86-2529ad5849af",
   "metadata": {},
   "outputs": [
    {
     "name": "stdout",
     "output_type": "stream",
     "text": [
      "Deposited $100.00 into account 987654321. New balance: $2100.00\n"
     ]
    }
   ],
   "source": [
    "savings_account.deposit(100)"
   ]
  },
  {
   "cell_type": "code",
   "execution_count": 5,
   "id": "a5c02f44-7138-46a3-aeb7-d640f8f275b7",
   "metadata": {},
   "outputs": [
    {
     "name": "stdout",
     "output_type": "stream",
     "text": [
      "Withdrew $300.00 from account 987654321. New balance: $1800.00\n"
     ]
    }
   ],
   "source": [
    "savings_account.withdraw(300)"
   ]
  },
  {
   "cell_type": "code",
   "execution_count": 7,
   "id": "65b4ebc2-e7d3-421b-aa6b-fc3ba44422c5",
   "metadata": {},
   "outputs": [],
   "source": [
    "#Problem 2: \n",
    "#Employee Management Create a class representing an employee with attributes like employee ID, name, and salary. \n",
    "#Implement methods to calculate the yearly bonus and display employee details.\n",
    "\n",
    "class employee:\n",
    "    def __init__(self, emp_id, emp_name, salary):\n",
    "        self.emp_id = emp_id\n",
    "        self.emp_name = emp_name\n",
    "        self.salary = salary\n",
    "        \n",
    "        \n",
    "class comp_calc(employee):\n",
    "    def bonus_calc(self,percentage):\n",
    "        bonus = (percentage/100) * self.salary \n",
    "        print(f\"Bonus for the Employee {self.emp_name} is {bonus}\") "
   ]
  },
  {
   "cell_type": "code",
   "execution_count": 8,
   "id": "cc9ae967-f2ce-4733-bd81-a1c2a314e0f4",
   "metadata": {},
   "outputs": [],
   "source": [
    "emp1 = comp_calc(101,\"Smith\",20000)"
   ]
  },
  {
   "cell_type": "code",
   "execution_count": 9,
   "id": "6c8b365b-26a5-430a-8184-e5f3084f37de",
   "metadata": {},
   "outputs": [
    {
     "name": "stdout",
     "output_type": "stream",
     "text": [
      "Bonus for the Employee Smith is 4000.0\n"
     ]
    }
   ],
   "source": [
    "emp1.bonus_calc(20)"
   ]
  },
  {
   "cell_type": "code",
   "execution_count": 10,
   "id": "e4b000db-bf5b-4c2e-ae4a-8f2c96908a08",
   "metadata": {},
   "outputs": [],
   "source": [
    "#Problem 3: \n",
    "#Vehicle Rental Create a class representing a vehicle rental system. Implement methods to rent a vehicle, return a vehicle, and display available vehicles.\n",
    "\n",
    "class VehicleRental:\n",
    "    def __init__(self):\n",
    "        self.vehicle_inventory = {} \n",
    "\n",
    "    def add_vehicle(self, vehicle_name, quantity):\n",
    "        if vehicle_name in self.vehicle_inventory:\n",
    "            self.vehicle_inventory[vehicle_name] += quantity\n",
    "        else:\n",
    "            self.vehicle_inventory[vehicle_name] = quantity\n",
    "            \n",
    "            \n",
    "class vehiclebooking(VehicleRental):\n",
    "    def check_availability(self, vehicle_name):\n",
    "        if vehicle_name in self.vehicle_inventory and self.vehicle_inventory[vehicle_name] > 0:\n",
    "            return f\"{vehicle_name} is available for rent and {self.vehicle_inventory[vehicle_name]} vehicles available to rent\"\n",
    "        else:\n",
    "            return f\"{vehicle_name} is not available for rent.\"\n",
    "\n",
    "    def rent_vehicle(self, vehicle_name):\n",
    "        if vehicle_name in self.vehicle_inventory and self.vehicle_inventory[vehicle_name] > 0:\n",
    "            self.vehicle_inventory[vehicle_name] -= 1\n",
    "            return f\"You have rented {vehicle_name}.\"\n",
    "        else:\n",
    "            return f\"{vehicle_name} is currently unavailable.\"\n",
    "        \n",
    "    def return_vehicle(self, vehicle_name,quantity):\n",
    "        self.vehicle_inventory[vehicle_name] += quantity\n",
    "        return f\"You have Returned the {vehicle_name}.\"\n"
   ]
  },
  {
   "cell_type": "code",
   "execution_count": 11,
   "id": "6480f9e9-040d-4efd-a725-eb4b1018200d",
   "metadata": {},
   "outputs": [],
   "source": [
    "rental = vehiclebooking()"
   ]
  },
  {
   "cell_type": "code",
   "execution_count": 12,
   "id": "011fada9-efa8-4c72-ba67-3597338d6d29",
   "metadata": {},
   "outputs": [],
   "source": [
    "rental.add_vehicle(\"Sedan\", 5)\n",
    "rental.add_vehicle(\"SUV\", 1)"
   ]
  },
  {
   "cell_type": "code",
   "execution_count": 13,
   "id": "c470bb70-fd78-4c75-bbce-f6387d9421a7",
   "metadata": {},
   "outputs": [
    {
     "name": "stdout",
     "output_type": "stream",
     "text": [
      "Sedan is available for rent and 5 vehicles available to rent\n"
     ]
    }
   ],
   "source": [
    "print(rental.check_availability(\"Sedan\"))"
   ]
  },
  {
   "cell_type": "code",
   "execution_count": 14,
   "id": "c9706f8a-28a1-4506-9b9c-ebb21c9e388a",
   "metadata": {},
   "outputs": [
    {
     "name": "stdout",
     "output_type": "stream",
     "text": [
      "Sports Car is not available for rent.\n"
     ]
    }
   ],
   "source": [
    "print(rental.check_availability(\"Sports Car\"))  "
   ]
  },
  {
   "cell_type": "code",
   "execution_count": 15,
   "id": "a0b576ee-d1e0-407d-941e-d76dca0276d5",
   "metadata": {},
   "outputs": [
    {
     "name": "stdout",
     "output_type": "stream",
     "text": [
      "SUV is available for rent and 1 vehicles available to rent\n"
     ]
    }
   ],
   "source": [
    "print(rental.check_availability(\"SUV\"))  "
   ]
  },
  {
   "cell_type": "code",
   "execution_count": 16,
   "id": "17c0d9c5-bd90-4d50-98d1-40334a8a3062",
   "metadata": {},
   "outputs": [
    {
     "name": "stdout",
     "output_type": "stream",
     "text": [
      "You have rented Sedan.\n"
     ]
    }
   ],
   "source": [
    "print(rental.rent_vehicle(\"Sedan\")) "
   ]
  },
  {
   "cell_type": "code",
   "execution_count": 17,
   "id": "8ae6fb92-822a-4950-bc31-00b15cb6c728",
   "metadata": {},
   "outputs": [
    {
     "name": "stdout",
     "output_type": "stream",
     "text": [
      "Sedan is available for rent and 4 vehicles available to rent\n"
     ]
    }
   ],
   "source": [
    "print(rental.check_availability(\"Sedan\"))"
   ]
  },
  {
   "cell_type": "code",
   "execution_count": 18,
   "id": "5866bcb5-60a4-420e-990a-139fb486dfb6",
   "metadata": {},
   "outputs": [
    {
     "name": "stdout",
     "output_type": "stream",
     "text": [
      "You have rented SUV.\n"
     ]
    }
   ],
   "source": [
    "print(rental.rent_vehicle(\"SUV\")) "
   ]
  },
  {
   "cell_type": "code",
   "execution_count": 19,
   "id": "cfbcbb6a-9fa9-415e-9814-3cfe07cb47af",
   "metadata": {},
   "outputs": [
    {
     "name": "stdout",
     "output_type": "stream",
     "text": [
      "SUV is currently unavailable.\n"
     ]
    }
   ],
   "source": [
    "print(rental.rent_vehicle(\"SUV\")) "
   ]
  },
  {
   "cell_type": "code",
   "execution_count": 20,
   "id": "2db12261-7847-4f18-bbad-beece6950c9d",
   "metadata": {},
   "outputs": [
    {
     "name": "stdout",
     "output_type": "stream",
     "text": [
      "You have Returned the SUV.\n"
     ]
    }
   ],
   "source": [
    "print(rental.return_vehicle(\"SUV\",1)) "
   ]
  },
  {
   "cell_type": "code",
   "execution_count": 21,
   "id": "9a6fbc75-8292-4cdf-84bd-8d3b942e2780",
   "metadata": {},
   "outputs": [
    {
     "name": "stdout",
     "output_type": "stream",
     "text": [
      "SUV is available for rent and 1 vehicles available to rent\n"
     ]
    }
   ],
   "source": [
    "print(rental.check_availability(\"SUV\"))"
   ]
  },
  {
   "cell_type": "code",
   "execution_count": 22,
   "id": "bf694d78-e20b-4cb8-8987-eeccf63fece2",
   "metadata": {},
   "outputs": [],
   "source": [
    "#Problem 4: Library Catalog Create classes representing a library and a book. Implement methods to add books to the library, borrow books, and display available books.\n",
    "\n",
    "class book:\n",
    "    def __init__(self):\n",
    "        self.title = {} \n",
    "        \n",
    "    def add_books(self, title, quantity):\n",
    "        if title in self.title:\n",
    "            self.title[title] += quantity\n",
    "        else:\n",
    "            self.title[title] = quantity\n",
    "            \n",
    "class library(book):        \n",
    "    def find_book(self, title):\n",
    "        if title in self.title and self.title[title] > 0:\n",
    "            return f\"{title} is available to borrow and {self.title[title]} are available\"\n",
    "        else:\n",
    "            return f\"{title} is not available.\"\n",
    "        \n",
    "    def borrow_book(self,title, quantity):\n",
    "        if title in self.title and self.title[title] >= quantity:\n",
    "            self.title[title] -= quantity\n",
    "            return f\"You have borrows {title}.\"\n",
    "        else:\n",
    "            return f\"{title} is currently unavailable.\"\n",
    "            "
   ]
  },
  {
   "cell_type": "code",
   "execution_count": 23,
   "id": "805a0d56-a233-4556-a984-69c3c1ad366b",
   "metadata": {},
   "outputs": [],
   "source": [
    "book1 = library()"
   ]
  },
  {
   "cell_type": "code",
   "execution_count": 24,
   "id": "566a5c17-32be-4621-8c5d-071a72e79204",
   "metadata": {},
   "outputs": [],
   "source": [
    "book1.add_books('DSA',2)\n",
    "book1.add_books('python',1)"
   ]
  },
  {
   "cell_type": "code",
   "execution_count": 25,
   "id": "392124cc-0ec0-4557-9096-77a9acf1cd27",
   "metadata": {},
   "outputs": [
    {
     "name": "stdout",
     "output_type": "stream",
     "text": [
      "DSA is available to borrow and 2 are available\n"
     ]
    }
   ],
   "source": [
    "print(book1.find_book('DSA'))"
   ]
  },
  {
   "cell_type": "code",
   "execution_count": 26,
   "id": "b2a668f9-4942-47e3-905f-09989401394a",
   "metadata": {},
   "outputs": [
    {
     "name": "stdout",
     "output_type": "stream",
     "text": [
      "You have borrows python.\n"
     ]
    }
   ],
   "source": [
    "print(book1.borrow_book('python',1))"
   ]
  },
  {
   "cell_type": "code",
   "execution_count": 27,
   "id": "7d224571-7a10-49a9-9166-abeae86986ba",
   "metadata": {},
   "outputs": [
    {
     "name": "stdout",
     "output_type": "stream",
     "text": [
      "python is not available.\n"
     ]
    }
   ],
   "source": [
    "print(book1.find_book('python'))"
   ]
  },
  {
   "cell_type": "code",
   "execution_count": 41,
   "id": "f7046646-02be-4717-a3b0-22709b0820f7",
   "metadata": {},
   "outputs": [],
   "source": [
    "class Product:\n",
    "    def __init__(self, product_id, name, price, quantity):\n",
    "        self.product_id = product_id\n",
    "        self.name = name\n",
    "        self.price = price\n",
    "        self.quantity = quantity\n",
    "\n",
    "class Inventory:\n",
    "    def __init__(self):\n",
    "        self.products = []\n",
    "\n",
    "    def add_product(self, product):\n",
    "        self.products.append(product)\n",
    "\n",
    "    def update_product_quantity(self, product_id, new_quantity):\n",
    "        for product in self.products:\n",
    "            if product.product_id == product_id:\n",
    "                product.quantity = new_quantity\n",
    "                break\n",
    "\n",
    "    def display_products(self):\n",
    "        for product in self.products:\n",
    "            print(f\"Product ID: {product.product_id}\")\n",
    "            print(f\"Name: {product.name}\")\n",
    "            print(f\"Price: ${product.price:.2f}\")\n",
    "            print(f\"Quantity: {product.quantity}\")"
   ]
  },
  {
   "cell_type": "code",
   "execution_count": 42,
   "id": "2dbb351f-01b9-4fe7-b846-e8399ec3a12e",
   "metadata": {},
   "outputs": [],
   "source": [
    "inventory = Inventory()"
   ]
  },
  {
   "cell_type": "code",
   "execution_count": 44,
   "id": "affae86a-459a-471f-9967-4c94ae1bfcd3",
   "metadata": {},
   "outputs": [],
   "source": [
    "product = Product(1, \"Widget\", 19.99, 50)"
   ]
  },
  {
   "cell_type": "code",
   "execution_count": 45,
   "id": "f47e8eef-59a7-45c5-a5a5-e2eb812d75a2",
   "metadata": {},
   "outputs": [],
   "source": [
    "inventory.add_product(product)"
   ]
  },
  {
   "cell_type": "code",
   "execution_count": 48,
   "id": "9967e9c3-b8fe-413d-b55c-802ac1c467ff",
   "metadata": {},
   "outputs": [
    {
     "name": "stdout",
     "output_type": "stream",
     "text": [
      "Product ID: 1\n",
      "Name: Widget\n",
      "Price: $19.99\n",
      "Quantity: 50\n"
     ]
    }
   ],
   "source": [
    "inventory.display_products()"
   ]
  },
  {
   "cell_type": "code",
   "execution_count": 49,
   "id": "51b86ef6-4dd4-44df-aa34-4e93a7f62366",
   "metadata": {},
   "outputs": [],
   "source": [
    "product = Product(2, \"Gadget\", 09.99, 25)"
   ]
  },
  {
   "cell_type": "code",
   "execution_count": 50,
   "id": "8db4a986-9658-497e-b69f-e2e42f530f7b",
   "metadata": {},
   "outputs": [
    {
     "name": "stdout",
     "output_type": "stream",
     "text": [
      "Product ID: 1\n",
      "Name: Widget\n",
      "Price: $19.99\n",
      "Quantity: 50\n",
      "Product ID: 2\n",
      "Name: Gadget\n",
      "Price: $9.99\n",
      "Quantity: 25\n"
     ]
    }
   ],
   "source": [
    "inventory.add_product(product)\n",
    "inventory.display_products()"
   ]
  },
  {
   "cell_type": "code",
   "execution_count": 51,
   "id": "33868ea4-e2ab-473b-8eea-562062df66b9",
   "metadata": {},
   "outputs": [],
   "source": [
    "#Problem 6: Shape Calculation Create a class representing a shape with attributes like length, width, and height.\n",
    "#Implement methods to calculate the area and perimeter of the shape.\n",
    "\n",
    "class Shape:\n",
    "    def __init__(self, length, width, height):\n",
    "        self.length = length\n",
    "        self.width = width\n",
    "        self.height = height\n",
    "\n",
    "class Rectangle(Shape):\n",
    "    def calculate_area(self):\n",
    "        return self.length * self.width\n",
    "\n",
    "    def calculate_perimeter(self):\n",
    "        return 2 * (self.length + self.width)\n"
   ]
  },
  {
   "cell_type": "code",
   "execution_count": 52,
   "id": "25cdb4b2-0b1b-46b9-9c62-4edefba7a329",
   "metadata": {},
   "outputs": [],
   "source": [
    "rectangle = Rectangle(5, 3, 0)  # Height is not applicable for rectangles"
   ]
  },
  {
   "cell_type": "code",
   "execution_count": 53,
   "id": "3efb2b67-6d68-4b73-9815-a75f8b07a3a5",
   "metadata": {},
   "outputs": [],
   "source": [
    "area = rectangle.calculate_area()\n",
    "perimeter = rectangle.calculate_perimeter()"
   ]
  },
  {
   "cell_type": "code",
   "execution_count": 54,
   "id": "8b3f96ac-976c-4e5e-9c1b-0b626b93693e",
   "metadata": {},
   "outputs": [
    {
     "name": "stdout",
     "output_type": "stream",
     "text": [
      "Rectangle Area: 15\n",
      "Rectangle Perimeter: 16\n"
     ]
    }
   ],
   "source": [
    "print(f\"Rectangle Area: {area}\")\n",
    "print(f\"Rectangle Perimeter: {perimeter}\")"
   ]
  },
  {
   "cell_type": "code",
   "execution_count": 55,
   "id": "d85b5879-7c4a-477c-b263-e56673e7df68",
   "metadata": {},
   "outputs": [],
   "source": [
    "#Problem 7: Student Management Create a class representing a student with attributes like student ID, name, and grades.\n",
    "#Implement methods to calculate the average grade and display student details.\n",
    "\n",
    "class Student:\n",
    "    def __init__(self, student_id, name):\n",
    "        self.student_id = student_id\n",
    "        self.name = name\n",
    "        self.grades = []\n",
    "\n",
    "    def add_grade(self, grade):\n",
    "        self.grades.append(grade)\n",
    "\n",
    "    def calculate_average_grade(self):\n",
    "        if len(self.grades) == 0:\n",
    "            return 0  # Handle the case where there are no grades to avoid division by zero.\n",
    "        return sum(self.grades) / len(self.grades)\n",
    "\n",
    "    def display_student_details(self):\n",
    "        print(f\"Student ID: {self.student_id}\")\n",
    "        print(f\"Name: {self.name}\")\n",
    "        print(\"Grades:\", self.grades)\n",
    "        print(f\"Average Grade: {self.calculate_average_grade():.2f}\")"
   ]
  },
  {
   "cell_type": "code",
   "execution_count": 56,
   "id": "15ba6a0c-0f9e-4407-8950-94b4328d00bf",
   "metadata": {},
   "outputs": [],
   "source": [
    "# Example usage:\n",
    "student1 = Student(1, \"Venki\")\n",
    "student1.add_grade(85)\n",
    "student1.add_grade(92)\n",
    "student1.add_grade(78)"
   ]
  },
  {
   "cell_type": "code",
   "execution_count": 57,
   "id": "04a63e92-2f09-409e-9169-95131bda98af",
   "metadata": {},
   "outputs": [],
   "source": [
    "student2 = Student(2, \"Bob\")\n",
    "student2.add_grade(90)\n",
    "student2.add_grade(88)\n",
    "student2.add_grade(94)"
   ]
  },
  {
   "cell_type": "code",
   "execution_count": 58,
   "id": "ed25355e-b69a-4c12-afc9-e15565517883",
   "metadata": {},
   "outputs": [
    {
     "name": "stdout",
     "output_type": "stream",
     "text": [
      "Student ID: 1\n",
      "Name: Venki\n",
      "Grades: [85, 92, 78]\n",
      "Average Grade: 85.00\n"
     ]
    }
   ],
   "source": [
    "student1.display_student_details()"
   ]
  },
  {
   "cell_type": "code",
   "execution_count": 59,
   "id": "54edc333-b748-43d5-aa3b-4b2e8fc1b0cc",
   "metadata": {},
   "outputs": [
    {
     "name": "stdout",
     "output_type": "stream",
     "text": [
      "Student ID: 2\n",
      "Name: Bob\n",
      "Grades: [90, 88, 94]\n",
      "Average Grade: 90.67\n"
     ]
    }
   ],
   "source": [
    "student2.display_student_details()"
   ]
  },
  {
   "cell_type": "code",
   "execution_count": 60,
   "id": "24abf922-4fa4-4e48-8f48-bbaef44007e0",
   "metadata": {},
   "outputs": [],
   "source": [
    "#Problem 8: Email Management Create a class representing an email with attributes like sender, recipient, and subject. \n",
    "#Implement methods to send an email and display email details.\n",
    "\n",
    "class Email:\n",
    "    def __init__(self, sender, recipient, subject, message):\n",
    "        self.sender = sender\n",
    "        self.recipient = recipient\n",
    "        self.subject = subject\n",
    "        self.message = message\n",
    "        self.sent = False\n",
    "\n",
    "    def send_email(self):\n",
    "        # Simulate sending the email\n",
    "        # You can customize this method to send emails using a real email service\n",
    "        print(\"Sending email...\")\n",
    "        print(f\"From: {self.sender}\")\n",
    "        print(f\"To: {self.recipient}\")\n",
    "        print(f\"Subject: {self.subject}\")\n",
    "        print(\"Message:\")\n",
    "        print(self.message)\n",
    "        print(\"Email sent successfully.\")\n",
    "        self.sent = True\n",
    "\n",
    "    def display_email_details(self):\n",
    "        print(\"Email Details:\")\n",
    "        print(f\"From: {self.sender}\")\n",
    "        print(f\"To: {self.recipient}\")\n",
    "        print(f\"Subject: {self.subject}\")\n",
    "        print(\"Message:\")\n",
    "        print(self.message)\n",
    "        if self.sent:\n",
    "            print(\"Status: Sent\")\n",
    "        else:\n",
    "            print(\"Status: Draft\")\n",
    "\n",
    "class SentEmail(Email):\n",
    "    def __init__(self, sender, recipient, subject, message):\n",
    "        super().__init__(sender, recipient, subject, message)\n",
    "\n",
    "    def display_email_details(self):\n",
    "        super().display_email_details()\n",
    "        print(\"Status: Sent\")"
   ]
  },
  {
   "cell_type": "code",
   "execution_count": 61,
   "id": "0673b07d-e0a0-478e-a13d-369c07ee9047",
   "metadata": {},
   "outputs": [],
   "source": [
    "draft_email = Email(\"alice@example.com\", \"bob@example.com\", \"Meeting Reminder\", \"Hi Bob, just a reminder about our meeting tomorrow at 2 PM.\")\n",
    "sent_email = SentEmail(\"alice@example.com\", \"bob@example.com\", \"Meeting Reminder\", \"Hi Bob, just a reminder about our meeting tomorrow at 2 PM.\")"
   ]
  },
  {
   "cell_type": "code",
   "execution_count": 62,
   "id": "a4cf13ff-f047-4632-b9f4-2d649fc98356",
   "metadata": {},
   "outputs": [
    {
     "name": "stdout",
     "output_type": "stream",
     "text": [
      "Email Details:\n",
      "From: alice@example.com\n",
      "To: bob@example.com\n",
      "Subject: Meeting Reminder\n",
      "Message:\n",
      "Hi Bob, just a reminder about our meeting tomorrow at 2 PM.\n",
      "Status: Draft\n"
     ]
    }
   ],
   "source": [
    "draft_email.display_email_details()"
   ]
  },
  {
   "cell_type": "code",
   "execution_count": 63,
   "id": "538efefb-51c7-45dc-af2a-bce91333ae23",
   "metadata": {},
   "outputs": [
    {
     "name": "stdout",
     "output_type": "stream",
     "text": [
      "Sending email...\n",
      "From: alice@example.com\n",
      "To: bob@example.com\n",
      "Subject: Meeting Reminder\n",
      "Message:\n",
      "Hi Bob, just a reminder about our meeting tomorrow at 2 PM.\n",
      "Email sent successfully.\n"
     ]
    }
   ],
   "source": [
    "draft_email.send_email()"
   ]
  },
  {
   "cell_type": "code",
   "execution_count": 64,
   "id": "15dc5ba1-b106-45d0-8bc2-c9f48f32b6bd",
   "metadata": {},
   "outputs": [
    {
     "name": "stdout",
     "output_type": "stream",
     "text": [
      "Email Details:\n",
      "From: alice@example.com\n",
      "To: bob@example.com\n",
      "Subject: Meeting Reminder\n",
      "Message:\n",
      "Hi Bob, just a reminder about our meeting tomorrow at 2 PM.\n",
      "Status: Sent\n"
     ]
    }
   ],
   "source": [
    "draft_email.display_email_details()"
   ]
  },
  {
   "cell_type": "code",
   "execution_count": 65,
   "id": "44996cfe-e054-429f-ad49-b3fb4bce6b17",
   "metadata": {},
   "outputs": [
    {
     "name": "stdout",
     "output_type": "stream",
     "text": [
      "Email Details:\n",
      "From: alice@example.com\n",
      "To: bob@example.com\n",
      "Subject: Meeting Reminder\n",
      "Message:\n",
      "Hi Bob, just a reminder about our meeting tomorrow at 2 PM.\n",
      "Status: Draft\n",
      "Status: Sent\n"
     ]
    }
   ],
   "source": [
    "sent_email.display_email_details()"
   ]
  },
  {
   "cell_type": "code",
   "execution_count": 66,
   "id": "889c4fa8-e05c-4f99-b608-01944d74fb84",
   "metadata": {},
   "outputs": [],
   "source": [
    "#Problem 9: Social Media Profile Create a class representing a social media profile with attributes like username and posts. \n",
    "#Implement methods to add posts, display posts, and search for posts by keyword.\n",
    "\n",
    "class SocialMediaProfile:\n",
    "    def __init__(self, username):\n",
    "        self.username = username\n",
    "        self.posts = []\n",
    "\n",
    "    def add_post(self, post_content):\n",
    "        self.posts.append(post_content)\n",
    "\n",
    "    def display_posts(self):\n",
    "        print(f\"Posts by {self.username}:\")\n",
    "        for i, post in enumerate(self.posts, start=1):\n",
    "            print(f\"Post {i}: {post}\")\n",
    "        print()\n",
    "\n",
    "class SearchableSocialMediaProfile(SocialMediaProfile):\n",
    "    def search_posts(self, keyword):\n",
    "        matching_posts = [post for post in self.posts if keyword in post]\n",
    "        if matching_posts:\n",
    "            print(f\"Posts containing '{keyword}' by {self.username}:\")\n",
    "            for i, post in enumerate(matching_posts, start=1):\n",
    "                print(f\"Matching Post {i}: {post}\")\n",
    "        else:\n",
    "            print(f\"No posts containing '{keyword}' by {self.username} found.\")\n",
    "        print()"
   ]
  },
  {
   "cell_type": "code",
   "execution_count": 67,
   "id": "9cea2846-8623-4d85-aed5-366bffc84748",
   "metadata": {},
   "outputs": [],
   "source": [
    "profile = SearchableSocialMediaProfile(\"Alice\")\n",
    "profile.add_post(\"Having a great day at the park!\")\n",
    "profile.add_post(\"Enjoying some delicious ice cream.\")\n",
    "profile.add_post(\"Hiking in the mountains is so refreshing.\")\n",
    "profile.add_post(\"Visited the museum today.\")"
   ]
  },
  {
   "cell_type": "code",
   "execution_count": 68,
   "id": "0e69bc91-5881-4bfe-9163-23e2a23c5536",
   "metadata": {},
   "outputs": [
    {
     "name": "stdout",
     "output_type": "stream",
     "text": [
      "Posts by Alice:\n",
      "Post 1: Having a great day at the park!\n",
      "Post 2: Enjoying some delicious ice cream.\n",
      "Post 3: Hiking in the mountains is so refreshing.\n",
      "Post 4: Visited the museum today.\n",
      "\n"
     ]
    }
   ],
   "source": [
    "profile.display_posts()"
   ]
  },
  {
   "cell_type": "code",
   "execution_count": 69,
   "id": "7a3f77c4-639c-4dc4-a9a1-d8975fcf3072",
   "metadata": {},
   "outputs": [
    {
     "name": "stdout",
     "output_type": "stream",
     "text": [
      "Posts containing 'great' by Alice:\n",
      "Matching Post 1: Having a great day at the park!\n",
      "\n"
     ]
    }
   ],
   "source": [
    "profile.search_posts(\"great\")"
   ]
  },
  {
   "cell_type": "code",
   "execution_count": 70,
   "id": "f7cc13f3-0d3b-49e9-975c-e6ffbcabedac",
   "metadata": {},
   "outputs": [
    {
     "name": "stdout",
     "output_type": "stream",
     "text": [
      "Posts containing 'mountains' by Alice:\n",
      "Matching Post 1: Hiking in the mountains is so refreshing.\n",
      "\n"
     ]
    }
   ],
   "source": [
    "profile.search_posts(\"mountains\")"
   ]
  },
  {
   "cell_type": "code",
   "execution_count": 71,
   "id": "802a7bf7-dfab-4015-aae6-c98adb6f3e78",
   "metadata": {},
   "outputs": [
    {
     "name": "stdout",
     "output_type": "stream",
     "text": [
      "No posts containing 'beach' by Alice found.\n",
      "\n"
     ]
    }
   ],
   "source": [
    "profile.search_posts(\"beach\")"
   ]
  },
  {
   "cell_type": "code",
   "execution_count": 72,
   "id": "94582f7d-33c0-4ec4-9b2e-f4bd55a6570a",
   "metadata": {},
   "outputs": [],
   "source": [
    "#Problem 10: ToDo List Create a class representing a ToDo list with attributes like tasks and due dates. \n",
    "#Implement methods to add tasks, mark tasks as completed, and display pending tasks.\n",
    "\n",
    "class ToDoList:\n",
    "    def __init__(self):\n",
    "        self.tasks = []\n",
    "\n",
    "    def add_task(self, task, due_date):\n",
    "        self.tasks.append({\"task\": task, \"due_date\": due_date, \"completed\": False})\n",
    "\n",
    "    def mark_task_as_completed(self, task):\n",
    "        for t in self.tasks:\n",
    "            if t[\"task\"] == task:\n",
    "                t[\"completed\"] = True\n",
    "                break\n",
    "\n",
    "    def display_pending_tasks(self):\n",
    "        pending_tasks = [t for t in self.tasks if not t[\"completed\"]]\n",
    "        if pending_tasks:\n",
    "            print(\"Pending Tasks:\")\n",
    "            for i, task in enumerate(pending_tasks, start=1):\n",
    "                print(f\"{i}. Task: {task['task']}, Due Date: {task['due_date']}\")\n",
    "        else:\n",
    "            print(\"No pending tasks.\")\n",
    "        print()\n",
    "\n",
    "class SearchableToDoList(ToDoList):\n",
    "    def search_tasks(self, keyword):\n",
    "        matching_tasks = [t for t in self.tasks if keyword in t[\"task\"]]\n",
    "        if matching_tasks:\n",
    "            print(f\"Tasks containing '{keyword}':\")\n",
    "            for i, task in enumerate(matching_tasks, start=1):\n",
    "                print(f\"{i}. Task: {task['task']}, Due Date: {task['due_date']}\")\n",
    "        else:\n",
    "            print(f\"No tasks containing '{keyword}' found.\")\n",
    "        print()"
   ]
  },
  {
   "cell_type": "code",
   "execution_count": 73,
   "id": "d6cc3089-a981-4115-b057-ec393869f2e6",
   "metadata": {},
   "outputs": [],
   "source": [
    "to_do_list = SearchableToDoList()\n",
    "to_do_list.add_task(\"Complete homework\", \"2023-10-20\")\n",
    "to_do_list.add_task(\"Buy groceries\", \"2023-10-15\")\n",
    "to_do_list.add_task(\"Call the client\", \"2023-10-18\")"
   ]
  },
  {
   "cell_type": "code",
   "execution_count": 74,
   "id": "3e8b2f72-c7b1-482a-8feb-4f77167c6b78",
   "metadata": {},
   "outputs": [
    {
     "name": "stdout",
     "output_type": "stream",
     "text": [
      "Pending Tasks:\n",
      "1. Task: Complete homework, Due Date: 2023-10-20\n",
      "2. Task: Buy groceries, Due Date: 2023-10-15\n",
      "3. Task: Call the client, Due Date: 2023-10-18\n",
      "\n"
     ]
    }
   ],
   "source": [
    "to_do_list.display_pending_tasks()"
   ]
  },
  {
   "cell_type": "code",
   "execution_count": 75,
   "id": "eac0c53d-a7bf-4724-b784-1d022b477a35",
   "metadata": {},
   "outputs": [],
   "source": [
    "to_do_list.mark_task_as_completed(\"Buy groceries\")"
   ]
  },
  {
   "cell_type": "code",
   "execution_count": 76,
   "id": "3d55404d-3596-4db6-8e6c-f472370d4ed4",
   "metadata": {},
   "outputs": [
    {
     "name": "stdout",
     "output_type": "stream",
     "text": [
      "Pending Tasks:\n",
      "1. Task: Complete homework, Due Date: 2023-10-20\n",
      "2. Task: Call the client, Due Date: 2023-10-18\n",
      "\n"
     ]
    }
   ],
   "source": [
    "to_do_list.display_pending_tasks()"
   ]
  },
  {
   "cell_type": "code",
   "execution_count": 77,
   "id": "a367fea8-2b03-46e3-ba07-f818f6d7449c",
   "metadata": {},
   "outputs": [
    {
     "name": "stdout",
     "output_type": "stream",
     "text": [
      "Tasks containing 'client':\n",
      "1. Task: Call the client, Due Date: 2023-10-18\n",
      "\n"
     ]
    }
   ],
   "source": [
    "to_do_list.search_tasks(\"client\")"
   ]
  },
  {
   "cell_type": "code",
   "execution_count": null,
   "id": "e6d27491-56fc-44ba-9865-5c6e2350e685",
   "metadata": {},
   "outputs": [],
   "source": []
  }
 ],
 "metadata": {
  "kernelspec": {
   "display_name": "Python 3 (ipykernel)",
   "language": "python",
   "name": "python3"
  },
  "language_info": {
   "codemirror_mode": {
    "name": "ipython",
    "version": 3
   },
   "file_extension": ".py",
   "mimetype": "text/x-python",
   "name": "python",
   "nbconvert_exporter": "python",
   "pygments_lexer": "ipython3",
   "version": "3.10.8"
  }
 },
 "nbformat": 4,
 "nbformat_minor": 5
}
