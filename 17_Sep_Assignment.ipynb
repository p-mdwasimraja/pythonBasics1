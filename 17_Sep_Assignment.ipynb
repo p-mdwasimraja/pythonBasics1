{
 "cells": [
  {
   "cell_type": "code",
   "execution_count": 1,
   "id": "63e6697a-e97d-4d1e-aa35-14265fcbbe47",
   "metadata": {},
   "outputs": [
    {
     "name": "stdout",
     "output_type": "stream",
     "text": [
      "1\n",
      "2\n",
      "3\n",
      "4\n",
      "5\n",
      "6\n",
      "7\n",
      "8\n",
      "9\n",
      "10\n"
     ]
    }
   ],
   "source": [
    "#1. Write a Python program to print numbers from 1 to 10 using a for loop.\n",
    "\n",
    "for i in range(1,11):\n",
    "    print(i)"
   ]
  },
  {
   "cell_type": "markdown",
   "id": "9e363b19-8de5-40a8-b3b0-7e6811edfc77",
   "metadata": {},
   "source": [
    "# 2. Explain the difference between a for loop and a while loop in Python.\n",
    "\n",
    "The for loop is used when we know the number of iterations, that is, how many times a statement must be executed. That is why, when we initialize the for loop, we must define the ending point.\n",
    "\n",
    "A while loop is used when the number of iterations is unknown. It is used when we need to end the loop on a condition other than the number of repetitions. It is not necessary to know the condition ahead of time in this case. That is why we can use a Boolean expression in the loop's initialization"
   ]
  },
  {
   "cell_type": "code",
   "execution_count": 2,
   "id": "97bc8231-09a8-4eac-93ba-f09b8c043bd1",
   "metadata": {},
   "outputs": [
    {
     "name": "stdout",
     "output_type": "stream",
     "text": [
      "Sum of all Numbers from 1 to 100 is :  5050\n"
     ]
    }
   ],
   "source": [
    "# 3. Write a Python program to calculate the sum of all numbers from 1 to 100 using a for loop.\n",
    "\n",
    "sum_nos = 0\n",
    "for i in range(1,101):\n",
    "    sum_nos += i\n",
    "\n",
    "print (\"Sum of all Numbers from 1 to 100 is : \",sum_nos)"
   ]
  },
  {
   "cell_type": "code",
   "execution_count": 3,
   "id": "d44db672-225b-4154-8eb4-3a63551b9731",
   "metadata": {},
   "outputs": [
    {
     "name": "stdout",
     "output_type": "stream",
     "text": [
      "1\n",
      "2\n",
      "3\n",
      "4\n",
      "5\n"
     ]
    }
   ],
   "source": [
    "# 4. How do you iterate through a list using a for loop in Python?\n",
    "\n",
    "lst = [1,2,3,4,5]\n",
    "for i in lst:\n",
    "    print (i)"
   ]
  },
  {
   "cell_type": "code",
   "execution_count": 7,
   "id": "34742c34-8fb8-4aaf-b5db-4982d4ff20d8",
   "metadata": {},
   "outputs": [
    {
     "name": "stdout",
     "output_type": "stream",
     "text": [
      "The product of elements in the list [2, 3, 4, 5] is 120\n"
     ]
    }
   ],
   "source": [
    "# 5. Write a Python program to find the product of all elements in a list using a for loop.\n",
    "\n",
    "my_list = [2, 3, 4, 5]\n",
    "product = 1\n",
    "\n",
    "for i in my_list:\n",
    "    product *= i\n",
    "\n",
    "print(f\"The product of elements in the list {my_list} is {product}\")"
   ]
  },
  {
   "cell_type": "code",
   "execution_count": 8,
   "id": "5b752849-6cfa-4aed-b8fa-448de0e7cff5",
   "metadata": {},
   "outputs": [
    {
     "name": "stdout",
     "output_type": "stream",
     "text": [
      "2\n",
      "4\n",
      "6\n",
      "8\n",
      "10\n",
      "12\n",
      "14\n",
      "16\n",
      "18\n",
      "20\n"
     ]
    }
   ],
   "source": [
    "# 6. Create a Python program that prints all even numbers from 1 to 20 using a for loop.\n",
    "\n",
    "for i in range(1,21):\n",
    "    if i%2 == 0:\n",
    "        print(i)"
   ]
  },
  {
   "cell_type": "code",
   "execution_count": 9,
   "id": "9cb547a7-2c1f-44f6-86b3-787256ce9782",
   "metadata": {},
   "outputs": [
    {
     "name": "stdin",
     "output_type": "stream",
     "text": [
      "Enter a non-negative integer:  10\n"
     ]
    },
    {
     "name": "stdout",
     "output_type": "stream",
     "text": [
      "The factorial of 10 is 3628800\n"
     ]
    }
   ],
   "source": [
    "# 7. Write a Python program that calculates the factorial of a number using a for loop.\n",
    "\n",
    "num = int(input(\"Enter a non-negative integer: \"))\n",
    "fact = 1\n",
    "if num < 0:\n",
    "    print (\"Factorial is not defined for negative numbers\")\n",
    "elif num == 0:        \n",
    "    fact = 1\n",
    "else:\n",
    "    for i in range(1, num + 1):\n",
    "        fact *= i\n",
    "        \n",
    "\n",
    "print(f\"The factorial of {num} is {fact}\")"
   ]
  },
  {
   "cell_type": "code",
   "execution_count": 10,
   "id": "f0062733-e73c-4d62-a88b-cea84b88d9e5",
   "metadata": {},
   "outputs": [
    {
     "name": "stdin",
     "output_type": "stream",
     "text": [
      "Enter a non-negative integer:  10\n"
     ]
    },
    {
     "name": "stdout",
     "output_type": "stream",
     "text": [
      "The factorial of 10 is 3628800\n"
     ]
    }
   ],
   "source": [
    "8. How can you iterate through the characters of a string using a for loop in Python?"
   ]
  },
  {
   "cell_type": "code",
   "execution_count": 11,
   "id": "ad4f5b7c-8277-4c7f-bccb-112ced4585e4",
   "metadata": {},
   "outputs": [
    {
     "name": "stdout",
     "output_type": "stream",
     "text": [
      "p\n",
      "w\n",
      "s\n",
      "k\n",
      "i\n",
      "l\n",
      "l\n",
      "s\n"
     ]
    }
   ],
   "source": [
    "#8. How can you iterate through the characters of a string using a for loop in Python?\n",
    "\n",
    "string = \"pwskills\"\n",
    "for i in string:\n",
    "    print(i)"
   ]
  },
  {
   "cell_type": "code",
   "execution_count": 14,
   "id": "bff1d085-e4d7-464f-9b75-296f8efa475f",
   "metadata": {},
   "outputs": [
    {
     "name": "stdout",
     "output_type": "stream",
     "text": [
      "Largest Number in the given list is : 17\n"
     ]
    }
   ],
   "source": [
    "# 9. Write a Python program to find the largest number in a list using a for loop.\n",
    "\n",
    "lst = [12,3,17,4,5]\n",
    "largest_num = 0\n",
    "for i in lst:\n",
    "    if largest_num < i:\n",
    "        largest_num = i\n",
    "        \n",
    "print (\"Largest Number in the given list is :\",largest_num)"
   ]
  },
  {
   "cell_type": "code",
   "execution_count": 19,
   "id": "220bff56-bb95-4fce-a773-28bc6d53aedf",
   "metadata": {},
   "outputs": [
    {
     "name": "stdin",
     "output_type": "stream",
     "text": [
      "Enter the limit for the Fibonacci sequence:  10\n"
     ]
    },
    {
     "name": "stdout",
     "output_type": "stream",
     "text": [
      "[0, 1, 1, 2, 3, 5, 8, 13, 21, 34]\n"
     ]
    }
   ],
   "source": [
    "# 10. Create a Python program that prints the Fibonacci sequence up to a specified limit using a for loop.\n",
    "\n",
    "limit = int(input(\"Enter the limit for the Fibonacci sequence: \"))\n",
    "a, b = 0, 1\n",
    "fib_sequence = []\n",
    "if limit <= 0:\n",
    "    print(\"Invalid limit. Please enter a positive limit.\")\n",
    "else:\n",
    "    a, b = 0, 1\n",
    "    for i in range(limit):\n",
    "        fib_sequence.append(a)\n",
    "        a, b = b, a + b\n",
    "\n",
    "print (fib_sequence)"
   ]
  },
  {
   "cell_type": "code",
   "execution_count": 33,
   "id": "b6478160-0624-4257-84bd-c7743532c9a1",
   "metadata": {},
   "outputs": [
    {
     "name": "stdin",
     "output_type": "stream",
     "text": [
      "Enter the String to count number of vowels :  Beutiful\n"
     ]
    },
    {
     "name": "stdout",
     "output_type": "stream",
     "text": [
      "Number of Vowels in a given String is :  4\n"
     ]
    }
   ],
   "source": [
    "# 11. Write a Python program to count the number of vowels in a given string using a for loop.\n",
    "\n",
    "vowels=\"aeiouAEIOU\"\n",
    "string = input(\"Enter the String to count number of vowels : \")\n",
    "cnt_vowel = 0\n",
    "for i in string:\n",
    "    if i in vowels:\n",
    "        cnt_vowel += 1\n",
    "\n",
    "print (\"Number of Vowels in a given String is : \",cnt_vowel)"
   ]
  },
  {
   "cell_type": "code",
   "execution_count": 34,
   "id": "00452eee-b269-46e8-be50-48daf6d09f17",
   "metadata": {},
   "outputs": [
    {
     "name": "stdin",
     "output_type": "stream",
     "text": [
      "Enter the number of mutliplication table :  6\n"
     ]
    },
    {
     "name": "stdout",
     "output_type": "stream",
     "text": [
      "1 * 6 = 6\n",
      "2 * 6 = 12\n",
      "3 * 6 = 18\n",
      "4 * 6 = 24\n",
      "5 * 6 = 30\n",
      "6 * 6 = 36\n",
      "7 * 6 = 42\n",
      "8 * 6 = 48\n",
      "9 * 6 = 54\n",
      "10 * 6 = 60\n"
     ]
    }
   ],
   "source": [
    "#12. Create a Python program that generates a multiplication table for a given number using a for loop.\n",
    "\n",
    "table_no = int(input(\"Enter the number of mutliplication table : \"))\n",
    "for i in range(1,11):\n",
    "    print (f\"{i} * {table_no} = {table_no*i}\")"
   ]
  },
  {
   "cell_type": "code",
   "execution_count": 35,
   "id": "c1bc61e0-ea13-4621-96e4-580221ebd653",
   "metadata": {},
   "outputs": [
    {
     "name": "stdout",
     "output_type": "stream",
     "text": [
      "Reverse list is :  [8, 7, 6, 5, 4, 3, 2, 1]\n"
     ]
    }
   ],
   "source": [
    "#13. Write a Python program to reverse a list using a for loop.\n",
    "\n",
    "\n",
    "lst = [1,2,3,4,5,6,7,8]\n",
    "reverse_lst = []\n",
    "for i in lst[::-1]:\n",
    "    reverse_lst.append(i)\n",
    "    \n",
    "print (\"Reverse list is : \",reverse_lst)"
   ]
  },
  {
   "cell_type": "code",
   "execution_count": 38,
   "id": "46558ce1-3e01-4969-88b2-f68f3836afa2",
   "metadata": {},
   "outputs": [
    {
     "name": "stdout",
     "output_type": "stream",
     "text": [
      "Common Elements in the lists are :  [6, 7, 8]\n"
     ]
    }
   ],
   "source": [
    "#14. Write a Python program to find the common elements between two lists using a for loop.\n",
    "\n",
    "lst1 = [1,2,3,4,5,6,7,8]\n",
    "lst2 = [6,7,8,9,10]\n",
    "common_list = []\n",
    "for i in lst1:\n",
    "    if i in lst2:\n",
    "        common_list.append(i)\n",
    "print (\"Common Elements in the lists are : \",common_list)"
   ]
  },
  {
   "cell_type": "code",
   "execution_count": 1,
   "id": "c47036b4-7cd6-4bec-af4e-e3b4907a5282",
   "metadata": {},
   "outputs": [
    {
     "name": "stdout",
     "output_type": "stream",
     "text": [
      "Hobbies:\n",
      "- reading\n",
      "- hiking\n",
      "- painting\n"
     ]
    }
   ],
   "source": [
    "#15. Explain how to use a for loop to iterate through the keys and values of a dictionary in Python.\n",
    "\n",
    "person_info = {\n",
    "    \"first_name\": \"Alice\",\n",
    "    \"last_name\": \"Johnson\",\n",
    "    \"age\": 28,\n",
    "    \"city\": \"San Francisco\",\n",
    "    \"hobbies\": [\"reading\", \"hiking\", \"painting\"]\n",
    "}\n",
    "\n",
    "\n",
    "print(\"Hobbies:\")\n",
    "for hobby in person_info['hobbies']:\n",
    "    print(\"- \" + hobby)\n"
   ]
  },
  {
   "cell_type": "code",
   "execution_count": 6,
   "id": "0354fe47-6d87-4c5d-8c48-9a3b0827542c",
   "metadata": {},
   "outputs": [
    {
     "name": "stdin",
     "output_type": "stream",
     "text": [
      "Enter the first number:  20\n",
      "Enter the second number:  5\n"
     ]
    },
    {
     "name": "stdout",
     "output_type": "stream",
     "text": [
      "The GCD of 20 and 5 is 5\n"
     ]
    }
   ],
   "source": [
    "#16. Write a Python program to find the GCD (Greatest Common Divisor) of two numbers using a for loop.\n",
    "\n",
    "num1 = int(input(\"Enter the first number: \"))\n",
    "num2 = int(input(\"Enter the second number: \"))\n",
    "gcd = 1  # Initialize gcd to 1\n",
    "\n",
    "for i in range(1, min(num1, num2) + 1):\n",
    "    if num1 % i == 0 and num2 % i == 0:\n",
    "        gcd = i\n",
    "\n",
    "print(f\"The GCD of {num1} and {num2} is {gcd}\")\n"
   ]
  },
  {
   "cell_type": "code",
   "execution_count": 8,
   "id": "64c2dfaf-fc82-423d-ad53-e1bbdce3075a",
   "metadata": {},
   "outputs": [
    {
     "name": "stdin",
     "output_type": "stream",
     "text": [
      "Enter the string to check palindrome level\n"
     ]
    },
    {
     "name": "stdout",
     "output_type": "stream",
     "text": [
      "String is a Palindrome\n"
     ]
    }
   ],
   "source": [
    "#17. Create a Python program that checks if a string is a palindrome using a for loop.\n",
    "\n",
    "string=input(\"Enter the string to check palindrome\")\n",
    "rev_string = \"\"\n",
    "for i in string[::-1]:\n",
    "    rev_string += i\n",
    "\n",
    "if string == rev_string:\n",
    "    print(\"String is a Palindrome\")\n",
    "else:\n",
    "    print(\"String is Not a Palindrome\")\n"
   ]
  },
  {
   "cell_type": "code",
   "execution_count": 14,
   "id": "f44f584a-e2bc-433d-9470-75713f5370d2",
   "metadata": {},
   "outputs": [
    {
     "name": "stdout",
     "output_type": "stream",
     "text": [
      "After Remove Duplicate :  [1, 2, 3, 4, 6, 7, 9]\n"
     ]
    }
   ],
   "source": [
    "#18. Write a Python program to remove duplicates from a list using a for loop.\n",
    "\n",
    "lst1 = [1,2,3,4,1,2,4,6,7,9]\n",
    "result_list = []\n",
    "for i in lst1:\n",
    "    if i not in result_list:\n",
    "        result_list.append(i)\n",
    "print(\"After Remove Duplicate : \",result_list)        "
   ]
  },
  {
   "cell_type": "code",
   "execution_count": 17,
   "id": "02867fa5-0115-478c-801a-1f3276c7591d",
   "metadata": {},
   "outputs": [
    {
     "name": "stdin",
     "output_type": "stream",
     "text": [
      "Enter the sentence to Count the number of words welcome to python class\n"
     ]
    },
    {
     "name": "stdout",
     "output_type": "stream",
     "text": [
      "Number of words in the sentence is :  4\n"
     ]
    }
   ],
   "source": [
    "#19. Create a Python program that counts the number of words in a sentence using a for loop.\n",
    "\n",
    "sentence = input(\"Enter the sentence to Count the number of words\")\n",
    "word_cnt = 0\n",
    "for i in sentence.split():\n",
    "    word_cnt += 1\n",
    "print (\"Number of words in the sentence is : \",word_cnt)"
   ]
  },
  {
   "cell_type": "code",
   "execution_count": 18,
   "id": "22a9de12-afe8-4224-aa86-0fbd3a1bbcc0",
   "metadata": {},
   "outputs": [
    {
     "name": "stdout",
     "output_type": "stream",
     "text": [
      "Sum of Odd Numbers is :  625\n"
     ]
    }
   ],
   "source": [
    "#20. Write a Python program to find the sum of all odd numbers from 1 to 50 using a for loop.\n",
    "\n",
    "sum_odd = 0\n",
    "for i in range(1,51):\n",
    "    if i % 2 != 0:\n",
    "        sum_odd += i\n",
    "print (\"Sum of Odd Numbers is : \",sum_odd)\n"
   ]
  },
  {
   "cell_type": "code",
   "execution_count": 19,
   "id": "39fdb760-31b5-43ff-adef-5421d66513fb",
   "metadata": {},
   "outputs": [
    {
     "name": "stdin",
     "output_type": "stream",
     "text": [
      "Enter a year to check for leap year:  2000\n"
     ]
    },
    {
     "name": "stdout",
     "output_type": "stream",
     "text": [
      "2000 is a leap year.\n"
     ]
    }
   ],
   "source": [
    "#21. Write a Python program that checks if a given year is a leap year using a for loop.\n",
    "\n",
    "year = int(input(\"Enter a year to check for leap year: \"))\n",
    "if (year % 4 == 0 and year % 100 != 0) or (year % 400 == 0):\n",
    "    print(f\"{year} is a leap year.\")\n",
    "else:\n",
    "    print(f\"{year} is not a leap year.\")\n"
   ]
  },
  {
   "cell_type": "code",
   "execution_count": 20,
   "id": "1a5c1b82-90e7-468a-b8a4-61e7445a2ac1",
   "metadata": {},
   "outputs": [
    {
     "name": "stdin",
     "output_type": "stream",
     "text": [
      "Enter a number to calculate its square root:  20\n"
     ]
    },
    {
     "name": "stdout",
     "output_type": "stream",
     "text": [
      "The square root of 20.0 is approximately 4.472136\n"
     ]
    }
   ],
   "source": [
    "#22. Create a Python program that calculates the square root of a number using a for loop.\n",
    "\n",
    "\n",
    "import math\n",
    "number = float(input(\"Enter a number to calculate its square root: \"))\n",
    "result = math.sqrt(number)\n",
    "print(f\"The square root of {number} is approximately {result:.6f}\")"
   ]
  },
  {
   "cell_type": "code",
   "execution_count": 21,
   "id": "ab61be40-5d55-4b76-9d71-3583c43e4430",
   "metadata": {},
   "outputs": [
    {
     "name": "stdin",
     "output_type": "stream",
     "text": [
      "Enter the first number:  10\n",
      "Enter the second number:  15\n"
     ]
    },
    {
     "name": "stdout",
     "output_type": "stream",
     "text": [
      "The LCM of 10 and 15 is 150\n"
     ]
    }
   ],
   "source": [
    "#23. Write a Python program to find the LCM (Least Common Multiple) of two numbers using a for loop.\n",
    "\n",
    "num1 = int(input(\"Enter the first number: \"))\n",
    "num2 = int(input(\"Enter the second number: \"))\n",
    "lcm = 0\n",
    "max_num = max(num1, num2)\n",
    "for i in range(max_num, num1 * num2 + 1, max_num):\n",
    "    if i % num1 == 0 and i % num2 == 0:\n",
    "        lcm = i\n",
    "\n",
    "print(f\"The LCM of {num1} and {num2} is {lcm}\")"
   ]
  },
  {
   "cell_type": "markdown",
   "id": "4b3242b5-a48d-41b6-bc6b-23e43da3ae05",
   "metadata": {},
   "source": [
    "If Else"
   ]
  },
  {
   "cell_type": "code",
   "execution_count": 24,
   "id": "38ba0aaf-ac7b-4206-a529-c7bd2b090b61",
   "metadata": {},
   "outputs": [
    {
     "name": "stdin",
     "output_type": "stream",
     "text": [
      "Enter the number to check positive, negative, or zero :  0\n"
     ]
    },
    {
     "name": "stdout",
     "output_type": "stream",
     "text": [
      "Entered Number is a Zero\n"
     ]
    }
   ],
   "source": [
    "#1. Write a Python program to check if a number is positive, negative, or zero using an if-else statement.\n",
    "\n",
    "num1 = int(input(\"Enter the number to check positive, negative, or zero : \"))\n",
    "if num1 > 0:\n",
    "    print (\"Entered Number is a Positive Number\")\n",
    "elif num1 < 0:\n",
    "    print (\"Entered Number is a Negative Number\")\n",
    "else:\n",
    "    print (\"Entered Number is a Zero\")"
   ]
  },
  {
   "cell_type": "code",
   "execution_count": 26,
   "id": "004ac515-3cab-4099-9583-f8421ecd846e",
   "metadata": {},
   "outputs": [
    {
     "name": "stdin",
     "output_type": "stream",
     "text": [
      "Enter the number to check given number is even or odd number :  7\n"
     ]
    },
    {
     "name": "stdout",
     "output_type": "stream",
     "text": [
      "Entered Number is a Odd Number\n"
     ]
    }
   ],
   "source": [
    "#2. Create a Python program that checks if a given number is even or odd using an if-else statement.\n",
    "\n",
    "num1 = int(input(\"Enter the number to check given number is even or odd number : \"))\n",
    "if num1 % 2 == 0:\n",
    "    print (\"Entered Number is a Even Number\")\n",
    "else:\n",
    "    print (\"Entered Number is a Odd Number\")"
   ]
  },
  {
   "cell_type": "code",
   "execution_count": 27,
   "id": "bb5a68ba-50ef-408a-acf5-e221f8128ec4",
   "metadata": {},
   "outputs": [
    {
     "name": "stdout",
     "output_type": "stream",
     "text": [
      "B is a Greatest\n"
     ]
    }
   ],
   "source": [
    "#3. How can you use nested if-else statements in Python, and provide an example?\n",
    "\n",
    "a, b, c = 10, 12, 8\n",
    "if a > b:\n",
    "    if a > c:\n",
    "        print (\"A is a Greatest\")\n",
    "else:\n",
    "    if b > c:\n",
    "        print (\"B is a Greatest\")\n",
    "    else:\n",
    "        print (\"C is a Greatest\")"
   ]
  },
  {
   "cell_type": "code",
   "execution_count": 29,
   "id": "38aa483c-d9d9-4a5b-8a46-d138382aefbd",
   "metadata": {},
   "outputs": [
    {
     "name": "stdout",
     "output_type": "stream",
     "text": [
      "C is a Greatest\n"
     ]
    }
   ],
   "source": [
    "#4. Write a Python program to determine the largest of three numbers using if-else.\n",
    "\n",
    "a, b, c = 10, 12, 80\n",
    "if a > b:\n",
    "    if a > c:\n",
    "        print (\"A is a Greatest\")\n",
    "else:\n",
    "    if b > c:\n",
    "        print (\"B is a Greatest\")\n",
    "    else:\n",
    "        print (\"C is a Greatest\")"
   ]
  },
  {
   "cell_type": "code",
   "execution_count": 30,
   "id": "555eae01-8513-4112-846a-e129188d89b9",
   "metadata": {},
   "outputs": [
    {
     "name": "stdin",
     "output_type": "stream",
     "text": [
      "Enter a number:  -10\n"
     ]
    },
    {
     "name": "stdout",
     "output_type": "stream",
     "text": [
      "The absolute value of -10.0 is 10.0\n"
     ]
    }
   ],
   "source": [
    "#5. Write a Python program that calculates the absolute value of a number using if-else.\n",
    "\n",
    "number = float(input(\"Enter a number: \"))\n",
    "if number < 0:\n",
    "    absolute_value = -number\n",
    "else:\n",
    "    absolute_value = number\n",
    "\n",
    "print(f\"The absolute value of {number} is {absolute_value}\")\n"
   ]
  },
  {
   "cell_type": "code",
   "execution_count": 32,
   "id": "bdb22297-5337-45e7-b641-aa8e4dd8fd10",
   "metadata": {},
   "outputs": [
    {
     "name": "stdin",
     "output_type": "stream",
     "text": [
      "Enter the Character to check character is a vowel or consonant :  b\n"
     ]
    },
    {
     "name": "stdout",
     "output_type": "stream",
     "text": [
      "Entered Character is a Consonant\n"
     ]
    }
   ],
   "source": [
    "#6. Create a Python program that checks if a given character is a vowel or consonant using if-else.\n",
    "\n",
    "vowels=\"aeiouAEIOU\"\n",
    "char_value = input(\"Enter the Character to check character is a vowel or consonant : \")\n",
    "if char_value in vowels:\n",
    "    print (\"Entered Character is a Vowel\")\n",
    "else:\n",
    "    print (\"Entered Character is a Consonant\")"
   ]
  },
  {
   "cell_type": "code",
   "execution_count": 34,
   "id": "0a195136-d79a-4397-8431-2ff32bde576a",
   "metadata": {},
   "outputs": [
    {
     "name": "stdin",
     "output_type": "stream",
     "text": [
      "Enter the age to check the person is eligible to vote :  19\n"
     ]
    },
    {
     "name": "stdout",
     "output_type": "stream",
     "text": [
      "Person is Eligible to Vote\n"
     ]
    }
   ],
   "source": [
    "#7. Write a Python program to determine if a user is eligible to vote based on their age using if-else.\n",
    "\n",
    "age=int(input(\"Enter the age to check the person is eligible to vote : \"))\n",
    "if age >= 18:\n",
    "    print (\"Person is Eligible to Vote\")\n",
    "else:\n",
    "    print (\"Person is not Eligible to vote\")"
   ]
  },
  {
   "cell_type": "code",
   "execution_count": 35,
   "id": "82a6a645-a3c7-4603-aaf6-76f1b9bbd4f6",
   "metadata": {},
   "outputs": [
    {
     "name": "stdin",
     "output_type": "stream",
     "text": [
      "Enter the Purchase amount : 2000\n"
     ]
    },
    {
     "name": "stdout",
     "output_type": "stream",
     "text": [
      "Discount amount: $200.00\n",
      "Final amount after discount: $1800.00\n"
     ]
    }
   ],
   "source": [
    "#8. Create a Python program that calculates the discount amount based on the purchase amount using if-else.\n",
    "\n",
    "discount_rate = 0\n",
    "discount_amount = 0\n",
    "purchase_amount=int(input(\"Enter the Purchase amount :\"))\n",
    "\n",
    "if purchase_amount >= 1000:\n",
    "    discount_rate = 0.1  # 10% discount for purchases of $1000 or more\n",
    "    discount_amount = purchase_amount * discount_rate\n",
    "elif purchase_amount >= 500:\n",
    "    discount_rate = 0.05  # 5% discount for purchases between $500 and $999.99\n",
    "    discount_amount = purchase_amount * discount_rate\n",
    "\n",
    "if discount_amount > 0:\n",
    "    print(f\"Discount amount: ${discount_amount:.2f}\")\n",
    "else:\n",
    "    print(\"No discount applied.\")\n",
    "\n",
    "final_amount = purchase_amount - discount_amount\n",
    "print(f\"Final amount after discount: ${final_amount:.2f}\")"
   ]
  },
  {
   "cell_type": "code",
   "execution_count": 37,
   "id": "160d5879-242b-4aff-bb54-2c83a6b637bb",
   "metadata": {},
   "outputs": [
    {
     "name": "stdin",
     "output_type": "stream",
     "text": [
      "Enter a number to check : 19\n",
      "Enter a Range Starting number : 1\n",
      "Enter a Range Ending number : 10\n"
     ]
    },
    {
     "name": "stdout",
     "output_type": "stream",
     "text": [
      "19 is not in the range.\n"
     ]
    }
   ],
   "source": [
    "# 9. Write a Python program to check if a number is within a specified range using if-else.\n",
    "\n",
    "# Check if a value is within a range using comparison operators\n",
    "value_to_check = int(input(\"Enter a number to check :\"))\n",
    "range_start = int(input(\"Enter a Range Starting number :\"))\n",
    "range_end = int(input(\"Enter a Range Ending number :\"))\n",
    "\n",
    "if range_start <= value_to_check <= range_end:\n",
    "    print(f\"{value_to_check} is in the range.\")\n",
    "else:\n",
    "    print(f\"{value_to_check} is not in the range.\")\n"
   ]
  },
  {
   "cell_type": "code",
   "execution_count": 41,
   "id": "3c597d41-b9bb-4522-86a2-3da18d378cba",
   "metadata": {},
   "outputs": [
    {
     "name": "stdin",
     "output_type": "stream",
     "text": [
      "Enter the Student Mark :  60\n"
     ]
    },
    {
     "name": "stdout",
     "output_type": "stream",
     "text": [
      "Student Mark 60 and grade is G\n"
     ]
    }
   ],
   "source": [
    "#10. Create a Python program that determines the grade of a student based on their score using if-else.\n",
    "\n",
    "grade = \"\"\n",
    "mark=int(input(\"Enter the Student Mark : \"))\n",
    "if mark > 90:\n",
    "         grade='A'\n",
    "elif 89 <= mark <= 80:\n",
    "         grade = 'B'\n",
    "elif 79 <= mark <= 70:\n",
    "         grade = 'C'\n",
    "elif 69 <= mark <= 60:\n",
    "         grade = 'D'\n",
    "elif 59 <= mark <= 50:\n",
    "         grade = 'E'\n",
    "elif 49 <= mark <= 40:\n",
    "         grade = 'F'\n",
    "else:\n",
    "         grade = 'G'\n",
    "\n",
    "print (f\"Student Mark {mark} and grade is {grade}\")"
   ]
  },
  {
   "cell_type": "code",
   "execution_count": 45,
   "id": "58cca795-bb08-44c1-8264-4bde62b6ce6e",
   "metadata": {},
   "outputs": [
    {
     "name": "stdin",
     "output_type": "stream",
     "text": [
      "Enter the String to check is empty or not \n"
     ]
    },
    {
     "name": "stdout",
     "output_type": "stream",
     "text": [
      "String is Empty\n"
     ]
    }
   ],
   "source": [
    "#11. Write a Python program to check if a string is empty or not using if-else.\n",
    "\n",
    "input_string=input(\"Enter the String to check is empty or not\")\n",
    "if len(input_string) == 0:\n",
    "    print(\"String is Empty\")\n",
    "else:\n",
    "    print(\"String is not Empty\")"
   ]
  },
  {
   "cell_type": "code",
   "execution_count": 46,
   "id": "5af7136a-0347-4657-b0c9-89e98c7e785c",
   "metadata": {},
   "outputs": [
    {
     "name": "stdin",
     "output_type": "stream",
     "text": [
      "Enter the length of the first side:  10\n",
      "Enter the length of the second side:  15\n",
      "Enter the length of the third side:  20\n"
     ]
    },
    {
     "name": "stdout",
     "output_type": "stream",
     "text": [
      "The triangle with sides 10.0, 15.0, and 20.0 is a Scalene triangle.\n"
     ]
    }
   ],
   "source": [
    "#12. Create a Python program that identifies the type of a triangle (e.g., equilateral, isosceles, or scalene) based on input values using if-else.\n",
    "\n",
    "side1 = float(input(\"Enter the length of the first side: \"))\n",
    "side2 = float(input(\"Enter the length of the second side: \"))\n",
    "side3 = float(input(\"Enter the length of the third side: \"))\n",
    "\n",
    "if side1 == side2 == side3:\n",
    "    triangle_type = \"Equilateral\"\n",
    "elif side1 == side2 or side1 == side3 or side2 == side3:\n",
    "    triangle_type = \"Isosceles\"\n",
    "else:\n",
    "    triangle_type = \"Scalene\"\n",
    "\n",
    "print(f\"The triangle with sides {side1}, {side2}, and {side3} is a {triangle_type} triangle.\")\n"
   ]
  },
  {
   "cell_type": "code",
   "execution_count": 47,
   "id": "c9ca71d5-3600-4391-91ee-552a9b4a17bb",
   "metadata": {},
   "outputs": [
    {
     "name": "stdin",
     "output_type": "stream",
     "text": [
      "Enter a number (1-7) for the day of the week:  4\n"
     ]
    },
    {
     "name": "stdout",
     "output_type": "stream",
     "text": [
      "The day of the week for number 4 is Thursday.\n"
     ]
    }
   ],
   "source": [
    "# 13. Write a Python program to determine the day of the week based on a user-provided number using if-else.\n",
    "\n",
    "day_number = int(input(\"Enter a number (1-7) for the day of the week: \"))\n",
    "\n",
    "if day_number == 1:\n",
    "    day_name = \"Monday\"\n",
    "elif day_number == 2:\n",
    "    day_name = \"Tuesday\"\n",
    "elif day_number == 3:\n",
    "    day_name = \"Wednesday\"\n",
    "elif day_number == 4:\n",
    "    day_name = \"Thursday\"\n",
    "elif day_number == 5:\n",
    "    day_name = \"Friday\"\n",
    "elif day_number == 6:\n",
    "    day_name = \"Saturday\"\n",
    "elif day_number == 7:\n",
    "    day_name = \"Sunday\"\n",
    "else:\n",
    "    day_name = \"Invalid input\"\n",
    "\n",
    "print(f\"The day of the week for number {day_number} is {day_name}.\")"
   ]
  },
  {
   "cell_type": "code",
   "execution_count": 2,
   "id": "903dc87a-2a6c-4399-b915-742647acbf4e",
   "metadata": {},
   "outputs": [
    {
     "name": "stdin",
     "output_type": "stream",
     "text": [
      "Enter the Year to check is a Leap year or not 2000\n"
     ]
    },
    {
     "name": "stdout",
     "output_type": "stream",
     "text": [
      "2000 is a leap year.\n"
     ]
    }
   ],
   "source": [
    "#14. Create a Python program that checks if a given year is a leap year using both if-else and a function.\n",
    "\n",
    "year=int(input(\"Enter the Year to check is a Leap year or not\"))\n",
    "if (year % 4 == 0 and year % 100 != 0) or (year % 400 == 0):\n",
    "    print(f\"{year} is a leap year.\")\n",
    "else:\n",
    "    print(f\"{year} is not a leap year.\")"
   ]
  },
  {
   "cell_type": "code",
   "execution_count": 49,
   "id": "d0694225-04c1-4754-8c89-7570940924fd",
   "metadata": {},
   "outputs": [],
   "source": [
    "#15. How do you use the \"assert\" statement in Python to add debugging checks within if-else blocks?\n",
    "\n",
    "x = 10\n",
    "if x > 5:\n",
    "    assert x < 20, \"x should be less than 20\"\n",
    "    print(\"x is greater than 5.\")\n",
    "else:\n",
    "    # Use assert within the else block\n",
    "    assert x >= 5, \"x should be greater than or equal to 5\"\n",
    "    print(\"x is not greater than 5.\")\n",
    "\n",
    "print(\"Program completed.\")\n"
   ]
  },
  {
   "cell_type": "code",
   "execution_count": 1,
   "id": "46554534-af5f-4a4e-a32b-988c87bd1a55",
   "metadata": {},
   "outputs": [
    {
     "name": "stdin",
     "output_type": "stream",
     "text": [
      "Enter your age:  65\n"
     ]
    },
    {
     "name": "stdout",
     "output_type": "stream",
     "text": [
      "Congratulations! You are eligible for a senior citizen discount.\n"
     ]
    }
   ],
   "source": [
    "#16. Create a Python program that determines the eligibility of a person for a senior citizen discount based on age using if-else.\n",
    "\n",
    "age = int(input(\"Enter your age: \"))\n",
    "senior_age_threshold = 60\n",
    "if age >= senior_age_threshold:\n",
    "    print(\"Congratulations! You are eligible for a senior citizen discount.\")\n",
    "else:\n",
    "    print(\"Sorry, you are not eligible for a senior citizen discount.\")\n"
   ]
  },
  {
   "cell_type": "code",
   "execution_count": 3,
   "id": "92c75250-7ffc-4727-9489-de86213059b2",
   "metadata": {},
   "outputs": [
    {
     "name": "stdin",
     "output_type": "stream",
     "text": [
      "Enter a character:  A\n"
     ]
    },
    {
     "name": "stdout",
     "output_type": "stream",
     "text": [
      "The character 'A' is uppercase.\n"
     ]
    }
   ],
   "source": [
    "#17. Write a Python program to categorize a given character as uppercase, lowercase, or neither using if-else.\n",
    "\n",
    "char = input(\"Enter a character: \")\n",
    "if len(char) != 1:\n",
    "    print(\"Please enter a single character.\")\n",
    "else:\n",
    "    if char.isupper():\n",
    "        print(f\"The character '{char}' is uppercase.\")\n",
    "    elif char.islower():\n",
    "        print(f\"The character '{char}' is lowercase.\")\n",
    "    else:\n",
    "        print(f\"The character '{char}' is neither uppercase nor lowercase.\")"
   ]
  },
  {
   "cell_type": "code",
   "execution_count": 4,
   "id": "ef980478-ba0c-4b64-b15a-dc3c07256800",
   "metadata": {},
   "outputs": [
    {
     "name": "stdin",
     "output_type": "stream",
     "text": [
      "Enter the coefficient 'a':  5\n",
      "Enter the coefficient 'b':  6\n",
      "Enter the coefficient 'c':  8\n"
     ]
    },
    {
     "name": "stdout",
     "output_type": "stream",
     "text": [
      "The roots are complex: -0.6 + 1.1135528725660042i and -0.6 - 1.1135528725660042i\n"
     ]
    }
   ],
   "source": [
    "#18. Write a Python program to determine the roots of a quadratic equation using if-else.\n",
    "\n",
    "a = float(input(\"Enter the coefficient 'a': \"))\n",
    "b = float(input(\"Enter the coefficient 'b': \"))\n",
    "c = float(input(\"Enter the coefficient 'c': \"))\n",
    "\n",
    "discriminant = b**2 - 4*a*c\n",
    "if discriminant > 0:\n",
    "    root1 = (-b + (discriminant ** 0.5)) / (2 * a)\n",
    "    root2 = (-b - (discriminant ** 0.5)) / (2 * a)\n",
    "    print(f\"The roots are real and distinct: {root1} and {root2}\")\n",
    "elif discriminant == 0:\n",
    "    root = -b / (2 * a)\n",
    "    print(f\"There is one real root (repeated): {root}\")\n",
    "else:\n",
    "    real_part = -b / (2 * a)\n",
    "    imaginary_part = (abs(discriminant) ** 0.5) / (2 * a)\n",
    "    print(f\"The roots are complex: {real_part} + {imaginary_part}i and {real_part} - {imaginary_part}i\")"
   ]
  },
  {
   "cell_type": "code",
   "execution_count": 6,
   "id": "52e862b0-0a86-423b-b227-35c4536ed148",
   "metadata": {},
   "outputs": [
    {
     "name": "stdin",
     "output_type": "stream",
     "text": [
      "Enter a year:  2000\n"
     ]
    },
    {
     "name": "stdout",
     "output_type": "stream",
     "text": [
      "2000 is a century year.\n"
     ]
    }
   ],
   "source": [
    "#19. Create a Python program that checks if a given year is a century year or not using if-else.\n",
    "\n",
    "year = int(input(\"Enter a year: \"))\n",
    "if year % 100 == 0:\n",
    "    print(f\"{year} is a century year.\")\n",
    "else:\n",
    "    print(f\"{year} is not a century year.\")"
   ]
  },
  {
   "cell_type": "code",
   "execution_count": 7,
   "id": "372d0df8-2151-4d4f-bef2-9a5eeac14932",
   "metadata": {},
   "outputs": [
    {
     "name": "stdin",
     "output_type": "stream",
     "text": [
      "Enter a number:  5\n"
     ]
    },
    {
     "name": "stdout",
     "output_type": "stream",
     "text": [
      "5 is not a perfect square.\n"
     ]
    }
   ],
   "source": [
    "#20. Write a Python program to determine if a given number is a perfect square using if-else.\n",
    "\n",
    "num = int(input(\"Enter a number: \"))\n",
    "if num >= 0 and (num**0.5).is_integer():\n",
    "    print(f\"{num} is a perfect square.\")\n",
    "else:\n",
    "    print(f\"{num} is not a perfect square.\")"
   ]
  },
  {
   "cell_type": "code",
   "execution_count": 14,
   "id": "c59e8be7-f43a-4e9e-92f4-5bb5c45bd7ee",
   "metadata": {},
   "outputs": [
    {
     "name": "stdout",
     "output_type": "stream",
     "text": [
      "Example of Continue\n",
      "1\n",
      "2\n",
      "4\n",
      "5\n",
      "\n",
      "Example of Break\n",
      "1\n",
      "2\n"
     ]
    }
   ],
   "source": [
    "#21. Explain the purpose of the \"continue\" and \"break\" statements within if-else loops.\n",
    "\n",
    "print (\"Example of Continue\")\n",
    "for i in range(1, 6):\n",
    "    if i == 3:\n",
    "        continue  # Skip iteration 3\n",
    "    print(i)\n",
    "\n",
    "print (\"\\nExample of Break\")\n",
    "for i in range(1, 6):\n",
    "    if i == 3:\n",
    "        break  # Terminate the loop when i equals 3\n",
    "    print(i)    "
   ]
  },
  {
   "cell_type": "code",
   "execution_count": 16,
   "id": "a2f487ff-1cbb-440b-8252-2a9b6440ed94",
   "metadata": {},
   "outputs": [
    {
     "name": "stdin",
     "output_type": "stream",
     "text": [
      "Enter your weight in kilograms:  72\n",
      "Enter your height in meters:  1.71\n"
     ]
    },
    {
     "name": "stdout",
     "output_type": "stream",
     "text": [
      "Your BMI is: 24.62\n",
      "You are categorized as: Normal Weight\n"
     ]
    }
   ],
   "source": [
    "#22. Create a Python program that calculates the BMI (Body Mass Index) of a person based on their weight and height using if-else.\n",
    "\n",
    "weight_kg = float(input(\"Enter your weight in kilograms: \"))\n",
    "height_m = float(input(\"Enter your height in meters: \"))\n",
    "\n",
    "# Calculate BMI\n",
    "bmi = weight_kg / (height_m ** 2)\n",
    "\n",
    "# Interpret the BMI result\n",
    "if bmi < 18.5:\n",
    "    category = \"Underweight\"\n",
    "elif 18.5 <= bmi < 24.9:\n",
    "    category = \"Normal Weight\"\n",
    "elif 25 <= bmi < 29.9:\n",
    "    category = \"Overweight\"\n",
    "else:\n",
    "    category = \"Obese\"\n",
    "\n",
    "# Display the BMI and category\n",
    "print(f\"Your BMI is: {bmi:.2f}\")\n",
    "print(f\"You are categorized as: {category}\")\n"
   ]
  },
  {
   "cell_type": "code",
   "execution_count": 17,
   "id": "c2a7ab1f-43e4-429f-9287-96f0ee4b16b0",
   "metadata": {},
   "outputs": [
    {
     "name": "stdout",
     "output_type": "stream",
     "text": [
      "[2, 4, 6, 8, 10]\n"
     ]
    }
   ],
   "source": [
    "#23. How can you use the \"filter()\" function with if-else statements to filter elements from a list?\n",
    "\n",
    "numbers = [1, 2, 3, 4, 5, 6, 7, 8, 9, 10]\n",
    "def is_even(x):\n",
    "    if x % 2 == 0:\n",
    "        return True  # Include even numbers\n",
    "    else:\n",
    "        return False  # Exclude odd numbers\n",
    "\n",
    "filtered_numbers = filter(is_even, numbers)\n",
    "even_numbers = list(filtered_numbers)\n",
    "print(even_numbers)"
   ]
  },
  {
   "cell_type": "code",
   "execution_count": 18,
   "id": "94a9eee2-c89b-4d24-aeae-ac4d0d46b2c8",
   "metadata": {},
   "outputs": [
    {
     "name": "stdin",
     "output_type": "stream",
     "text": [
      "Enter a number:  10\n"
     ]
    },
    {
     "name": "stdout",
     "output_type": "stream",
     "text": [
      "10 is not a prime number.\n"
     ]
    }
   ],
   "source": [
    "#24. Write a Python program to determine if a given number is prime or not using if-else.\n",
    "\n",
    "num = int(input(\"Enter a number: \"))\n",
    "if num <= 1:\n",
    "    is_prime = False\n",
    "else:\n",
    "    is_prime = True\n",
    "    for i in range(2, int(num**0.5) + 1):\n",
    "        if num % i == 0:\n",
    "            is_prime = False\n",
    "            break\n",
    "\n",
    "if is_prime:\n",
    "    print(f\"{num} is a prime number.\")\n",
    "else:\n",
    "    print(f\"{num} is not a prime number.\")\n"
   ]
  },
  {
   "cell_type": "markdown",
   "id": "0ffdbf56-dad3-49fa-9f36-cbf9f8c6987a",
   "metadata": {},
   "source": [
    "Map"
   ]
  },
  {
   "cell_type": "code",
   "execution_count": 21,
   "id": "85a248be-a7c5-4171-8549-c7bef918ae04",
   "metadata": {},
   "outputs": [
    {
     "name": "stdout",
     "output_type": "stream",
     "text": [
      "[3, 4, 5, 6, 7]\n"
     ]
    }
   ],
   "source": [
    "#1. Explain the purpose of the `map()` function in Python and provide an example of how it can be used to apply a function to \n",
    "#  each element of an iterable.\n",
    "\n",
    "\n",
    "numbers = [1, 2, 3, 4, 5]\n",
    "squared_numbers = list(map(lambda x: x + 2, numbers))\n",
    "print(squared_numbers)"
   ]
  },
  {
   "cell_type": "code",
   "execution_count": 20,
   "id": "d8fb066a-26f8-4068-8f48-cc8180fec841",
   "metadata": {},
   "outputs": [
    {
     "name": "stdout",
     "output_type": "stream",
     "text": [
      "[1, 4, 9, 16, 25]\n"
     ]
    }
   ],
   "source": [
    "#2. Write a Python program that uses the `map()` function to square each element of a list of numbers.\n",
    "\n",
    "numbers = [1, 2, 3, 4, 5]\n",
    "squared_numbers = list(map(lambda x: x ** 2, numbers))\n",
    "print(squared_numbers)"
   ]
  },
  {
   "cell_type": "markdown",
   "id": "43f905fd-827a-4465-a38f-f1bbd808031b",
   "metadata": {},
   "source": [
    "#3. How does the `map()` function differ from a list comprehension in Python, and when would you choose one over the other?\n",
    "\n",
    "1. Use map() when:\n",
    "\n",
    "You want to apply a function to an iterable and obtain a map object or an iterator.\n",
    "You want to save memory because map() is lazy and doesn't compute all values at once.\n",
    "You need to apply the same function to multiple iterables simultaneously using map(func, iterable1, iterable2, ...). This can be useful for parallel processing.\n",
    "Use list comprehensions when:\n",
    "\n",
    "2. You want to create a new list from an existing iterable by applying an expression to each item.\n",
    "You prefer a more concise and readable syntax.\n",
    "You need the result as a list immediately, as list comprehensions are eagerly evaluated.\n",
    "You want to filter elements based on a condition while transforming them, which is easier with list comprehensions using an if clause."
   ]
  },
  {
   "cell_type": "code",
   "execution_count": 3,
   "id": "46b9b8d6-1170-4913-9e6d-93cf832d9322",
   "metadata": {},
   "outputs": [
    {
     "name": "stdout",
     "output_type": "stream",
     "text": [
      "Example for Lamdba\n",
      "[2, 4, 6, 8, 10]\n",
      "\n",
      "Example for Comprehensive\n",
      "[2, 4, 6, 8, 10]\n"
     ]
    }
   ],
   "source": [
    "\n",
    "print (\"Example for Lamdba\")\n",
    "numbers = [1, 2, 3, 4, 5]\n",
    "doubled = map(lambda x: x * 2, numbers)\n",
    "doubled_list = list(doubled)  # Convert the map object to a list\n",
    "print (doubled_list)\n",
    "\n",
    "print (\"\\nExample for Comprehensive\")\n",
    "numbers = [1, 2, 3, 4, 5]\n",
    "doubled = [x * 2 for x in numbers]\n",
    "print (doubled)\n"
   ]
  },
  {
   "cell_type": "code",
   "execution_count": 5,
   "id": "5d1a3c43-6d56-4a2e-bab3-82131adae734",
   "metadata": {},
   "outputs": [
    {
     "name": "stdout",
     "output_type": "stream",
     "text": [
      "After convert the list to uppercase :  ['PYTHON', 'DSA', 'JAVA', 'SPARK']\n"
     ]
    }
   ],
   "source": [
    "#4. Create a Python program that uses the `map()` function to convert a list of names to uppercase.\n",
    "\n",
    "l1 = [\"python\", \"dsa\", \"java\", \"spark\"]\n",
    "l2 = map(lambda x:x.upper(), l1)\n",
    "lst_upper = list(l2)\n",
    "print (\"After convert the list to uppercase : \",lst_upper)\n"
   ]
  },
  {
   "cell_type": "code",
   "execution_count": 10,
   "id": "2bb373d1-cece-4dff-8b4d-69e94202544a",
   "metadata": {},
   "outputs": [
    {
     "name": "stdout",
     "output_type": "stream",
     "text": [
      "Length of each word in a string :  [7, 2, 6, 5]\n"
     ]
    }
   ],
   "source": [
    "#5. Write a Python program that uses the `map()` function to calculate the length of each word in a list of strings.\n",
    "\n",
    "string = \"welcome to python class\"\n",
    "l1 = list(string.split())\n",
    "l2 = map(lambda x : len(x), l1)\n",
    "lst_len = list(l2)\n",
    "print (\"Length of each word in a string : \",lst_len)"
   ]
  },
  {
   "cell_type": "code",
   "execution_count": 11,
   "id": "dfeb72de-0767-4000-a523-7f9a3410681f",
   "metadata": {},
   "outputs": [
    {
     "name": "stdout",
     "output_type": "stream",
     "text": [
      "[11, 22, 33]\n"
     ]
    }
   ],
   "source": [
    "#6. How can you use the `map()` function to apply a custom function to elements of multiple lists simultaneously in Python?\n",
    "\n",
    "# Define a custom function that takes two arguments\n",
    "def custom_function(x, y):\n",
    "    return x + y\n",
    "\n",
    "\n",
    "list1 = [1, 2, 3]\n",
    "list2 = [10, 20, 30]\n",
    "result = map(custom_function, list1, list2)\n",
    "result_list = list(result)\n",
    "print(result_list) "
   ]
  },
  {
   "cell_type": "code",
   "execution_count": 15,
   "id": "fb8deb87-424c-4334-bfe2-41f449b9628e",
   "metadata": {},
   "outputs": [
    {
     "name": "stdout",
     "output_type": "stream",
     "text": [
      "Celsius Temperatures: [0, 10, 20, 30, 40]\n",
      "Fahrenheit Temperatures: [32.0, 50.0, 68.0, 86.0, 104.0]\n"
     ]
    }
   ],
   "source": [
    "#7. Create a Python program that uses `map()` to convert a list of temperatures from Celsius to Fahrenheit.\n",
    "\n",
    "\n",
    "celsius_temperatures = [0, 10, 20, 30, 40]\n",
    "fahrenheit_temperatures = map(lambda x : (x * 9/5) + 32, celsius_temperatures)\n",
    "fahrenheit_temperatures_list = list(fahrenheit_temperatures)\n",
    "\n",
    "print(\"Celsius Temperatures:\", celsius_temperatures)\n",
    "print(\"Fahrenheit Temperatures:\", fahrenheit_temperatures_list)"
   ]
  },
  {
   "cell_type": "code",
   "execution_count": 18,
   "id": "fe78978d-521a-4e22-be6a-133400a64830",
   "metadata": {},
   "outputs": [
    {
     "name": "stdout",
     "output_type": "stream",
     "text": [
      "Round the Element of a list from floating point to nearest integer is :  [13, 10, 11, 19, 24, 9]\n"
     ]
    }
   ],
   "source": [
    "#8. Write a Python program that uses the `map()` function to round each element of a list of floating-point numbers to the nearest integer.\n",
    "\n",
    "l1 = [12.6, 10, 11.2, 19.3, 24,9]\n",
    "after_round_element = list(map(lambda x : round(x),l1))\n",
    "print(\"Round the Element of a list from floating point to nearest integer is : \",after_round_element)"
   ]
  },
  {
   "cell_type": "markdown",
   "id": "9adfb3f2-592e-4fb2-b7cd-99fc880fbe28",
   "metadata": {},
   "source": [
    "Reduce"
   ]
  },
  {
   "cell_type": "code",
   "execution_count": 19,
   "id": "49aecf02-977b-41b6-a34b-b0aa2f850265",
   "metadata": {},
   "outputs": [
    {
     "name": "stdout",
     "output_type": "stream",
     "text": [
      "15\n"
     ]
    }
   ],
   "source": [
    "#1. What is the `reduce()` function in Python, and what module should you import to use it? Provide an example of its basic usage.\n",
    "\n",
    "####We import the reduce() function from the functools module.\n",
    "from functools import reduce\n",
    "\n",
    "def add(x, y):\n",
    "    return x + y\n",
    "\n",
    "numbers = [1, 2, 3, 4, 5]\n",
    "result = reduce(add, numbers)\n",
    "\n",
    "print(result) "
   ]
  },
  {
   "cell_type": "code",
   "execution_count": 23,
   "id": "51f44f43-f5c4-4a28-b6c4-a8e796ca21f0",
   "metadata": {},
   "outputs": [
    {
     "name": "stdout",
     "output_type": "stream",
     "text": [
      "Product of Numbers: 120\n"
     ]
    }
   ],
   "source": [
    "#2. Write a Python program that uses the `reduce()` function to find the product of all elements in a list.\n",
    "\n",
    "\n",
    "numbers = [1, 2, 3, 4, 5]\n",
    "product = reduce(lambda x,y : x*y, numbers)\n",
    "print(\"Product of Numbers:\", product)"
   ]
  },
  {
   "cell_type": "code",
   "execution_count": 3,
   "id": "33f821c3-ae87-4f4d-9d1e-1e2f5fe372d1",
   "metadata": {},
   "outputs": [
    {
     "name": "stdout",
     "output_type": "stream",
     "text": [
      "Maximum Number in the list is :  14\n"
     ]
    }
   ],
   "source": [
    "#3. Create a Python program that uses `reduce()` to find the maximum element in a list of numbers.\n",
    "from functools import reduce\n",
    "numbers = [1,2,8,3,14,2,3]\n",
    "maximum_num = reduce(lambda x, y : x if x > y else y, numbers)\n",
    "print (\"Maximum Number in the list is : \",maximum_num)"
   ]
  },
  {
   "cell_type": "code",
   "execution_count": 9,
   "id": "3f28d685-5f13-49c7-b552-9675339112d8",
   "metadata": {},
   "outputs": [
    {
     "name": "stdout",
     "output_type": "stream",
     "text": [
      "Concatenate list of string from a list is : welcome to python class\n"
     ]
    }
   ],
   "source": [
    "#4. How can you use the `reduce()` function to concatenate a list of strings into a single string?\n",
    "from functools import reduce\n",
    "str_lst = [\"welcome\", \"to\", \"python\", \"class\"]\n",
    "con_str = reduce(lambda x, y : x + \" \"+ y , str_lst)\n",
    "print (\"Concatenate list of string from a list is :\",con_str)"
   ]
  },
  {
   "cell_type": "code",
   "execution_count": 21,
   "id": "873fcab2-7380-42b5-a6a0-a1b21fcff9ed",
   "metadata": {},
   "outputs": [
    {
     "name": "stdout",
     "output_type": "stream",
     "text": [
      "The factorial of 5 is 120\n"
     ]
    }
   ],
   "source": [
    "#5. Write a Python program that calculates the factorial of a number using the `reduce()` function.\n",
    "from functools import reduce\n",
    "lst1 = list(range(1,6))\n",
    "factorial_num = reduce(lambda x, y : x * y, lst1)\n",
    "print(f\"The factorial of 5 is {factorial_num}\")"
   ]
  },
  {
   "cell_type": "code",
   "execution_count": 26,
   "id": "0ef1ab84-ce23-443f-a252-9b2b174b343d",
   "metadata": {},
   "outputs": [
    {
     "name": "stdout",
     "output_type": "stream",
     "text": [
      "GCD of Numbers: 12\n"
     ]
    }
   ],
   "source": [
    "#6. Create a Python program that uses `reduce()` to find the GCD (Greatest Common Divisor) of a list of numbers.\n",
    "from functools import reduce\n",
    "import math\n",
    "numbers = [36, 48, 60, 72, 96]\n",
    "gcd_result = reduce(lambda x, y : math.gcd(x, y), numbers)\n",
    "print(\"GCD of Numbers:\", gcd_result)"
   ]
  },
  {
   "cell_type": "code",
   "execution_count": 44,
   "id": "50fd6478-d44c-4409-912a-eb7cba067796",
   "metadata": {},
   "outputs": [
    {
     "name": "stdin",
     "output_type": "stream",
     "text": [
      "Enter the Number for finding the sum for given number :  6\n"
     ]
    },
    {
     "name": "stdout",
     "output_type": "stream",
     "text": [
      "Sum of numbers from 1 to 6 : 21\n"
     ]
    }
   ],
   "source": [
    "#7. Write a Python program that uses the `reduce()` function to find the sum of the digits of a given number.\n",
    "from functools import reduce\n",
    "given_number = int(input(\"Enter the Number for finding the sum for given number : \"))\n",
    "sum_no = reduce(lambda x, y: x + y, range(1, given_number + 1))\n",
    "print(\"Sum of numbers from 1 to\", given_number, \":\", sum_no)"
   ]
  },
  {
   "cell_type": "markdown",
   "id": "4707d730-e2a8-4f13-8502-55571c5ef449",
   "metadata": {},
   "source": [
    "Filter"
   ]
  },
  {
   "cell_type": "code",
   "execution_count": 35,
   "id": "268e6be2-7bbe-49a8-9c3b-84167cab4165",
   "metadata": {},
   "outputs": [
    {
     "name": "stdout",
     "output_type": "stream",
     "text": [
      "[1, 2, 3, 4, 5, 6]\n",
      "x -  1\n",
      "y-  2\n",
      "x -  3\n",
      "y-  3\n",
      "x -  6\n",
      "y-  4\n",
      "x -  10\n",
      "y-  5\n",
      "x -  15\n",
      "y-  6\n",
      "Number: 123456\n",
      "Sum of Digits: 21\n"
     ]
    }
   ],
   "source": [
    "#1. Explain the purpose of the `filter()` function in Python and provide an example of how it can be used to filter elements from an iterable.\n",
    "#2. Write a Python program that uses the `filter()` function to select even numbers from a list of integers.\n",
    "#3. Create a Python program that uses the `filter()` function to select names that start with a specific letter from a list of strings.\n",
    "#4. Write a Python program that uses the `filter()` function to select prime numbers from a list of integers.\n",
    "#5. How can you use the `filter()` function to remove None values from a list in Python?\n",
    "#6. Create a Python program that uses `filter()` to select words longer than a certain length from a list of strings.\n",
    "#7. Write a Python program that uses the `filter()` function to select elements greater than a specified threshold from a list of values.\n"
   ]
  },
  {
   "cell_type": "markdown",
   "id": "9259d8cd-1f1d-4f6e-929e-3aa306b5c900",
   "metadata": {},
   "source": [
    "Recursion"
   ]
  },
  {
   "cell_type": "markdown",
   "id": "4349a167-44c3-4808-9514-b1d4cd6e864c",
   "metadata": {},
   "source": [
    "#1. Explain the concept of recursion in Python. How does it differ from iteration?\n",
    "\n",
    "Recursion\n",
    "---------\n",
    "* Recursive functions have one or more base cases to prevent infinite recursion.\n",
    "* Recursive calls typically reduce the problem size towards the base case.\n",
    "* Each recursive call has its own scope and set of local variables.\n",
    "\n",
    "Where as Iteration\n",
    "------------------\n",
    "* Iteration is controlled by loop constructs such as for and while.\n",
    "* Typically have more control over the flow of iteration.\n",
    "* Iteration uses a loop variable to keep track of the current position."
   ]
  },
  {
   "cell_type": "code",
   "execution_count": 1,
   "id": "dbfa1274-363a-4896-bb87-713478abf91c",
   "metadata": {},
   "outputs": [
    {
     "name": "stdout",
     "output_type": "stream",
     "text": [
      "The factorial of 5 is 120\n"
     ]
    }
   ],
   "source": [
    "#2. Write a Python program to calculate the factorial of a number using recursion.\n",
    "\n",
    "def factorial_recursive(n):\n",
    "    if n == 0:\n",
    "        return 1  # Base case: 0! = 1\n",
    "    else:\n",
    "        return n * factorial_recursive(n - 1)\n",
    "\n",
    "result = factorial_recursive(5)\n",
    "print(f\"The factorial of 5 is {result}\")"
   ]
  },
  {
   "cell_type": "code",
   "execution_count": 2,
   "id": "a16e5015-71a8-4cb7-b618-ad3b3e830e7c",
   "metadata": {},
   "outputs": [
    {
     "name": "stdout",
     "output_type": "stream",
     "text": [
      "The 10-th Fibonacci number is 55\n"
     ]
    }
   ],
   "source": [
    "#3. Create a recursive Python function to find the nth Fibonacci number.\n",
    "\n",
    "def fibonacci_recursive(n):\n",
    "    if n <= 0:\n",
    "        return 0 \n",
    "    elif n == 1:\n",
    "        return 1 \n",
    "    else:\n",
    "        return fibonacci_recursive(n - 1) + fibonacci_recursive(n - 2)\n",
    "\n",
    "n = 10\n",
    "result = fibonacci_recursive(n)\n",
    "print(f\"The {n}-th Fibonacci number is {result}\")\n"
   ]
  },
  {
   "cell_type": "code",
   "execution_count": 7,
   "id": "4272408a-6571-439e-b7f1-5fd89604e4d9",
   "metadata": {},
   "outputs": [
    {
     "name": "stdout",
     "output_type": "stream",
     "text": [
      "Sum of all elements in a list :  15\n"
     ]
    }
   ],
   "source": [
    "#4. Write a recursive Python function to calculate the sum of all elements in a list.\n",
    "\n",
    "def recursive_sum(lst):\n",
    "    if len(lst) == 0:\n",
    "        return 0 \n",
    "    else:\n",
    "        return lst[0] + recursive_sum(lst[1:])\n",
    "\n",
    "lst = [1, 2, 3, 4, 5]\n",
    "result = recursive_sum(lst)\n",
    "print(\"Sum of all elements in a list : \",result)"
   ]
  },
  {
   "cell_type": "markdown",
   "id": "579b8df1-e0f6-4240-ae1a-fc48e807c839",
   "metadata": {},
   "source": [
    "#5. How can you prevent a recursive function from running indefinitely, causing a stack overflow error?\n",
    "\n",
    "\n",
    "To prevent a recursive function from running indefinitely and causing a stack overflow error, you should include one or more base cases in your recursive function. Base cases are conditions under which the recursion should stop and return a result directly, without making further recursive calls. Properly defined base cases are essential for the termination of recursive algorithms."
   ]
  },
  {
   "cell_type": "code",
   "execution_count": 9,
   "id": "d6337df0-cf90-44a4-8994-8e40bac44adf",
   "metadata": {},
   "outputs": [
    {
     "name": "stdout",
     "output_type": "stream",
     "text": [
      "The GCD of 48 and 18 is 6\n"
     ]
    }
   ],
   "source": [
    "#6. Create a recursive Python function to find the greatest common divisor (GCD) of two numbers using the Euclidean algorithm.\n",
    "\n",
    "\n",
    "def gcd_recursive(a, b):\n",
    "    if b == 0:\n",
    "        return a\n",
    "    else:\n",
    "        return gcd_recursive(b, a % b)\n",
    "\n",
    "num1 = 48\n",
    "num2 = 18\n",
    "\n",
    "result = gcd_recursive(num1, num2)\n",
    "print(f\"The GCD of {num1} and {num2} is {result}\")"
   ]
  },
  {
   "cell_type": "code",
   "execution_count": 11,
   "id": "2c343343-eb32-41e5-86bb-cf472af6c803",
   "metadata": {},
   "outputs": [
    {
     "name": "stdout",
     "output_type": "stream",
     "text": [
      "Reversed String is :  nohtyp\n"
     ]
    }
   ],
   "source": [
    "#7. Write a recursive Python function to reverse a string.\n",
    "\n",
    "def reverse_recursive(s):\n",
    "    if len(s) <= 1:\n",
    "        return s\n",
    "    else:\n",
    "        return reverse_recursive(s[1:]) + s[0]\n",
    "\n",
    "string = \"python\"\n",
    "result = reverse_recursive(string)\n",
    "print(\"Reversed String is : \",result)\n"
   ]
  },
  {
   "cell_type": "code",
   "execution_count": 12,
   "id": "52054824-d412-4794-a05a-f8fa588eeb22",
   "metadata": {},
   "outputs": [
    {
     "name": "stdout",
     "output_type": "stream",
     "text": [
      "2 raised to the power 3 is 8\n"
     ]
    }
   ],
   "source": [
    "#8. Create a recursive Python function to calculate the power of a number (x^n).\n",
    "\n",
    "def power(x, n):\n",
    "    if n == 0:\n",
    "        return 1  # x^0 is 1\n",
    "    elif n < 0:\n",
    "        return 1 / power(x, -n)  # Handle negative exponents\n",
    "    else:\n",
    "        return x * power(x, n - 1)\n",
    "\n",
    "x = 2\n",
    "n = 3\n",
    "result = power(x, n)\n",
    "print(f\"{x} raised to the power {n} is {result}\")\n"
   ]
  },
  {
   "cell_type": "code",
   "execution_count": 13,
   "id": "bd9fa9dc-3ead-4171-8764-9787c5b4ca83",
   "metadata": {},
   "outputs": [
    {
     "name": "stdout",
     "output_type": "stream",
     "text": [
      "abc\n",
      "acb\n",
      "bac\n",
      "bca\n",
      "cab\n",
      "cba\n"
     ]
    }
   ],
   "source": [
    "#9. Write a recursive Python function to find all permutations of a given string.\n",
    "def get_permutations(s):\n",
    "    if len(s) == 1:\n",
    "        return [s]  # Base case: A single character has only one permutation\n",
    "\n",
    "    # Initialize the list to store permutations\n",
    "    permutations = []\n",
    "\n",
    "    # Iterate through each character in the string\n",
    "    for i, char in enumerate(s):\n",
    "        # Generate permutations for the remaining characters\n",
    "        rest = s[:i] + s[i+1:]\n",
    "        for perm in get_permutations(rest):\n",
    "            permutations.append(char + perm)\n",
    "\n",
    "    return permutations\n",
    "\n",
    "# Example usage:\n",
    "input_string = \"abc\"\n",
    "result = get_permutations(input_string)\n",
    "for perm in result:\n",
    "    print(perm)\n"
   ]
  },
  {
   "cell_type": "code",
   "execution_count": 14,
   "id": "c189221f-0f9f-4776-b836-a2fbf3eddc34",
   "metadata": {},
   "outputs": [
    {
     "name": "stdout",
     "output_type": "stream",
     "text": [
      "racecar is a palindrome.\n"
     ]
    }
   ],
   "source": [
    "#10. Write a recursive Python function to check if a string is a palindrome.\n",
    "\n",
    "\n",
    "def is_palindrome(s):\n",
    "    if len(s) <= 1:\n",
    "        return True\n",
    "\n",
    "    if s[0] == s[-1]:\n",
    "        return is_palindrome(s[1:-1])\n",
    "    else:\n",
    "        return False\n",
    "\n",
    "input_string = \"racecar\"\n",
    "result = is_palindrome(input_string)\n",
    "\n",
    "if result:\n",
    "    print(f\"{input_string} is a palindrome.\")\n",
    "else:\n",
    "    print(f\"{input_string} is not a palindrome.\")\n"
   ]
  },
  {
   "cell_type": "code",
   "execution_count": 15,
   "id": "5c496493-f395-4cca-b9f5-19e92ec61bb8",
   "metadata": {},
   "outputs": [
    {
     "name": "stdout",
     "output_type": "stream",
     "text": [
      "[1, 2, 3]\n",
      "[1, 2]\n",
      "[1, 3]\n",
      "[1]\n",
      "[2, 3]\n",
      "[2]\n",
      "[3]\n",
      "[]\n"
     ]
    }
   ],
   "source": [
    "#11. Create a recursive Python function to generate all possible combinations of a list of elements.\n",
    "\n",
    "def generate_combinations(elements):\n",
    "    def helper(current_combination, remaining_elements, index):\n",
    "        if index == len(elements):\n",
    "            combinations.append(current_combination)\n",
    "            return\n",
    "        \n",
    "        helper(current_combination + [elements[index]], remaining_elements[1:], index + 1)        \n",
    "        helper(current_combination, remaining_elements[1:], index + 1)\n",
    "    \n",
    "    combinations = []\n",
    "    helper([], elements, 0)  # Start the recursion with an empty combination, all elements, and index 0.\n",
    "    return combinations\n",
    "\n",
    "input_elements = [1, 2, 3]\n",
    "result = generate_combinations(input_elements)\n",
    "for combination in result:\n",
    "    print(combination)\n"
   ]
  },
  {
   "cell_type": "markdown",
   "id": "16205109-ff54-4ac4-9a46-19e070635dda",
   "metadata": {},
   "source": [
    "Basics of Functions"
   ]
  },
  {
   "cell_type": "markdown",
   "id": "ac81ff4b-df33-4b8a-8280-c8558e7e6f79",
   "metadata": {},
   "source": [
    "#1. What is a function in Python, and why is it used?\n",
    "\n",
    "In Python, a function is a reusable block of code that performs a specific task or set of tasks. Functions are used to organize and modularize code, making it more readable, maintainable, and efficient. Functions are a fundamental concept in programming \n",
    "\n",
    "Functions are a fundamental building block in Python and are essential for structuring and organizing your code effectively. They enhance code readability, maintainability, and reusability, making programming tasks more efficient and manageable."
   ]
  },
  {
   "cell_type": "code",
   "execution_count": 17,
   "id": "2886fc4e-b21d-4144-9626-57eb28e81b9a",
   "metadata": {},
   "outputs": [
    {
     "name": "stdout",
     "output_type": "stream",
     "text": [
      "7\n"
     ]
    }
   ],
   "source": [
    "#2. How do you define a function in Python? Provide an example.\n",
    "\n",
    "def test(a,b):\n",
    "    return a+b\n",
    "\n",
    "print(test(4,3))"
   ]
  },
  {
   "cell_type": "markdown",
   "id": "539a2a8d-0ea2-488e-9fb7-1c3b4a998a81",
   "metadata": {},
   "source": [
    "#3. Explain the difference between a function definition and a function call.\n",
    "\n",
    "A function definition is where you create and specify the behavior of a function, including its name, parameters, and code. \n",
    "\n",
    "A function call, on the other hand, is when you invoke the defined function to execute the code within it, passing any necessary arguments. Functions are defined once and can be called multiple times in different parts of your program to perform specific tasks."
   ]
  },
  {
   "cell_type": "code",
   "execution_count": 18,
   "id": "9913cadb-ef34-4b40-864d-9600a80e7be7",
   "metadata": {},
   "outputs": [
    {
     "name": "stdout",
     "output_type": "stream",
     "text": [
      "7\n"
     ]
    }
   ],
   "source": [
    "#4. Write a Python program that defines a function to calculate the sum of two numbers and then calls the function.\n",
    "def test(a,b):\n",
    "    return a+b\n",
    "\n",
    "print(test(4,3))"
   ]
  },
  {
   "cell_type": "markdown",
   "id": "09caae2f-126d-439a-8a97-0760628243ad",
   "metadata": {},
   "source": [
    "#5. What is a function signature, and what information does it typically include?\n",
    "\n",
    "\n",
    "A function signature is a fundamental concept in programming that provides a concise summary of a function's key information and characteristics, Typically includes Function Name, Parameters, Return Type and Access Modifiers\n",
    "\n",
    "Where as the function signature summarizes the essential information about the function, making it clear how to use the function and what to expect in terms of input and output. It serves as documentation and helps developers understand the function's purpose and behavior without needing to examine its full implementation.\n",
    "\n",
    "example : def add_numbers(a: int, b: int) -> int:\n"
   ]
  },
  {
   "cell_type": "code",
   "execution_count": 1,
   "id": "3d942c5e-5fc6-482f-9753-8239904741e2",
   "metadata": {},
   "outputs": [
    {
     "name": "stdout",
     "output_type": "stream",
     "text": [
      "12\n"
     ]
    }
   ],
   "source": [
    "#6. Create a Python function that takes two arguments and returns their product.\n",
    "\n",
    "def multiply(a, b):\n",
    "    return a * b\n",
    "\n",
    "result = multiply(3, 4)\n",
    "print(result) "
   ]
  },
  {
   "cell_type": "markdown",
   "id": "92e3104b-5320-432f-936f-01b5c4391201",
   "metadata": {},
   "source": [
    "Function Parameters and Arguments"
   ]
  },
  {
   "cell_type": "markdown",
   "id": "f55eb8bc-7fd3-47a1-b0cb-b5effbf8638c",
   "metadata": {},
   "source": [
    "#1. Explain the concepts of formal parameters and actual arguments in Python functions.\n",
    "Formal Parameters:\n",
    "\n",
    "1.Definition: Formal parameters are placeholders or variables used in the function definition to specify the names and types of arguments that the function expects to receive when it is called.\n",
    "2.Location: They are defined within the parentheses of the function's header.\n",
    "3.Purpose: Formal parameters define the structure and expectations of the function but do not have values until the function is called.\n",
    "\n",
    "Example:\n",
    "def add_numbers(a, b):  # 'a' and 'b' are formal parameters\n",
    "    return a + b\n",
    "\n",
    "Actual Arguments (Arguments):\n",
    "\n",
    "Definition: Actual arguments, often referred to as \"arguments\" for short, are the values or expressions that are provided to the function when it is called. These values are substituted for the formal parameters.\n",
    "Location: Actual arguments are passed to the function when calling it.\n",
    "Purpose: They supply the necessary data or values to the function so that it can perform its task.\n",
    "\n",
    "Example:\n",
    "result = add_numbers(3, 4)  # '3' and '4' are actual arguments\n",
    "    "
   ]
  },
  {
   "cell_type": "code",
   "execution_count": 2,
   "id": "203270f5-d231-43d4-b938-abfb9c49c7d2",
   "metadata": {},
   "outputs": [
    {
     "data": {
      "text/plain": [
       "(10, 3, 20)"
      ]
     },
     "execution_count": 2,
     "metadata": {},
     "output_type": "execute_result"
    }
   ],
   "source": [
    "#2. Write a Python program that defines a function with default argument values.\n",
    "\n",
    "def test(b, a=10,c=20):\n",
    "    return a,b,c\n",
    "\n",
    "test(3)"
   ]
  },
  {
   "cell_type": "code",
   "execution_count": 3,
   "id": "c4b9b963-381f-46cf-9fb8-6c4d0c755f35",
   "metadata": {},
   "outputs": [
    {
     "name": "stdout",
     "output_type": "stream",
     "text": [
      "Final price: 98.0\n"
     ]
    }
   ],
   "source": [
    "#3. How do you use keyword arguments in Python function calls? Provide an example.\n",
    "\n",
    "def calculate_total(price, tax_rate, discount=0):\n",
    "    total = price + (price * tax_rate) - discount\n",
    "    return total\n",
    "\n",
    "# Using keyword arguments\n",
    "final_price = calculate_total(price=100, tax_rate=0.08, discount=10)\n",
    "\n",
    "# Printing the result\n",
    "print(\"Final price:\", final_price)\n"
   ]
  },
  {
   "cell_type": "code",
   "execution_count": 4,
   "id": "789266b2-a6a2-4b18-8991-e1d221dc772d",
   "metadata": {},
   "outputs": [
    {
     "name": "stdout",
     "output_type": "stream",
     "text": [
      "Sum: 15\n"
     ]
    }
   ],
   "source": [
    "#4. Create a Python function that accepts a variable number of arguments and calculates their sum.\n",
    "\n",
    "\n",
    "def calculate_sum(*args):\n",
    "    total = 0\n",
    "    for num in args:\n",
    "        total += num\n",
    "    return total\n",
    "\n",
    "\n",
    "result = calculate_sum(1, 2, 3, 4, 5)\n",
    "print(\"Sum:\", result)  "
   ]
  },
  {
   "cell_type": "markdown",
   "id": "039daa7c-4336-413a-9306-332f5f890bdd",
   "metadata": {},
   "source": [
    "#5. What is the purpose of the `*args` and `**kwargs` syntax in function parameter lists?\n",
    "\n",
    "*args (Arbitrary Positional Arguments):\n",
    "\n",
    "Purpose: *args allows you to pass a variable number of non-keyword (positional) arguments to a function.\n",
    "Usage: You use *args as a parameter in a function definition to collect all positional arguments beyond the explicitly defined ones into a tuple named args. This means you can call the function with any number of positional arguments, and they will be gathered into the args tuple.\n",
    "\n",
    "\n",
    "**kwargs (Arbitrary Keyword Arguments):\n",
    "\n",
    "Purpose: **kwargs allows you to pass a variable number of keyword arguments (key-value pairs) to a function.\n",
    "Usage: You use **kwargs as a parameter in a function definition to collect all keyword arguments (including their values) into a dictionary named kwargs. This allows you to call the function with any number of keyword arguments, and they will be gathered into the kwargs dictionary.\n"
   ]
  },
  {
   "cell_type": "markdown",
   "id": "5ec4cbb2-c5e7-483c-b2cd-c4f866486ed3",
   "metadata": {},
   "source": [
    "Return Values and Scoping"
   ]
  },
  {
   "cell_type": "markdown",
   "id": "74541917-73fc-4d63-ace6-aae3ead1ff22",
   "metadata": {},
   "source": [
    "#1. Describe the role of the `return` statement in Python functions and provide examples.\n",
    "-----------------------------------------------------------------------------------------\n",
    "\n",
    "\n",
    "The return statement is used to provide a result from the function back to the caller.\n",
    "The function's execution is terminated as soon as a return statement is encountered.\n",
    "Each function returns a value based on the provided arguments and logic."
   ]
  },
  {
   "cell_type": "markdown",
   "id": "7209f222-f0ca-40ab-9722-195f83ed6b4d",
   "metadata": {},
   "source": [
    "#2. Explain the concept of variable scope in Python, including local and global variables.\n",
    "-----------------------------------------------------------------------------------------\n",
    "Local scope refers to variables that are defined within a specific function. These variables are only accessible within the function where they are defined and have no meaning or existence outside of that function.\n",
    "\n",
    "Global scope refers to variables that are defined at the top level of a script or module. These variables are accessible throughout the entire script or module, including within functions, unless they are explicitly marked as global within a function."
   ]
  },
  {
   "cell_type": "markdown",
   "id": "6f26d470-5d63-4ff9-9fd3-f35466e6ef25",
   "metadata": {},
   "source": [
    "#3. Write a Python program that demonstrates the use of global variables within functions.\n",
    "------------------------------------------------------------------------------------------\n",
    "\n",
    "\n",
    "Local variables have a limited lifetime, which begins when the function is called and ends when the function completes execution. Once the function exits, the local variables are destroyed, and their values are lost.\n",
    "\n",
    "Global variables have a longer lifetime and persist as long as the program is running. They are initialized when the script or module is loaded and exist until the program terminates."
   ]
  },
  {
   "cell_type": "code",
   "execution_count": 6,
   "id": "84f8e4fd-98fa-49b3-b137-b2a2af28db0b",
   "metadata": {},
   "outputs": [
    {
     "name": "stdout",
     "output_type": "stream",
     "text": [
      "The factorial of 5 is 120\n"
     ]
    }
   ],
   "source": [
    "#4. Create a Python function that calculates the factorial of a number and returns it.\n",
    "\n",
    "\n",
    "def factorial_recursive(n):\n",
    "    if n == 0:\n",
    "        return 1  # Base case: 0! = 1\n",
    "    else:\n",
    "        return n * factorial_recursive(n - 1)\n",
    "\n",
    "result = factorial_recursive(5)\n",
    "print(f\"The factorial of 5 is {result}\")"
   ]
  },
  {
   "cell_type": "markdown",
   "id": "921bc2f5-d6af-48d7-8f2f-630dc3f720b7",
   "metadata": {},
   "source": [
    "#5. How can you access variables defined outside a function from within the function?\n",
    "-------------------------------------------------------------------------------------\n",
    "\n",
    "By using Global Value"
   ]
  },
  {
   "cell_type": "markdown",
   "id": "796c044f-9610-4bce-9c97-ef1cb362f5d2",
   "metadata": {},
   "source": [
    "Lambda Functions and Higher-Order Functions"
   ]
  },
  {
   "cell_type": "markdown",
   "id": "724de92d-73cc-4235-bce8-60535971ac6e",
   "metadata": {},
   "source": [
    "#1. What are lambda functions in Python, and when are they typically used?\n",
    "\n",
    "Lambda functions in Python, also known as anonymous functions or lambda expressions, are a way to create small, unnamed functions without using the def keyword. They are typically used for short, simple operations where a full function definition would be overly verbose."
   ]
  },
  {
   "cell_type": "code",
   "execution_count": 7,
   "id": "f8765d60-016e-424d-8264-a2c63a17eb26",
   "metadata": {},
   "outputs": [
    {
     "name": "stdout",
     "output_type": "stream",
     "text": [
      "[(7, 2), (1, 4), (2, 5), (3, 8)]\n"
     ]
    }
   ],
   "source": [
    "#2. Write a Python program that uses lambda functions to sort a list of tuples based on the second element.\n",
    "\n",
    "\n",
    "# List of tuples\n",
    "data = [(3, 8), (1, 4), (7, 2), (2, 5)]\n",
    "\n",
    "# Sort the list based on the second element of each tuple using a lambda function\n",
    "sorted_data = sorted(data, key=lambda x: x[1])\n",
    "\n",
    "# Print the sorted list\n",
    "print(sorted_data)\n"
   ]
  },
  {
   "cell_type": "code",
   "execution_count": 8,
   "id": "03b185f4-5655-4f99-a273-7366d6397014",
   "metadata": {},
   "outputs": [
    {
     "name": "stdout",
     "output_type": "stream",
     "text": [
      "[1, 4, 9, 16, 25]\n"
     ]
    }
   ],
   "source": [
    "#3. Explain the concept of higher-order functions in Python, and provide an example.\n",
    "\n",
    "# Define a function that squares a number\n",
    "def square(x):\n",
    "    return x ** 2\n",
    "\n",
    "# Create a list of numbers\n",
    "numbers = [1, 2, 3, 4, 5]\n",
    "\n",
    "# Use the map() higher-order function to apply the square function to each number\n",
    "squared_numbers = map(square, numbers)\n",
    "\n",
    "# Convert the result to a list and print it\n",
    "squared_numbers_list = list(squared_numbers)\n",
    "print(squared_numbers_list)\n"
   ]
  },
  {
   "cell_type": "code",
   "execution_count": 9,
   "id": "3703b46c-5a85-4822-9233-70d4bee7a5d5",
   "metadata": {},
   "outputs": [
    {
     "name": "stdout",
     "output_type": "stream",
     "text": [
      "Doubled numbers: [2, 4, 6, 8, 10]\n",
      "Squared numbers: [1, 4, 9, 16, 25]\n"
     ]
    }
   ],
   "source": [
    "#4. Create a Python function that takes a list of numbers and a function as arguments, applying the function to each element in the list.\n",
    "\n",
    "def apply_function_to_list(numbers, func):\n",
    "    result = []\n",
    "    for number in numbers:\n",
    "        result.append(func(number))\n",
    "    return result\n",
    "\n",
    "numbers = [1, 2, 3, 4, 5]\n",
    "\n",
    "def double(x):\n",
    "    return x * 2\n",
    "\n",
    "doubled_numbers = apply_function_to_list(numbers, double)\n",
    "print(\"Doubled numbers:\", doubled_numbers)\n",
    "\n",
    "def square(x):\n",
    "    return x ** 2\n",
    "\n",
    "squared_numbers = apply_function_to_list(numbers, square)\n",
    "print(\"Squared numbers:\", squared_numbers)\n"
   ]
  },
  {
   "cell_type": "markdown",
   "id": "08f2847a-8419-4b0e-986f-706686203baf",
   "metadata": {},
   "source": [
    "Built-in Functions"
   ]
  },
  {
   "cell_type": "code",
   "execution_count": 75,
   "id": "79e0de65-a272-42ed-a584-0eea2f04ff4e",
   "metadata": {},
   "outputs": [],
   "source": [
    "#1. Describe the role of built-in functions like `len()`, `max()`, and `min()` in Python.\n",
    "\n",
    "len - use to find the length of a "
   ]
  },
  {
   "cell_type": "markdown",
   "id": "d89418b1-490a-4cad-bff5-4b3e38958722",
   "metadata": {},
   "source": [
    "#2. Write a Python program that uses the `map()` function to apply a function to each element of a list.\n",
    "\n",
    "The len() function is used to determine the length or the number of elements in an iterable, such as a string, list, tuple, dictionary, or set.\n",
    "\n",
    "The max() function is used to find the maximum value within an iterable or a set of values. You can specify an optional key function to customize how the maximum value is determined. Additionally, you can provide a default value that is returned if the iterable is empty.\n",
    "\n",
    "The min() function is similar to max(), but it finds the minimum value within an iterable or a set of values. You can also specify a key function and a default value."
   ]
  },
  {
   "cell_type": "code",
   "execution_count": 10,
   "id": "6c49304c-c27f-422e-a86a-548c0320a2a9",
   "metadata": {},
   "outputs": [
    {
     "name": "stdout",
     "output_type": "stream",
     "text": [
      "[2, 4, 6, 8, 10]\n"
     ]
    }
   ],
   "source": [
    "#3. How does the `filter()` function work in Python, and when would you use it?\n",
    "\n",
    "def is_even(x):\n",
    "    return x % 2 == 0\n",
    "\n",
    "numbers = [1, 2, 3, 4, 5, 6, 7, 8, 9, 10]\n",
    "\n",
    "filtered_numbers = filter(is_even, numbers)\n",
    "even_numbers = list(filtered_numbers)\n",
    "\n",
    "print(even_numbers) \n"
   ]
  },
  {
   "cell_type": "code",
   "execution_count": 11,
   "id": "9f68363e-4016-43cd-8a3e-c7d1d7bb0325",
   "metadata": {},
   "outputs": [
    {
     "name": "stdout",
     "output_type": "stream",
     "text": [
      "Product of all elements: 120\n"
     ]
    }
   ],
   "source": [
    "#4. Create a Python program that uses the `reduce()` function to find the product of all elements in a list.\n",
    "\n",
    "from functools import reduce\n",
    "\n",
    "def multiply(x, y):\n",
    "    return x * y\n",
    "\n",
    "numbers = [1, 2, 3, 4, 5]\n",
    "product = reduce(multiply, numbers)\n",
    "print(\"Product of all elements:\", product)"
   ]
  },
  {
   "cell_type": "markdown",
   "id": "41018873-57fa-4ed1-af09-308232c8d863",
   "metadata": {},
   "source": [
    "Function Documentation and Best Practices"
   ]
  },
  {
   "cell_type": "markdown",
   "id": "1ef10447-cc20-405f-a49a-34a3769d5f30",
   "metadata": {},
   "source": [
    "#1. Explain the purpose of docstrings in Python functions and how to write them.\n",
    "-------------------------------------------------------------------------------\n",
    "\n",
    "Docstrings in Python are used to provide documentation and information about functions, modules, classes, and methods. They serve as human-readable descriptions that explain what the code does, how to use it, and any additional information that can help developers understand and work with the code effectively. Docstrings are an essential part of writing clear and maintainable Python code"
   ]
  },
  {
   "cell_type": "markdown",
   "id": "75c8b7f2-5f53-4cd2-8d32-fefac25a05d7",
   "metadata": {},
   "source": [
    "#2. Describe some best practices for naming functions and variables in Python, including naming conventions and guidelines.\n",
    "---------------------------------------------------------------------------------------------------------------------------\n",
    "\n",
    "Naming functions and variables in Python is essential for writing clean, readable, and maintainable code. Following consistent naming conventions and guidelines is crucial for making your code more understandable to yourself and other developers."
   ]
  }
 ],
 "metadata": {
  "kernelspec": {
   "display_name": "Python 3 (ipykernel)",
   "language": "python",
   "name": "python3"
  },
  "language_info": {
   "codemirror_mode": {
    "name": "ipython",
    "version": 3
   },
   "file_extension": ".py",
   "mimetype": "text/x-python",
   "name": "python",
   "nbconvert_exporter": "python",
   "pygments_lexer": "ipython3",
   "version": "3.10.8"
  }
 },
 "nbformat": 4,
 "nbformat_minor": 5
}
