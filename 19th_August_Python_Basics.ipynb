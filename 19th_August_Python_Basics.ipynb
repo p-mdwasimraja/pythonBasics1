{
 "cells": [
  {
   "cell_type": "code",
   "execution_count": 1,
   "id": "e0a211f6-35ea-492e-b965-49dbad74e5eb",
   "metadata": {},
   "outputs": [
    {
     "name": "stdout",
     "output_type": "stream",
     "text": [
      "Value of a is :  5\n",
      "Value of b is :  10\n"
     ]
    }
   ],
   "source": [
    "#Declare two variables, `x` and `y`, and assign them integer values. Swap the\n",
    "#values of these variables without using any temporary variable.\n",
    "\n",
    "\n",
    "a = 10\n",
    "b = 5\n",
    "\n",
    "a = a ^ b\n",
    "b = a ^ b\n",
    "a = a ^ b\n",
    "\n",
    "print (\"Value of a is : \",a)\n",
    "print (\"Value of b is : \",b)"
   ]
  },
  {
   "cell_type": "code",
   "execution_count": 3,
   "id": "e6aa3cf9-69f0-481c-8336-21504a27e005",
   "metadata": {},
   "outputs": [
    {
     "name": "stdin",
     "output_type": "stream",
     "text": [
      "Enter the value for Length :  10\n",
      "Enter the value for Width :  2\n"
     ]
    },
    {
     "name": "stdout",
     "output_type": "stream",
     "text": [
      "The Area of Rectangle is :  20.0\n"
     ]
    }
   ],
   "source": [
    "#Create a program that calculates the area of a rectangle. Take the length and width as inputs from the user and store them in variables. Calculate and\n",
    "#display the area.\n",
    "\n",
    "len_val = float(input(\"Enter the value for Length : \"))\n",
    "wid_val = float(input(\"Enter the value for Width : \"))\n",
    "\n",
    "area = len_val * wid_val\n",
    "print (\"The Area of Rectangle is : \",area)"
   ]
  },
  {
   "cell_type": "code",
   "execution_count": 4,
   "id": "552e632e-1acb-451e-a0c8-2ace218c5c8d",
   "metadata": {},
   "outputs": [
    {
     "name": "stdin",
     "output_type": "stream",
     "text": [
      "Enter temperature in Celsius:  40\n"
     ]
    },
    {
     "name": "stdout",
     "output_type": "stream",
     "text": [
      "40.0°C is equal to 104.0°F.\n"
     ]
    }
   ],
   "source": [
    "#Write a Python program that converts temperatures from Celsius to Fahrenheit. Take the temperature in Celsius as input, store it in a variable,\n",
    "#convert it to Fahrenheit, and display the result.\n",
    "\n",
    "celsius = float(input(\"Enter temperature in Celsius: \"))\n",
    "fahrenheit = (celsius * 9/5) + 32\n",
    "\n",
    "print(f\"{celsius}°C is equal to {fahrenheit}°F.\")"
   ]
  },
  {
   "cell_type": "code",
   "execution_count": 5,
   "id": "01017d05-ed9b-4063-a579-80b20758ef69",
   "metadata": {},
   "outputs": [
    {
     "name": "stdin",
     "output_type": "stream",
     "text": [
      "Enter the Value of calculating Length :  Welcome to Python\n"
     ]
    },
    {
     "name": "stdout",
     "output_type": "stream",
     "text": [
      "Length of the Entered value is :  17\n"
     ]
    }
   ],
   "source": [
    "#Write a Python program that takes a string as input and prints the length of the string.\n",
    "str_val = str(input(\"Enter the Value of calculating Length : \"))\n",
    "len_val = len(str_val)\n",
    "\n",
    "print(\"Length of the Entered value is : \",len_val)"
   ]
  },
  {
   "cell_type": "code",
   "execution_count": 6,
   "id": "a6d7bf93-2515-4adf-a6ed-5fda1843d6ec",
   "metadata": {},
   "outputs": [
    {
     "name": "stdin",
     "output_type": "stream",
     "text": [
      "Enter a sentence:  Welcome to Python Course\n"
     ]
    },
    {
     "name": "stdout",
     "output_type": "stream",
     "text": [
      "The number of vowels in the sentence is: 8\n"
     ]
    }
   ],
   "source": [
    "#Create a program that takes a sentence from the user and counts the number of vowels (a, e, i, o, u) in the string.\n",
    "\n",
    "sentence = input(\"Enter a sentence: \")\n",
    "vowel_count = 0\n",
    "vowels = \"aeiouAEIOU\"\n",
    "\n",
    "for char in sentence:\n",
    "    #print (char)\n",
    "    if char in vowels:\n",
    "        vowel_count += 1\n",
    "\n",
    "print(f\"The number of vowels in the sentence is: {vowel_count}\")"
   ]
  },
  {
   "cell_type": "code",
   "execution_count": 7,
   "id": "664e50c2-6b5a-4205-9c2f-71e447762211",
   "metadata": {},
   "outputs": [
    {
     "name": "stdin",
     "output_type": "stream",
     "text": [
      "Enter a sentence:  pyskills\n"
     ]
    },
    {
     "name": "stdout",
     "output_type": "stream",
     "text": [
      "Reverse Order is :  slliksyp\n"
     ]
    }
   ],
   "source": [
    "#Given a string, reverse the order of characters using string slicing and print the reversed string.\n",
    "\n",
    "sentence = input(\"Enter a sentence: \")\n",
    "print (\"Reverse Order is : \",sentence[::-1])"
   ]
  },
  {
   "cell_type": "code",
   "execution_count": 8,
   "id": "8e535216-336a-432c-96d5-d4e19e04b0b3",
   "metadata": {},
   "outputs": [
    {
     "name": "stdin",
     "output_type": "stream",
     "text": [
      "Enter a string:  level\n"
     ]
    },
    {
     "name": "stdout",
     "output_type": "stream",
     "text": [
      "level\n",
      "The string is a palindrome.\n"
     ]
    }
   ],
   "source": [
    "#Write a program that takes a string as input and checks if it is a palindrome (reads the same forwards and backwards).\n",
    "\n",
    "input_string = input(\"Enter a string: \")\n",
    "\n",
    "# Remove spaces and convert to lowercase for case-insensitive comparison\n",
    "reverse_string = input_string[::-1]\n",
    "print (reverse_string)\n",
    "\n",
    "if input_string == reverse_string:\n",
    "    print(\"The string is a palindrome.\")\n",
    "else:\n",
    "    print(\"The string is not a palindrome.\")"
   ]
  },
  {
   "cell_type": "code",
   "execution_count": 9,
   "id": "9604a15d-c703-4cf1-9c84-6dbadc0661a4",
   "metadata": {},
   "outputs": [
    {
     "name": "stdin",
     "output_type": "stream",
     "text": [
      "Enter a string:  Welcome to Python Class\n"
     ]
    },
    {
     "name": "stdout",
     "output_type": "stream",
     "text": [
      "Modified String without space :  WelcometoPythonClass\n"
     ]
    }
   ],
   "source": [
    "#Create a program that takes a string as input and removes all the spaces from it. Print the modified string without spaces.\n",
    "\n",
    "input_string = input(\"Enter a string: \")\n",
    "mod_string = input_string.replace(\" \",\"\")\n",
    "print (\"Modified String without space : \",mod_string)"
   ]
  }
 ],
 "metadata": {
  "kernelspec": {
   "display_name": "Python 3 (ipykernel)",
   "language": "python",
   "name": "python3"
  },
  "language_info": {
   "codemirror_mode": {
    "name": "ipython",
    "version": 3
   },
   "file_extension": ".py",
   "mimetype": "text/x-python",
   "name": "python",
   "nbconvert_exporter": "python",
   "pygments_lexer": "ipython3",
   "version": "3.10.8"
  }
 },
 "nbformat": 4,
 "nbformat_minor": 5
}
