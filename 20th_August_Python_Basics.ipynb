{
 "cells": [
  {
   "cell_type": "markdown",
   "id": "251f3a6f-89ec-45a2-b28c-c4aba62a0793",
   "metadata": {},
   "source": [
    "TOPIC: String Based Assignment Problem"
   ]
  },
  {
   "cell_type": "code",
   "execution_count": 1,
   "id": "db94e207-6363-480a-a514-c1189f114ba8",
   "metadata": {},
   "outputs": [
    {
     "name": "stdin",
     "output_type": "stream",
     "text": [
      "Enter the String :  Welcome to Python\n"
     ]
    },
    {
     "name": "stdout",
     "output_type": "stream",
     "text": [
      "Reverese Value for the string is :  nohtyP ot emocleW\n"
     ]
    }
   ],
   "source": [
    "#1. Write a program to reverse a string.\n",
    "\n",
    "str = input(\"Enter the String : \")\n",
    "print (\"Reverese Value for the string is : \",str[::-1])"
   ]
  },
  {
   "cell_type": "code",
   "execution_count": 2,
   "id": "38de7746-50a3-44de-95c0-21f78d9239a0",
   "metadata": {},
   "outputs": [
    {
     "name": "stdin",
     "output_type": "stream",
     "text": [
      "Enter a string:  level\n"
     ]
    },
    {
     "name": "stdout",
     "output_type": "stream",
     "text": [
      "level\n",
      "The string is a palindrome.\n"
     ]
    }
   ],
   "source": [
    "#2. Check if a string is a palindrome.\n",
    "\n",
    "input_string = input(\"Enter a string: \")\n",
    "\n",
    "# Remove spaces and convert to lowercase for case-insensitive comparison\n",
    "reverse_string = input_string[::-1]\n",
    "print (reverse_string)\n",
    "\n",
    "if input_string == reverse_string:\n",
    "    print(\"The string is a palindrome.\")\n",
    "else:\n",
    "    print(\"The string is not a palindrome.\")"
   ]
  },
  {
   "cell_type": "code",
   "execution_count": 4,
   "id": "77b5dd85-868e-4b25-b70a-d16e865c1a92",
   "metadata": {},
   "outputs": [
    {
     "name": "stdin",
     "output_type": "stream",
     "text": [
      "Enter a string:  pwskills\n"
     ]
    },
    {
     "name": "stdout",
     "output_type": "stream",
     "text": [
      "Upper case for the Entered String Value :  PWSKILLS\n"
     ]
    }
   ],
   "source": [
    "#3. Convert a string to uppercase.\n",
    "\n",
    "input_string = input(\"Enter a string: \")\n",
    "print (\"Upper case for the Entered String Value : \",input_string.upper())"
   ]
  },
  {
   "cell_type": "code",
   "execution_count": 6,
   "id": "d7d8e82c-6666-4816-a0e8-2270471fbd10",
   "metadata": {},
   "outputs": [
    {
     "name": "stdin",
     "output_type": "stream",
     "text": [
      "Enter a string:  PYTHON\n"
     ]
    },
    {
     "name": "stdout",
     "output_type": "stream",
     "text": [
      "Upper case for the Entered String Value :  python\n"
     ]
    }
   ],
   "source": [
    "#4. Convert a string to lowercase.\n",
    "\n",
    "input_string = input(\"Enter a string: \")\n",
    "print (\"Upper case for the Entered String Value : \",input_string.lower())"
   ]
  },
  {
   "cell_type": "code",
   "execution_count": 7,
   "id": "4bf94096-f7c5-4560-a0fd-ca99fca8b475",
   "metadata": {},
   "outputs": [
    {
     "name": "stdin",
     "output_type": "stream",
     "text": [
      "Enter a sentence:  Hi, I am doing 2nd assignment in python class\n"
     ]
    },
    {
     "name": "stdout",
     "output_type": "stream",
     "text": [
      "The number of vowels in the sentence is: 11\n"
     ]
    }
   ],
   "source": [
    "#5. Count the number of vowels in a string.\n",
    "\n",
    "sentence = input(\"Enter a sentence: \")\n",
    "vowel_count = 0\n",
    "vowels = \"aeiouAEIOU\"\n",
    "\n",
    "for char in sentence:\n",
    "    #print (char)\n",
    "    if char in vowels:\n",
    "        vowel_count += 1\n",
    "\n",
    "print(f\"The number of vowels in the sentence is: {vowel_count}\")"
   ]
  },
  {
   "cell_type": "code",
   "execution_count": 12,
   "id": "8708594e-5fc7-432c-b57b-662b8bf81aa4",
   "metadata": {},
   "outputs": [
    {
     "name": "stdin",
     "output_type": "stream",
     "text": [
      "Enter a string:  Welcome to python class\n"
     ]
    },
    {
     "name": "stdout",
     "output_type": "stream",
     "text": [
      "The number of vowels in the sentence is: 14\n"
     ]
    }
   ],
   "source": [
    "#6. Count the number of consonants in a string.\n",
    "\n",
    "#Defining alphabets in a valriable with lower case and upper case value & conver the values to set\n",
    "alphabet = 'abcdefghijklmnopqrstuvwxyz'\n",
    "alphabet = alphabet + alphabet.upper()\n",
    "alphabet = set(alphabet)\n",
    "\n",
    "#Defining vowels in a valriable with lower case and upper case value & conver the values to set\n",
    "vowels = 'aeiou'\n",
    "vowels = vowels + vowels.upper()\n",
    "vowels = set(vowels)\n",
    "\n",
    "#Getting the consonants value from alphabet\n",
    "consonants = alphabet - vowels\n",
    "input_string = input(\"Enter a string: \")\n",
    "\n",
    "con_count = 0\n",
    "for char in input_string:\n",
    "    #print (char)\n",
    "    if char in consonants:\n",
    "        con_count += 1\n",
    "\n",
    "print(f\"The number of vowels in the sentence is: {con_count}\")"
   ]
  },
  {
   "cell_type": "code",
   "execution_count": 13,
   "id": "a7652985-1334-4360-b478-f8a5ddd98d15",
   "metadata": {},
   "outputs": [
    {
     "name": "stdin",
     "output_type": "stream",
     "text": [
      "Enter a string:  Today is Sunny Day\n"
     ]
    },
    {
     "name": "stdout",
     "output_type": "stream",
     "text": [
      "Modified String without space :  TodayisSunnyDay\n"
     ]
    }
   ],
   "source": [
    "#7. Remove all whitespaces from a string.\n",
    "\n",
    "input_string = input(\"Enter a string: \")\n",
    "mod_string = input_string.replace(\" \",\"\")\n",
    "print (\"Modified String without space : \",mod_string)"
   ]
  },
  {
   "cell_type": "code",
   "execution_count": 14,
   "id": "f8e683ed-7679-4ded-90e0-108de41b2b91",
   "metadata": {},
   "outputs": [
    {
     "name": "stdin",
     "output_type": "stream",
     "text": [
      "Enter a string:  Hello World\n"
     ]
    },
    {
     "name": "stdout",
     "output_type": "stream",
     "text": [
      "Length of the String :  11\n"
     ]
    }
   ],
   "source": [
    "#8. Find the length of a string without using the `len()` function.\n",
    "\n",
    "input_string = input(\"Enter a string: \")\n",
    "len_of_string = 0\n",
    "for char in input_string:\n",
    "    len_of_string += 1\n",
    "\n",
    "print (\"Length of the String : \",len_of_string)"
   ]
  },
  {
   "cell_type": "code",
   "execution_count": 16,
   "id": "4b16396b-db19-4096-a4d3-568c84f7e153",
   "metadata": {},
   "outputs": [
    {
     "name": "stdin",
     "output_type": "stream",
     "text": [
      "Enter a string:  welcome to python world\n",
      "Enter a search word:  python\n"
     ]
    },
    {
     "name": "stdout",
     "output_type": "stream",
     "text": [
      "Search word is found in the input string\n"
     ]
    }
   ],
   "source": [
    "#9. Check if a string contains a specific word.\n",
    "\n",
    "input_string = input(\"Enter a string: \")\n",
    "search_word = input(\"Enter a search word: \")\n",
    "#print (input_string.find(search_word))\n",
    "if input_string.find(search_word) == -1:\n",
    "    print (\"Search word is not found in the input string\")\n",
    "else:\n",
    "    print (\"Search word is found in the input string\")"
   ]
  },
  {
   "cell_type": "code",
   "execution_count": 18,
   "id": "851e26d5-7893-46ff-9da0-300cedbaf40d",
   "metadata": {},
   "outputs": [
    {
     "name": "stdin",
     "output_type": "stream",
     "text": [
      "Enter a string:  welcome to python cource\n",
      "Enter a word to replace:  python\n",
      "Enter the target word to replace:  spark\n"
     ]
    },
    {
     "name": "stdout",
     "output_type": "stream",
     "text": [
      "Modified Statement :  welcome to spark cource\n"
     ]
    }
   ],
   "source": [
    "#10. Replace a word in a string with another word.\n",
    "\n",
    "input_string = input(\"Enter a string: \")\n",
    "source_word = input(\"Enter a word to replace: \")\n",
    "target_word = input(\"Enter the target word to replace: \")\n",
    "\n",
    "print (\"Modified Statement : \",input_string.replace(source_word,target_word))"
   ]
  },
  {
   "cell_type": "code",
   "execution_count": 27,
   "id": "da847d49-6912-499a-b690-e5eef1d5b929",
   "metadata": {},
   "outputs": [
    {
     "name": "stdin",
     "output_type": "stream",
     "text": [
      "Enter a string:  Hello World, Hello Python! Hello World again!\n",
      "Enter a word to count:  Hello\n"
     ]
    },
    {
     "name": "stdout",
     "output_type": "stream",
     "text": [
      "Search Value count is  3\n"
     ]
    }
   ],
   "source": [
    "#11. Count the occurrences of a word in a string.\n",
    "\n",
    "\n",
    "input_string = input(\"Enter a string: \")\n",
    "find_word = input(\"Enter a word to count: \")\n",
    "words = input_string.split()\n",
    "\n",
    "count = 0\n",
    "for word in words:\n",
    "    if word == find_word:\n",
    "        count += 1\n",
    "        \n",
    "print (\"Search Value count is \",count)"
   ]
  },
  {
   "cell_type": "code",
   "execution_count": 31,
   "id": "f56cdd18-750d-4959-b5f1-4fbc00342cc6",
   "metadata": {},
   "outputs": [
    {
     "name": "stdin",
     "output_type": "stream",
     "text": [
      "Enter a string:  Hello World, Hello Python! Hello World again!\n",
      "Enter a word to find:  World\n"
     ]
    },
    {
     "name": "stdout",
     "output_type": "stream",
     "text": [
      "First Occurance Index is  6\n"
     ]
    }
   ],
   "source": [
    "#12. Find the first occurrence of a word in a string.\n",
    "\n",
    "input_string = input(\"Enter a string: \")\n",
    "find_word = input(\"Enter a word to find: \")\n",
    "\n",
    "first_occurance = input_string.index(find_word)\n",
    "print (\"First Occurance Index is \",first_occurance)"
   ]
  },
  {
   "cell_type": "code",
   "execution_count": 35,
   "id": "510152d9-00a2-4492-a9c2-74cd4f4557e3",
   "metadata": {},
   "outputs": [
    {
     "name": "stdin",
     "output_type": "stream",
     "text": [
      "Enter a string:  Hello World, Hello Python! Hello World again!\n",
      "Enter a word to find:  World\n"
     ]
    },
    {
     "name": "stdout",
     "output_type": "stream",
     "text": [
      "Last Occurance Index is  33\n"
     ]
    }
   ],
   "source": [
    "#13. Find the last occurrence of a word in a string.\n",
    "\n",
    "input_string = input(\"Enter a string: \")\n",
    "find_word = input(\"Enter a word to find: \")\n",
    "\n",
    "last_occurance = input_string.rfind(find_word)\n",
    "print (\"Last Occurance Index is \",last_occurance)"
   ]
  },
  {
   "cell_type": "code",
   "execution_count": 36,
   "id": "03b95e8e-2949-4414-bedb-024deef1a24e",
   "metadata": {},
   "outputs": [
    {
     "name": "stdin",
     "output_type": "stream",
     "text": [
      "Enter a string:  Welcome to python world\n"
     ]
    },
    {
     "name": "stdout",
     "output_type": "stream",
     "text": [
      "list of String :  ['Welcome', 'to', 'python', 'world']\n"
     ]
    }
   ],
   "source": [
    "#14. Split a string into a list of words.\n",
    "\n",
    "input_string = input(\"Enter a string: \")\n",
    "words = input_string.split()\n",
    "print (\"list of String : \",words)"
   ]
  },
  {
   "cell_type": "code",
   "execution_count": 37,
   "id": "e96922c5-0869-4d43-aacf-099c83b1d4be",
   "metadata": {},
   "outputs": [
    {
     "name": "stdout",
     "output_type": "stream",
     "text": [
      "Join String :  Welcome to python world\n"
     ]
    }
   ],
   "source": [
    "#15. Join a list of words into a string.\n",
    "\n",
    "lst_val = ['Welcome', 'to', 'python', 'world']\n",
    "print (\"Join String : \",\" \".join(lst_val))"
   ]
  },
  {
   "cell_type": "code",
   "execution_count": 38,
   "id": "a4e8563b-7334-4103-8170-8ec90a76be70",
   "metadata": {},
   "outputs": [
    {
     "name": "stdin",
     "output_type": "stream",
     "text": [
      "Enter a string:  Welcome to Python Class\n"
     ]
    },
    {
     "name": "stdout",
     "output_type": "stream",
     "text": [
      "Convert the value replace spaces to underscore :  Welcome_to_Python_Class\n"
     ]
    }
   ],
   "source": [
    "#16. Convert a string where words are separated by spaces to one where words are separated by underscores.\n",
    "\n",
    "input_string = input(\"Enter a string: \")\n",
    "print (\"Convert the value replace spaces to underscore : \",input_string.replace(' ','_'))"
   ]
  },
  {
   "cell_type": "code",
   "execution_count": 45,
   "id": "578eaa96-46d0-4561-8d60-175e47d09b1b",
   "metadata": {},
   "outputs": [
    {
     "name": "stdin",
     "output_type": "stream",
     "text": [
      "Enter a string:  Hello Python World\n",
      "Enter a word or phrase to find:  Hello Python\n"
     ]
    },
    {
     "name": "stdout",
     "output_type": "stream",
     "text": [
      "Search Value Started with Input Specific Values\n"
     ]
    }
   ],
   "source": [
    "#17. Check if a string starts with a specific word or phrase.\n",
    "\n",
    "input_string = input(\"Enter a string: \")\n",
    "find_word_phrase = input(\"Enter a word or phrase to find: \")\n",
    "\n",
    "chk_val = input_string.find(find_word_phrase)\n",
    "if chk_val == 0:\n",
    "    print (\"Search Value Started with Input Specific Values\")\n",
    "else:\n",
    "    print (\"Search Value is not Started with Input Specific Values\")\n"
   ]
  },
  {
   "cell_type": "code",
   "execution_count": 53,
   "id": "08e3f2f5-7198-47f9-99cc-9ae342d3ce20",
   "metadata": {},
   "outputs": [
    {
     "name": "stdin",
     "output_type": "stream",
     "text": [
      "Enter a string:  Hello Python World\n",
      "Enter a word or phrase to find:  Python World\n"
     ]
    },
    {
     "name": "stdout",
     "output_type": "stream",
     "text": [
      "Search Value End with Input Specific Values\n"
     ]
    }
   ],
   "source": [
    "#18. Check if a string ends with a specific word or phrase.\n",
    "\n",
    "input_string = input(\"Enter a string: \")\n",
    "find_word_phrase = input(\"Enter a word or phrase to find: \")\n",
    "\n",
    "chk_val = input_string.endswith(find_word_phrase)\n",
    "if chk_val == True:\n",
    "    print (\"Search Value End with Input Specific Values\")\n",
    "else:\n",
    "    print (\"Search Value is not End with Input Specific Values\")\n"
   ]
  },
  {
   "cell_type": "code",
   "execution_count": 55,
   "id": "88b2406a-8020-4c54-8661-02f3f27df984",
   "metadata": {},
   "outputs": [
    {
     "name": "stdin",
     "output_type": "stream",
     "text": [
      "Enter a string:  hello world\n"
     ]
    },
    {
     "name": "stdout",
     "output_type": "stream",
     "text": [
      "Converted String :  Hello World\n"
     ]
    }
   ],
   "source": [
    "#19. Convert a string to title case (e.g., \"hello world\" to \"Hello World\").\n",
    "\n",
    "input_string = input(\"Enter a string: \")\n",
    "print (\"Converted String : \",input_string.title())\n"
   ]
  },
  {
   "cell_type": "code",
   "execution_count": 3,
   "id": "25182e98-5a08-472f-aa25-762dda8ba95e",
   "metadata": {},
   "outputs": [
    {
     "name": "stdin",
     "output_type": "stream",
     "text": [
      "Enter a string:  Hello Python World\n"
     ]
    },
    {
     "name": "stdout",
     "output_type": "stream",
     "text": [
      "Longest Word is :  Python\n"
     ]
    }
   ],
   "source": [
    "#20. Find the longest word in a string.\n",
    "\n",
    "input_string = input(\"Enter a string: \")\n",
    "words = input_string.split()\n",
    "\n",
    "longest_word = \"\"\n",
    "max_length = 0\n",
    "\n",
    "for word in words:\n",
    "    if len(word) > max_length:\n",
    "        longest_word = word\n",
    "        max_length = len(word)\n",
    "        \n",
    "print(\"Longest Word is : \",longest_word)"
   ]
  },
  {
   "cell_type": "code",
   "execution_count": 7,
   "id": "ce2a8651-b37e-4e27-964c-3c074182cc44",
   "metadata": {},
   "outputs": [
    {
     "name": "stdin",
     "output_type": "stream",
     "text": [
      "Enter a string:  Welcome to Python Class\n"
     ]
    },
    {
     "name": "stdout",
     "output_type": "stream",
     "text": [
      "Longest Word is :  to\n"
     ]
    }
   ],
   "source": [
    "#21. Find the shortest word in a string.\n",
    "\n",
    "input_string = input(\"Enter a string: \")\n",
    "words = input_string.split()\n",
    "\n",
    "shortest_word = \"\"\n",
    "max_length = 0\n",
    "\n",
    "for word in words:\n",
    "    \n",
    "    if len(word) < max_length or max_length == 0:\n",
    "        shortest_word = word\n",
    "        max_length = len(word)\n",
    "        \n",
    "print(\"Longest Word is : \",shortest_word)"
   ]
  },
  {
   "cell_type": "code",
   "execution_count": 8,
   "id": "c39d8f68-8adb-4515-b4f8-51661a9066ce",
   "metadata": {},
   "outputs": [
    {
     "name": "stdin",
     "output_type": "stream",
     "text": [
      "Enter the String :  python\n"
     ]
    },
    {
     "name": "stdout",
     "output_type": "stream",
     "text": [
      "Reverese Value for the string is :  nohtyp\n"
     ]
    }
   ],
   "source": [
    "#22. Reverse the order of words in a string.\n",
    "\n",
    "str = input(\"Enter the String : \")\n",
    "print (\"Reverese Value for the string is : \",str[::-1])"
   ]
  },
  {
   "cell_type": "code",
   "execution_count": 26,
   "id": "cb391402-10f1-4115-8530-e0affad53727",
   "metadata": {},
   "outputs": [
    {
     "name": "stdin",
     "output_type": "stream",
     "text": [
      "Enter the String :  ^*%&^%&\n"
     ]
    },
    {
     "name": "stdout",
     "output_type": "stream",
     "text": [
      "String is Not a alphanumeric values\n"
     ]
    }
   ],
   "source": [
    "#23. Check if a string is alphanumeric.\n",
    "\n",
    "str = input(\"Enter the String : \")\n",
    "#words = input_string.split()\n",
    "\n",
    "if str.isalnum() == True:\n",
    "    print(\"String is a AlphaNumeric Values\")\n",
    "else:\n",
    "    print(\"String is Not a alphanumeric values\")"
   ]
  },
  {
   "cell_type": "code",
   "execution_count": 38,
   "id": "cf253079-6989-4ca9-b59e-9b8bdf6b591b",
   "metadata": {},
   "outputs": [
    {
     "name": "stdin",
     "output_type": "stream",
     "text": [
      "Enter the String :  Current Temprature is 102C on 8-Sep-2023\n"
     ]
    },
    {
     "name": "stdout",
     "output_type": "stream",
     "text": [
      "Numeric Values are :  10282023\n"
     ]
    }
   ],
   "source": [
    "#24. Extract all digits from a string.\n",
    "\n",
    "str = input(\"Enter the String : \")\n",
    "numeric_val = \"\"\n",
    "for char in str:\n",
    "    if char.isnumeric() == True:\n",
    "        numeric_val += char\n",
    "        \n",
    "print (\"Numeric Values are : \",numeric_val)\n",
    "    "
   ]
  },
  {
   "cell_type": "code",
   "execution_count": 39,
   "id": "e20966c2-ca9d-420d-8040-a0c949947248",
   "metadata": {},
   "outputs": [
    {
     "name": "stdin",
     "output_type": "stream",
     "text": [
      "Enter the String :  Current Temprature is 102C on 8-Sep-2023\n"
     ]
    },
    {
     "name": "stdout",
     "output_type": "stream",
     "text": [
      "Alphabet Values are :  CurrentTempratureisConSep\n"
     ]
    }
   ],
   "source": [
    "#25. Extract all alphabets from a string.\n",
    "\n",
    "str = input(\"Enter the String : \")\n",
    "alpha_val = \"\"\n",
    "for char in str:\n",
    "    if char.isalpha() == True:\n",
    "        alpha_val += char\n",
    "        \n",
    "print (\"Alphabet Values are : \",alpha_val)\n",
    "    "
   ]
  },
  {
   "cell_type": "code",
   "execution_count": 5,
   "id": "b49f77d6-538f-4f57-bafb-aae3a5b7d112",
   "metadata": {},
   "outputs": [
    {
     "name": "stdin",
     "output_type": "stream",
     "text": [
      "Enter the String :  Welcome to Python Class\n"
     ]
    },
    {
     "name": "stdout",
     "output_type": "stream",
     "text": [
      "Number of Upper Characters in the Input is :  3\n"
     ]
    }
   ],
   "source": [
    "#26. Count the number of uppercase letters in a string.\n",
    "\n",
    "str = input(\"Enter the String : \")\n",
    "cnt = 0\n",
    "for char in str:\n",
    "    if char.isupper() == True:\n",
    "       cnt += 1\n",
    "    \n",
    "print (\"Number of Upper Characters in the Input is : \",cnt)"
   ]
  },
  {
   "cell_type": "code",
   "execution_count": 6,
   "id": "2096751d-baa0-41e2-b689-86129ea06b6f",
   "metadata": {},
   "outputs": [
    {
     "name": "stdin",
     "output_type": "stream",
     "text": [
      "Enter the String :  Welcome to Python Class\n"
     ]
    },
    {
     "name": "stdout",
     "output_type": "stream",
     "text": [
      "Number of Lower Characters in the Input is :  17\n"
     ]
    }
   ],
   "source": [
    "#27. Count the number of lowercase letters in a string.\n",
    "\n",
    "str = input(\"Enter the String : \")\n",
    "cnt = 0\n",
    "for char in str:\n",
    "    if char.islower() == True:\n",
    "       cnt += 1\n",
    "    \n",
    "print (\"Number of Lower Characters in the Input is : \",cnt)"
   ]
  },
  {
   "cell_type": "code",
   "execution_count": 8,
   "id": "187826b7-5d19-442e-93d1-1d00368d25cb",
   "metadata": {},
   "outputs": [
    {
     "name": "stdin",
     "output_type": "stream",
     "text": [
      "Enter the String :  Welcome to Python Class\n"
     ]
    },
    {
     "name": "stdout",
     "output_type": "stream",
     "text": [
      "Value after the swap case for each Character :  wELCOME TO pYTHON cLASS\n"
     ]
    }
   ],
   "source": [
    "#28. Swap the case of each character in a string.\n",
    "\n",
    "str = input(\"Enter the String : \")\n",
    "out_val = \"\"\n",
    "for char in str:\n",
    "    if char.isupper() == True:\n",
    "        out_val += char.lower()\n",
    "    else:\n",
    "        out_val += char.upper()\n",
    "        \n",
    "print (\"Value after the swap case for each Character : \",out_val)        \n",
    "        "
   ]
  },
  {
   "cell_type": "code",
   "execution_count": 9,
   "id": "8ff7886e-8a7d-4ce8-94c9-06e986af6fb9",
   "metadata": {},
   "outputs": [
    {
     "name": "stdin",
     "output_type": "stream",
     "text": [
      "Enter the String :  Welcome to Python Class\n",
      "Enter the Word to Remove from the Phrase :  to\n"
     ]
    },
    {
     "name": "stdout",
     "output_type": "stream",
     "text": [
      "Output Value after remove word from the phrase :  Welcome  Python Class\n"
     ]
    }
   ],
   "source": [
    "#29. Remove a specific word from a string.\n",
    "\n",
    "str = input(\"Enter the String : \")\n",
    "remove_word = input(\"Enter the Word to Remove from the Phrase : \")\n",
    "print (\"Output Value after remove word from the phrase : \",str.replace(remove_word,''))\n"
   ]
  },
  {
   "cell_type": "code",
   "execution_count": 29,
   "id": "05b6d42a-4d1c-4522-86ce-6f1114ce409c",
   "metadata": {},
   "outputs": [
    {
     "name": "stdin",
     "output_type": "stream",
     "text": [
      "Enter the Email Address :  abccorp@gmail.com\n"
     ]
    },
    {
     "name": "stdout",
     "output_type": "stream",
     "text": [
      "abccorp@gmail.com Email Address is a Valid email Address\n"
     ]
    }
   ],
   "source": [
    "#30. Check if a string is a valid email address.\n",
    "\n",
    "\n",
    "def fn_validate_email(email_str):\n",
    "    pos_atthrate=email_str.find('@')\n",
    "    username,domain = email_str.split('@')\n",
    "\n",
    "    # Check username or domain are not empty\n",
    "    if not username or not domain:\n",
    "        print(\"Uername or Domain is Empty\")\n",
    "        return False\n",
    "\n",
    "    #Check domain contains exactly one dot\n",
    "    if domain.count(\".\") == 0:\n",
    "        print(\"Domain Value must Contain Dot\")\n",
    "        return False\n",
    "\n",
    "    valid_characters = \"abcdefghijklmnopqrstuvwxyzABCDEFGHIJKLMNOPQRSTUVWXYZ0123456789.-_\"\n",
    "    if any(char not in valid_characters for char in username) or any(char not in valid_characters for char in domain):\n",
    "        print(\"Username and Domain having not valid characters\")\n",
    "        return False\n",
    "        \n",
    "    return True\n",
    "    \n",
    "email_str = input(\"Enter the Email Address : \")\n",
    "validate_chk = fn_validate_email(email_str)\n",
    "if validate_chk == True:   \n",
    "    print (email_str+\" Email Address is a Valid email Address\")\n",
    "else:\n",
    "    print (email_str+\" Email Address is Not a Valid email Address\")"
   ]
  },
  {
   "cell_type": "code",
   "execution_count": 32,
   "id": "7a4d48cd-f744-422a-a1d1-0f0ed42b66d4",
   "metadata": {},
   "outputs": [
    {
     "name": "stdin",
     "output_type": "stream",
     "text": [
      "Enter the Email Address :  abc-Corp@gmail.com\n"
     ]
    },
    {
     "name": "stdout",
     "output_type": "stream",
     "text": [
      "Username is : abc-Corp\n"
     ]
    }
   ],
   "source": [
    "#31. Extract the username from an email address string.\n",
    "\n",
    "email_str = input(\"Enter the Email Address : \")\n",
    "#pos_atthrate=email_str.find('@')\n",
    "username,domain = email_str.split('@')\n",
    "print (\"Username is :\",username)"
   ]
  },
  {
   "cell_type": "code",
   "execution_count": 33,
   "id": "67c4261b-0c44-4a3f-bba7-d6935834a455",
   "metadata": {},
   "outputs": [
    {
     "name": "stdin",
     "output_type": "stream",
     "text": [
      "Enter the Email Address :  abc-Corp@gmail.com\n"
     ]
    },
    {
     "name": "stdout",
     "output_type": "stream",
     "text": [
      "Domain is : gmail.com\n"
     ]
    }
   ],
   "source": [
    "#32. Extract the domain name from an email address string.\n",
    "\n",
    "\n",
    "email_str = input(\"Enter the Email Address : \")\n",
    "#pos_atthrate=email_str.find('@')\n",
    "username,domain = email_str.split('@')\n",
    "print (\"Domain is :\",domain)\n"
   ]
  },
  {
   "cell_type": "code",
   "execution_count": 37,
   "id": "0779fdf7-77c3-451c-9fb5-4410bd17fb22",
   "metadata": {},
   "outputs": [
    {
     "name": "stdin",
     "output_type": "stream",
     "text": [
      "Enter the String :  Welcome   to    Python    Class\n"
     ]
    },
    {
     "name": "stdout",
     "output_type": "stream",
     "text": [
      "After Replace the Multiple Space : Welcome to Python Class\n"
     ]
    }
   ],
   "source": [
    "#33. Replace multiple spaces in a string with a single space.\n",
    "\n",
    "str = input(\"Enter the String : \")\n",
    "text = ' '.join(str.split())\n",
    "print(\"After Replace the Multiple Space :\",text)"
   ]
  },
  {
   "cell_type": "code",
   "execution_count": 40,
   "id": "bb745d76-2853-4092-b340-5d6be3166858",
   "metadata": {},
   "outputs": [
    {
     "name": "stdout",
     "output_type": "stream",
     "text": [
      "https://www.example.com is a valid URL.\n"
     ]
    }
   ],
   "source": [
    "#34. Check if a string is a valid URL.\n",
    "\n",
    "def is_valid_url(url):\n",
    "    # Check if the URL starts with \"http://\" or \"https://\"\n",
    "    if not (url.startswith(\"http://\") or url.startswith(\"https://\")):\n",
    "        return False\n",
    "\n",
    "    # Extract the domain from the URL\n",
    "    domain = url.split(\"://\")[1].split(\"/\")[0]\n",
    "    \n",
    "    # Split the domain by dots (.)\n",
    "    parts = domain.split(\".\")\n",
    "    \n",
    "    # Check for minimum and maximum domain length\n",
    "    if len(parts) < 2 or len(parts[-1]) < 2 or len(parts[-1]) > 6:\n",
    "        return False\n",
    "\n",
    "    # Check if each part of the domain contains valid characters\n",
    "    for part in parts:\n",
    "        if not part.isalnum() and '-' not in part:\n",
    "            return False\n",
    "\n",
    "    return True\n",
    "\n",
    "url = \"https://www.example.com\"\n",
    "if is_valid_url(url):\n",
    "    print(f\"{url} is a valid URL.\")\n",
    "else:\n",
    "    print(f\"{url} is not a valid URL.\")"
   ]
  },
  {
   "cell_type": "code",
   "execution_count": 48,
   "id": "1adfa726-62c8-45f7-bcbc-14d662da36de",
   "metadata": {},
   "outputs": [
    {
     "name": "stdout",
     "output_type": "stream",
     "text": [
      "Protocol from Url is :  https\n"
     ]
    }
   ],
   "source": [
    "#35. Extract the protocol (http or https) from a URL string.\n",
    "\n",
    "url = \"https://www.example.com\"\n",
    "print (\"Protocol from Url is : \",url[:url.find(\":\")])"
   ]
  },
  {
   "cell_type": "code",
   "execution_count": 52,
   "id": "eb4bd927-9dd6-45b0-a343-ff877c6e3202",
   "metadata": {},
   "outputs": [
    {
     "name": "stdin",
     "output_type": "stream",
     "text": [
      "Enter the String :  welcome to python class\n"
     ]
    },
    {
     "name": "stdout",
     "output_type": "stream",
     "text": [
      "'w': 1\n",
      "'e': 2\n",
      "'l': 2\n",
      "'c': 2\n",
      "'o': 3\n",
      "'m': 1\n",
      "' ': 3\n",
      "'t': 2\n",
      "'p': 1\n",
      "'y': 1\n",
      "'h': 1\n",
      "'n': 1\n",
      "'a': 1\n",
      "'s': 2\n"
     ]
    }
   ],
   "source": [
    "#36. Find the frequency of each character in a string.\n",
    "\n",
    "str = input(\"Enter the String : \")\n",
    "char_count = {}\n",
    "for char in str:\n",
    "    char_count[char] = char_count.get(char, 0) + 1\n",
    "\n",
    "for char, count in char_count.items():\n",
    "    print(f\"'{char}': {count}\")"
   ]
  },
  {
   "cell_type": "code",
   "execution_count": 58,
   "id": "e6684f44-c26c-47b3-ae01-e87273189e35",
   "metadata": {},
   "outputs": [
    {
     "name": "stdout",
     "output_type": "stream",
     "text": [
      "After punctuation Removal : Hello World This is an example punctuation removal\n"
     ]
    }
   ],
   "source": [
    "#37. Remove all punctuation from a string.\n",
    "input_string = \"Hello, World! This is an example: punctuation removal.\"\n",
    "\n",
    "punctuation_chars = \"!\\\"#$%&'()*+,-./:;<=>?@[\\\\]^_`{|}~\"\n",
    "cleaned_string = \"\"\n",
    "for char in input_string:\n",
    "    if char not in punctuation_chars:\n",
    "        cleaned_string += char\n",
    "print (\"After punctuation Removal :\",cleaned_string)"
   ]
  },
  {
   "cell_type": "code",
   "execution_count": 65,
   "id": "70ad8bf9-9450-4457-9f06-b6dbfe456558",
   "metadata": {},
   "outputs": [
    {
     "name": "stdin",
     "output_type": "stream",
     "text": [
      "Enter the String :  8768767\n"
     ]
    },
    {
     "name": "stdout",
     "output_type": "stream",
     "text": [
      "String Contains Only Numbers\n"
     ]
    }
   ],
   "source": [
    "#38. Check if a string contains only digits.\n",
    "\n",
    "str = input(\"Enter the String : \")\n",
    "if str.isdigit() == True:\n",
    "    print (\"String Contains Only Numbers\")\n",
    "else:\n",
    "    print (\"String Contains Not Numeric Values\")"
   ]
  },
  {
   "cell_type": "code",
   "execution_count": 68,
   "id": "73e2e9e0-f2a8-401c-90ca-780c47148c79",
   "metadata": {},
   "outputs": [
    {
     "name": "stdin",
     "output_type": "stream",
     "text": [
      "Enter the String :  pwskills\n"
     ]
    },
    {
     "name": "stdout",
     "output_type": "stream",
     "text": [
      "String Contains Only Alphabets\n"
     ]
    }
   ],
   "source": [
    "#39. Check if a string contains only alphabets.\n",
    "\n",
    "\n",
    "str = input(\"Enter the String : \")\n",
    "if str.isalpha() == True:\n",
    "    print (\"String Contains Only Alphabets\")\n",
    "else:\n",
    "    print (\"String Contains Not Alphabets Values\")"
   ]
  },
  {
   "cell_type": "code",
   "execution_count": 72,
   "id": "2fb633a8-9e24-454b-81de-7e0edfc76c1c",
   "metadata": {},
   "outputs": [
    {
     "name": "stdin",
     "output_type": "stream",
     "text": [
      "Enter the String :  python class\n"
     ]
    },
    {
     "name": "stdout",
     "output_type": "stream",
     "text": [
      "['p', 'y', 't', 'h', 'o', 'n', ' ', 'c', 'l', 'a', 's', 's']\n"
     ]
    }
   ],
   "source": [
    "#40. Convert a string to a list of characters.\n",
    "\n",
    "str = input(\"Enter the String : \")\n",
    "char_list = [] \n",
    "for char in str:\n",
    "    char_list.append(char)\n",
    "    \n",
    "print (char_list)\n"
   ]
  },
  {
   "cell_type": "code",
   "execution_count": 75,
   "id": "b299f424-072a-40c4-aceb-9803681fc617",
   "metadata": {},
   "outputs": [
    {
     "name": "stdout",
     "output_type": "stream",
     "text": [
      "listen and silent are anagrams.\n"
     ]
    }
   ],
   "source": [
    "#41. Check if two strings are anagrams.\n",
    "\n",
    "string1 = \"listen\"\n",
    "string2 = \"silent\"\n",
    "\n",
    "string1 = string1.replace(\" \", \"\").lower()\n",
    "string2 = string2.replace(\" \", \"\").lower()\n",
    "\n",
    "if sorted(string1) == sorted(string2):\n",
    "    print(f\"{string1} and {string2} are anagrams.\")\n",
    "else:\n",
    "    print(f\"{string1} and {string2} are not anagrams.\")"
   ]
  },
  {
   "cell_type": "code",
   "execution_count": 76,
   "id": "1a2606c6-583f-450d-8f2c-d707a25eeb67",
   "metadata": {},
   "outputs": [
    {
     "name": "stdout",
     "output_type": "stream",
     "text": [
      "Original text: Hello, World!\n",
      "Encoded text: Khoor, Zruog!\n"
     ]
    }
   ],
   "source": [
    "#42. Encode a string using a Caesar cipher.\n",
    "\n",
    "def caesar_cipher(text, shift):\n",
    "    encoded_text = \"\"\n",
    "\n",
    "    for char in text:\n",
    "        if char.isalpha():  # Check if the character is alphabetic\n",
    "            is_upper = char.isupper()  # Check if the character is uppercase\n",
    "            char = char.lower()  # Convert the character to lowercase for shifting\n",
    "\n",
    "            # Apply the Caesar cipher shift\n",
    "            shifted_char = chr(((ord(char) - ord('a') + shift) % 26) + ord('a'))\n",
    "\n",
    "            # Convert back to uppercase if the original character was uppercase\n",
    "            if is_upper:\n",
    "                shifted_char = shifted_char.upper()\n",
    "\n",
    "            encoded_text += shifted_char\n",
    "        else:\n",
    "            # If the character is not alphabetic, keep it unchanged\n",
    "            encoded_text += char\n",
    "\n",
    "    return encoded_text\n",
    "\n",
    "plaintext = \"Hello, World!\"\n",
    "shift = 3\n",
    "\n",
    "encoded_text = caesar_cipher(plaintext, shift)\n",
    "print(f\"Original text: {plaintext}\")\n",
    "print(f\"Encoded text: {encoded_text}\")\n",
    "\n"
   ]
  },
  {
   "cell_type": "code",
   "execution_count": 77,
   "id": "0c80b6f3-8889-42a2-b2a5-5f189273d808",
   "metadata": {},
   "outputs": [
    {
     "name": "stdout",
     "output_type": "stream",
     "text": [
      "Encoded text: Khoor, Zruog!\n",
      "Decoded text: Hello, World!\n"
     ]
    }
   ],
   "source": [
    "#44. Find the most frequent word in a string.\n",
    "\n",
    "def caesar_decipher(encoded_text, shift):\n",
    "    decoded_text = \"\"\n",
    "\n",
    "    for char in encoded_text:\n",
    "        if char.isalpha():  # Check if the character is alphabetic\n",
    "            is_upper = char.isupper()  # Check if the character is uppercase\n",
    "            char = char.lower()  # Convert the character to lowercase for shifting\n",
    "\n",
    "            # Apply the reverse Caesar cipher shift\n",
    "            shifted_char = chr(((ord(char) - ord('a') - shift) % 26) + ord('a'))\n",
    "\n",
    "            # Convert back to uppercase if the original character was uppercase\n",
    "            if is_upper:\n",
    "                shifted_char = shifted_char.upper()\n",
    "\n",
    "            decoded_text += shifted_char\n",
    "        else:\n",
    "            # If the character is not alphabetic, keep it unchanged\n",
    "            decoded_text += char\n",
    "\n",
    "    return decoded_text\n",
    "\n",
    "encoded_text = \"Khoor, Zruog!\"\n",
    "shift = 3\n",
    "decoded_text = caesar_decipher(encoded_text, shift)\n",
    "\n",
    "print(f\"Encoded text: {encoded_text}\")\n",
    "print(f\"Decoded text: {decoded_text}\")\n"
   ]
  },
  {
   "cell_type": "code",
   "execution_count": 79,
   "id": "3cbefa4a-a962-4c33-a7c0-3913720122aa",
   "metadata": {},
   "outputs": [
    {
     "name": "stdout",
     "output_type": "stream",
     "text": [
      "Unique Words :  {'is', 'This', 'test.', 'only', 'a'}\n"
     ]
    }
   ],
   "source": [
    "#45. Find all unique words in a string.\n",
    "\n",
    "input_string = \"This is a test. This is only a test.\"\n",
    "words = input_string.split()\n",
    "unique_word_set = set(words)\n",
    "\n",
    "print ('Unique Words : ',unique_word_set)"
   ]
  },
  {
   "cell_type": "code",
   "execution_count": 80,
   "id": "ba46d39c-479b-477a-b6c4-c9a4373ac315",
   "metadata": {},
   "outputs": [
    {
     "name": "stdout",
     "output_type": "stream",
     "text": [
      "Number of syllables: 7\n"
     ]
    }
   ],
   "source": [
    "#46. Count the number of syllables in a string.\n",
    "\n",
    "def count_syllables(input_string):\n",
    "    vowels = \"AEIOUaeiou\"\n",
    "    count = 0\n",
    "    prev_char_is_vowel = False\n",
    "\n",
    "    for char in input_string:\n",
    "        if char in vowels:\n",
    "            if not prev_char_is_vowel:\n",
    "                count += 1\n",
    "            prev_char_is_vowel = True\n",
    "        else:\n",
    "            prev_char_is_vowel = False\n",
    "\n",
    "    return count\n",
    "\n",
    "input_string = \"Hello, World! This is a test.\"\n",
    "syllable_count = count_syllables(input_string)\n",
    "\n",
    "print(f\"Number of syllables: {syllable_count}\")\n"
   ]
  },
  {
   "cell_type": "code",
   "execution_count": 6,
   "id": "e04406dc-0cb7-44f8-a2f4-adcce33675b4",
   "metadata": {},
   "outputs": [
    {
     "name": "stdout",
     "output_type": "stream",
     "text": [
      "Hello, World! This is a test. contains special characters.\n"
     ]
    }
   ],
   "source": [
    "#47. Check if a string contains any special characters.\n",
    "\n",
    "input_string = \"Hello, World! This is a test.\"\n",
    "allowed_chars = \"abcdefghijklmnopqrstuvwxyzABCDEFGHIJKLMNOPQRSTUVWXYZ0123456789.,!?;:()\\\"'-\"\n",
    "\n",
    "if any(char not in allowed_chars for char in input_string):\n",
    "    print(f\"{input_string} contains special characters.\")\n",
    "else:\n",
    "    print(f\"{input_string} does not contain special characters.\")\n"
   ]
  },
  {
   "cell_type": "code",
   "execution_count": 10,
   "id": "0f490e1d-46d7-49b7-b9ec-523413fba836",
   "metadata": {},
   "outputs": [
    {
     "name": "stdin",
     "output_type": "stream",
     "text": [
      "Input the nth Word to extract from the string 10\n"
     ]
    },
    {
     "name": "stdout",
     "output_type": "stream",
     "text": [
      "nth Word is :  r\n"
     ]
    }
   ],
   "source": [
    "#48. Remove the nth word from a string.\n",
    "\n",
    "input_string = \"Hello, World! This is a test.\"\n",
    "rem_n_word = int(input(\"Input the nth Word to extract from the string\"))\n",
    "\n",
    "print(\"nth Word is : \",input_string[rem_n_word-1:rem_n_word])"
   ]
  },
  {
   "cell_type": "code",
   "execution_count": 15,
   "id": "6a16d5f4-64eb-400c-8011-7bff2095ab1e",
   "metadata": {},
   "outputs": [
    {
     "name": "stdin",
     "output_type": "stream",
     "text": [
      "Input the Word to Insert Program\n",
      "Input the Position to insert the word into the string 35\n"
     ]
    },
    {
     "name": "stdout",
     "output_type": "stream",
     "text": [
      "New String is :  Hello, World! This is a test Program \n"
     ]
    }
   ],
   "source": [
    "#49. Insert a word at the nth position in a string.\n",
    "\n",
    "string = \"Hello, World! This is a test\"\n",
    "insert_word = input(\"Input the Word to Insert\")\n",
    "insert_word = \" \"+insert_word+\" \"\n",
    "position = int(input(\"Input the Position to insert the word into the string\"))\n",
    "\n",
    "result_string = string[:position] + insert_word + string[position:]\n",
    "print (\"New String is : \",result_string)\n"
   ]
  },
  {
   "cell_type": "code",
   "execution_count": 16,
   "id": "86210b0a-67cd-43db-bc8a-61aeba29ab88",
   "metadata": {},
   "outputs": [
    {
     "name": "stdout",
     "output_type": "stream",
     "text": [
      "['Name', 'Age', 'Location']\n",
      "['John', '30', 'New York']\n",
      "['Alice', '25', 'Los Angeles']\n",
      "['Bob', '35', 'Chicago']\n"
     ]
    }
   ],
   "source": [
    "#50. Convert a CSV string to a list of lists.\n",
    "\n",
    "# CSV string\n",
    "csv_string = \"Name,Age,Location\\nJohn,30,New York\\nAlice,25,Los Angeles\\nBob,35,Chicago\"\n",
    "lines = csv_string.split('\\n')\n",
    "csv_list = [line.split(',') for line in lines]\n",
    "\n",
    "for row in csv_list:\n",
    "    print(row)\n"
   ]
  },
  {
   "cell_type": "markdown",
   "id": "7c48092f-407c-47a8-93d0-40d1e0957b98",
   "metadata": {},
   "source": [
    "***************************\n",
    "List Based Practice Problem\n",
    "***************************"
   ]
  },
  {
   "cell_type": "code",
   "execution_count": 22,
   "id": "8cb73f34-5737-4dd0-b34c-dedf47c44970",
   "metadata": {},
   "outputs": [
    {
     "data": {
      "text/plain": [
       "[1, 2, 3, 4, 5, 6, 7, 8, 9, 10]"
      ]
     },
     "execution_count": 22,
     "metadata": {},
     "output_type": "execute_result"
    }
   ],
   "source": [
    "#1. Create a list with integers from 1 to 10.\n",
    "\n",
    "lst1 = list(range(1,11))\n",
    "lst1"
   ]
  },
  {
   "cell_type": "code",
   "execution_count": 25,
   "id": "cb3ef724-5710-4af5-b478-a14bfcce969a",
   "metadata": {},
   "outputs": [
    {
     "name": "stdout",
     "output_type": "stream",
     "text": [
      "Length of the list is :  10\n"
     ]
    }
   ],
   "source": [
    "#2. Find the length of a list without using the `len()` function.\n",
    "\n",
    "lst1 = list(range(1,11))\n",
    "count = 0\n",
    "for i in lst1:\n",
    "    count += 1\n",
    "\n",
    "print(\"Length of the list is : \",count)\n"
   ]
  },
  {
   "cell_type": "code",
   "execution_count": 26,
   "id": "35d93044-ec21-458a-83bb-42f33131a9ac",
   "metadata": {},
   "outputs": [
    {
     "data": {
      "text/plain": [
       "[1, 2, 3, 4, 5, 6, 7, 8, 9, 10, 11]"
      ]
     },
     "execution_count": 26,
     "metadata": {},
     "output_type": "execute_result"
    }
   ],
   "source": [
    "#Append an element to the end of a list.\n",
    "\n",
    "lst1 = list(range(1,11))\n",
    "lst1.append(11)\n",
    "lst1"
   ]
  },
  {
   "cell_type": "code",
   "execution_count": 31,
   "id": "dfe76783-6fb2-487e-9223-62d0eac226dc",
   "metadata": {},
   "outputs": [
    {
     "data": {
      "text/plain": [
       "[1, 15, 2, 3, 4, 5, 6, 7, 8, 9, 10]"
      ]
     },
     "execution_count": 31,
     "metadata": {},
     "output_type": "execute_result"
    }
   ],
   "source": [
    "#4. Insert an element at a specific index in a list.\n",
    "\n",
    "lst1 = list(range(1,11))\n",
    "lst1.insert(1,15)\n",
    "lst1"
   ]
  },
  {
   "cell_type": "code",
   "execution_count": 33,
   "id": "4f6559aa-aa71-4662-bbf5-40da7c0be48d",
   "metadata": {},
   "outputs": [
    {
     "data": {
      "text/plain": [
       "[1, 2, 3, 4, 5, 6, 7, 8, 10]"
      ]
     },
     "execution_count": 33,
     "metadata": {},
     "output_type": "execute_result"
    }
   ],
   "source": [
    "#5. Remove an element from a list by its value.\n",
    "lst1 = list(range(1,11))\n",
    "lst1.remove(9)\n",
    "lst1\n"
   ]
  },
  {
   "cell_type": "code",
   "execution_count": 34,
   "id": "e35272e3-2e66-4a8c-ac74-bcae5f325150",
   "metadata": {},
   "outputs": [
    {
     "data": {
      "text/plain": [
       "[1, 2, 3, 4, 6, 7, 8, 9, 10]"
      ]
     },
     "execution_count": 34,
     "metadata": {},
     "output_type": "execute_result"
    }
   ],
   "source": [
    "#6. Remove an element from a list by its index.\n",
    "\n",
    "lst1 = list(range(1,11))\n",
    "lst1.pop(4)\n",
    "lst1"
   ]
  },
  {
   "cell_type": "code",
   "execution_count": 42,
   "id": "b9061b6b-4af9-4fa7-a602-e96192eee786",
   "metadata": {},
   "outputs": [
    {
     "name": "stdin",
     "output_type": "stream",
     "text": [
      "Please a value between 1 to 10 on our list to check is exists 10\n"
     ]
    },
    {
     "name": "stdout",
     "output_type": "stream",
     "text": [
      "value exists in the list\n"
     ]
    }
   ],
   "source": [
    "#7. Check if an element exists in a list.\n",
    "\n",
    "lst1 = list(range(1,11))\n",
    "chk_val=int(input(\"Please a value between 1 to 10 on our list to check is exists\"))\n",
    "if lst1.count(chk_val) > 0:\n",
    "    print(\"value exists in the list\")\n",
    "else:\n",
    "    print(\"Value not exists\")"
   ]
  },
  {
   "cell_type": "code",
   "execution_count": 18,
   "id": "f19fd8a1-5f55-476c-961e-1243d95e5f7f",
   "metadata": {},
   "outputs": [
    {
     "name": "stdin",
     "output_type": "stream",
     "text": [
      "Please a value to check in the list 2\n"
     ]
    },
    {
     "name": "stdout",
     "output_type": "stream",
     "text": [
      "First Occurance in the list :  1\n"
     ]
    }
   ],
   "source": [
    "#8. Find the index of the first occurrence of an element in a list.\n",
    "\n",
    "list1 = [1,2,3,4,5,3,2,1,10]\n",
    "chk_val=int(input(\"Please a value to check in the list\"))\n",
    "print (\"First Occurance in the list : \",list1.index(chk_val))"
   ]
  },
  {
   "cell_type": "code",
   "execution_count": 21,
   "id": "42d77316-db0f-4090-baac-86dcac5db2ab",
   "metadata": {},
   "outputs": [
    {
     "name": "stdin",
     "output_type": "stream",
     "text": [
      "Please a value to check in the list 2\n"
     ]
    },
    {
     "name": "stdout",
     "output_type": "stream",
     "text": [
      "Count of Occurance in the list :  3\n"
     ]
    }
   ],
   "source": [
    "#9. Count the occurrences of an element in a list.\n",
    "\n",
    "list1 = [1,2,3,4,5,3,2,1,10,2]\n",
    "chk_val=int(input(\"Please a value to check in the list\"))\n",
    "print (\"Count of Occurance in the list : \",list1.count(chk_val))"
   ]
  },
  {
   "cell_type": "code",
   "execution_count": 28,
   "id": "77e45fad-cec3-48a5-8be1-c17fc8ef5f7c",
   "metadata": {},
   "outputs": [
    {
     "name": "stdout",
     "output_type": "stream",
     "text": [
      "Reverese Order of our list :  [10, 1, 2, 3, 5, 4, 3, 2, 1]\n",
      "Another way Reverese Order of our list :  [10, 1, 2, 3, 5, 4, 3, 2, 1]\n"
     ]
    }
   ],
   "source": [
    "#10. Reverse the order of elements in a list.\n",
    "\n",
    "list1 = [1,2,3,4,5,3,2,1,10]\n",
    "reversed_list = list(reversed(list1))\n",
    "print (\"Reverese Order of our list : \",reversed_list)\n",
    "\n",
    "print (\"Another way Reverese Order of our list : \",list1[::-1])"
   ]
  },
  {
   "cell_type": "code",
   "execution_count": 37,
   "id": "1e639f74-4e71-471c-8f57-813c5190572f",
   "metadata": {},
   "outputs": [
    {
     "name": "stdout",
     "output_type": "stream",
     "text": [
      "Sorted List is : [1, 1, 2, 2, 3, 3, 4, 5, 10]\n"
     ]
    }
   ],
   "source": [
    "#11. Sort a list in ascending order.\n",
    "\n",
    "list1 = [1,2,3,4,5,3,2,1,10]\n",
    "list1.sort()\n",
    "print(\"Sorted List is :\",list1)\n"
   ]
  },
  {
   "cell_type": "code",
   "execution_count": 38,
   "id": "40e3de9b-1cdc-48cf-8047-c7685be4409e",
   "metadata": {},
   "outputs": [
    {
     "name": "stdout",
     "output_type": "stream",
     "text": [
      "Sorted List is Descending Order : [10, 5, 4, 3, 3, 2, 2, 1, 1]\n"
     ]
    }
   ],
   "source": [
    "#12. Sort a list in descending order.\n",
    "list1 = [1,2,3,4,5,3,2,1,10]\n",
    "list1.sort()\n",
    "\n",
    "print(\"Sorted List is Descending Order :\",list1[::-1])"
   ]
  },
  {
   "cell_type": "code",
   "execution_count": 45,
   "id": "72043cd2-b1c7-42ea-9a30-976bf71698a4",
   "metadata": {},
   "outputs": [
    {
     "name": "stdout",
     "output_type": "stream",
     "text": [
      "Even Number List from 1 to 20 will be :  [2, 4, 6, 8, 10, 12, 14, 16, 18]\n"
     ]
    }
   ],
   "source": [
    "#13. Create a list of even numbers from 1 to 20.\n",
    "\n",
    "even_list = []\n",
    "for i in list(range(1,20)):\n",
    "    if i%2 == 0:\n",
    "        even_list.append(i)\n",
    "\n",
    "print (\"Even Number List from 1 to 20 will be : \",even_list)"
   ]
  },
  {
   "cell_type": "code",
   "execution_count": 47,
   "id": "2ea489a9-4504-4bd0-9f19-bc5b1f58daa6",
   "metadata": {},
   "outputs": [
    {
     "name": "stdout",
     "output_type": "stream",
     "text": [
      "Odd Number List from 1 to 20 will be :  [1, 3, 5, 7, 9, 11, 13, 15, 17, 19]\n"
     ]
    }
   ],
   "source": [
    "#14. Create a list of odd numbers from 1 to 20.\n",
    "\n",
    "odd_list = []\n",
    "for i in list(range(1,20)):\n",
    "    if i%2 != 0:\n",
    "        odd_list.append(i)\n",
    "\n",
    "print (\"Odd Number List from 1 to 20 will be : \",odd_list)"
   ]
  },
  {
   "cell_type": "code",
   "execution_count": 50,
   "id": "de9c161c-e709-4e42-85c8-d869b9b56b55",
   "metadata": {},
   "outputs": [
    {
     "name": "stdout",
     "output_type": "stream",
     "text": [
      "Sum of all the Elements in a list : 55\n"
     ]
    }
   ],
   "source": [
    "#15. Find the sum of all elements in a list.\n",
    "\n",
    "list1 = [1,2,3,4,5,6,7,8,9,10]\n",
    "total_sum = sum(list1)\n",
    "print (\"Sum of all the Elements in a list :\",total_sum)"
   ]
  },
  {
   "cell_type": "code",
   "execution_count": 51,
   "id": "11757342-d3a7-4720-ba64-dac8666ef4ac",
   "metadata": {},
   "outputs": [
    {
     "name": "stdout",
     "output_type": "stream",
     "text": [
      "Maximum of the value in the list : 10\n"
     ]
    }
   ],
   "source": [
    "#16. Find the maximum value in a list.\n",
    "\n",
    "list1 = [1,2,3,4,5,6,7,8,9,10]\n",
    "max_val = max(list1)\n",
    "print (\"Maximum of the value in the list :\",max_val)"
   ]
  },
  {
   "cell_type": "code",
   "execution_count": 52,
   "id": "f766bde6-4167-4dd0-a82f-ecd07c75effb",
   "metadata": {},
   "outputs": [
    {
     "name": "stdout",
     "output_type": "stream",
     "text": [
      "Maximum of the value in the list : 1\n"
     ]
    }
   ],
   "source": [
    "#17. Find the minimum value in a list.\n",
    "\n",
    "list1 = [1,2,3,4,5,6,7,8,9,10]\n",
    "min_val = min(list1)\n",
    "print (\"Maximum of the value in the list :\",min_val)"
   ]
  },
  {
   "cell_type": "code",
   "execution_count": 55,
   "id": "98409b7b-b41b-4afd-ba04-b1d8799b11ff",
   "metadata": {},
   "outputs": [
    {
     "name": "stdout",
     "output_type": "stream",
     "text": [
      "List of Square numbers :  [1, 4, 9, 16, 25, 36, 49, 64, 81]\n"
     ]
    }
   ],
   "source": [
    "#18. Create a list of squares of numbers from 1 to 10.\n",
    "\n",
    "sqr_list = []\n",
    "for i in list(range(1,10)):\n",
    "    sqr_list.append(i**2)\n",
    "    \n",
    "print (\"List of Square numbers : \",sqr_list)    "
   ]
  },
  {
   "cell_type": "code",
   "execution_count": 8,
   "id": "e5acc692-ce9d-4ee1-afba-bca554a8b4d9",
   "metadata": {},
   "outputs": [
    {
     "name": "stdout",
     "output_type": "stream",
     "text": [
      "[58, 23, 60, 81, 70, 82, 68, 84, 43, 92]\n"
     ]
    }
   ],
   "source": [
    "#19. Create a list of random numbers.\n",
    "\n",
    "import random\n",
    "\n",
    "random_numbers = []\n",
    "for i in range(10):\n",
    "    random_number = random.randint(1, 100)\n",
    "    random_numbers.append(random_number)\n",
    "\n",
    "print(random_numbers)"
   ]
  },
  {
   "cell_type": "code",
   "execution_count": 12,
   "id": "5ba4e799-c67d-4c18-92eb-6c0add34f5b2",
   "metadata": {},
   "outputs": [
    {
     "name": "stdout",
     "output_type": "stream",
     "text": [
      "After Remove Duplicate :  [1, 2, 3, 4, 5, 6, 7, 8]\n"
     ]
    }
   ],
   "source": [
    "#20. Remove duplicates from a list.\n",
    "\n",
    "mylist = [1,2,3,4,5,3,2,7,6,8,1]\n",
    "print(\"After Remove Duplicate : \",list(set(mylist)))"
   ]
  },
  {
   "cell_type": "code",
   "execution_count": 17,
   "id": "81b67d0a-0673-451a-9d5f-005a2a7b596d",
   "metadata": {},
   "outputs": [
    {
     "name": "stdout",
     "output_type": "stream",
     "text": [
      "Commong List is :  [1, 2, 3, 4, 5]\n"
     ]
    }
   ],
   "source": [
    "#21. Find the common elements between two lists.\n",
    "\n",
    "mylist1 = [1,2,3,4,5,6,7,8,9,10]\n",
    "mylist2 = [1,2,3,4,5]\n",
    "commonlist = []\n",
    "\n",
    "for i in mylist1:\n",
    "    if mylist2.count(i) > 0:\n",
    "        commonlist.append(i)\n",
    "            \n",
    "print (\"Commong List is : \",commonlist)"
   ]
  },
  {
   "cell_type": "code",
   "execution_count": 21,
   "id": "049e93b3-384f-4218-bc94-345699144890",
   "metadata": {},
   "outputs": [
    {
     "name": "stdout",
     "output_type": "stream",
     "text": [
      "Difference List is :  [6, 7, 8, 9, 10, 11, 12, 13, 14]\n"
     ]
    }
   ],
   "source": [
    "#22. Find the difference between two lists.\n",
    "\n",
    "mylist1 = [1,2,3,4,5,6,7,8,9,10]\n",
    "mylist2 = [1,2,3,4,5,11,12,13,14]\n",
    "commonlist = []\n",
    "\n",
    "for i in mylist1:\n",
    "    if mylist2.count(i) == 0:\n",
    "        commonlist.append(i)\n",
    "        \n",
    "for i in mylist2:\n",
    "    if mylist1.count(i) == 0:\n",
    "        commonlist.append(i)        \n",
    "            \n",
    "print (\"Difference List is : \",commonlist)\n"
   ]
  },
  {
   "cell_type": "code",
   "execution_count": 23,
   "id": "f1c9aae6-cc14-48fb-98f7-0e33cc329ae3",
   "metadata": {},
   "outputs": [
    {
     "name": "stdout",
     "output_type": "stream",
     "text": [
      "Merge List are :  [1, 2, 3, 4, 5, 6, 7, 8, 9, 10, 1, 2, 3, 4, 5, 11, 12, 13, 14]\n"
     ]
    }
   ],
   "source": [
    "#23. Merge two lists.\n",
    "\n",
    "mylist1 = [1,2,3,4,5,6,7,8,9,10]\n",
    "mylist2 = [1,2,3,4,5,11,12,13,14]\n",
    "mylist3 = list(mylist1+mylist2)\n",
    "print (\"Merge List are : \",mylist3)"
   ]
  },
  {
   "cell_type": "code",
   "execution_count": 27,
   "id": "d87e1e52-5a4e-4843-9e5a-cecd73f66f43",
   "metadata": {},
   "outputs": [
    {
     "name": "stdout",
     "output_type": "stream",
     "text": [
      "New List after Multiple by 2 :  [2, 4, 6, 8, 10, 12, 14, 16, 18, 20]\n"
     ]
    }
   ],
   "source": [
    "#24. Multiply all elements in a list by 2.\n",
    "mylist1 = [1,2,3,4,5,6,7,8,9,10]\n",
    "mul_list = []\n",
    "for i in mylist1:\n",
    "    mul_list.append(2*i)\n",
    "\n",
    "print(\"New List after Multiple by 2 : \",mul_list)"
   ]
  },
  {
   "cell_type": "code",
   "execution_count": 28,
   "id": "832f8c04-dd99-4e90-b13a-540369e9ca7b",
   "metadata": {},
   "outputs": [
    {
     "name": "stdout",
     "output_type": "stream",
     "text": [
      "Even List are :  [2, 4, 6, 8, 10]\n"
     ]
    }
   ],
   "source": [
    "#25. Filter out all even numbers from a list.\n",
    "\n",
    "mylist1 = [1,2,3,4,5,6,7,8,9,10]\n",
    "even_list = []\n",
    "for i in mylist1:\n",
    "    if i%2 == 0:\n",
    "        even_list.append(i)\n",
    "\n",
    "print (\"Even List are : \",even_list)"
   ]
  },
  {
   "cell_type": "code",
   "execution_count": 29,
   "id": "4a59b8c0-b67c-40af-9ef6-56a0319ee6fb",
   "metadata": {},
   "outputs": [
    {
     "name": "stdout",
     "output_type": "stream",
     "text": [
      "Interger List is :  [1, 2, 3, 4, 5]\n"
     ]
    }
   ],
   "source": [
    "#26. Convert a list of strings to a list of integers.\n",
    "\n",
    "string_list = [\"1\", \"2\", \"3\", \"4\", \"5\"]\n",
    "\n",
    "int_list = []\n",
    "for i in string_list:\n",
    "    int_list.append(int(i))\n",
    "\n",
    "print(\"Interger List is : \",int_list)\n",
    "\n"
   ]
  },
  {
   "cell_type": "code",
   "execution_count": 30,
   "id": "7dc6889e-2170-40af-abf9-1814f79b8139",
   "metadata": {},
   "outputs": [
    {
     "name": "stdout",
     "output_type": "stream",
     "text": [
      "String List is :  ['1', '2', '3', '4', '5']\n"
     ]
    }
   ],
   "source": [
    "#27. Convert a list of integers to a list of strings.\n",
    "\n",
    "int_list = [1,2,3,4,5]\n",
    "str_list =[]\n",
    "for i in int_list:\n",
    "    str_list.append(str(i))\n",
    "\n",
    "print(\"String List is : \",str_list)\n"
   ]
  },
  {
   "cell_type": "code",
   "execution_count": 39,
   "id": "b6b50c07-3a86-4bb7-b0c6-149e18ef2abf",
   "metadata": {},
   "outputs": [
    {
     "name": "stdout",
     "output_type": "stream",
     "text": [
      "Flatten List is :  [1, 2, 3, 4, 5, 6, 7, 8, 9, 10]\n"
     ]
    }
   ],
   "source": [
    "#28. Flatten a nested list.\n",
    "\n",
    "nested_list = [[1, 2, 3], [4, 5], [6, 7, 8, 9],10]\n",
    "\n",
    "flatten_list = []\n",
    "for item in nested_list:\n",
    "    if isinstance(item, list):\n",
    "        flatten_list.extend(item)\n",
    "    else:\n",
    "        flatten_list.append(item)\n",
    "print(\"Flatten List is : \",flatten_list)\n",
    "        "
   ]
  },
  {
   "cell_type": "code",
   "execution_count": 42,
   "id": "438449e7-b555-4556-9e26-f8e6e3550d4b",
   "metadata": {},
   "outputs": [
    {
     "name": "stdout",
     "output_type": "stream",
     "text": [
      "List of first 10 Fibonacci numbers :  [0, 1, 1, 2, 3, 5, 8, 13, 21, 34]\n"
     ]
    }
   ],
   "source": [
    "#29. Create a list of the first 10 Fibonacci numbers.\n",
    "\n",
    "n = 10\n",
    "fib_sequence = [0, 1]\n",
    "while len(fib_sequence) < n:\n",
    "    next_num = fib_sequence[-1] + fib_sequence[-2]\n",
    "    fib_sequence.append(next_num)\n",
    "\n",
    "print(\"List of first 10 Fibonacci numbers : \", fib_sequence)"
   ]
  },
  {
   "cell_type": "code",
   "execution_count": 43,
   "id": "8fc1c0f8-b67b-4391-a9d5-2eeed0a2adb7",
   "metadata": {},
   "outputs": [
    {
     "name": "stdout",
     "output_type": "stream",
     "text": [
      "The list is not sorted in ascending order.\n"
     ]
    }
   ],
   "source": [
    "#30. Check if a list is sorted.\n",
    "\n",
    "my_list = [1, 2, 3, 5, 6, 3]\n",
    "\n",
    "if my_list == sorted(my_list):\n",
    "    print(\"The list is sorted in ascending order.\")\n",
    "else:\n",
    "    print(\"The list is not sorted in ascending order.\")\n"
   ]
  },
  {
   "cell_type": "code",
   "execution_count": 49,
   "id": "ad712fac-c6db-4734-acf9-a0d40b5b7cba",
   "metadata": {},
   "outputs": [
    {
     "name": "stdin",
     "output_type": "stream",
     "text": [
      "Enter the number of position to rotate left 2\n"
     ]
    },
    {
     "name": "stdout",
     "output_type": "stream",
     "text": [
      "New List after left rotate :  [3, 4, 5, 1, 2]\n"
     ]
    }
   ],
   "source": [
    "#31. Rotate a list to the left by `n` positions.\n",
    "\n",
    "my_list = [1, 2, 3, 4, 5]\n",
    "n=int(input(\"Enter the number of position to rotate left\"))\n",
    "new_list = my_list[n:]+my_list[:n]\n",
    "print (\"New List after left rotate : \",new_list)"
   ]
  },
  {
   "cell_type": "code",
   "execution_count": 55,
   "id": "d9c3514a-b785-4a03-af31-43cb4a7680fe",
   "metadata": {},
   "outputs": [
    {
     "name": "stdin",
     "output_type": "stream",
     "text": [
      "Enter the number of position to rotate left 2\n"
     ]
    },
    {
     "name": "stdout",
     "output_type": "stream",
     "text": [
      "New List after Right rotate :  [4, 5, 1, 2, 3]\n"
     ]
    }
   ],
   "source": [
    "#32. Rotate a list to the right by `n` positions.\n",
    "\n",
    "my_list = [1, 2, 3, 4, 5]\n",
    "n=int(input(\"Enter the number of position to rotate left\"))\n",
    "new_list = my_list[-n:]+my_list[:-n]\n",
    "print (\"New List after Right rotate : \",new_list)"
   ]
  },
  {
   "cell_type": "code",
   "execution_count": 1,
   "id": "eba74907-60b8-43f6-b7bf-e7b7e0f667cd",
   "metadata": {},
   "outputs": [
    {
     "name": "stdout",
     "output_type": "stream",
     "text": [
      "[2, 3, 5, 7, 11, 13, 17, 19, 23, 29, 31, 37, 41, 43, 47, 53, 59, 61, 67, 71, 73, 79, 83, 89, 97, 101, 103, 107, 109, 113, 127, 131, 137, 139, 149, 151, 157, 163, 167, 173, 179, 181, 191, 193, 197, 199, 211, 223, 227, 229]\n"
     ]
    }
   ],
   "source": [
    "#33. Create a list of prime numbers up to 50.\n",
    "\n",
    "def is_prime(number):\n",
    "    if number <= 1:\n",
    "        return False\n",
    "    if number <= 3:\n",
    "        return True\n",
    "    if number % 2 == 0 or number % 3 == 0:\n",
    "        return False\n",
    "    i = 5\n",
    "    while i * i <= number:\n",
    "        if number % i == 0 or number % (i + 2) == 0:\n",
    "            return False\n",
    "        i += 6\n",
    "    return True\n",
    "\n",
    "def generate_first_n_primes(n):\n",
    "    primes = []\n",
    "    number = 2\n",
    "    while len(primes) < n:\n",
    "        if is_prime(number):\n",
    "            primes.append(number)\n",
    "        number += 1\n",
    "    return primes\n",
    "\n",
    "first_50_primes = generate_first_n_primes(50)\n",
    "print(first_50_primes)\n"
   ]
  },
  {
   "cell_type": "code",
   "execution_count": 18,
   "id": "402fe0e1-7996-4a51-89fb-66e25b36411d",
   "metadata": {},
   "outputs": [
    {
     "name": "stdin",
     "output_type": "stream",
     "text": [
      "Enter the Chunk Size 3\n"
     ]
    },
    {
     "name": "stdout",
     "output_type": "stream",
     "text": [
      "[[1, 2, 3], [4, 5, 6], [7, 8, 9]]\n"
     ]
    }
   ],
   "source": [
    "#34. Split a list into chunks of size `n`.\n",
    "\n",
    "my_list = [1, 2, 3, 4, 5, 6, 7, 8, 9]\n",
    "chunk_size = int(input(\"Enter the Chunk Size\"))\n",
    "result_list = []\n",
    "for i in range(0, len(my_list), chunk_size):\n",
    "        chunk_list_part = my_list[i:i + chunk_size]\n",
    "        result_list.append(chunk_list_part)\n",
    "    \n",
    "print(result_list)\n"
   ]
  },
  {
   "cell_type": "code",
   "execution_count": 29,
   "id": "bc9f3dd0-ef30-4618-afd3-3fcf6ca44ca3",
   "metadata": {},
   "outputs": [
    {
     "name": "stdout",
     "output_type": "stream",
     "text": [
      "Secound largets number is : 41\n"
     ]
    }
   ],
   "source": [
    "#35. Find the second largest number in a list.\n",
    "\n",
    "my_list = [12, 45, 2, 41, 31, 10, 8, 6, 4]\n",
    "print(\"Secound largets number is :\",sorted(list(set(my_list)))[-2])\n"
   ]
  },
  {
   "cell_type": "code",
   "execution_count": 30,
   "id": "2e42a2bd-8fa7-429c-9e21-c94b510757e0",
   "metadata": {},
   "outputs": [
    {
     "name": "stdout",
     "output_type": "stream",
     "text": [
      "List of Square numbers :  [1, 4, 9, 16, 25, 36, 49, 64, 81]\n"
     ]
    }
   ],
   "source": [
    "#36. Replace every element in a list with its square.\n",
    "\n",
    "my_list = [1, 2, 3, 4, 5, 6, 7, 8, 9]\n",
    "sqr_list = []\n",
    "for i in my_list:\n",
    "    sqr_list.append(i**2)\n",
    "    \n",
    "print (\"List of Square numbers : \",sqr_list) "
   ]
  },
  {
   "cell_type": "code",
   "execution_count": 33,
   "id": "293069b1-7f69-4d1f-9936-d40c23780b5b",
   "metadata": {},
   "outputs": [
    {
     "name": "stdout",
     "output_type": "stream",
     "text": [
      "{'apple': 0, 'banana': 1, 'cherry': 2, 'date': 3}\n"
     ]
    }
   ],
   "source": [
    "#37. Convert a list to a dictionary where list elements become keys and their indices become values.\n",
    "\n",
    "my_list = ['apple', 'banana', 'cherry', 'date']\n",
    "my_dict = {value: index for index, value in enumerate(my_list)}\n",
    "print(my_dict)"
   ]
  },
  {
   "cell_type": "code",
   "execution_count": 35,
   "id": "aed687f8-24b1-493a-94a7-c5cf36d82a7d",
   "metadata": {},
   "outputs": [
    {
     "name": "stdout",
     "output_type": "stream",
     "text": [
      "[5, 4, 3, 1, 2]\n"
     ]
    }
   ],
   "source": [
    "#38. Shuffle the elements of a list randomly.\n",
    "\n",
    "import random\n",
    "my_list = [1, 2, 3, 4, 5]\n",
    "random.shuffle(my_list)\n",
    "print(my_list)"
   ]
  },
  {
   "cell_type": "code",
   "execution_count": 41,
   "id": "3574c577-e165-4f4f-acb3-18b14ea3b67c",
   "metadata": {},
   "outputs": [
    {
     "name": "stdout",
     "output_type": "stream",
     "text": [
      "[1, 1, 2, 6, 24, 120, 720, 5040, 40320, 362880]\n"
     ]
    }
   ],
   "source": [
    "#39. Create a list of the first 10 factorial numbers.\n",
    "\n",
    "def factorial(n):\n",
    "    if n == 0:\n",
    "        return 1\n",
    "    else:\n",
    "        return n * factorial(n - 1)\n",
    "\n",
    "# Create a list of the first 10 factorial numbers\n",
    "factorial_numbers = [factorial(i) for i in range(10)]\n",
    "\n",
    "print(factorial_numbers)\n"
   ]
  },
  {
   "cell_type": "code",
   "execution_count": 45,
   "id": "db1c6ff6-e400-429b-a119-6546e38c5e7c",
   "metadata": {},
   "outputs": [
    {
     "name": "stdout",
     "output_type": "stream",
     "text": [
      "We have more than one common elements in the lists\n"
     ]
    }
   ],
   "source": [
    "#40. Check if two lists have at least one element in common\n",
    "\n",
    "mylist1 = [1,2,3,4,5,6,7,8,9,10]\n",
    "mylist2 = [1,2,3,4,5]\n",
    "commonlist = []\n",
    "\n",
    "for i in mylist1:\n",
    "    if mylist2.count(i) > 0:\n",
    "        commonlist.append(i)\n",
    "            \n",
    "if len(commonlist) > 0:\n",
    "    print ('We have more than one common elements in the lists')\n",
    "else:\n",
    "    print ('There is no common elements in the lists')"
   ]
  },
  {
   "cell_type": "code",
   "execution_count": 47,
   "id": "cba4e4bc-7f7a-4ec4-80e7-bec216d0e3de",
   "metadata": {},
   "outputs": [
    {
     "name": "stdout",
     "output_type": "stream",
     "text": [
      "My Current list is :  []\n"
     ]
    }
   ],
   "source": [
    "#41. Remove all elements from a list.\n",
    "\n",
    "mylist1 = [1,2,3,4,5,6,7,8,9,10]\n",
    "mylist1.clear()\n",
    "\n",
    "print (\"My Current list is : \",mylist1)"
   ]
  },
  {
   "cell_type": "code",
   "execution_count": 54,
   "id": "e91a5e66-3eab-46d8-babf-1aab3d4028f3",
   "metadata": {},
   "outputs": [
    {
     "name": "stdout",
     "output_type": "stream",
     "text": [
      "[1, 2, 3, 0, 0, 0]\n"
     ]
    }
   ],
   "source": [
    "#42. Replace negative numbers in a list with 0.\n",
    "\n",
    "mylist1 = [1, 2, 3, -4, -6, -7]\n",
    "for i in mylist1:\n",
    "    if i < 0:\n",
    "        index = mylist1.index(i)\n",
    "        mylist1[index] = 0\n",
    "\n",
    "print(mylist1)\n"
   ]
  },
  {
   "cell_type": "code",
   "execution_count": 55,
   "id": "f0fc4185-04d5-4972-ab27-30dcb6375074",
   "metadata": {},
   "outputs": [
    {
     "name": "stdout",
     "output_type": "stream",
     "text": [
      "['This', 'is', 'a', 'sample', 'string', 'to', 'split', 'into', 'words.']\n"
     ]
    }
   ],
   "source": [
    "#43. Convert a string into a list of words.\n",
    "\n",
    "my_string = \"This is a sample string to split into words.\"\n",
    "word_list = my_string.split()\n",
    "print(word_list)"
   ]
  },
  {
   "cell_type": "code",
   "execution_count": 60,
   "id": "50c6aceb-6322-4e3b-8607-3c3196106002",
   "metadata": {},
   "outputs": [
    {
     "name": "stdout",
     "output_type": "stream",
     "text": [
      "My list to string :  This is a sample list join to Phrase.\n"
     ]
    }
   ],
   "source": [
    "#44. Convert a list of words into a string.\n",
    "mylist = ['This', 'is', 'a', 'sample', 'list', 'join', 'to', 'Phrase.']\n",
    "my_string = ' '.join(mylist)\n",
    "print(\"My list to string : \",my_string)\n"
   ]
  },
  {
   "cell_type": "code",
   "execution_count": 62,
   "id": "09311a03-74e0-4fb0-be64-e9163d06b375",
   "metadata": {},
   "outputs": [
    {
     "name": "stdout",
     "output_type": "stream",
     "text": [
      "[1, 2, 4, 8, 16]\n"
     ]
    }
   ],
   "source": [
    "#45. Create a list of the first `n` powers of 2.\n",
    "\n",
    "n = 5  \n",
    "powers_of_2 = [2 ** i for i in range(n)]\n",
    "print(powers_of_2)"
   ]
  },
  {
   "cell_type": "code",
   "execution_count": 63,
   "id": "aca5a547-5901-4af6-b249-129bb8710246",
   "metadata": {},
   "outputs": [
    {
     "name": "stdout",
     "output_type": "stream",
     "text": [
      "The longest string is: banana\n"
     ]
    }
   ],
   "source": [
    "#46. Find the longest string in a list of strings.\n",
    "\n",
    "my_list = ['apple', 'banana', 'cherry', 'date']\n",
    "longest_string = max(my_list, key=len)\n",
    "print(\"The longest string is:\", longest_string)"
   ]
  },
  {
   "cell_type": "code",
   "execution_count": 64,
   "id": "b31eb85b-9d67-441c-bf9e-26ea3e3ca357",
   "metadata": {},
   "outputs": [
    {
     "name": "stdout",
     "output_type": "stream",
     "text": [
      "The Shortest string is: date\n"
     ]
    }
   ],
   "source": [
    "#47. Find the shortest string in a list of strings.\n",
    "\n",
    "my_list = ['apple', 'banana', 'cherry', 'date']\n",
    "Shortest_string = min(my_list, key=len)\n",
    "print(\"The Shortest string is:\", Shortest_string)"
   ]
  },
  {
   "cell_type": "code",
   "execution_count": 67,
   "id": "cdf22305-949f-4414-95ce-db08055940ea",
   "metadata": {},
   "outputs": [
    {
     "name": "stdout",
     "output_type": "stream",
     "text": [
      "[1, 3, 6, 10, 15]\n"
     ]
    }
   ],
   "source": [
    "#48. Create a list of the first `n` triangular numbers.\n",
    "\n",
    "n = 5 \n",
    "triangular_numbers = []\n",
    "for i in range(1, n + 1):\n",
    "    triangular_numbers.append((i * (i + 1)) // 2)\n",
    "print(triangular_numbers)\n"
   ]
  },
  {
   "cell_type": "code",
   "execution_count": 68,
   "id": "608e9e9d-4058-40ce-89d3-7d620cc024ec",
   "metadata": {},
   "outputs": [
    {
     "name": "stdout",
     "output_type": "stream",
     "text": [
      "True\n"
     ]
    }
   ],
   "source": [
    "#49. Check if a list contains another list as a subsequence.\n",
    "def is_subsequence(subseq, seq):\n",
    "    subseq_len = len(subseq)\n",
    "    seq_len = len(seq)\n",
    "    \n",
    "    # Initialize indices for subseq and seq\n",
    "    subseq_index = 0\n",
    "    seq_index = 0\n",
    "    \n",
    "    # Iterate through the lists\n",
    "    while subseq_index < subseq_len and seq_index < seq_len:\n",
    "        if subseq[subseq_index] == seq[seq_index]:\n",
    "            subseq_index += 1\n",
    "        seq_index += 1\n",
    "\n",
    "    # If all elements of subseq have been found in seq, it's a subsequence\n",
    "    return subseq_index == subseq_len\n",
    "\n",
    "seq = [1, 2, 3, 4, 5, 6, 7, 8, 9]\n",
    "subseq = [2, 4, 6]\n",
    "\n",
    "result = is_subsequence(subseq, seq)\n",
    "print(result)  # True\n"
   ]
  },
  {
   "cell_type": "code",
   "execution_count": 69,
   "id": "54c25721-d214-48b0-a47f-2f34c4f601a2",
   "metadata": {},
   "outputs": [
    {
     "name": "stdout",
     "output_type": "stream",
     "text": [
      "[1, 4, 3, 2, 5]\n"
     ]
    }
   ],
   "source": [
    "#50. Swap two elements in a list by their indices.\n",
    "def swap_elements_by_indices(my_list, index1, index2):\n",
    "    if 0 <= index1 < len(my_list) and 0 <= index2 < len(my_list):\n",
    "        my_list[index1], my_list[index2] = my_list[index2], my_list[index1]\n",
    "\n",
    "# Example usage:\n",
    "my_list = [1, 2, 3, 4, 5]\n",
    "index1 = 1\n",
    "index2 = 3\n",
    "\n",
    "swap_elements_by_indices(my_list, index1, index2)\n",
    "\n",
    "print(my_list)\n"
   ]
  },
  {
   "cell_type": "markdown",
   "id": "df54e8a9-c1ef-4d45-b762-461dff18f54f",
   "metadata": {},
   "source": [
    "Tuple Based Practice Problem"
   ]
  },
  {
   "cell_type": "code",
   "execution_count": 4,
   "id": "25031187-b096-4c92-88e3-23f37cec1b78",
   "metadata": {},
   "outputs": [
    {
     "name": "stdout",
     "output_type": "stream",
     "text": [
      "My Tuple is :  (1, 2, 3, 4, 5)\n"
     ]
    }
   ],
   "source": [
    "#1. Create a tuple with integers from 1 to 5.\n",
    "\n",
    "my_tuple = tuple(range(1, 6))\n",
    "print (\"My Tuple is : \",my_tuple)"
   ]
  },
  {
   "cell_type": "code",
   "execution_count": 11,
   "id": "abb5184b-6e31-4fe5-9fd2-3fbb2fa87234",
   "metadata": {},
   "outputs": [
    {
     "name": "stdout",
     "output_type": "stream",
     "text": [
      "My Tuple is :  (1, 2, 3, 4, 5)\n",
      "Third Element in my tupple is :  3\n"
     ]
    }
   ],
   "source": [
    "#2. Access the third element of a tuple.\n",
    "\n",
    "my_tuple = tuple(range(1, 6))\n",
    "print (\"My Tuple is : \",my_tuple)\n",
    "print (\"Third Element in my tupple is : \",my_tuple[2])"
   ]
  },
  {
   "cell_type": "code",
   "execution_count": 15,
   "id": "4503ecfe-583e-4c8e-a0d4-331b654d70cd",
   "metadata": {},
   "outputs": [
    {
     "name": "stdout",
     "output_type": "stream",
     "text": [
      "My Tuple is :  (1, 2, 3, 4, 5)\n",
      "Length of tupple is :  5\n"
     ]
    }
   ],
   "source": [
    "#3. Find the length of a tuple without using the `len()` function.\n",
    "\n",
    "my_tuple = tuple(range(1, 6))\n",
    "len_cnt = 0\n",
    "for i in my_tuple:\n",
    "    len_cnt += 1\n",
    "\n",
    "print (\"My Tuple is : \",my_tuple)\n",
    "print (\"Length of tupple is : \",len_cnt)"
   ]
  },
  {
   "cell_type": "code",
   "execution_count": 18,
   "id": "1b75274b-b38d-47f3-a9b7-c513b050f713",
   "metadata": {},
   "outputs": [
    {
     "name": "stdout",
     "output_type": "stream",
     "text": [
      "My Tuple is :  (1, 2, 2, 3, 4, 5, 6)\n",
      "No of Occurance is :  2\n"
     ]
    }
   ],
   "source": [
    "#4. Count the occurrences of an element in a tuple.\n",
    "\n",
    "my_tuple = (1,2,2,3,4,5,6)\n",
    "count = my_tuple.count(2)\n",
    "\n",
    "print (\"My Tuple is : \",my_tuple)\n",
    "print (\"No of Occurance is : \",count)"
   ]
  },
  {
   "cell_type": "code",
   "execution_count": 19,
   "id": "ceba5bc7-7127-4439-80d1-17dc7ab32429",
   "metadata": {},
   "outputs": [
    {
     "name": "stdin",
     "output_type": "stream",
     "text": [
      "Enter the index for the first Occurance of an element 2\n"
     ]
    },
    {
     "name": "stdout",
     "output_type": "stream",
     "text": [
      "My Tuple is :  (1, 2, 2, 3, 4, 5, 6)\n",
      "Index of the first Occurance element will be :  1\n"
     ]
    }
   ],
   "source": [
    "#5. Find the index of the first occurrence of an element in a tuple.\n",
    "\n",
    "my_tuple = (1,2,2,3,4,5,6)\n",
    "ind_find = int(input(\"Enter the index for the first Occurance of an element\"))\n",
    "print (\"My Tuple is : \",my_tuple)\n",
    "print (\"Index of the first Occurance element will be : \",my_tuple.index(ind_find))\n"
   ]
  },
  {
   "cell_type": "code",
   "execution_count": 23,
   "id": "ad81114a-42f2-49d8-ab7b-50d9c8bfe251",
   "metadata": {},
   "outputs": [
    {
     "name": "stdin",
     "output_type": "stream",
     "text": [
      "Enter the value to find in tupple 3\n"
     ]
    },
    {
     "name": "stdout",
     "output_type": "stream",
     "text": [
      "Value Exists in the Tupple\n"
     ]
    }
   ],
   "source": [
    "#6. Check if an element exists in a tuple.\n",
    "\n",
    "my_tuple = (1,2,3,4,5,6)\n",
    "value_to_find = int(input(\"Enter the value to find in tupple\"))\n",
    "if value_to_find in my_tuple:\n",
    "    print (\"Value Exists in the Tupple\")\n",
    "else:\n",
    "    print (\"Value Not Exists in the Tupple\")"
   ]
  },
  {
   "cell_type": "code",
   "execution_count": 24,
   "id": "a6e41a58-35e5-44e9-9ef2-48a586157413",
   "metadata": {},
   "outputs": [
    {
     "name": "stdout",
     "output_type": "stream",
     "text": [
      "My Tuple is :  (1, 2, 3, 4, 5, 6)\n",
      "After convert the Tupple to List : [1, 2, 3, 4, 5, 6]\n"
     ]
    }
   ],
   "source": [
    "#7. Convert a tuple to a list.\n",
    "\n",
    "my_tuple = (1,2,3,4,5,6)\n",
    "print (\"My Tuple is : \",my_tuple)\n",
    "print (\"After convert the Tupple to List :\",list(my_tuple))"
   ]
  },
  {
   "cell_type": "code",
   "execution_count": 26,
   "id": "dd582ecc-c7ae-490d-8fe0-bb855da36566",
   "metadata": {},
   "outputs": [
    {
     "name": "stdout",
     "output_type": "stream",
     "text": [
      "My List is :  [1, 2, 3, 4, 5, 6]\n",
      "After convert the List to Tupple : (1, 2, 3, 4, 5, 6)\n"
     ]
    }
   ],
   "source": [
    "#8. Convert a list to a tuple.\n",
    "\n",
    "my_list = [1, 2, 3, 4, 5, 6]\n",
    "print (\"My List is : \",my_list)\n",
    "print (\"After convert the List to Tupple :\",tuple(my_list))"
   ]
  },
  {
   "cell_type": "code",
   "execution_count": 29,
   "id": "e686ea3f-fbd6-4920-8233-b5f7c44a900d",
   "metadata": {},
   "outputs": [
    {
     "name": "stdout",
     "output_type": "stream",
     "text": [
      "First Value to variable :  1\n"
     ]
    }
   ],
   "source": [
    "#9. Unpack the elements of a tuple into variables.\n",
    "\n",
    "my_tuple = (1,2,3,4,5,6)\n",
    "var1 = my_tuple[0]\n",
    "print (\"First Value to variable : \",var1)"
   ]
  },
  {
   "cell_type": "code",
   "execution_count": 34,
   "id": "ba544ed0-50e9-400b-9eba-773be029d687",
   "metadata": {},
   "outputs": [
    {
     "name": "stdout",
     "output_type": "stream",
     "text": [
      "Even Tupple is :  (2, 4, 6, 8)\n"
     ]
    }
   ],
   "source": [
    "#10. Create a tuple of even numbers from 1 to 10.\n",
    "\n",
    "my_tuple = tuple(range(1, 10))\n",
    "even_list = []\n",
    "for i in my_tuple:\n",
    "    if i%2 == 0:\n",
    "        even_list.append(i)\n",
    "\n",
    "even_tuple = tuple(even_list)\n",
    "print (\"Even Tupple is : \",even_tuple)\n"
   ]
  },
  {
   "cell_type": "code",
   "execution_count": 35,
   "id": "0ec8120b-bb5e-4493-8afe-c1e276f2422d",
   "metadata": {},
   "outputs": [
    {
     "name": "stdout",
     "output_type": "stream",
     "text": [
      "Odd Tupple is :  [1, 3, 5, 7, 9]\n"
     ]
    }
   ],
   "source": [
    "#11. Create a tuple of odd numbers from 1 to 10.\n",
    "\n",
    "my_tuple = tuple(range(1, 10))\n",
    "odd_list = []\n",
    "for i in my_tuple:\n",
    "    if i%2 != 0:\n",
    "        odd_list.append(i)\n",
    "\n",
    "odd_tuple = tuple(odd_list)\n",
    "print (\"Odd Tupple is : \",odd_list)\n"
   ]
  },
  {
   "cell_type": "code",
   "execution_count": 36,
   "id": "7007a144-2333-434e-acbe-433e5875a72c",
   "metadata": {},
   "outputs": [
    {
     "name": "stdout",
     "output_type": "stream",
     "text": [
      "After Concatenate of 2 tupples is :  (1, 2, 3, 4, 5, 1, 6, 7, 8, 9)\n"
     ]
    }
   ],
   "source": [
    "#12. Concatenate two tuples.\n",
    "\n",
    "tup1 = (1,2,3,4,5)\n",
    "tup2 = (1,6,7,8,9)\n",
    "con_tup = tup1+tup2\n",
    "print (\"After Concatenate of 2 tupples is : \",con_tup)\n"
   ]
  },
  {
   "cell_type": "code",
   "execution_count": 38,
   "id": "cf7cda8d-0f14-4656-9a90-c2768a3af459",
   "metadata": {},
   "outputs": [
    {
     "name": "stdout",
     "output_type": "stream",
     "text": [
      "Repeated the tupple 3 times is :  (1, 2, 3, 4, 5, 1, 2, 3, 4, 5, 1, 2, 3, 4, 5)\n"
     ]
    }
   ],
   "source": [
    "#13. Repeat a tuple three times.\n",
    "\n",
    "tup1 = (1,2,3,4,5)\n",
    "new_tup = tup1 *3\n",
    "print (\"Repeated the tupple 3 times is : \",new_tup)"
   ]
  },
  {
   "cell_type": "code",
   "execution_count": 44,
   "id": "97dc9422-e9a3-4bf0-a31f-f8613ae73fe6",
   "metadata": {},
   "outputs": [
    {
     "name": "stdout",
     "output_type": "stream",
     "text": [
      "The tuple is not empty.\n"
     ]
    }
   ],
   "source": [
    "#14. Check if a tuple is empty.\n",
    "\n",
    "tup1 = (1,2,3,4,5)\n",
    "if not tup1:\n",
    "    print(\"The tuple is empty.\")\n",
    "else:\n",
    "    print(\"The tuple is not empty.\")"
   ]
  },
  {
   "cell_type": "code",
   "execution_count": 45,
   "id": "60a75505-cf6d-4043-bc24-635c4eb9a32d",
   "metadata": {},
   "outputs": [
    {
     "name": "stdout",
     "output_type": "stream",
     "text": [
      "Nested Tupple is :  (1, 2, (3, 4), (5, 6, (7, 8)))\n"
     ]
    }
   ],
   "source": [
    "#15. Create a nested tuple.\n",
    "\n",
    "nest_tup = (1,2,(3,4),(5,6,(7,8)))\n",
    "print (\"Nested Tupple is : \",nest_tup)"
   ]
  },
  {
   "cell_type": "code",
   "execution_count": 51,
   "id": "da42af20-ae63-41aa-9d86-97c18fe20ba6",
   "metadata": {},
   "outputs": [
    {
     "name": "stdout",
     "output_type": "stream",
     "text": [
      "First Element in the nested Tupple is :  1\n"
     ]
    }
   ],
   "source": [
    "#16. Access the first element of a nested tuple.\n",
    "\n",
    "nest_tup = ((1,2),(3,4),(5,6,(7,8)))\n",
    "first_element = nest_tup[0]\n",
    "first_nest_element = first_element[0]\n",
    "print (\"First Element in the nested Tupple is : \",first_nest_element)"
   ]
  },
  {
   "cell_type": "code",
   "execution_count": 52,
   "id": "236a3e67-86b9-4071-8ca2-565c24ef291e",
   "metadata": {},
   "outputs": [
    {
     "name": "stdout",
     "output_type": "stream",
     "text": [
      "Tuple for a single element is :  20\n"
     ]
    }
   ],
   "source": [
    "#17. Create a tuple with a single element.\n",
    "\n",
    "sing_tup = (20)\n",
    "print (\"Tuple for a single element is : \",sing_tup)"
   ]
  },
  {
   "cell_type": "code",
   "execution_count": 53,
   "id": "80794515-1f85-4ed6-9d45-4473a4c1c883",
   "metadata": {},
   "outputs": [
    {
     "name": "stdout",
     "output_type": "stream",
     "text": [
      "The tuples are not equal.\n"
     ]
    }
   ],
   "source": [
    "#18. Compare two tuples.\n",
    "\n",
    "tuple1 = (1, 2, 3)\n",
    "tuple2 = (1, 2, 4)\n",
    "\n",
    "if tuple1 == tuple2:\n",
    "    print(\"The tuples are equal.\")\n",
    "else:\n",
    "    print(\"The tuples are not equal.\")"
   ]
  },
  {
   "cell_type": "code",
   "execution_count": 60,
   "id": "9a8ba86c-40c7-4ab2-a125-153bf802d1ac",
   "metadata": {},
   "outputs": [
    {
     "name": "stdout",
     "output_type": "stream",
     "text": [
      "My tuple is :  (1, 2, 3)\n"
     ]
    },
    {
     "ename": "NameError",
     "evalue": "name 'tuple1' is not defined",
     "output_type": "error",
     "traceback": [
      "\u001b[0;31m---------------------------------------------------------------------------\u001b[0m",
      "\u001b[0;31mNameError\u001b[0m                                 Traceback (most recent call last)",
      "Cell \u001b[0;32mIn[60], line 6\u001b[0m\n\u001b[1;32m      4\u001b[0m \u001b[38;5;28mprint\u001b[39m (\u001b[38;5;124m\"\u001b[39m\u001b[38;5;124mMy tuple is : \u001b[39m\u001b[38;5;124m\"\u001b[39m,tuple1)\n\u001b[1;32m      5\u001b[0m \u001b[38;5;28;01mdel\u001b[39;00m tuple1\n\u001b[0;32m----> 6\u001b[0m \u001b[38;5;28mprint\u001b[39m (\u001b[38;5;124m\"\u001b[39m\u001b[38;5;124mAfter Delete the tuple is : \u001b[39m\u001b[38;5;124m\"\u001b[39m,\u001b[43mtuple1\u001b[49m)\n",
      "\u001b[0;31mNameError\u001b[0m: name 'tuple1' is not defined"
     ]
    }
   ],
   "source": [
    "#19. Delete a tuple.\n",
    "\n",
    "tuple1 = (1, 2, 3)\n",
    "print (\"My tuple is : \",tuple1)\n",
    "del tuple1\n",
    "print (\"After Delete the tuple is : \",tuple1)\n"
   ]
  },
  {
   "cell_type": "code",
   "execution_count": 62,
   "id": "fac3d225-652c-4359-95e4-e0398880e386",
   "metadata": {},
   "outputs": [
    {
     "name": "stdout",
     "output_type": "stream",
     "text": [
      "After Slicing the Tupple from 2 to 5 :  (3, 4, 5)\n"
     ]
    }
   ],
   "source": [
    "my_tuple = (1, 2, 3, 4, 5, 6, 7, 8, 9)\n",
    "sliced_tuple = my_tuple[2:5]\n",
    "print(\"After Slicing the Tupple from 2 to 5 : \",sliced_tuple)"
   ]
  },
  {
   "cell_type": "code",
   "execution_count": 64,
   "id": "d00400af-67cf-41e4-a12b-36543a8f5a7c",
   "metadata": {},
   "outputs": [
    {
     "name": "stdout",
     "output_type": "stream",
     "text": [
      "Maximum value in the Tupple :  9\n"
     ]
    }
   ],
   "source": [
    "#21. Find the maximum value in a tuple.\n",
    "\n",
    "my_tuple = (1, 2, 3, 4, 5, 6, 7, 8, 9)\n",
    "print(\"Maximum value in the Tupple : \",max(my_tuple))"
   ]
  },
  {
   "cell_type": "code",
   "execution_count": 65,
   "id": "ae6267b2-5fea-49a5-b900-1ec8c27a5645",
   "metadata": {},
   "outputs": [
    {
     "name": "stdout",
     "output_type": "stream",
     "text": [
      "Minimum value in the Tupple :  1\n"
     ]
    }
   ],
   "source": [
    "#22. Find the minimum value in a tuple.\n",
    "my_tuple = (1, 2, 3, 4, 5, 6, 7, 8, 9)\n",
    "print(\"Minimum value in the Tupple : \",min(my_tuple))"
   ]
  },
  {
   "cell_type": "code",
   "execution_count": 67,
   "id": "38189077-559a-4b2c-962c-16654f9d9b79",
   "metadata": {},
   "outputs": [
    {
     "name": "stdin",
     "output_type": "stream",
     "text": [
      "Enter the string to convert to tupple Pwskills\n"
     ]
    },
    {
     "name": "stdout",
     "output_type": "stream",
     "text": [
      "Tuple list from the string is :  ('P', 'w', 's', 'k', 'i', 'l', 'l', 's')\n"
     ]
    }
   ],
   "source": [
    "#23. Convert a string to a tuple of characters.\n",
    "\n",
    "mystring=input(\"Enter the string to convert to tupple\")\n",
    "print(\"Tuple list from the string is : \",tuple(mystring))"
   ]
  },
  {
   "cell_type": "code",
   "execution_count": 31,
   "id": "5a7fb468-6a2c-49fe-a36a-ca60b3fa0666",
   "metadata": {},
   "outputs": [
    {
     "name": "stdout",
     "output_type": "stream",
     "text": [
      "String from the tupple is :  Pwskills\n"
     ]
    }
   ],
   "source": [
    "#24. Convert a tuple of characters to a string.\n",
    "\n",
    "tup_char = ('P', 'w', 's', 'k', 'i', 'l', 'l', 's')\n",
    "tuple_as_string = \"\"\n",
    "for i in tup_char:\n",
    "    tuple_as_string += i\n",
    "print(\"String from the tupple is : \",tuple_as_string)"
   ]
  },
  {
   "cell_type": "code",
   "execution_count": 75,
   "id": "1ef126ef-7737-4f46-9fb1-9531bfda2953",
   "metadata": {},
   "outputs": [
    {
     "name": "stdout",
     "output_type": "stream",
     "text": [
      "Multi Data type tuple is :  (1, 1.23, 'pwskills', True)\n"
     ]
    }
   ],
   "source": [
    "#25. Create a tuple from multiple data types.\n",
    "\n",
    "tup_mul_data_type = (1,1.23,'pwskills',True)\n",
    "print (\"Multi Data type tuple is : \",tup_mul_data_type)"
   ]
  },
  {
   "cell_type": "code",
   "execution_count": 82,
   "id": "ac1d6164-f911-419c-9c7d-cab5255dade4",
   "metadata": {},
   "outputs": [
    {
     "name": "stdout",
     "output_type": "stream",
     "text": [
      "The two tuples (tuple1 and tuple2) are identical.\n",
      "The two tuples (tuple3 and tuple4) are not identical.\n"
     ]
    }
   ],
   "source": [
    "#26. Check if two tuples are identical.\n",
    "tuple1 = (1, 2, 3, 4, 5)\n",
    "tuple2 = (1, 2, 3, 4, 5)\n",
    "\n",
    "if tuple1 == tuple2:\n",
    "    print(\"The two tuples (tuple1 and tuple2) are identical.\")\n",
    "else:\n",
    "    print(\"The two tuples (tuple1 and tuple2) are not identical.\")\n",
    "\n",
    "tuple3 = (1, 2, 3, 4, 5)\n",
    "tuple4 = (6, 7, 8, 9, 10)\n",
    "\n",
    "if tuple3 == tuple4:\n",
    "    print(\"The two tuples (tuple3 and tuple4) are identical.\")\n",
    "else:\n",
    "    print(\"The two tuples (tuple3 and tuple4) are not identical.\")\n",
    "    "
   ]
  },
  {
   "cell_type": "code",
   "execution_count": 87,
   "id": "c7ab5093-d2c1-4f9b-a08f-31aa690e232b",
   "metadata": {},
   "outputs": [
    {
     "name": "stdout",
     "output_type": "stream",
     "text": [
      "My tuple is :  (1, 4, 2, 3, 7, 8, 9, 0)\n",
      "After tuple sort :  [0, 1, 2, 3, 4, 7, 8, 9]\n"
     ]
    }
   ],
   "source": [
    "#27. Sort the elements of a tuple.\n",
    "\n",
    "tuple1 = (1,4,2,3,7,8,9,0)\n",
    "print (\"My tuple is : \",tuple1)\n",
    "print (\"After tuple sort : \",sorted(tuple1))"
   ]
  },
  {
   "cell_type": "code",
   "execution_count": 92,
   "id": "4d3796b2-ea0d-4d51-ba0c-050b19b2f6d8",
   "metadata": {},
   "outputs": [
    {
     "name": "stdout",
     "output_type": "stream",
     "text": [
      "Tuple of integers to String tuple :  ('1', '4', '2', '3', '7', '8', '9', '0')\n"
     ]
    }
   ],
   "source": [
    "#28. Convert a tuple of integers to a tuple of strings.\n",
    "\n",
    "int_tup1 = (1,4,2,3,7,8,9,0)\n",
    "str_val= \"\"\n",
    "for i in int_tup1:\n",
    "    str_val += str(i)\n",
    "str_tup = tuple(str_val)\n",
    "print (\"Tuple of integers to String tuple : \",str_tup)"
   ]
  },
  {
   "cell_type": "code",
   "execution_count": 95,
   "id": "134bd048-6759-4a10-ab88-d6bc777647c3",
   "metadata": {},
   "outputs": [
    {
     "name": "stdout",
     "output_type": "stream",
     "text": [
      "Tuple of integers to String tuple :  (1, 4, 2, 3, 7, 8, 9, 0)\n"
     ]
    }
   ],
   "source": [
    "#29. Convert a tuple of strings to a tuple of integers.\n",
    "str_tup = ('1', '4', '2', '3', '7', '8', '9', '0')\n",
    "int_list = []\n",
    "for i in str_tup:\n",
    "    int_list.append(int(i))\n",
    "int_tup = tuple(int_list)\n",
    "print (\"Tuple of integers to String tuple : \",int_tup)"
   ]
  },
  {
   "cell_type": "code",
   "execution_count": 97,
   "id": "d1f5b5a4-d1cf-4f37-a500-177f449e082b",
   "metadata": {},
   "outputs": [
    {
     "name": "stdout",
     "output_type": "stream",
     "text": [
      "After Merge of 2 tupples is :  (1, 2, 3, 4, 5, 1, 6, 7, 8, 9)\n"
     ]
    }
   ],
   "source": [
    "#30. Merge two tuples.\n",
    "\n",
    "tup1 = (1,2,3,4,5)\n",
    "tup2 = (1,6,7,8,9)\n",
    "print (\"After Merge of 2 tupples is : \",tup1+tup2)"
   ]
  },
  {
   "cell_type": "code",
   "execution_count": 101,
   "id": "498f6052-8bc7-4bd9-9e24-28cd6f2feea7",
   "metadata": {},
   "outputs": [
    {
     "name": "stdout",
     "output_type": "stream",
     "text": [
      "Flatten nested tuple : (1, 2, 3, 4, 5, 6, 7, 8)\n"
     ]
    }
   ],
   "source": [
    "#31. Flatten a nested tuple.\n",
    "nested_tuple = ((1, 2), (3, 4, 5), (6, (7, 8)))\n",
    "flat_list = []\n",
    "for item in nested_tuple:\n",
    "    if isinstance(item, tuple):\n",
    "        flat_list.extend(flatten_tuple(item))        \n",
    "    else:            \n",
    "        flat_list.append(item)\n",
    "\n",
    "flat_tuple = tuple(flat_list)          \n",
    "print(\"Flatten nested tuple :\",flat_tuple)\n"
   ]
  },
  {
   "cell_type": "code",
   "execution_count": 102,
   "id": "47684074-5a0b-4418-a429-39421068f42e",
   "metadata": {},
   "outputs": [
    {
     "name": "stdout",
     "output_type": "stream",
     "text": [
      "First 5 prime Numbers is :  [2, 3, 5, 7, 11]\n"
     ]
    }
   ],
   "source": [
    "#32. Create a tuple of the first 5 prime numbers.\n",
    "\n",
    "def is_prime(number):\n",
    "    if number <= 1:\n",
    "        return False\n",
    "    if number <= 3:\n",
    "        return True\n",
    "    if number % 2 == 0 or number % 3 == 0:\n",
    "        return False\n",
    "    i = 5\n",
    "    while i * i <= number:\n",
    "        if number % i == 0 or number % (i + 2) == 0:\n",
    "            return False\n",
    "        i += 6\n",
    "    return True\n",
    "\n",
    "count = 0\n",
    "number = 0\n",
    "prime_numbers = []\n",
    "\n",
    "while count < 5:\n",
    "    if is_prime(number):\n",
    "        prime_numbers.append(number)\n",
    "        count += 1\n",
    "    number += 1\n",
    "\n",
    "print(\"First 5 prime Numbers is : \",prime_numbers)\n"
   ]
  },
  {
   "cell_type": "code",
   "execution_count": 103,
   "id": "d270e6ec-00a0-49e1-afa0-3a89f645d890",
   "metadata": {},
   "outputs": [
    {
     "name": "stdout",
     "output_type": "stream",
     "text": [
      "Tuple 1 is a palindrome.\n",
      "Tuple 2 is not a palindrome.\n"
     ]
    }
   ],
   "source": [
    "#33. Check if a tuple is a palindrome.\n",
    "\n",
    "\n",
    "def is_palindrome_tuple(my_tuple):\n",
    "    return my_tuple == my_tuple[::-1]\n",
    "\n",
    "tuple1 = (1, 2, 3, 2, 1)\n",
    "if is_palindrome_tuple(tuple1):\n",
    "    print(\"Tuple 1 is a palindrome.\")\n",
    "else:\n",
    "    print(\"Tuple 1 is not a palindrome.\")\n",
    "\n",
    "tuple2 = (1, 2, 3, 4, 5)\n",
    "if is_palindrome_tuple(tuple2):\n",
    "    print(\"Tuple 2 is a palindrome.\")\n",
    "else:\n",
    "    print(\"Tuple 2 is not a palindrome.\")\n"
   ]
  },
  {
   "cell_type": "code",
   "execution_count": 63,
   "id": "2e347705-f350-4690-8785-9ebe2bc7674d",
   "metadata": {},
   "outputs": [
    {
     "name": "stdout",
     "output_type": "stream",
     "text": [
      "Tuple of Squares of number from 1 to 5 is :  (1, 4, 9, 16, 25)\n"
     ]
    }
   ],
   "source": [
    "#34. Create a tuple of squares of numbers from 1 to 5.\n",
    "\n",
    "sq_list = []\n",
    "for i in range(1,6):\n",
    "    sq_list.append(i**2)\n",
    "sqr_tup = tuple(sq_list)\n",
    "print (\"Tuple of Squares of number from 1 to 5 is : \",sqr_tup)"
   ]
  },
  {
   "cell_type": "code",
   "execution_count": 111,
   "id": "943fc149-119e-42fd-9aaf-7b6782b87e49",
   "metadata": {},
   "outputs": [
    {
     "name": "stdout",
     "output_type": "stream",
     "text": [
      "Even numbers :  (2, 4, 6, 8, 10)\n"
     ]
    }
   ],
   "source": [
    "#35. Filter out all even numbers from a tuple.\n",
    "\n",
    "tup1 = (1,2,3,4,5,6,7,8,9,10)\n",
    "even_list=[]\n",
    "for i in tup1:\n",
    "    if i%2==0:\n",
    "        even_list.append(i)\n",
    "\n",
    "even_tup = tuple(even_list)\n",
    "print(\"Even numbers : \",even_tup)"
   ]
  },
  {
   "cell_type": "code",
   "execution_count": 112,
   "id": "f02eadcb-259b-432f-8481-0f335c37c73e",
   "metadata": {},
   "outputs": [
    {
     "name": "stdout",
     "output_type": "stream",
     "text": [
      "Tuple of Multiple by 2 is :  (2, 4, 6, 8, 10)\n"
     ]
    }
   ],
   "source": [
    "#36. Multiply all elements in a tuple by 2.\n",
    "\n",
    "sq_list = []\n",
    "for i in range(1,6):\n",
    "    sq_list.append(i*2)\n",
    "sqr_tup = tuple(sq_list)\n",
    "print (\"Tuple of Multiple by 2 is : \",sqr_tup)"
   ]
  },
  {
   "cell_type": "code",
   "execution_count": 113,
   "id": "2c53a9ef-3359-4658-bc0e-fd76eba881ff",
   "metadata": {},
   "outputs": [
    {
     "name": "stdout",
     "output_type": "stream",
     "text": [
      "Random Tuple is :  (31, 23, 13, 11, 82)\n"
     ]
    }
   ],
   "source": [
    "#37. Create a tuple of random numbers.\n",
    "\n",
    "import random\n",
    "\n",
    "# Define the range and size of the tuple\n",
    "start_range = 1\n",
    "end_range = 100\n",
    "tuple_size = 5\n",
    "\n",
    "# Create a tuple of unique random integers\n",
    "random_numbers = random.sample(range(start_range, end_range + 1), tuple_size)\n",
    "random_tuple = tuple(random_numbers)\n",
    "\n",
    "print(\"Random Tuple is : \",random_tuple)\n"
   ]
  },
  {
   "cell_type": "code",
   "execution_count": 120,
   "id": "a08ad98c-986e-4805-a73a-87324e740576",
   "metadata": {},
   "outputs": [
    {
     "name": "stdout",
     "output_type": "stream",
     "text": [
      "Tupple is sorted\n"
     ]
    }
   ],
   "source": [
    "#38. Check if a tuple is sorted.\n",
    "\n",
    "tuple1 = (1, 2, 3, 4, 5)\n",
    "if tuple1 == tuple(sorted(tuple1)):\n",
    "    print (\"Tupple is sorted\")\n",
    "else:\n",
    "    print (\"Tupple is not sorted\")"
   ]
  },
  {
   "cell_type": "code",
   "execution_count": 124,
   "id": "3d7f4e1f-4963-409c-a66b-420393d7ddde",
   "metadata": {},
   "outputs": [
    {
     "name": "stdin",
     "output_type": "stream",
     "text": [
      "Enter the position value to rotate the tuple to the left from Entered position 3\n"
     ]
    },
    {
     "name": "stdout",
     "output_type": "stream",
     "text": [
      "(4, 5, 1, 2, 3)\n"
     ]
    }
   ],
   "source": [
    "#39. Rotate a tuple to the left by `n` positions.\n",
    "n_pos = int(input(\"Enter the position value to rotate the tuple to the left from Entered position\"))\n",
    "tuple1 = (1, 2, 3, 4, 5)\n",
    "print (tuple(tuple1[n_pos:]+tuple1[:n_pos]))"
   ]
  },
  {
   "cell_type": "code",
   "execution_count": 130,
   "id": "850efff6-8898-474e-a879-8fea1c3993dd",
   "metadata": {},
   "outputs": [
    {
     "name": "stdin",
     "output_type": "stream",
     "text": [
      "Enter the position value to rotate the tuple to the Right from Entered position 3\n"
     ]
    },
    {
     "data": {
      "text/plain": [
       "(3, 4, 5, 1, 2)"
      ]
     },
     "execution_count": 130,
     "metadata": {},
     "output_type": "execute_result"
    }
   ],
   "source": [
    "#40. Rotate a tuple to the right by `n` positions.\n",
    "n_pos = int(input(\"Enter the position value to rotate the tuple to the Right from Entered position\"))\n",
    "tuple1 = (1, 2, 3, 4, 5)\n",
    "tuple1[-n_pos:]+tuple1[:-n_pos]\n"
   ]
  },
  {
   "cell_type": "code",
   "execution_count": 133,
   "id": "34312380-a0d9-4770-9180-4c2826829d65",
   "metadata": {},
   "outputs": [
    {
     "name": "stdout",
     "output_type": "stream",
     "text": [
      "Tuple of first 5 Fibonacci numbers :  (0, 1, 1, 2, 3)\n"
     ]
    }
   ],
   "source": [
    "#41. Create a tuple of the first 5 Fibonacci numbers.\n",
    "\n",
    "n = 5\n",
    "fib_sequence = [0, 1]\n",
    "while len(fib_sequence) < n:\n",
    "    next_num = fib_sequence[-1] + fib_sequence[-2]\n",
    "    fib_sequence.append(next_num)\n",
    "\n",
    "fib_tupple = tuple(fib_sequence)\n",
    "print(\"Tuple of first 5 Fibonacci numbers : \", fib_tupple)"
   ]
  },
  {
   "cell_type": "code",
   "execution_count": 135,
   "id": "f5f0ec0f-3c38-44f1-9dda-92966d3b0548",
   "metadata": {},
   "outputs": [
    {
     "name": "stdin",
     "output_type": "stream",
     "text": [
      "Enter the tuple list (1,2,3,4,5)\n"
     ]
    },
    {
     "name": "stdout",
     "output_type": "stream",
     "text": [
      "Entered Tuple is :  (1,2,3,4,5)\n"
     ]
    }
   ],
   "source": [
    "#42. Create a tuple from user input..\n",
    "\n",
    "tup=input(\"Enter the tuple list\")\n",
    "print(\"Entered Tuple is : \",tup)"
   ]
  },
  {
   "cell_type": "code",
   "execution_count": 143,
   "id": "0704f03c-0ea3-436a-b5b4-053cbf65886e",
   "metadata": {},
   "outputs": [
    {
     "name": "stdout",
     "output_type": "stream",
     "text": [
      "3\n",
      "2\n"
     ]
    }
   ],
   "source": [
    "#43. Swap two elements in a tuple.\n",
    "\n",
    "tup1 = (1, 2, 3, 4, 5)\n",
    "tuple_list = list(my_tuple)\n",
    "tuple_list[index1], tuple_list[index2] = tuple_list[index2], tuple_list[index1]\n",
    "swapped_tuple = tuple(tuple_list)\n",
    "\n",
    "\n",
    "print(tup1[tup1.index(3)])\n",
    "print(tup1[tup1.index(2)])\n",
    "#print (\"Swap the two elements 2 and 3 from the tuple : \", "
   ]
  },
  {
   "cell_type": "code",
   "execution_count": 12,
   "id": "7ef9e0f6-b159-4848-94be-9854774f9bf1",
   "metadata": {},
   "outputs": [
    {
     "name": "stdout",
     "output_type": "stream",
     "text": [
      "Reverse Order of my tuple is :  (5, 4, 3, 2, 1)\n"
     ]
    }
   ],
   "source": [
    "#44. Reverse the elements of a tuple.\n",
    "\n",
    "tup1 = (1, 2, 3, 4, 5)\n",
    "print (\"Reverse Order of my tuple is : \",tuple(list(reversed(tup1))))"
   ]
  },
  {
   "cell_type": "code",
   "execution_count": 17,
   "id": "a0e036cc-fabc-472c-8bc7-3719079781d6",
   "metadata": {},
   "outputs": [
    {
     "name": "stdout",
     "output_type": "stream",
     "text": [
      "The longest string is: banana\n"
     ]
    }
   ],
   "source": [
    "#46. Find the longest string in a tuple of strings.\n",
    "\n",
    "my_tup = ('apple', 'banana', 'cherry', 'date')\n",
    "longest_string = max(my_tup, key=len)\n",
    "print(\"The longest string is:\", longest_string)"
   ]
  },
  {
   "cell_type": "code",
   "execution_count": 18,
   "id": "5bd280cd-e7eb-4def-ad80-1023e56e9605",
   "metadata": {},
   "outputs": [
    {
     "name": "stdout",
     "output_type": "stream",
     "text": [
      "The longest string is: date\n"
     ]
    }
   ],
   "source": [
    "#47. Find the shortest string in a tuple of strings.\n",
    "\n",
    "my_tup = ('apple', 'banana', 'cherry', 'date')\n",
    "shortest_string = min(my_tup, key=len)\n",
    "print(\"The longest string is:\", shortest_string)"
   ]
  },
  {
   "cell_type": "code",
   "execution_count": 19,
   "id": "ff10aed0-c571-405b-8576-8b9888a819d4",
   "metadata": {},
   "outputs": [
    {
     "name": "stdout",
     "output_type": "stream",
     "text": [
      "(1, 3, 6, 10, 15)\n"
     ]
    }
   ],
   "source": [
    "#48. Create a tuple of the first `n` triangular numbers.\n",
    "\n",
    "n = 5 \n",
    "triangular_numbers = []\n",
    "for i in range(1, n + 1):\n",
    "    triangular_numbers.append((i * (i + 1)) // 2)\n",
    "print(tuple(triangular_numbers))"
   ]
  },
  {
   "cell_type": "code",
   "execution_count": 21,
   "id": "a6515139-2abb-4517-94c3-2a878ba5c8e7",
   "metadata": {},
   "outputs": [
    {
     "name": "stdout",
     "output_type": "stream",
     "text": [
      "Main Tuple Contain Another sequence tuple\n"
     ]
    }
   ],
   "source": [
    "#49. Check if a tuple contains another tuple as a subsequence.\n",
    "\n",
    "def contains_subsequence(main_tuple, subsequence):\n",
    "    main_len = len(main_tuple)\n",
    "    sub_len = len(subsequence)\n",
    "\n",
    "    if sub_len == 0:\n",
    "        return True  # An empty subsequence is always found\n",
    "\n",
    "    if sub_len > main_len:\n",
    "        return False  # Subsequence longer than main tuple can't be found\n",
    "\n",
    "    for i in range(main_len - sub_len + 1):\n",
    "        if main_tuple[i:i + sub_len] == subsequence:\n",
    "            return True\n",
    "\n",
    "    return False\n",
    "\n",
    "main_tuple = (1, 2, 3, 4, 5, 6)\n",
    "subsequence1 = (2, 3, 4)\n",
    "\n",
    "if contains_subsequence(main_tuple, subsequence1) == True:\n",
    "    print (\"Main Tuple Contain Another sequence tuple\")\n",
    "else:\n",
    "    print (\"Main Tuple does not Contain Another sequence tuple\")\n"
   ]
  },
  {
   "cell_type": "code",
   "execution_count": 23,
   "id": "f5654d9e-01e3-4c6f-b2f9-5307cf21b404",
   "metadata": {},
   "outputs": [
    {
     "name": "stdout",
     "output_type": "stream",
     "text": [
      "(1, 0, 1, 0, 1, 0, 1, 0, 1, 0)\n"
     ]
    }
   ],
   "source": [
    "#50. Create a tuple of alternating 1s and 0s of length `n`.\n",
    "\n",
    "\n",
    "n = 10  \n",
    "alternating_list = []\n",
    "\n",
    "for i in range(n):\n",
    "    if i % 2 == 0:\n",
    "        alternating_list.append(1)\n",
    "    else:\n",
    "        alternating_list.append(0)\n",
    "\n",
    "alternating_tuple = tuple(alternating_list)\n",
    "print(alternating_tuple)\n"
   ]
  },
  {
   "cell_type": "markdown",
   "id": "318f4dcf-c94e-4d2c-b2dc-5c0a6c9991ef",
   "metadata": {},
   "source": [
    "Set Based Practice Problem"
   ]
  },
  {
   "cell_type": "code",
   "execution_count": 24,
   "id": "751494f1-f17f-4d8a-8f32-51f43e68fc5e",
   "metadata": {},
   "outputs": [
    {
     "name": "stdout",
     "output_type": "stream",
     "text": [
      "my set is :  {1, 2, 3, 4, 5}\n"
     ]
    }
   ],
   "source": [
    "#1. Create a set with integers from 1 to 5.\n",
    "\n",
    "myset = {1,2,3,4,5}\n",
    "print (\"my set is : \",myset)"
   ]
  },
  {
   "cell_type": "code",
   "execution_count": 27,
   "id": "d737f223-c782-4dd5-9c28-7b74f0260c1b",
   "metadata": {},
   "outputs": [
    {
     "name": "stdout",
     "output_type": "stream",
     "text": [
      "After add a element to set is :  {1, 2, 3, 4, 5, 6}\n"
     ]
    }
   ],
   "source": [
    "#2. Add an element to a set.\n",
    "\n",
    "myset = {1,2,3,4,5}\n",
    "myset.add(6)\n",
    "\n",
    "print (\"After add a element to set is : \",myset)"
   ]
  },
  {
   "cell_type": "code",
   "execution_count": 28,
   "id": "21639e94-6b39-41c5-a217-9979c8786fbb",
   "metadata": {},
   "outputs": [
    {
     "name": "stdout",
     "output_type": "stream",
     "text": [
      "After remove a element to set is :  {1, 3, 4, 5}\n"
     ]
    }
   ],
   "source": [
    "#3. Remove an element from a set.\n",
    "\n",
    "myset = {1,2,3,4,5}\n",
    "myset.remove(2)\n",
    "\n",
    "print (\"After remove a element to set is : \",myset)"
   ]
  },
  {
   "cell_type": "code",
   "execution_count": 32,
   "id": "dd3f4210-d8f7-4be9-9927-30d37be71ad5",
   "metadata": {},
   "outputs": [
    {
     "name": "stdin",
     "output_type": "stream",
     "text": [
      "Enter the Element to Check in the Set 3\n"
     ]
    },
    {
     "name": "stdout",
     "output_type": "stream",
     "text": [
      "Element exists in the set\n"
     ]
    }
   ],
   "source": [
    "#4. Check if an element exists in a set.\n",
    "\n",
    "myset = {1,2,3,4,5}\n",
    "chk_element=int(input(\"Enter the Element to Check in the Set\"))\n",
    "if chk_element in myset:\n",
    "    print (\"Element exists in the set\")\n",
    "else:\n",
    "    print (\"Element not exists in the set\")"
   ]
  },
  {
   "cell_type": "code",
   "execution_count": 6,
   "id": "fbf301d8-8404-4521-b7e2-5f0786a75500",
   "metadata": {},
   "outputs": [
    {
     "name": "stdout",
     "output_type": "stream",
     "text": [
      "Length of set is :  5\n"
     ]
    }
   ],
   "source": [
    "#5. Find the length of a set without using the `len()` function.\n",
    "\n",
    "myset = {1, 2, 3, 4, 5}\n",
    "count = 0\n",
    "for i in myset:\n",
    "    count += 1\n",
    "print (\"Length of set is : \",count)"
   ]
  },
  {
   "cell_type": "code",
   "execution_count": 7,
   "id": "2a589923-df16-4b55-b74c-233ff4e08fbf",
   "metadata": {},
   "outputs": [
    {
     "name": "stdout",
     "output_type": "stream",
     "text": [
      "my Set after clear :  set()\n"
     ]
    }
   ],
   "source": [
    "#6. Clear all elements from a set.\n",
    "\n",
    "myset = {1,2,3,4,5,6}\n",
    "myset.clear()\n",
    "print (\"my Set after clear : \",myset)"
   ]
  },
  {
   "cell_type": "code",
   "execution_count": 15,
   "id": "17d7fc51-e7b6-4425-ae5c-2bad2b1d95e2",
   "metadata": {},
   "outputs": [
    {
     "name": "stdout",
     "output_type": "stream",
     "text": [
      "Even Numbers are :  {2, 4, 6, 8, 10}\n"
     ]
    }
   ],
   "source": [
    "#7. Create a set of even numbers from 1 to 10.\n",
    "\n",
    "myset = set(range(1,11))\n",
    "even_set = {n for n in myset if n%2 == 0}  #used comprehensive method for finding Even Numbers\n",
    "print (\"Even Numbers are : \",even_set)"
   ]
  },
  {
   "cell_type": "code",
   "execution_count": 16,
   "id": "72045bb9-b3a3-4ed6-8eed-72c0acb71aa2",
   "metadata": {},
   "outputs": [
    {
     "name": "stdout",
     "output_type": "stream",
     "text": [
      "Even Numbers are :  {1, 3, 5, 7, 9}\n"
     ]
    }
   ],
   "source": [
    "#8. Create a set of odd numbers from 1 to 10.\n",
    "\n",
    "myset = set(range(1,11))\n",
    "odd_set = {n for n in myset if n%2 != 0}\n",
    "print (\"Even Numbers are : \",odd_set)"
   ]
  },
  {
   "cell_type": "code",
   "execution_count": 17,
   "id": "c422a949-84e5-4bca-b4c7-611bed601e34",
   "metadata": {},
   "outputs": [
    {
     "name": "stdout",
     "output_type": "stream",
     "text": [
      "Set after union of 2 sets is : {1, 2, 3, 4, 5}\n"
     ]
    }
   ],
   "source": [
    "#9. Find the union of two sets.\n",
    "\n",
    "set1 = {1, 2, 3}\n",
    "set2 = {3, 4, 5}\n",
    "\n",
    "union_result = set1.union(set2)\n",
    "print(\"Set after union of 2 sets is :\",union_result)"
   ]
  },
  {
   "cell_type": "code",
   "execution_count": 20,
   "id": "4456d878-35c3-4442-a4fb-283330dd4fb3",
   "metadata": {},
   "outputs": [
    {
     "name": "stdout",
     "output_type": "stream",
     "text": [
      "Set of intersection of 2 sets is :  {3, 4}\n"
     ]
    }
   ],
   "source": [
    "#10. Find the intersection of two sets.\n",
    "\n",
    "set1 = {1, 2, 3, 4}\n",
    "set2 = {3, 4, 5, 6}\n",
    "\n",
    "intersection_result = set1.intersection(set2)\n",
    "print(\"Set of intersection of 2 sets is : \",intersection_result)"
   ]
  },
  {
   "cell_type": "code",
   "execution_count": 21,
   "id": "2a4eef05-6fce-44a9-8000-402a9788b6cf",
   "metadata": {},
   "outputs": [
    {
     "name": "stdout",
     "output_type": "stream",
     "text": [
      "Difference on 2 sets is :  {1, 2}\n"
     ]
    }
   ],
   "source": [
    "#11. Find the difference between two sets.\n",
    "\n",
    "set1 = {1, 2, 3}\n",
    "set2 = {3, 4, 5}\n",
    "\n",
    "difference_result = set1.difference(set2)\n",
    "print(\"Difference on 2 sets is : \",difference_result)\n"
   ]
  },
  {
   "cell_type": "code",
   "execution_count": 22,
   "id": "31c58620-e32b-4851-a941-7a278b74e96d",
   "metadata": {},
   "outputs": [
    {
     "name": "stdout",
     "output_type": "stream",
     "text": [
      "set1 is a subset of set2\n"
     ]
    }
   ],
   "source": [
    "#12. Check if a set is a subset of another set.\n",
    "\n",
    "set1 = {1, 2, 3}\n",
    "set2 = {1, 2, 3, 4, 5}\n",
    "\n",
    "is_subset = set1.issubset(set2)\n",
    "\n",
    "if is_subset:\n",
    "    print(\"set1 is a subset of set2\")\n",
    "else:\n",
    "    print(\"set1 is not a subset of set2\")"
   ]
  },
  {
   "cell_type": "code",
   "execution_count": 23,
   "id": "9f699c70-95af-41e7-a131-1044984d9f10",
   "metadata": {},
   "outputs": [
    {
     "name": "stdout",
     "output_type": "stream",
     "text": [
      "set1 is not a Superset of set2\n"
     ]
    }
   ],
   "source": [
    "#13. Check if a set is a superset of another set.\n",
    "\n",
    "\n",
    "set1 = {1, 2, 3}\n",
    "set2 = {1, 2, 3, 4, 5}\n",
    "\n",
    "is_subset = set1.issuperset(set2)\n",
    "\n",
    "if is_subset:\n",
    "    print(\"set1 is a Superset of set2\")\n",
    "else:\n",
    "    print(\"set1 is not a Superset of set2\")"
   ]
  },
  {
   "cell_type": "code",
   "execution_count": 26,
   "id": "62823f8b-d109-40db-8212-d650b5fc0b65",
   "metadata": {},
   "outputs": [
    {
     "name": "stdout",
     "output_type": "stream",
     "text": [
      "My List is :  [1, 2, 3, 4, 5, 6, 7, 8, 9]\n",
      "Set from a list : {1, 2, 3, 4, 5, 6, 7, 8, 9}\n"
     ]
    }
   ],
   "source": [
    "#14. Create a set from a list.\n",
    "\n",
    "list1=list(range(1,10))\n",
    "print(\"My List is : \",list1)\n",
    "\n",
    "print (\"Set from a list :\",set(list1))"
   ]
  },
  {
   "cell_type": "code",
   "execution_count": 28,
   "id": "137a10cc-0774-4f4f-957c-10b8b6c70ade",
   "metadata": {},
   "outputs": [
    {
     "name": "stdout",
     "output_type": "stream",
     "text": [
      "my set is :  {1, 2, 3, 4, 5, 6, 7, 8, 9}\n",
      "List from a set :  [1, 2, 3, 4, 5, 6, 7, 8, 9]\n"
     ]
    }
   ],
   "source": [
    "#15. Convert a set to a list.\n",
    "\n",
    "set1 = set(range(1,10))\n",
    "print (\"my set is : \",set1)\n",
    "print (\"List from a set : \",list(set1))"
   ]
  },
  {
   "cell_type": "code",
   "execution_count": 38,
   "id": "0ef5b047-f577-4d49-9eef-8d81d3e5a11c",
   "metadata": {},
   "outputs": [
    {
     "name": "stdout",
     "output_type": "stream",
     "text": [
      "Removed element: 40\n",
      "Updated set: {50, 20, 10, 30}\n"
     ]
    }
   ],
   "source": [
    "#16. Remove a random element from a set.\n",
    "\n",
    "import random\n",
    "\n",
    "my_set = {10, 20, 30, 40, 50}\n",
    "random_element = random.choice(list(my_set))\n",
    "my_set.remove(random_element)\n",
    "\n",
    "print(\"Removed element:\", random_element)\n",
    "print(\"Updated set:\", my_set)"
   ]
  },
  {
   "cell_type": "code",
   "execution_count": 40,
   "id": "b2242a96-4169-4a9e-903f-ec1ed0cd0a5d",
   "metadata": {},
   "outputs": [
    {
     "name": "stdout",
     "output_type": "stream",
     "text": [
      "Removed element: 1\n",
      "Updated set: {2, 3, 4, 5}\n"
     ]
    }
   ],
   "source": [
    "#17. Pop an element from a set.\n",
    "\n",
    "my_set = {1, 2, 3, 4, 5}\n",
    "removed_element = my_set.pop()\n",
    "print(\"Removed element:\", removed_element)\n",
    "print(\"Updated set:\", my_set)\n"
   ]
  },
  {
   "cell_type": "code",
   "execution_count": 48,
   "id": "56d831f8-5ef3-4af7-83d6-2a3035b1d237",
   "metadata": {},
   "outputs": [
    {
     "name": "stdout",
     "output_type": "stream",
     "text": [
      "There is no Common Elements in the sets\n"
     ]
    }
   ],
   "source": [
    "#18. Check if two sets have no elements in common.\n",
    "\n",
    "set1 = {1, 2, 3}\n",
    "set2 = {4, 5}\n",
    "\n",
    "difference_result = set1.intersection(set2)\n",
    "if len(difference_result) > 0:\n",
    "    print (\"Identified Common Elements in the sets\")\n",
    "else:\n",
    "    print (\"There is no Common Elements in the sets\")"
   ]
  },
  {
   "cell_type": "code",
   "execution_count": 49,
   "id": "5b7d3ec2-f784-4f30-894b-3666a56c1409",
   "metadata": {},
   "outputs": [
    {
     "name": "stdout",
     "output_type": "stream",
     "text": [
      "{1, 2, 5, 6}\n"
     ]
    }
   ],
   "source": [
    "#19. Find the symmetric difference between two sets.\n",
    "\n",
    "set1 = {1, 2, 3, 4}\n",
    "set2 = {3, 4, 5, 6}\n",
    "\n",
    "symmetric_difference_result = set1.symmetric_difference(set2)\n",
    "print(symmetric_difference_result)"
   ]
  },
  {
   "cell_type": "code",
   "execution_count": 50,
   "id": "08f99234-9fe0-4c22-9260-6f099eec29ee",
   "metadata": {},
   "outputs": [
    {
     "name": "stdout",
     "output_type": "stream",
     "text": [
      "Updated set1: {1, 2, 3, 4, 5}\n"
     ]
    }
   ],
   "source": [
    "#20. Update a set with elements from another set.\n",
    "\n",
    "set1 = {1, 2, 3}\n",
    "set2 = {3, 4, 5}\n",
    "\n",
    "set1.update(set2)\n",
    "print(\"Updated set1:\", set1)"
   ]
  },
  {
   "cell_type": "code",
   "execution_count": 51,
   "id": "1957d585-ddb4-4a7b-b3e5-73864ffc8718",
   "metadata": {},
   "outputs": [
    {
     "name": "stdout",
     "output_type": "stream",
     "text": [
      "First 5 prime Numbers is :  {2, 3, 5, 7, 11}\n"
     ]
    }
   ],
   "source": [
    "#21. Create a set of the first 5 prime numbers.\n",
    "\n",
    "def is_prime(number):\n",
    "    if number <= 1:\n",
    "        return False\n",
    "    if number <= 3:\n",
    "        return True\n",
    "    if number % 2 == 0 or number % 3 == 0:\n",
    "        return False\n",
    "    i = 5\n",
    "    while i * i <= number:\n",
    "        if number % i == 0 or number % (i + 2) == 0:\n",
    "            return False\n",
    "        i += 6\n",
    "    return True\n",
    "\n",
    "count = 0\n",
    "number = 0\n",
    "prime_numbers = []\n",
    "\n",
    "while count < 5:\n",
    "    if is_prime(number):\n",
    "        prime_numbers.append(number)\n",
    "        count += 1\n",
    "    number += 1\n",
    "\n",
    "print(\"First 5 prime Numbers is : \",set(prime_numbers))\n"
   ]
  },
  {
   "cell_type": "code",
   "execution_count": 52,
   "id": "3a35808a-65df-4474-889a-c424e2a19b4f",
   "metadata": {},
   "outputs": [
    {
     "name": "stdout",
     "output_type": "stream",
     "text": [
      "The sets are identical.\n"
     ]
    }
   ],
   "source": [
    "#22. Check if two sets are identical.\n",
    "\n",
    "set1 = {1, 2, 3, 4, 5}\n",
    "set2 = {5, 4, 3, 2, 1}\n",
    "\n",
    "if set1 == set2:\n",
    "    print(\"The sets are identical.\")\n",
    "else:\n",
    "    print(\"The sets are not identical.\")\n"
   ]
  },
  {
   "cell_type": "code",
   "execution_count": 53,
   "id": "e9ea9874-850d-4b82-97d2-9a2270018234",
   "metadata": {},
   "outputs": [
    {
     "name": "stdout",
     "output_type": "stream",
     "text": [
      "frozenset({1, 2, 3, 4, 5})\n"
     ]
    }
   ],
   "source": [
    "#23. Create a frozen set.\n",
    "\n",
    "my_set = {1, 2, 3, 4, 5}\n",
    "my_frozen_set = frozenset(my_set)\n",
    "\n",
    "print(my_frozen_set)"
   ]
  },
  {
   "cell_type": "code",
   "execution_count": 54,
   "id": "75f50077-902d-4938-936c-fff99e310f40",
   "metadata": {},
   "outputs": [
    {
     "name": "stdout",
     "output_type": "stream",
     "text": [
      "The sets are disjoint.\n"
     ]
    }
   ],
   "source": [
    "#24. Check if a set is disjoint with another set.\n",
    "\n",
    "set1 = {1, 2, 3}\n",
    "set2 = {4, 5, 6}\n",
    "\n",
    "if set1.isdisjoint(set2):\n",
    "    print(\"The sets are disjoint.\")\n",
    "else:\n",
    "    print(\"The sets have at least one common element.\")"
   ]
  },
  {
   "cell_type": "code",
   "execution_count": 62,
   "id": "da0d3f40-68ec-4588-8d24-8121506378c9",
   "metadata": {},
   "outputs": [
    {
     "name": "stdout",
     "output_type": "stream",
     "text": [
      "Set of Square is :  {16, 1, 4, 9}\n"
     ]
    }
   ],
   "source": [
    "#25. Create a set of squares of numbers from 1 to 5.\n",
    "\n",
    "set1 = set(range(1,5))\n",
    "sqr_val = {i**2 for i in set1}\n",
    "print (\"Set of Square is : \",sqr_val)"
   ]
  },
  {
   "cell_type": "code",
   "execution_count": 61,
   "id": "de49e1db-186b-4054-b4e5-6356cfb4952a",
   "metadata": {},
   "outputs": [
    {
     "name": "stdout",
     "output_type": "stream",
     "text": [
      "Even Numbers are :  {2, 4, 6, 8, 10}\n"
     ]
    }
   ],
   "source": [
    "# 26. Filter out all even numbers from a set.\n",
    "\n",
    "myset = set(range(1,11))\n",
    "even_set = {n for n in myset if n%2 == 0} \n",
    "print (\"Even Numbers are : \",even_set)"
   ]
  },
  {
   "cell_type": "code",
   "execution_count": 64,
   "id": "af532a21-a8c4-4eb1-ac4c-074938d1688a",
   "metadata": {},
   "outputs": [
    {
     "name": "stdout",
     "output_type": "stream",
     "text": [
      "Set of Square is :  {8, 2, 4, 6}\n"
     ]
    }
   ],
   "source": [
    "#27. Multiply all elements in a set by 2.\n",
    "\n",
    "set1 = set(range(1,5))\n",
    "sqr_val = {i*2 for i in set1}\n",
    "print (\"Set of Square is : \",sqr_val)"
   ]
  },
  {
   "cell_type": "code",
   "execution_count": 1,
   "id": "44b9260d-7d47-4f50-b7f6-4afa93333789",
   "metadata": {},
   "outputs": [
    {
     "name": "stdout",
     "output_type": "stream",
     "text": [
      "Random Set is :  {40, 9, 44, 77, 78, 82, 62, 88, 30, 95}\n"
     ]
    }
   ],
   "source": [
    "#28. Create a set of random numbers.\n",
    "\n",
    "import random\n",
    "\n",
    "random_set = set()\n",
    "lower_bound = 1\n",
    "upper_bound = 100\n",
    "num_elements = 10  # Change this to the number of random elements you want\n",
    "\n",
    "while len(random_set) < num_elements:\n",
    "    random_set.add(random.randint(lower_bound, upper_bound))\n",
    "\n",
    "print(\"Random Set is : \",random_set)"
   ]
  },
  {
   "cell_type": "code",
   "execution_count": 6,
   "id": "3002827a-3ac8-40d0-8362-38b4f65214c9",
   "metadata": {},
   "outputs": [
    {
     "name": "stdout",
     "output_type": "stream",
     "text": [
      "Set is not Empty\n"
     ]
    }
   ],
   "source": [
    "#29. Check if a set is empty.\n",
    "set1 = set(range(1,5))\n",
    "if len(set1) > 0:\n",
    "    print (\"Set is not Empty\")\n",
    "else:\n",
    "    print (\"Set is Empty\")\n"
   ]
  },
  {
   "cell_type": "code",
   "execution_count": 7,
   "id": "c1c04457-5051-4207-b7b3-2ebe673585e8",
   "metadata": {},
   "outputs": [
    {
     "name": "stdout",
     "output_type": "stream",
     "text": [
      "Nested multi frozen sets :  frozenset({frozenset({1, 2, 3}), frozenset({4, 5, 6}), frozenset({8, 9, 7})})\n"
     ]
    }
   ],
   "source": [
    "#30. Create a nested set (hint: use frozenset).\n",
    "\n",
    "# Create some sets\n",
    "set1 = frozenset({1, 2, 3})\n",
    "set2 = frozenset({4, 5, 6})\n",
    "set3 = frozenset({7, 8, 9})\n",
    "\n",
    "# Create a nested set containing the above sets\n",
    "nested_set = frozenset({set1, set2, set3})\n",
    "\n",
    "# Print the nested set\n",
    "print(\"Nested multi frozen sets : \",nested_set)"
   ]
  },
  {
   "cell_type": "code",
   "execution_count": 9,
   "id": "3cfb444c-c227-4854-b6b3-a674d5dfc8f8",
   "metadata": {},
   "outputs": [
    {
     "name": "stdout",
     "output_type": "stream",
     "text": [
      "My Set after discard of 3 :  {1, 2, 4, 5}\n"
     ]
    }
   ],
   "source": [
    "#31. Remove an element from a set using the discard method.\n",
    "\n",
    "my_set = {1, 2, 3, 4, 5}\n",
    "my_set.discard(3)\n",
    "print(\"My Set after discard of 3 : \",my_set)"
   ]
  },
  {
   "cell_type": "code",
   "execution_count": 52,
   "id": "1feabbd3-f54d-443c-865e-6f8f076a9ffd",
   "metadata": {},
   "outputs": [
    {
     "name": "stdout",
     "output_type": "stream",
     "text": [
      "The sets are equal.\n"
     ]
    }
   ],
   "source": [
    "#32. Compare two sets.\n",
    "\n",
    "set1 = {1, 2, 3}\n",
    "set2 = {3, 2, 1}\n",
    "\n",
    "if set1 == set2:\n",
    "    print(\"The sets are equal.\")\n",
    "else:\n",
    "    print(\"The sets are not equal.\")"
   ]
  },
  {
   "cell_type": "code",
   "execution_count": 32,
   "id": "55d5e2c3-2614-4993-9261-9029be56d32e",
   "metadata": {},
   "outputs": [
    {
     "name": "stdin",
     "output_type": "stream",
     "text": [
      "Enter the string to convert to Set pwskills\n"
     ]
    },
    {
     "name": "stdout",
     "output_type": "stream",
     "text": [
      "Set from the string is :  {'w', 'i', 'k', 's', 'l', 'p'}\n"
     ]
    }
   ],
   "source": [
    "#33. Create a set from a string.\n",
    "mystring=input(\"Enter the string to convert to Set\")\n",
    "print(\"Set from the string is : \",set(mystring))"
   ]
  },
  {
   "cell_type": "code",
   "execution_count": 40,
   "id": "fc05a150-efee-4586-96a2-d599e7fed02e",
   "metadata": {},
   "outputs": [
    {
     "name": "stdout",
     "output_type": "stream",
     "text": [
      "String from the set is :  ecdba\n"
     ]
    }
   ],
   "source": [
    "#34. Convert a set of strings to a set of integers.\n",
    "\n",
    "set_alpha = {'a', 'b', 'c', 'd', 'e'}\n",
    "set_as_string = ''.join(set_alpha)\n",
    "print(\"String from the set is : \",set_as_string)"
   ]
  },
  {
   "cell_type": "code",
   "execution_count": 46,
   "id": "bd31df53-d8c0-47da-8a23-48a1b3f031b7",
   "metadata": {},
   "outputs": [
    {
     "name": "stdout",
     "output_type": "stream",
     "text": [
      "After Convety the integers to string is :  {'0', '2', '9', '1', '7', '4', '8', '3'}\n"
     ]
    }
   ],
   "source": [
    "#35. Convert a set of integers to a set of strings.\n",
    "\n",
    "int_set = {1,4,2,3,7,8,9,0}\n",
    "str_val = set(str(i) for i in int_set)\n",
    "print (\"After Convety the integers to string is : \",str_val)"
   ]
  },
  {
   "cell_type": "code",
   "execution_count": 47,
   "id": "dd4d5a18-16a1-4659-bf6e-2d0f02d647dd",
   "metadata": {},
   "outputs": [
    {
     "name": "stdout",
     "output_type": "stream",
     "text": [
      "Set from the Tuple is :  {1, 2, 3, 4, 5}\n"
     ]
    }
   ],
   "source": [
    "#36. Create a set from a tuple.\n",
    "\n",
    "my_tup = (1,2,3,4,5)\n",
    "set_from_tup = set(my_tup)\n",
    "print (\"Set from the Tuple is : \",set_from_tup)"
   ]
  },
  {
   "cell_type": "code",
   "execution_count": 48,
   "id": "15bdf2c7-cb7a-40de-a550-441b1a28b03c",
   "metadata": {},
   "outputs": [
    {
     "name": "stdout",
     "output_type": "stream",
     "text": [
      "Tuple from set is :  (1, 2, 3, 4, 5)\n"
     ]
    }
   ],
   "source": [
    "#37. Convert a set to a tuple.\n",
    "\n",
    "my_set = {1, 2, 3, 4, 5}\n",
    "tup_from_set = tuple(my_set)\n",
    "print (\"Tuple from set is : \",tup_from_set)"
   ]
  },
  {
   "cell_type": "code",
   "execution_count": 50,
   "id": "eb2f7028-bc0a-4e4d-93b5-ce9dd5ec3f00",
   "metadata": {},
   "outputs": [
    {
     "name": "stdout",
     "output_type": "stream",
     "text": [
      "Maximum Element from the set is :  5\n"
     ]
    }
   ],
   "source": [
    "#38. Find the maximum value in a set.\n",
    "\n",
    "my_set = {1, 2, 3, 4, 5}\n",
    "print (\"Maximum Element from the set is : \",max(my_set))"
   ]
  },
  {
   "cell_type": "code",
   "execution_count": 51,
   "id": "0f393a1d-162b-4350-92c5-fb35fd5b9021",
   "metadata": {},
   "outputs": [
    {
     "name": "stdout",
     "output_type": "stream",
     "text": [
      "Minimum Element from the set is :  1\n"
     ]
    }
   ],
   "source": [
    "#39. Find the minimum value in a set.\n",
    "\n",
    "my_set = {1, 2, 3, 4, 5}\n",
    "print (\"Minimum Element from the set is : \",min(my_set))"
   ]
  },
  {
   "cell_type": "code",
   "execution_count": 59,
   "id": "33b1be36-e490-4041-83f9-c11a866d083f",
   "metadata": {},
   "outputs": [
    {
     "name": "stdin",
     "output_type": "stream",
     "text": [
      "Enter the set values {1,2,3,4,5}\n"
     ]
    },
    {
     "name": "stdout",
     "output_type": "stream",
     "text": [
      "Entered Set is :  {1,2,3,4,5}\n"
     ]
    }
   ],
   "source": [
    "#40. Create a set from user input.\n",
    "\n",
    "set1=input(\"Enter the set values\")\n",
    "print(\"Entered Set is : \",set1)"
   ]
  },
  {
   "cell_type": "code",
   "execution_count": 29,
   "id": "9d75c52e-1f5c-4c99-8c6d-5fe33498946f",
   "metadata": {},
   "outputs": [
    {
     "name": "stdout",
     "output_type": "stream",
     "text": [
      "Intersection Set is Empty\n"
     ]
    }
   ],
   "source": [
    "#41. Check if the intersection of two sets is empty.\n",
    "\n",
    "set1 = {1, 2, 3}\n",
    "set2 = {4, 5}\n",
    "\n",
    "difference_result = set1.intersection(set2)\n",
    "if len(difference_result) == 0:\n",
    "    print (\"Intersection Set is Empty\")\n",
    "else:\n",
    "    print (\"We have Intersection Elements in the Sets\")"
   ]
  },
  {
   "cell_type": "code",
   "execution_count": 60,
   "id": "d51173bd-47ae-4866-a190-3e9940c392d7",
   "metadata": {},
   "outputs": [
    {
     "name": "stdout",
     "output_type": "stream",
     "text": [
      "Set of first 5 Fibonacci numbers: {0, 1, 2, 3}\n"
     ]
    }
   ],
   "source": [
    "#42. Create a set of the first 5 Fibonacci numbers.\n",
    "\n",
    "n = 5\n",
    "fib_sequence = [0, 1]\n",
    "while len(fib_sequence) < n:\n",
    "    next_num = fib_sequence[-1] + fib_sequence[-2]\n",
    "    fib_sequence.append(next_num)\n",
    "\n",
    "fib_set = set(fib_sequence)\n",
    "print(\"Set of first 5 Fibonacci numbers:\", fib_set)"
   ]
  },
  {
   "cell_type": "code",
   "execution_count": 57,
   "id": "fd1e8f26-c306-4202-bf35-85a0546f742d",
   "metadata": {},
   "outputs": [
    {
     "name": "stdout",
     "output_type": "stream",
     "text": [
      "After assign the list values to set : {0, 1, 2, 3, 4, 5, 6, 7, 8, 9}\n"
     ]
    }
   ],
   "source": [
    "#43. Remove duplicates from a list using sets.\n",
    "\n",
    "my_list = [1,2,3,1,2,3,4,5,6,7,8,9,0]\n",
    "my_set=set(my_list)\n",
    "print (\"After assign the list values to set :\",my_set) # Duplicates will be removed after list assign to Set"
   ]
  },
  {
   "cell_type": "code",
   "execution_count": 62,
   "id": "f32e2da5-384d-4594-80c0-c58e6dca8b0a",
   "metadata": {},
   "outputs": [
    {
     "name": "stdout",
     "output_type": "stream",
     "text": [
      "The sets have the same elements, regardless of their count.\n"
     ]
    }
   ],
   "source": [
    "#44. Check if two sets have the same elements, regardless of their count.\n",
    "\n",
    "\n",
    "set1 = {1, 2, 3, 4, 5}\n",
    "set2 = {5, 4, 3, 2, 1}\n",
    "\n",
    "if set1 == set2:\n",
    "    print(\"The sets have the same elements, regardless of their count.\")\n",
    "else:\n",
    "    print(\"The sets are not equal.\")\n"
   ]
  },
  {
   "cell_type": "code",
   "execution_count": 63,
   "id": "f58a93ff-5c3e-471f-aa3e-12311d64fc49",
   "metadata": {},
   "outputs": [
    {
     "name": "stdout",
     "output_type": "stream",
     "text": [
      "Set of the first 5 powers of 2: {1, 2, 4, 8, 16}\n"
     ]
    }
   ],
   "source": [
    "#45. Create a set of the first `n` powers of 2.\n",
    "\n",
    "n = 5  # You can change n to any positive integer you desire\n",
    "powers_of_2_set = set()\n",
    "\n",
    "for i in range(n):\n",
    "    power_of_2 = 2 ** i\n",
    "    powers_of_2_set.add(power_of_2)\n",
    "\n",
    "print(\"Set of the first\", n, \"powers of 2:\", powers_of_2_set)\n"
   ]
  },
  {
   "cell_type": "code",
   "execution_count": 64,
   "id": "f0dfbdc4-d565-47da-bc89-da9729a28bfe",
   "metadata": {},
   "outputs": [
    {
     "name": "stdout",
     "output_type": "stream",
     "text": [
      "Common elements: [3, 4, 5]\n"
     ]
    }
   ],
   "source": [
    "#46. Find the common elements between a set and a list.\n",
    "\n",
    "# Create a set and a list\n",
    "my_set = {1, 2, 3, 4, 5}\n",
    "my_list = [3, 4, 5, 6, 7]\n",
    "\n",
    "common_elements = my_set.intersection(my_list)\n",
    "common_elements_list = list(common_elements)\n",
    "print(\"Common elements:\", common_elements_list)"
   ]
  },
  {
   "cell_type": "code",
   "execution_count": 61,
   "id": "e60a4d7b-d9bb-4c7a-83c6-15322a504c3a",
   "metadata": {},
   "outputs": [
    {
     "name": "stdout",
     "output_type": "stream",
     "text": [
      "Set of first 5 triangular numbers: {1, 3, 6, 10, 15}\n"
     ]
    }
   ],
   "source": [
    "#47. Create a set of the first `n` triangular numbers.\n",
    "\n",
    "n = 5\n",
    "triangular_numbers = []\n",
    "for i in range(1, n + 1):\n",
    "    triangular_numbers.append((i * (i + 1)) // 2)\n",
    "\n",
    "triangular_set = set(triangular_numbers)\n",
    "print(\"Set of first 5 triangular numbers:\", triangular_set)"
   ]
  },
  {
   "cell_type": "code",
   "execution_count": 65,
   "id": "9f85a185-15f4-42fb-9b0d-c85e93573ded",
   "metadata": {},
   "outputs": [
    {
     "name": "stdout",
     "output_type": "stream",
     "text": [
      "set2 is a subset of set1.\n"
     ]
    }
   ],
   "source": [
    "#48. Check if a set contains another set as a subset.\n",
    "\n",
    "set1 = {1, 2, 3, 4, 5}\n",
    "set2 = {2, 3}\n",
    "\n",
    "is_subset = set2.issubset(set1)\n",
    "if is_subset:\n",
    "    print(\"set2 is a subset of set1.\")\n",
    "else:\n",
    "    print(\"set2 is not a subset of set1.\")\n"
   ]
  },
  {
   "cell_type": "code",
   "execution_count": 66,
   "id": "d46620ce-1508-4667-bd76-236d798354bc",
   "metadata": {},
   "outputs": [
    {
     "name": "stdout",
     "output_type": "stream",
     "text": [
      "Set of alternating 1s and 0s of length 10 : {0, 1}\n"
     ]
    }
   ],
   "source": [
    "#49. Create a set of alternating 1s and 0s of length `n`.\n",
    "\n",
    "n = 10  # You can change n to any positive integer you desire\n",
    "alternating_set = set()\n",
    "\n",
    "for i in range(n):\n",
    "    element = i % 2  # Alternating between 0 and 1\n",
    "    alternating_set.add(element)\n",
    "\n",
    "print(\"Set of alternating 1s and 0s of length\", n, \":\", alternating_set)"
   ]
  },
  {
   "cell_type": "code",
   "execution_count": 67,
   "id": "b931c3cb-f1ed-4341-9c07-1da558227c13",
   "metadata": {},
   "outputs": [
    {
     "name": "stdout",
     "output_type": "stream",
     "text": [
      "Merged set: {1, 2, 3, 4, 5, 6, 7}\n"
     ]
    }
   ],
   "source": [
    "#50. Merge multiple sets into one.\n",
    "\n",
    "# Create multiple sets\n",
    "set1 = {1, 2, 3}\n",
    "set2 = {3, 4, 5}\n",
    "set3 = {5, 6, 7}\n",
    "\n",
    "# Merge the sets using the union() method\n",
    "merged_set = set1.union(set2, set3)\n",
    "\n",
    "print(\"Merged set:\", merged_set)"
   ]
  }
 ],
 "metadata": {
  "kernelspec": {
   "display_name": "Python 3 (ipykernel)",
   "language": "python",
   "name": "python3"
  },
  "language_info": {
   "codemirror_mode": {
    "name": "ipython",
    "version": 3
   },
   "file_extension": ".py",
   "mimetype": "text/x-python",
   "name": "python",
   "nbconvert_exporter": "python",
   "pygments_lexer": "ipython3",
   "version": "3.10.8"
  }
 },
 "nbformat": 4,
 "nbformat_minor": 5
}
